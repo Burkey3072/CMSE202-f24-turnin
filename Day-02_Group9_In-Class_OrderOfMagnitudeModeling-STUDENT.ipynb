{
 "cells": [
  {
   "cell_type": "markdown",
   "metadata": {},
   "source": [
    "# Day 2 In-class Assignment: Order of Magnitude Modeling"
   ]
  },
  {
   "cell_type": "code",
   "execution_count": 4,
   "metadata": {
    "tags": []
   },
   "outputs": [],
   "source": [
    "### <p style=\"text-align: right;\"> &#9989; **Joseph Burke** </p>\n",
    "#### <p style=\"text-align: right;\"> &#9989; Group 9: Landon Sykes, Tayden Cuasay, Jonah Timm-Blow, Jacob Conley, Himanshu Janmeda</p>"
   ]
  },
  {
   "cell_type": "markdown",
   "metadata": {},
   "source": [
    "## How many mice would it take to fill up this classroom?\n",
    "\n",
    "### (a.k.a., making order-of-magnitude estimates for fun and profit!)\n",
    "![Mouse](https://www.jax.org/-/media/jaxweb/images/jax-mice-and-services/mice/web_0009_find-and-order-jax-mice.jpg?h=316&w=467&la=en&hash=D42556D3A616EC2E099378DB9CA5403D0C38C1E4)"
   ]
  },
  {
   "cell_type": "code",
   "execution_count": 3,
   "metadata": {
    "tags": []
   },
   "outputs": [
    {
     "name": "stdout",
     "output_type": "stream",
     "text": [
      "mouse volume is 16.13066751191972 in^3\n"
     ]
    }
   ],
   "source": [
    "#Mouse calculating time.  \n",
    "#3-6 inches body, 3-6 inches tail\n",
    "#1-3 inches tall\n",
    "#1-2 inches wide\n",
    "#room 50*50*15\n",
    "import random\n",
    "mouseL = random.uniform(3,6)\n",
    "mouseW = random.uniform(1,2)\n",
    "mouseH = random.uniform(1,3)\n",
    "mouseVol = mouseL*mouseW*mouseH\n",
    "print(\"mouse volume is\",mouseVol,\"in^3\")"
   ]
  },
  {
   "cell_type": "markdown",
   "metadata": {},
   "source": [
    "## Learning Goals \n",
    "\n",
    "Why are we asking you to do this?\n",
    "\n",
    "One type of modeling is called \"order-of-magnitude estimation\" or \"order-of-magnitude modeling.\"  A physicist would call this a \"Fermi Problem\" after Enrico Fermi, a physicist who participated in the Manhattan Project and who was famously good at making estimates of this sort.  More specifically, this sort of modeling makes us think about:\n",
    "\n",
    "* The quantities that should go into our models, and the reasonable values of those quantities.\n",
    "* How the different parts of our model might interact with one another.\n",
    "* What a \"good enough\" answer would be to a particular problem"
   ]
  },
  {
   "cell_type": "markdown",
   "metadata": {},
   "source": [
    "## The Problem\n",
    "\n",
    "In this project, your group is going to calculate an answer one of the following questions:\n",
    "\n",
    "1. How many grams of caffeine get consumed on MSU's campus each week?  \n",
    "2. How much does the air above Lake Superior weigh?\n",
    "3. If somebody left one of the bathroom faucets running at the Breslin Center, how long would it take to fill it up with water?  \n",
    "4. If all of the toilet paper used per week in the United States were rolled out across the surface of Michigan could you cover the entire state? If so, could you cover it more than once?\n",
    "5. Which has more mass, the air in this classroom or the brains in this classroom?  \n",
    "6. On average, how many people are airborne in the world at a given moment?  \n",
    "7. How many total miles do all Americans drive in their cars in one year, and how does this compare to the circumference of the Earth ($2.5 \\times 10^4$ miles), the distance from the Earth to the Sun ($9 \\times 10^7$ miles), and size of the Solar System ($10^9$ miles)?\n",
    "8. After a particularly exciting Spartan football game, the fans rush the field. How many people can fit onto the football field at Spartan Stadium?\n",
    "\n",
    "---\n",
    "# Part 1\n",
    "\n",
    "**As a group**, you will be assigned one of these problems to answer. You will need to come up with:\n",
    "1. The questions that you need to ask and answer to come up with an estimate for your problem.\n",
    "2. The equation(s) you will need to solve your problem.\n",
    "3. The reasonable values that would go into the equation(s).\n",
    "\n",
    "Once you have finished these steps, you and your group will implement a simple computer program to calculate a range of answers to your problem.\n",
    "\n",
    "#### Use a virtual whiteboard app like [Google Jamboard](https://jamboard.google.com/) or the [Aww app](https://awwapp.com/) or the physical whiteboards in the classroom to write out your ideas to ensure that everyone is on the same page and allow your instructors to see your progress."
   ]
  },
  {
   "cell_type": "markdown",
   "metadata": {},
   "source": [
    "## 1.1 Describing Your Model\n",
    "**In the cell below, write down your assigned question and the parameters in your model.** Also write down the range of possible values for each of the parameters!\n",
    "\n"
   ]
  },
  {
   "cell_type": "code",
   "execution_count": null,
   "metadata": {
    "tags": []
   },
   "outputs": [],
   "source": [
    "# 1. How many grams of caffeine get consumed on MSU's campus each week?  \n",
    "#50-400mg/day/person\n",
    "#50,000 students\n",
    "#7 days a week\n",
    "#1000 mg is 1 g\n"
   ]
  },
  {
   "cell_type": "markdown",
   "metadata": {},
   "source": [
    "## 1.2 Coding Your Model\n",
    "In the cell below, write a program to calculate and print out an estimate for your model."
   ]
  },
  {
   "cell_type": "markdown",
   "metadata": {},
   "source": [
    "> **Important**: When writing your code, **define variables for each value of interest.**  Then use those variables in your equations.  In other words, do not  hard-code the values in your equations (do not put *numbers* in your equations, put *variables* in your equations).  \n",
    ">\n",
    "> As an example, if I want to compute and then print the area of a right triangle, which I know to be $A = \\frac{1}{2} b h$, I might write my code like so:\n",
    ">\n",
    ">> ```\n",
    ">> base = 10\n",
    ">> height = 5\n",
    ">>\n",
    ">> area = (base * height) / 2\n",
    ">>\n",
    ">> print(\"The area is:\", area)\n",
    ">> ```  \n",
    ">       \n",
    "> By doing this, if I decide I need to change the `base` value or the `height` value, I can just change the value where they are defined. This can be especially useful if I have to use the values multiple times or if I want to experiment with changing the values."
   ]
  },
  {
   "cell_type": "code",
   "execution_count": 117,
   "metadata": {
    "tags": []
   },
   "outputs": [
    {
     "name": "stdout",
     "output_type": "stream",
     "text": [
      "range 17500.0 - 140000.0 g caffeine\n",
      "70389.55968953755 g caffeine\n",
      "70.38955968953755 kg caffeine\n",
      "70560.0 g caffeine average\n"
     ]
    }
   ],
   "source": [
    "# write a program in this cell to calculate and print out an estimate\n",
    "# of the answer to the question you've chosen to solve!\n",
    "# 1. How many grams of caffeine get consumed on MSU's campus each week?  \n",
    "#50-400mg/day/person\n",
    "#50,000 students\n",
    "#7 days a week\n",
    "#1000 mg is 1 g\n",
    "cafLow = 50\n",
    "cafHi = 400\n",
    "weekLow = cafLow*50000*7/1000\n",
    "weekHi = cafHi*50000*7/1000\n",
    "print(\"range\",weekLow,\"-\",weekHi,\"g caffeine\")\n",
    "\n",
    "\n",
    "#google: 180 mg/day/person\n",
    "#msu staff+students 56,000\n",
    "import random\n",
    "randVar = random.uniform(50,400)\n",
    "    \n",
    "cafVar = randVar\n",
    "cafTru = 180\n",
    "msuSize = 56000\n",
    "cafWeek = cafVar*msuSize*7/1000\n",
    "cafWeekTru = cafTru*msuSize*7/1000\n",
    "print(cafWeek,\"g caffeine\")\n",
    "cafKilos = cafWeek/1000\n",
    "print(cafKilos,\"kg caffeine\")\n",
    "print(cafWeekTru,\"g caffeine average\")\n",
    "\n"
   ]
  },
  {
   "cell_type": "markdown",
   "metadata": {},
   "source": [
    "## 1.3 Exploring Model Results\n",
    "**Now, run your model several times**, and each time change the values of the parameters to a different value in the range you think is valid.  In the cell below, write down all of your answers.  What is the total range, and approximately what is the average value?"
   ]
  },
  {
   "cell_type": "code",
   "execution_count": 57,
   "metadata": {
    "tags": []
   },
   "outputs": [
    {
     "name": "stdout",
     "output_type": "stream",
     "text": [
      "range 19600 - 152096\n"
     ]
    },
    {
     "data": {
      "text/plain": [
       "19"
      ]
     },
     "execution_count": 57,
     "metadata": {},
     "output_type": "execute_result"
    }
   ],
   "source": [
    "import statistics\n",
    "statistics.mean([70560,123872,127400,19600,50960,130144,88200,38808,49000,152096,140728,116032,119952,99176,76048,105840,132104,134064,139944])\n",
    "maxCaf = max([70560,123872,127400,19600,50960,130144,88200,38808,49000,152096,140728,116032,119952,99176,76048,105840,132104,134064,139944])\n",
    "minCaf = min([70560,123872,127400,19600,50960,130144,88200,38808,49000,152096,140728,116032,119952,99176,76048,105840,132104,134064,139944])\n",
    "print(\"range\",minCaf,\"-\",maxCaf)\n",
    "len([70560,123872,127400,19600,50960,130144,88200,38808,49000,152096,140728,116032,119952,99176,76048,105840,132104,134064,139944])"
   ]
  },
  {
   "cell_type": "markdown",
   "metadata": {},
   "source": [
    "---\n",
    "## &#128721; STOP AND ASK YOUR INSTRUCTOR TO COME OVER\n",
    "\n",
    "# Part 2\n",
    "\n",
    "## 2.1 Pick a Second Model\n",
    "**Now, picking one of the other questions and going through the process of making another order-of-magnitude estimate.** Each group must choose a *different* question. Once you have decided on which question you are going to try to tackle, try working through the answer on your own, but check in with the members of your group if you run into issues or want to bounce ideas off each other.\n",
    "\n"
   ]
  },
  {
   "cell_type": "markdown",
   "metadata": {},
   "source": [
    "## 2.2 Describe the Model\n",
    "**In the cell below, write down your chosen question and the parameters in your model.** Also write down the range of possible values for each of the parameters!"
   ]
  },
  {
   "cell_type": "markdown",
   "metadata": {},
   "source": [
    "5. Which has more mass, the air in this classroom or the brains in this classroom?  \n",
    "6 people in 10 groups + 4 profs = 64\n",
    "classroom is 40-60 ft wide  12-15 ft tall 40-60 ft long\n",
    "density of air .01 kg/L\n",
    "density of brain < 1kg/L  so prolly like .5-.7 .kg/L\n",
    "mass of brain 3-4 pounds?\n",
    "mass of air rho * area\n",
    "1 atm \n",
    "\n",
    "\n"
   ]
  },
  {
   "cell_type": "markdown",
   "metadata": {},
   "source": [
    "## 2.3 Coding the Model\n",
    "\n",
    "In the cell below, write a program to calculate and print out an estimate for your model."
   ]
  },
  {
   "cell_type": "code",
   "execution_count": 119,
   "metadata": {
    "tags": []
   },
   "outputs": [
    {
     "name": "stdout",
     "output_type": "stream",
     "text": [
      "-1072.7119125135653 kilograms\n"
     ]
    }
   ],
   "source": [
    "# write a program in this cell to calculate and print out an estimate\n",
    "# of the answer to the question you've chosen to solve!\n",
    "length = 50\n",
    "lM = length/3.3\n",
    "width = 50\n",
    "wM = width/3.3\n",
    "height = 14\n",
    "hM = height/3.3\n",
    "volRoom = length*width*height\n",
    "volRoomM = lM*wM*hM\n",
    "airDens = 1.2\n",
    "brainDens = 1.1\n",
    "brainKg = 3.3/2.2\n",
    "brainCount = 64\n",
    "airMass = airDens*volRoomM\n",
    "brainMass = brainKg*brainCount\n",
    "print(brainMass-airMass,\"kilograms\")\n",
    "#air mass weighs more\n"
   ]
  },
  {
   "cell_type": "markdown",
   "metadata": {},
   "source": [
    "---\n",
    "## Assignment wrapup\n",
    "\n",
    "Please fill out the form that appears when you run the code below. **You must completely fill this out in order to receive credit for the assignment!** "
   ]
  },
  {
   "cell_type": "code",
   "execution_count": 74,
   "metadata": {
    "tags": []
   },
   "outputs": [
    {
     "data": {
      "text/html": [
       "\n",
       "<iframe \n",
       "\tsrc=\"https://cmse.msu.edu/cmse201-ic-survey\" \n",
       "\twidth=\"800px\" \n",
       "\theight=\"600px\" \n",
       "\tframeborder=\"0\" \n",
       "\tmarginheight=\"0\" \n",
       "\tmarginwidth=\"0\">\n",
       "\tLoading...\n",
       "</iframe>\n"
      ],
      "text/plain": [
       "<IPython.core.display.HTML object>"
      ]
     },
     "execution_count": 74,
     "metadata": {},
     "output_type": "execute_result"
    }
   ],
   "source": [
    "from IPython.display import HTML\n",
    "HTML(\n",
    "\"\"\"\n",
    "<iframe \n",
    "\tsrc=\"https://cmse.msu.edu/cmse201-ic-survey\" \n",
    "\twidth=\"800px\" \n",
    "\theight=\"600px\" \n",
    "\tframeborder=\"0\" \n",
    "\tmarginheight=\"0\" \n",
    "\tmarginwidth=\"0\">\n",
    "\tLoading...\n",
    "</iframe>\n",
    "\"\"\"\n",
    ")"
   ]
  },
  {
   "cell_type": "markdown",
   "metadata": {},
   "source": [
    "### Submit this assignment by uploading it to the course Desire2Learn web page.  \n",
    "Go to the \"In-class assignments\" folder, find the assignment submission link for today's assignment, and upload it there.\n",
    "\n",
    "#### Congratulations, you're done!\n",
    "\n",
    "Make sure to complete the **Pre-class assignment before next class.** See you next class!\n",
    "\n",
    "See you next class!"
   ]
  },
  {
   "cell_type": "markdown",
   "metadata": {},
   "source": [
    "&#169; Copyright 2023, Department of Computational Mathematics, Science and Engineering at Michigan State University."
   ]
  }
 ],
 "metadata": {
  "kernelspec": {
   "display_name": "Python 3 (ipykernel)",
   "language": "python",
   "name": "python3"
  },
  "language_info": {
   "codemirror_mode": {
    "name": "ipython",
    "version": 3
   },
   "file_extension": ".py",
   "mimetype": "text/x-python",
   "name": "python",
   "nbconvert_exporter": "python",
   "pygments_lexer": "ipython3",
   "version": "3.11.5"
  },
  "vscode": {
   "interpreter": {
    "hash": "57d964a2ef938b66daa93f67207194045a8aae98a88dc0c9d20f5f06155eead0"
   }
  }
 },
 "nbformat": 4,
 "nbformat_minor": 4
}
