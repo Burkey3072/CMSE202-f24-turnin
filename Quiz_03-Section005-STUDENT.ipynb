{
 "cells": [
  {
   "cell_type": "markdown",
   "id": "6ac1403f-3bcf-420e-996c-00e27a9e45a1",
   "metadata": {},
   "source": [
    "# CMSE 201: Quiz 3 (Section 005 Spring 2024)\n",
    "\n",
    "## <p style=\"text-align: right;\"> &#9989; Joseph Burke</p>"
   ]
  },
  {
   "cell_type": "markdown",
   "id": "b08ebd34-95b3-4129-a61f-a12a5f2bcf3e",
   "metadata": {},
   "source": [
    "\n",
    "The goal of this quiz is to give you the opportunity to test out more of the skills that you've developed thus far this semester. In particular, you'll reflect on what you know about writing code using Python and showcase some of your more recently acquired programming skills.\n",
    "\n",
    "**Important note about using online resources**: This exam is \"open internet\". That means that you can look up documentation, google how to accomplish certain Python tasks, etc. Being able to effectively use the internet for computational modeling and data science is a very important skill, so we want to make sure you have the opportunity to exercise that skill. **However, the use of any person-to-person communication software is absolutely not acceptable.**\n",
    "\n",
    "**If ChatGPT is used**, _you must cite it_ with the access date and the prompt as described in the course [Generative AI policy](https://msu-cmse-courses.github.io/cmse201-S24-jb/Course_Materials-201/AI_Policy/CMSE201_GenerativeAI_Policy.html). Without appropriate citation, you may **receive partial or no credit**.  \n",
    "\n",
    "**Do your own work.** This quiz is designed to give *you* the opportunity to show the instructor what you can do and you should hold yourself accountable for maintaining a high level of academic integrity. Any violation of academic integrity could result in you receiving a zero on the quiz.\n",
    "\n",
    "There are a total of **40 points** possible on this quiz and each part of the quiz can be done independently. **If you get stuck _move on to another part of the quiz to earn some points there!_**\n",
    "\n",
    "\n",
    "![Moira](https://media.giphy.com/media/26gs78HRO8sOuhTkQ/giphy.gif)"
   ]
  },
  {
   "cell_type": "markdown",
   "id": "7b8bb320-18cb-47a9-80b5-c41cc8639068",
   "metadata": {
    "ExecuteTime": {
     "end_time": "2023-04-03T16:42:19.977036Z",
     "start_time": "2023-04-03T16:42:19.973227Z"
    }
   },
   "source": [
    "---\n",
    "<a id=\"toc\"></a>\n",
    "\n",
    "## Table of Contents\n",
    "\n",
    "[Part 0. Academic Integrity Statement](#part_0) (5 points)\n",
    "\n",
    "[Part 1. Loading, exploring, and masking data with Pandas](#part_1)  (16 points)\n",
    "\n",
    "[Part 2. Data Visualization](#part_2)  (19 points)\n"
   ]
  },
  {
   "cell_type": "code",
   "execution_count": 1,
   "id": "1bf21f35-4679-4444-aaac-451f074ac3b3",
   "metadata": {
    "ExecuteTime": {
     "end_time": "2023-04-03T16:42:40.056628Z",
     "start_time": "2023-04-03T16:42:40.054007Z"
    },
    "tags": []
   },
   "outputs": [
    {
     "name": "stdout",
     "output_type": "stream",
     "text": [
      "The total number of points is : 40\n"
     ]
    }
   ],
   "source": [
    "points_list = [5, 16, 19]\n",
    "\n",
    "print(f\"The total number of points is : {sum(points_list)}\")"
   ]
  },
  {
   "cell_type": "code",
   "execution_count": 2,
   "id": "546ee40a-5e9e-450f-ab1a-0f7424e672d2",
   "metadata": {
    "ExecuteTime": {
     "end_time": "2023-04-03T16:37:20.019134Z",
     "start_time": "2023-04-03T16:37:18.704180Z"
    },
    "tags": []
   },
   "outputs": [],
   "source": [
    "# run this cell to import all relevant modules\n",
    "import numpy as np\n",
    "import matplotlib.pyplot as plt\n",
    "\n",
    "%matplotlib inline\n",
    "import pandas as pd\n",
    "import seaborn as sns\n"
   ]
  },
  {
   "cell_type": "markdown",
   "id": "dbdc3054",
   "metadata": {},
   "source": [
    "---\n",
    "<a id=\"part_0\"></a>\n",
    "\n",
    "# Part 0. Academic integrity statement (5 point)\n",
    "[Back to Top](#toc)\n",
    "\n",
    "In the markdown cell below, put your personal academic integrity statement. By including this statement, you are confirming that you are submitting this as your own work and not that of someone else."
   ]
  },
  {
   "cell_type": "markdown",
   "id": "ea4e7d9d",
   "metadata": {},
   "source": [
    "<font size=+3>&#9998;</font> *I, _Joseph Burke_, commit to _ upholding all that is expected of a student of Michigan State University on the grounds of honesty and integrity in the classroom.  I'm greatly excited and thankful for my time at MSU and all the opportunities and clubs I'm exposed to and am apart of, and I hope to stay committed and helpful to those groups as much as possible.  I pledge to stay on top of my work and to source everything I use properly and ethically. I will also advocate for the ethical use of data and the distrubution of clear and honest information, and to educate as many people as I can about the effects of bias in data and algarithms. I will reflect the truth in all of my work and will not spread false information.  I will follow the MSU Policy throughout my entire time here, do and turn in  my own work, and grow from the effort I put into this course.  *"
   ]
  },
  {
   "cell_type": "markdown",
   "id": "a4639997-1321-465a-9eae-445770dc1025",
   "metadata": {},
   "source": [
    "---\n",
    "<a id=\"part_1\"></a>\n",
    "\n",
    "# Part 1. Loading, exploring, and masking data with Pandas (16 points)\n",
    "[Back to Top](#toc)\n",
    "\n",
    "<img src=\"https://github.com/allisonhorst/palmerpenguins/blob/main/man/figures/lter_penguins.png?raw=true\" width=800px style=\"margin-left: 20px\" alt=\"Image credit: https://github.com/allisonhorst/palmerpenguins\">"
   ]
  },
  {
   "cell_type": "markdown",
   "id": "809e80e3-9a86-4c1f-af02-91f57ea0a1dc",
   "metadata": {},
   "source": [
    "&#9989;&nbsp; **Question 1.1 (2 points)** Run the cell below to load the diamonds dataset from seaborn and then **write some code to display the first 10 rows of data**"
   ]
  },
  {
   "cell_type": "code",
   "execution_count": 3,
   "id": "79704d98-66eb-4672-b79d-11ae0f1fc344",
   "metadata": {
    "ExecuteTime": {
     "end_time": "2023-04-03T15:24:25.828647Z",
     "start_time": "2023-04-03T15:24:23.862544Z"
    },
    "tags": []
   },
   "outputs": [
    {
     "data": {
      "text/html": [
       "<div>\n",
       "<style scoped>\n",
       "    .dataframe tbody tr th:only-of-type {\n",
       "        vertical-align: middle;\n",
       "    }\n",
       "\n",
       "    .dataframe tbody tr th {\n",
       "        vertical-align: top;\n",
       "    }\n",
       "\n",
       "    .dataframe thead th {\n",
       "        text-align: right;\n",
       "    }\n",
       "</style>\n",
       "<table border=\"1\" class=\"dataframe\">\n",
       "  <thead>\n",
       "    <tr style=\"text-align: right;\">\n",
       "      <th></th>\n",
       "      <th>species</th>\n",
       "      <th>island</th>\n",
       "      <th>bill_length_mm</th>\n",
       "      <th>bill_depth_mm</th>\n",
       "      <th>flipper_length_mm</th>\n",
       "      <th>body_mass_g</th>\n",
       "      <th>sex</th>\n",
       "    </tr>\n",
       "  </thead>\n",
       "  <tbody>\n",
       "    <tr>\n",
       "      <th>0</th>\n",
       "      <td>Adelie</td>\n",
       "      <td>Torgersen</td>\n",
       "      <td>39.1</td>\n",
       "      <td>18.7</td>\n",
       "      <td>181.0</td>\n",
       "      <td>3750.0</td>\n",
       "      <td>Male</td>\n",
       "    </tr>\n",
       "    <tr>\n",
       "      <th>1</th>\n",
       "      <td>Adelie</td>\n",
       "      <td>Torgersen</td>\n",
       "      <td>39.5</td>\n",
       "      <td>17.4</td>\n",
       "      <td>186.0</td>\n",
       "      <td>3800.0</td>\n",
       "      <td>Female</td>\n",
       "    </tr>\n",
       "    <tr>\n",
       "      <th>2</th>\n",
       "      <td>Adelie</td>\n",
       "      <td>Torgersen</td>\n",
       "      <td>40.3</td>\n",
       "      <td>18.0</td>\n",
       "      <td>195.0</td>\n",
       "      <td>3250.0</td>\n",
       "      <td>Female</td>\n",
       "    </tr>\n",
       "    <tr>\n",
       "      <th>3</th>\n",
       "      <td>Adelie</td>\n",
       "      <td>Torgersen</td>\n",
       "      <td>NaN</td>\n",
       "      <td>NaN</td>\n",
       "      <td>NaN</td>\n",
       "      <td>NaN</td>\n",
       "      <td>NaN</td>\n",
       "    </tr>\n",
       "    <tr>\n",
       "      <th>4</th>\n",
       "      <td>Adelie</td>\n",
       "      <td>Torgersen</td>\n",
       "      <td>36.7</td>\n",
       "      <td>19.3</td>\n",
       "      <td>193.0</td>\n",
       "      <td>3450.0</td>\n",
       "      <td>Female</td>\n",
       "    </tr>\n",
       "    <tr>\n",
       "      <th>5</th>\n",
       "      <td>Adelie</td>\n",
       "      <td>Torgersen</td>\n",
       "      <td>39.3</td>\n",
       "      <td>20.6</td>\n",
       "      <td>190.0</td>\n",
       "      <td>3650.0</td>\n",
       "      <td>Male</td>\n",
       "    </tr>\n",
       "    <tr>\n",
       "      <th>6</th>\n",
       "      <td>Adelie</td>\n",
       "      <td>Torgersen</td>\n",
       "      <td>38.9</td>\n",
       "      <td>17.8</td>\n",
       "      <td>181.0</td>\n",
       "      <td>3625.0</td>\n",
       "      <td>Female</td>\n",
       "    </tr>\n",
       "    <tr>\n",
       "      <th>7</th>\n",
       "      <td>Adelie</td>\n",
       "      <td>Torgersen</td>\n",
       "      <td>39.2</td>\n",
       "      <td>19.6</td>\n",
       "      <td>195.0</td>\n",
       "      <td>4675.0</td>\n",
       "      <td>Male</td>\n",
       "    </tr>\n",
       "    <tr>\n",
       "      <th>8</th>\n",
       "      <td>Adelie</td>\n",
       "      <td>Torgersen</td>\n",
       "      <td>34.1</td>\n",
       "      <td>18.1</td>\n",
       "      <td>193.0</td>\n",
       "      <td>3475.0</td>\n",
       "      <td>NaN</td>\n",
       "    </tr>\n",
       "    <tr>\n",
       "      <th>9</th>\n",
       "      <td>Adelie</td>\n",
       "      <td>Torgersen</td>\n",
       "      <td>42.0</td>\n",
       "      <td>20.2</td>\n",
       "      <td>190.0</td>\n",
       "      <td>4250.0</td>\n",
       "      <td>NaN</td>\n",
       "    </tr>\n",
       "  </tbody>\n",
       "</table>\n",
       "</div>"
      ],
      "text/plain": [
       "  species     island  bill_length_mm  bill_depth_mm  flipper_length_mm  \\\n",
       "0  Adelie  Torgersen            39.1           18.7              181.0   \n",
       "1  Adelie  Torgersen            39.5           17.4              186.0   \n",
       "2  Adelie  Torgersen            40.3           18.0              195.0   \n",
       "3  Adelie  Torgersen             NaN            NaN                NaN   \n",
       "4  Adelie  Torgersen            36.7           19.3              193.0   \n",
       "5  Adelie  Torgersen            39.3           20.6              190.0   \n",
       "6  Adelie  Torgersen            38.9           17.8              181.0   \n",
       "7  Adelie  Torgersen            39.2           19.6              195.0   \n",
       "8  Adelie  Torgersen            34.1           18.1              193.0   \n",
       "9  Adelie  Torgersen            42.0           20.2              190.0   \n",
       "\n",
       "   body_mass_g     sex  \n",
       "0       3750.0    Male  \n",
       "1       3800.0  Female  \n",
       "2       3250.0  Female  \n",
       "3          NaN     NaN  \n",
       "4       3450.0  Female  \n",
       "5       3650.0    Male  \n",
       "6       3625.0  Female  \n",
       "7       4675.0    Male  \n",
       "8       3475.0     NaN  \n",
       "9       4250.0     NaN  "
      ]
     },
     "execution_count": 3,
     "metadata": {},
     "output_type": "execute_result"
    }
   ],
   "source": [
    "penguins = sns.load_dataset(\"penguins\")\n",
    "# Put your code below\n",
    "penguins.head(10)"
   ]
  },
  {
   "cell_type": "markdown",
   "id": "125517b1-a3ea-43a1-8858-8f354f320223",
   "metadata": {},
   "source": [
    "As you can see this is a dataset containing information about penguins. The columns are self-explanatory."
   ]
  },
  {
   "cell_type": "markdown",
   "id": "21c4f5f4-1345-4e2b-92e8-a8339c76ef11",
   "metadata": {},
   "source": [
    "&#9989;  **Question 1.2 (1 point)**: Use `.describe()` to display several summary statistics from the data frame."
   ]
  },
  {
   "cell_type": "code",
   "execution_count": 4,
   "id": "769741e5-d8b1-4199-87ca-52b213a4e6cd",
   "metadata": {
    "ExecuteTime": {
     "end_time": "2023-04-03T16:15:49.913164Z",
     "start_time": "2023-04-03T16:15:49.911172Z"
    },
    "tags": []
   },
   "outputs": [
    {
     "data": {
      "text/html": [
       "<div>\n",
       "<style scoped>\n",
       "    .dataframe tbody tr th:only-of-type {\n",
       "        vertical-align: middle;\n",
       "    }\n",
       "\n",
       "    .dataframe tbody tr th {\n",
       "        vertical-align: top;\n",
       "    }\n",
       "\n",
       "    .dataframe thead th {\n",
       "        text-align: right;\n",
       "    }\n",
       "</style>\n",
       "<table border=\"1\" class=\"dataframe\">\n",
       "  <thead>\n",
       "    <tr style=\"text-align: right;\">\n",
       "      <th></th>\n",
       "      <th>bill_length_mm</th>\n",
       "      <th>bill_depth_mm</th>\n",
       "      <th>flipper_length_mm</th>\n",
       "      <th>body_mass_g</th>\n",
       "    </tr>\n",
       "  </thead>\n",
       "  <tbody>\n",
       "    <tr>\n",
       "      <th>count</th>\n",
       "      <td>342.000000</td>\n",
       "      <td>342.000000</td>\n",
       "      <td>342.000000</td>\n",
       "      <td>342.000000</td>\n",
       "    </tr>\n",
       "    <tr>\n",
       "      <th>mean</th>\n",
       "      <td>43.921930</td>\n",
       "      <td>17.151170</td>\n",
       "      <td>200.915205</td>\n",
       "      <td>4201.754386</td>\n",
       "    </tr>\n",
       "    <tr>\n",
       "      <th>std</th>\n",
       "      <td>5.459584</td>\n",
       "      <td>1.974793</td>\n",
       "      <td>14.061714</td>\n",
       "      <td>801.954536</td>\n",
       "    </tr>\n",
       "    <tr>\n",
       "      <th>min</th>\n",
       "      <td>32.100000</td>\n",
       "      <td>13.100000</td>\n",
       "      <td>172.000000</td>\n",
       "      <td>2700.000000</td>\n",
       "    </tr>\n",
       "    <tr>\n",
       "      <th>25%</th>\n",
       "      <td>39.225000</td>\n",
       "      <td>15.600000</td>\n",
       "      <td>190.000000</td>\n",
       "      <td>3550.000000</td>\n",
       "    </tr>\n",
       "    <tr>\n",
       "      <th>50%</th>\n",
       "      <td>44.450000</td>\n",
       "      <td>17.300000</td>\n",
       "      <td>197.000000</td>\n",
       "      <td>4050.000000</td>\n",
       "    </tr>\n",
       "    <tr>\n",
       "      <th>75%</th>\n",
       "      <td>48.500000</td>\n",
       "      <td>18.700000</td>\n",
       "      <td>213.000000</td>\n",
       "      <td>4750.000000</td>\n",
       "    </tr>\n",
       "    <tr>\n",
       "      <th>max</th>\n",
       "      <td>59.600000</td>\n",
       "      <td>21.500000</td>\n",
       "      <td>231.000000</td>\n",
       "      <td>6300.000000</td>\n",
       "    </tr>\n",
       "  </tbody>\n",
       "</table>\n",
       "</div>"
      ],
      "text/plain": [
       "       bill_length_mm  bill_depth_mm  flipper_length_mm  body_mass_g\n",
       "count      342.000000     342.000000         342.000000   342.000000\n",
       "mean        43.921930      17.151170         200.915205  4201.754386\n",
       "std          5.459584       1.974793          14.061714   801.954536\n",
       "min         32.100000      13.100000         172.000000  2700.000000\n",
       "25%         39.225000      15.600000         190.000000  3550.000000\n",
       "50%         44.450000      17.300000         197.000000  4050.000000\n",
       "75%         48.500000      18.700000         213.000000  4750.000000\n",
       "max         59.600000      21.500000         231.000000  6300.000000"
      ]
     },
     "execution_count": 4,
     "metadata": {},
     "output_type": "execute_result"
    }
   ],
   "source": [
    "# Put your code here\n",
    "penguins.describe()"
   ]
  },
  {
   "cell_type": "markdown",
   "id": "b86d7bb8-cf84-43ce-a7f8-dd76d9bcf7f0",
   "metadata": {
    "ExecuteTime": {
     "end_time": "2023-04-02T23:39:43.548753Z",
     "start_time": "2023-04-02T23:39:43.545996Z"
    }
   },
   "source": [
    "&#9989;  **Question 1.3 (2 points)**: Based on what you read in the results of 1.2, answer the following questions in the next cell\n",
    "\n",
    "1. How many **rows** in the dataset does not contain missing values in the variables summarized above? (1 point)\n",
    "2. How much is the median body mass of the penguins? (1 point)"
   ]
  },
  {
   "cell_type": "markdown",
   "id": "3751a4f9",
   "metadata": {},
   "source": [
    "<font size=+3>&#9998;</font> _342 rows, 4050 grams_"
   ]
  },
  {
   "cell_type": "markdown",
   "id": "e8e36c6d-43be-41eb-862a-010631033985",
   "metadata": {},
   "source": [
    "&#9989; **Question 1.4 (7 points)**: You wonder whether male or female penguins are heavier. In the cell below, you will use masking to create two new dataframes `m_penguins` and `f_penguins` that contains the rows of only the male penguins and female penguins respectively. Print out first few lines of each table to verify that the sex is correct."
   ]
  },
  {
   "cell_type": "code",
   "execution_count": 5,
   "id": "4ac4a9d6-b3da-4bec-bc1f-470cbf1e25b9",
   "metadata": {
    "tags": []
   },
   "outputs": [
    {
     "name": "stdout",
     "output_type": "stream",
     "text": [
      "   species     island  bill_length_mm  bill_depth_mm  flipper_length_mm  \\\n",
      "0   Adelie  Torgersen            39.1           18.7              181.0   \n",
      "5   Adelie  Torgersen            39.3           20.6              190.0   \n",
      "7   Adelie  Torgersen            39.2           19.6              195.0   \n",
      "13  Adelie  Torgersen            38.6           21.2              191.0   \n",
      "14  Adelie  Torgersen            34.6           21.1              198.0   \n",
      "\n",
      "    body_mass_g   sex  \n",
      "0        3750.0  Male  \n",
      "5        3650.0  Male  \n",
      "7        4675.0  Male  \n",
      "13       3800.0  Male  \n",
      "14       4400.0  Male  \n"
     ]
    },
    {
     "data": {
      "text/html": [
       "<div>\n",
       "<style scoped>\n",
       "    .dataframe tbody tr th:only-of-type {\n",
       "        vertical-align: middle;\n",
       "    }\n",
       "\n",
       "    .dataframe tbody tr th {\n",
       "        vertical-align: top;\n",
       "    }\n",
       "\n",
       "    .dataframe thead th {\n",
       "        text-align: right;\n",
       "    }\n",
       "</style>\n",
       "<table border=\"1\" class=\"dataframe\">\n",
       "  <thead>\n",
       "    <tr style=\"text-align: right;\">\n",
       "      <th></th>\n",
       "      <th>species</th>\n",
       "      <th>island</th>\n",
       "      <th>bill_length_mm</th>\n",
       "      <th>bill_depth_mm</th>\n",
       "      <th>flipper_length_mm</th>\n",
       "      <th>body_mass_g</th>\n",
       "      <th>sex</th>\n",
       "    </tr>\n",
       "  </thead>\n",
       "  <tbody>\n",
       "    <tr>\n",
       "      <th>1</th>\n",
       "      <td>Adelie</td>\n",
       "      <td>Torgersen</td>\n",
       "      <td>39.5</td>\n",
       "      <td>17.4</td>\n",
       "      <td>186.0</td>\n",
       "      <td>3800.0</td>\n",
       "      <td>Female</td>\n",
       "    </tr>\n",
       "    <tr>\n",
       "      <th>2</th>\n",
       "      <td>Adelie</td>\n",
       "      <td>Torgersen</td>\n",
       "      <td>40.3</td>\n",
       "      <td>18.0</td>\n",
       "      <td>195.0</td>\n",
       "      <td>3250.0</td>\n",
       "      <td>Female</td>\n",
       "    </tr>\n",
       "    <tr>\n",
       "      <th>4</th>\n",
       "      <td>Adelie</td>\n",
       "      <td>Torgersen</td>\n",
       "      <td>36.7</td>\n",
       "      <td>19.3</td>\n",
       "      <td>193.0</td>\n",
       "      <td>3450.0</td>\n",
       "      <td>Female</td>\n",
       "    </tr>\n",
       "    <tr>\n",
       "      <th>6</th>\n",
       "      <td>Adelie</td>\n",
       "      <td>Torgersen</td>\n",
       "      <td>38.9</td>\n",
       "      <td>17.8</td>\n",
       "      <td>181.0</td>\n",
       "      <td>3625.0</td>\n",
       "      <td>Female</td>\n",
       "    </tr>\n",
       "    <tr>\n",
       "      <th>12</th>\n",
       "      <td>Adelie</td>\n",
       "      <td>Torgersen</td>\n",
       "      <td>41.1</td>\n",
       "      <td>17.6</td>\n",
       "      <td>182.0</td>\n",
       "      <td>3200.0</td>\n",
       "      <td>Female</td>\n",
       "    </tr>\n",
       "  </tbody>\n",
       "</table>\n",
       "</div>"
      ],
      "text/plain": [
       "   species     island  bill_length_mm  bill_depth_mm  flipper_length_mm  \\\n",
       "1   Adelie  Torgersen            39.5           17.4              186.0   \n",
       "2   Adelie  Torgersen            40.3           18.0              195.0   \n",
       "4   Adelie  Torgersen            36.7           19.3              193.0   \n",
       "6   Adelie  Torgersen            38.9           17.8              181.0   \n",
       "12  Adelie  Torgersen            41.1           17.6              182.0   \n",
       "\n",
       "    body_mass_g     sex  \n",
       "1        3800.0  Female  \n",
       "2        3250.0  Female  \n",
       "4        3450.0  Female  \n",
       "6        3625.0  Female  \n",
       "12       3200.0  Female  "
      ]
     },
     "execution_count": 5,
     "metadata": {},
     "output_type": "execute_result"
    }
   ],
   "source": [
    "# Put your code here\n",
    "m_penguins = penguins[penguins['sex']=='Male']\n",
    "f_penguins = penguins[penguins['sex']=='Female']\n",
    "print(m_penguins.head())\n",
    "f_penguins.head()"
   ]
  },
  {
   "cell_type": "markdown",
   "id": "c2fe6994",
   "metadata": {},
   "source": [
    "&#9989; **Question 1.5 (4 points)**: Write some code in the cell below to calculate the **mean body mass** of male and female penguins respectively using the dataframes you created in 1.4. Print a statement regarding **which sex is heavier**."
   ]
  },
  {
   "cell_type": "code",
   "execution_count": 6,
   "id": "2c834697",
   "metadata": {
    "tags": []
   },
   "outputs": [
    {
     "name": "stdout",
     "output_type": "stream",
     "text": [
      "Male penguin mean mass is 4545.684523809524 and female mean mass is 3862.2727272727275 , so male penguins are heavier on average\n"
     ]
    }
   ],
   "source": [
    "# Put your code here\n",
    "mp_mass =m_penguins.describe()['body_mass_g']\n",
    "mp_mean_mass = mp_mass['mean']\n",
    "fp_mass =f_penguins.describe()['body_mass_g']\n",
    "fp_mean_mass = fp_mass['mean']\n",
    "if mp_mean_mass > fp_mean_mass:\n",
    "    rank = 'male penguins are heavier on average'\n",
    "elif mp_mean_mass < fp_mean_mass:\n",
    "    rank = 'female penguins are heavier on average'\n",
    "else:\n",
    "    rank = 'cannot be determined for sure'\n",
    "print('Male penguin mean mass is',mp_mean_mass,'and female mean mass is',fp_mean_mass,', so',rank)"
   ]
  },
  {
   "cell_type": "markdown",
   "id": "b496f755-0e03-4a41-9ee3-919ef8fb3414",
   "metadata": {},
   "source": [
    "---\n",
    "<a id=\"part_2\"></a>\n",
    "\n",
    "# Part 2. Data Visualization (19 points)\n",
    "\n",
    "\n",
    "[Back to Top](#toc)\n",
    "\n",
    "Recently, you became fascinated by the question of which animals have bigger brains. You came across a dataset containing the brain size and body size of animals in various species ([source link](https://datadryad.org/stash/dataset/doi:10.5061/dryad.2r62k7s)) and downloaded in a file named `BrainAllometry_Supplement_Data.csv`. You are going to explore with `pandas` and other python modules to see what you can learn about brain sizes of different animals. "
   ]
  },
  {
   "cell_type": "markdown",
   "id": "ee7a9811-bd35-4d2b-9630-71be89d321bf",
   "metadata": {
    "execution": {
     "iopub.execute_input": "2024-03-08T16:47:08.055213Z",
     "iopub.status.busy": "2024-03-08T16:47:08.054471Z",
     "iopub.status.idle": "2024-03-08T16:47:08.064293Z",
     "shell.execute_reply": "2024-03-08T16:47:08.063051Z",
     "shell.execute_reply.started": "2024-03-08T16:47:08.055157Z"
    }
   },
   "source": [
    "&#9989; **Question 2.1 (2 points)**: In the cell below, write some code to load in data file `BrainAllometry_Supplement_Data.csv` using `pandas` (data file should be downloaded from D2L). "
   ]
  },
  {
   "cell_type": "code",
   "execution_count": 7,
   "id": "f33af37c-c53f-4fd2-8c4b-2f22814a993d",
   "metadata": {
    "tags": []
   },
   "outputs": [
    {
     "data": {
      "text/html": [
       "<div>\n",
       "<style scoped>\n",
       "    .dataframe tbody tr th:only-of-type {\n",
       "        vertical-align: middle;\n",
       "    }\n",
       "\n",
       "    .dataframe tbody tr th {\n",
       "        vertical-align: top;\n",
       "    }\n",
       "\n",
       "    .dataframe thead th {\n",
       "        text-align: right;\n",
       "    }\n",
       "</style>\n",
       "<table border=\"1\" class=\"dataframe\">\n",
       "  <thead>\n",
       "    <tr style=\"text-align: right;\">\n",
       "      <th></th>\n",
       "      <th>Binomial</th>\n",
       "      <th>order</th>\n",
       "      <th>family</th>\n",
       "      <th>genus</th>\n",
       "      <th>species</th>\n",
       "      <th>Sample_size.brain</th>\n",
       "      <th>Sample_size.body</th>\n",
       "      <th>Sex</th>\n",
       "      <th>Mean_brain_mass_g</th>\n",
       "      <th>Mean_body_mass_g</th>\n",
       "      <th>BrainReference1</th>\n",
       "      <th>BrainReference2</th>\n",
       "      <th>Brain.resid</th>\n",
       "      <th>T_resid</th>\n",
       "    </tr>\n",
       "  </thead>\n",
       "  <tbody>\n",
       "    <tr>\n",
       "      <th>0</th>\n",
       "      <td>Chrysochloris_stuhlmanni</td>\n",
       "      <td>Afrosoricida</td>\n",
       "      <td>Chrysochloridae</td>\n",
       "      <td>Chrysochloris</td>\n",
       "      <td>stuhlmanni</td>\n",
       "      <td>&gt;2,&lt;12</td>\n",
       "      <td>NaN</td>\n",
       "      <td>Both</td>\n",
       "      <td>1.06</td>\n",
       "      <td>50.05</td>\n",
       "      <td>Boddy2012</td>\n",
       "      <td>Stephanetal.1981; Mace.etal.1981</td>\n",
       "      <td>0.010717</td>\n",
       "      <td>0.172364</td>\n",
       "    </tr>\n",
       "    <tr>\n",
       "      <th>1</th>\n",
       "      <td>Microgale_cowani</td>\n",
       "      <td>Afrosoricida</td>\n",
       "      <td>Tenrecidae</td>\n",
       "      <td>Microgale</td>\n",
       "      <td>cowani</td>\n",
       "      <td>1</td>\n",
       "      <td>NaN</td>\n",
       "      <td>NaN</td>\n",
       "      <td>0.42</td>\n",
       "      <td>15.20</td>\n",
       "      <td>Boddy2012</td>\n",
       "      <td>Stephanetal.1981</td>\n",
       "      <td>-0.003165</td>\n",
       "      <td>0.041996</td>\n",
       "    </tr>\n",
       "    <tr>\n",
       "      <th>2</th>\n",
       "      <td>Microgale_dobsoni</td>\n",
       "      <td>Afrosoricida</td>\n",
       "      <td>Tenrecidae</td>\n",
       "      <td>Microgale</td>\n",
       "      <td>dobsoni</td>\n",
       "      <td>1</td>\n",
       "      <td>NaN</td>\n",
       "      <td>NaN</td>\n",
       "      <td>0.56</td>\n",
       "      <td>32.60</td>\n",
       "      <td>Boddy2012</td>\n",
       "      <td>Stephanetal.1981</td>\n",
       "      <td>-0.126759</td>\n",
       "      <td>-0.007017</td>\n",
       "    </tr>\n",
       "    <tr>\n",
       "      <th>3</th>\n",
       "      <td>Oryzorictes_hova</td>\n",
       "      <td>Afrosoricida</td>\n",
       "      <td>Tenrecidae</td>\n",
       "      <td>Oryzorictes</td>\n",
       "      <td>hova</td>\n",
       "      <td>1</td>\n",
       "      <td>NaN</td>\n",
       "      <td>NaN</td>\n",
       "      <td>0.58</td>\n",
       "      <td>44.20</td>\n",
       "      <td>Boddy2012</td>\n",
       "      <td>Stephanetal.1981</td>\n",
       "      <td>-0.210674</td>\n",
       "      <td>-0.061177</td>\n",
       "    </tr>\n",
       "    <tr>\n",
       "      <th>4</th>\n",
       "      <td>Echinops_telfairi</td>\n",
       "      <td>Afrosoricida</td>\n",
       "      <td>Tenrecidae</td>\n",
       "      <td>Echinops</td>\n",
       "      <td>telfairi</td>\n",
       "      <td>2</td>\n",
       "      <td>NaN</td>\n",
       "      <td>NaN</td>\n",
       "      <td>0.62</td>\n",
       "      <td>87.50</td>\n",
       "      <td>Boddy2012</td>\n",
       "      <td>Stephanetal.1981</td>\n",
       "      <td>-0.404152</td>\n",
       "      <td>-0.187903</td>\n",
       "    </tr>\n",
       "  </tbody>\n",
       "</table>\n",
       "</div>"
      ],
      "text/plain": [
       "                   Binomial         order           family          genus  \\\n",
       "0  Chrysochloris_stuhlmanni  Afrosoricida  Chrysochloridae  Chrysochloris   \n",
       "1          Microgale_cowani  Afrosoricida       Tenrecidae      Microgale   \n",
       "2         Microgale_dobsoni  Afrosoricida       Tenrecidae      Microgale   \n",
       "3          Oryzorictes_hova  Afrosoricida       Tenrecidae    Oryzorictes   \n",
       "4         Echinops_telfairi  Afrosoricida       Tenrecidae       Echinops   \n",
       "\n",
       "      species Sample_size.brain Sample_size.body   Sex  Mean_brain_mass_g  \\\n",
       "0  stuhlmanni            >2,<12              NaN  Both               1.06   \n",
       "1      cowani                 1              NaN   NaN               0.42   \n",
       "2     dobsoni                 1              NaN   NaN               0.56   \n",
       "3        hova                 1              NaN   NaN               0.58   \n",
       "4    telfairi                 2              NaN   NaN               0.62   \n",
       "\n",
       "   Mean_body_mass_g BrainReference1                   BrainReference2  \\\n",
       "0             50.05       Boddy2012  Stephanetal.1981; Mace.etal.1981   \n",
       "1             15.20       Boddy2012                  Stephanetal.1981   \n",
       "2             32.60       Boddy2012                  Stephanetal.1981   \n",
       "3             44.20       Boddy2012                  Stephanetal.1981   \n",
       "4             87.50       Boddy2012                  Stephanetal.1981   \n",
       "\n",
       "   Brain.resid   T_resid  \n",
       "0     0.010717  0.172364  \n",
       "1    -0.003165  0.041996  \n",
       "2    -0.126759 -0.007017  \n",
       "3    -0.210674 -0.061177  \n",
       "4    -0.404152 -0.187903  "
      ]
     },
     "execution_count": 7,
     "metadata": {},
     "output_type": "execute_result"
    }
   ],
   "source": [
    "# Put your answer here\n",
    "brain = pd.read_csv('BrainAllometry_Supplement_Data.csv')\n",
    "brain.head()"
   ]
  },
  {
   "cell_type": "markdown",
   "id": "92960dd6",
   "metadata": {},
   "source": [
    "&#9989; **Question 2.2 (4 points)**: You found a figure that someone else has created using the same dataset. Study the figure below and answer the following questions:\n",
    "\n",
    "- Based on this figure, would you say heavier animals also have heavier brains? What features of the figure supports your conclusion? (2 points)\n",
    "- Do you think the figure provides a good visualization of the relationship between brain mass and body mass? Why or why not? (2 points)\n",
    "\n",
    "<img src=\"https://i.ibb.co/dgywnpf/brain-body.png\" alt=\"brain-body\" border=\"0\" />"
   ]
  },
  {
   "cell_type": "markdown",
   "id": "35a75596",
   "metadata": {},
   "source": [
    "<font size=+3>&#9998;</font> _I don't think its a very good graph because it does not display the majority of the data clearly.  I do think most heavier animals will have heavier brains, along the positive slope of a line of best fit_"
   ]
  },
  {
   "cell_type": "markdown",
   "id": "84f9a6f0",
   "metadata": {},
   "source": [
    "&#9989; **Question 2.3 (9 points)**: You want to try a different way of visualizing how the brain mass of an animal is related to its body mass using the dataset you loaded in 2.1. In the cell below, you will write some code to do the following:\n",
    "- use the columns `Mean_brain_mass_g` and `Mean_body_mass_g` of the dataframe to create a scatter plot to show the relation between the two variables. (3 points)\n",
    "- set the scale of both axes to log-scale (2 points)\n",
    "- label the axes with the correct variable name and units (4 points)"
   ]
  },
  {
   "cell_type": "code",
   "execution_count": 8,
   "id": "008db668",
   "metadata": {
    "tags": []
   },
   "outputs": [
    {
     "data": {
      "text/plain": [
       "<matplotlib.collections.PathCollection at 0x1e729660590>"
      ]
     },
     "execution_count": 8,
     "metadata": {},
     "output_type": "execute_result"
    },
    {
     "data": {
      "image/png": "[encoded data removed]",
      "text/plain": [
       "<Figure size 640x480 with 1 Axes>"
      ]
     },
     "metadata": {},
     "output_type": "display_data"
    }
   ],
   "source": [
    "# Put your code here\n",
    "brain_mass = brain['Mean_brain_mass_g']\n",
    "body_mass = brain['Mean_body_mass_g']\n",
    "plt.yscale('log')\n",
    "plt.xscale('log')\n",
    "plt.scatter(body_mass,brain_mass)"
   ]
  },
  {
   "cell_type": "markdown",
   "id": "87a061d0",
   "metadata": {},
   "source": [
    "&#9989; **Question 2.4 (4 points)**: Study the figure you just plotted in 2.2 and answer the following questions:\n",
    "\n",
    "- How to best describe the relationship between animal body mass and brain mass? (2 points)\n",
    "- Comparing your plot to the figure in 2.1, does your plot reveal more or less information? Why? (2 points)"
   ]
  },
  {
   "cell_type": "markdown",
   "id": "497dd2d5",
   "metadata": {},
   "source": [
    "<font size=+3>&#9998;</font> _I think it is a much clearer graph, and trend! Whales are probably the outliers lol.  The graph is much more linear, and outliers are not as visibly distracting as they were in the flat scale.  The plot makes the information at smaller values much easier to see and does properly display more information.  The relationship _"
   ]
  },
  {
   "cell_type": "markdown",
   "id": "176fb174-ebf1-46bd-a4d8-77ff6e0cfc04",
   "metadata": {},
   "source": [
    "---\n",
    "\n",
    "# Congratulations, you're done!\n",
    "\n",
    "Submit this quiz by uploading it to the course Desire2Learn web page.  \n",
    "\n",
    "Go to the **Quizzes** section, find the submission folder link for **Quiz 03**, and upload it there.\n",
    "\n",
    "\n",
    "![Moira2](https://media.giphy.com/media/d1E2HnwywoTkES08/giphy.gif)"
   ]
  },
  {
   "cell_type": "code",
   "execution_count": null,
   "id": "ed11e1d2",
   "metadata": {},
   "outputs": [],
   "source": []
  }
 ],
 "metadata": {
  "kernelspec": {
   "display_name": "Python 3 (ipykernel)",
   "language": "python",
   "name": "python3"
  },
  "language_info": {
   "codemirror_mode": {
    "name": "ipython",
    "version": 3
   },
   "file_extension": ".py",
   "mimetype": "text/x-python",
   "name": "python",
   "nbconvert_exporter": "python",
   "pygments_lexer": "ipython3",
   "version": "3.11.5"
  }
 },
 "nbformat": 4,
 "nbformat_minor": 5
}
