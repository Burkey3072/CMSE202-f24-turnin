{
 "cells": [
  {
   "cell_type": "markdown",
   "id": "a3c4aa76-23aa-4873-9959-1939a459837e",
   "metadata": {},
   "source": [
    "## <p style=\"text-align: right;\"> &#9989; Joseph Burke</p>"
   ]
  },
  {
   "cell_type": "markdown",
   "id": "91c9c720-2656-45a2-af5f-ed692cf0f3ea",
   "metadata": {},
   "source": [
    "# CMSE 201: Quiz 2 (Spring 2023)\n",
    "\n",
    "The goal of this quiz is to give you the opportunity to test out more of the skills that you've developed thus far this semester. In particular, you'll reflect on what you know about writing code using Python and showcase some of your more recently acquired programming skills.\n",
    "\n",
    "**Important note about using online resources**: This exam is \"open internet\". That means that you can look up documentation, google how to accomplish certain Python tasks, etc. Being able to effectively use the internet for computational modeling and data science is a very important skill, so we want to make sure you have the opportunity to exercise that skill. **However, the use of any person-to-person communication software is absolutely not acceptable.**\n",
    "\n",
    "**You cannot use ChatGPT or any other artificial intelligence tool. If you do you get 0 points!!!**\n",
    "\n",
    "**Do your own work.** This quiz is designed to give *you* the opportunity to show the instructor what you can do and you should hold yourself accountable for maintaining a high level of academic integrity. Any violation of academic integrity could result in you receiving a zero on the quiz.\n",
    "\n",
    "\n",
    "![Moira](https://media.giphy.com/media/26gs78HRO8sOuhTkQ/giphy.gif)"
   ]
  },
  {
   "cell_type": "markdown",
   "id": "76f536d9-d869-4d14-bcbb-5e103889e002",
   "metadata": {},
   "source": [
    "---\n",
    "<a id=\"toc\"></a>\n",
    "\n",
    "## Table of Contents\n",
    "\n",
    "[Part 0. Academic Integrity Statement](#part_0) (1 point)\n",
    "\n",
    "[Part 1. Functions](#part_1)  (11 points)\n",
    "\n",
    "[Part 2. Visualizing a model with `matplotlib`](#part_2)  (9 points)\n",
    "\n",
    "[Part 3. Loading a dataset with `numpy`](#part_3) (9 points)\n"
   ]
  },
  {
   "cell_type": "code",
   "execution_count": 1,
   "id": "4fd1a37a-2c30-4894-b745-bad854d14232",
   "metadata": {
    "tags": []
   },
   "outputs": [
    {
     "name": "stdout",
     "output_type": "stream",
     "text": [
      "The total number of points is : 30\n"
     ]
    }
   ],
   "source": [
    "points_list = [1, 11, 9, 9]\n",
    "\n",
    "print(f\"The total number of points is : {sum(points_list)}\")"
   ]
  },
  {
   "cell_type": "markdown",
   "id": "f9070f69-b6d1-4c9d-9d2c-8d94d80d9391",
   "metadata": {},
   "source": [
    "---\n",
    "<a id=\"part_0\"></a>\n",
    "\n",
    "# Part 0. Academic integrity statement (1 points)\n",
    "\n",
    "[Back to Top](#toc)\n",
    "\n",
    "In the markdown cell below, put your personal academic integrity statement. By including this statement, you are confirming that you are submitting this as your own work and not that of someone else.\n"
   ]
  },
  {
   "cell_type": "markdown",
   "id": "2c692dc2-9763-46fa-878a-b18664e6ce53",
   "metadata": {},
   "source": [
    "<font size=+3>&#9998;</font> *I, _Joseph Burke_, commit to _ upholding all that is expected of a student of Michigan State University on the grounds of honesty and integrity in the classroom.  I'm greatly excited and thankful for my time at MSU and all the opportunities and clubs I'm exposed to and am apart of, and I hope to stay committed and helpful to those groups as much as possible.  I pledge to stay on top of my work and to source everything I use properly and ethically. I will also advocate for the ethical use of data and the distrubution of clear and honest information, and to educate as many people as I can about the effects of bias in data and algarithms. I will reflect the truth in all of my work and will not spread false information.  I will follow the MSU Policy throughout my entire time here, do and turn in  my own work, and grow from the effort I put into this course.  *"
   ]
  },
  {
   "cell_type": "markdown",
   "id": "e4ae8012",
   "metadata": {},
   "source": [
    "---\n",
    "<a id=\"part_1\"></a>\n",
    "\n",
    "# Part 1. Functions (11 points)\n",
    "[Back to Top](#toc)\n",
    "\n",
    "## Part 1.1 Write your own function (7 points)\n",
    "A very important function in a data scientist career is the $p$-distance function, which calculates the sum of the $p$-th power of absolute values of the elements of an array and raises it to the power $(1/p)$. Your task is to code it. It is easier to write the equation for it.\n",
    "\n",
    "$$ c = \\left [ \\sum_j {\\rm abs}(a_j)^p \\right ]^{1/p} $$\n",
    "\n",
    "**IMPORTANT** Note that the absolute value of each element of the array is raised to the power $p$, then all added together, and then the entire sum is raised to the power $1/p$ and not each element. So you cannot just sum each element.\n",
    "\n",
    "&#9989;&nbsp; **Do this** Write a function with the following characteristics\n",
    "\n",
    "* the function's name is `pdistance`\n",
    "* the function takes in two arguments, `a`, `p`. `a` is a numpy array or a list of numbers and `p` an integer or float.\n",
    "* the default value of `p` should be set to 2, no default value for `a`.\n",
    "* the function should calculate $c$ as given by the formula above and return the value of $c$.\n",
    "\n",
    "**NOTE** You cannot use the function `np.linalg.norm` or `scipy.linalg.norm` to calculate the `p`-distance. If you use it you will only get partial credit. "
   ]
  },
  {
   "cell_type": "code",
   "execution_count": 11,
   "id": "b0b75a79",
   "metadata": {
    "tags": []
   },
   "outputs": [
    {
     "data": {
      "text/plain": [
       "7.483314773547883"
      ]
     },
     "execution_count": 11,
     "metadata": {},
     "output_type": "execute_result"
    }
   ],
   "source": [
    "import numpy as np\n",
    "# Write your function here\n",
    "def pdistance (array, p=2):\n",
    "    element_list = []\n",
    "    for i in array:\n",
    "        element_list.append((np.abs(i))**p)\n",
    "    c = np.sum(element_list)**(1/p)\n",
    "    return c\n",
    "\n",
    "arrays = [1,2,-1,-1,-7]\n",
    "pdistance(arrays)"
   ]
  },
  {
   "cell_type": "markdown",
   "id": "8789d13d-5353-4510-aa1b-1a71c416b4bf",
   "metadata": {},
   "source": [
    "## Part 1.2: Test your function\n",
    "[Back to Top](#toc)\n",
    "\n",
    "Numpy has a similar function called [`numpy.linalg.norm`](https://numpy.org/doc/stable/reference/generated/numpy.linalg.norm.html). The option `ord` is the equivalent of your `p` in `pdistance`. \n",
    "\n",
    "&#9989;&nbsp; **Do this (4 points)** Test that your function work correctly by running your function and the numpy function using the two cases below.\n",
    "\n",
    "* (2 point) Test 1. Calculate the $p = 2$-distance of `test_array_1` using your function and compare it with the numpy's output. **Note** You should not pass the value of `p` to your function. It should use the default value. \n",
    "\n",
    "* (2 point) Test 2. Calculate the $p = 4$-distance of `test_array_2` using your function and compare it with numpy's output[`numpy.linalg.norm`](https://numpy.org/doc/stable/reference/generated/numpy.linalg.norm.html). \n",
    "\n",
    "Do you the numpy's output and yours agree? If not, go back and fix your code or move on."
   ]
  },
  {
   "cell_type": "code",
   "execution_count": 59,
   "id": "cc5215a7-9014-4e44-8979-1a69409e4204",
   "metadata": {
    "tags": []
   },
   "outputs": [
    {
     "name": "stdout",
     "output_type": "stream",
     "text": [
      "5.0\n",
      "0.641974208218773\n",
      "5.0\n",
      "0.641974208218773\n"
     ]
    }
   ],
   "source": [
    "import numpy as np\n",
    "\n",
    "SEED = 81361505\n",
    "\n",
    "## DO NOT TOUCH THIS LINE. It is needed to ensure you get the right values\n",
    "rng = np.random.Generator(np.random.PCG64(SEED) )\n",
    "\n",
    "test_array_1 = np.array([ 3.0, 4.0, 0.0])\n",
    "\n",
    "test_array_2 = np.random.normal(0, 0.2, size = 100)\n",
    "\n",
    "# PUT YOUR CODE HERE\n",
    "print(pdistance(test_array_1))\n",
    "\n",
    "print(pdistance(test_array_2,4))\n",
    "\n",
    "np_output_1 = np.linalg.norm(test_array_1)\n",
    "#print(f\"Test 1: pdistance = {YOUR OUTPUT GOES HERE:.2e} , numpy = {np_output_1:.2e}\")\n",
    "print(np_output_1)\n",
    "\n",
    "np_output_2 = np.linalg.norm(test_array_2, ord = 4)\n",
    "print(np_output_2)\n",
    "#print(f\"Test 2: pdistance = {YOUR OUTPUT GOES HERE:.2e} , numpy = {np_output_2:.2e}\")\n"
   ]
  },
  {
   "cell_type": "markdown",
   "id": "2ec7650c",
   "metadata": {},
   "source": [
    "---\n",
    "<a id=\"part_2\"></a>\n",
    "\n",
    "# Part 2. Visualizing a model using matplotlib (9 points)\n",
    "[Back to Top](#toc)\n",
    "\n",
    "\n",
    "In the code cell below there are two models: one for calculating the supply curve and one for the demand curve. \n",
    "Both functions requires three arguments. The function `supply_eq` calculates the supply curve according to the equation\n",
    "$$ Q_s = A p^{\\beta}$$ \n",
    "where $Q_s$ is the quantity of items produced at the price $p$. The function `demand_eq` calculates the demand curve according to \n",
    "$$ Q_d = B - p^{\\beta}$$\n",
    "where, again, $Q_d$ is the quantity of items produced at the price $p$. In both equation $p$ is the price of the product and $\\beta$ the exponent of the curve. $A$ and $B$ are factors that affect the curves.\n",
    "\n",
    "&#9989;&nbsp; **Do the following**\n",
    "- Use the provided functions, model parameters (given below), and array `price`, to calculate two new arrays modeling the supply and demand. The model parameters are $A = 2$, $B = 300$, $\\beta = 2$. (2 points)\n",
    "\n",
    "- Then, use `matplotlib` to make a plot of both curves as function of price on the same plot. DO NOT USE SUBPLOTS!. (3 points)\n",
    "\n",
    "- Then use the `plt.axvline()` function to make a line at best price $p = 10$. (1 point)\n",
    "\n",
    "- Make sure to label your x and y axes and add a legend! (3 points)"
   ]
  },
  {
   "cell_type": "code",
   "execution_count": 32,
   "id": "66704843",
   "metadata": {
    "tags": []
   },
   "outputs": [
    {
     "data": {
      "text/plain": [
       "<matplotlib.legend.Legend at 0x181c6a46590>"
      ]
     },
     "execution_count": 32,
     "metadata": {},
     "output_type": "execute_result"
    },
    {
     "data": {
      "image/png": "[encoded data removed]",
      "text/plain": [
       "<Figure size 640x480 with 1 Axes>"
      ]
     },
     "metadata": {},
     "output_type": "display_data"
    }
   ],
   "source": [
    "# Will need to use NumPy for the function\n",
    "import numpy as np\n",
    "# Will need to import matplotlib for the plotting\n",
    "import matplotlib.pyplot as plt\n",
    "\n",
    "# This function calculates temperature over a range of days\n",
    "def supply_eq(p, A, beta):\n",
    "    quantity =  A*p**beta\n",
    "    return quantity\n",
    "    \n",
    "def demand_eq(p, B, beta):\n",
    "    quantity = B - p**beta\n",
    "    return quantity\n",
    "\n",
    "# Create days for a full year\n",
    "price = np.linspace(0,30,100) \n",
    "\n",
    "# Put your code here\n",
    "plt.plot(price,supply_eq(price,2,2),label='supply',color='maroon')\n",
    "plt.plot(price,demand_eq(price,300,2),label='demand',color='lime')\n",
    "plt.axvline(10,color='blue',label='best price')\n",
    "plt.ylabel('quantity')\n",
    "plt.xlabel('price')\n",
    "plt.title('Supply and Demand Curve')\n",
    "plt.legend()\n"
   ]
  },
  {
   "cell_type": "markdown",
   "id": "a82b3728-b1b5-4325-8e79-06a38064c969",
   "metadata": {},
   "source": [
    "---\n",
    "<a id=\"part_3\"></a>\n",
    "\n",
    "# Part 3. Loading a dataset with NumPy and visualizing it (9 points)\n",
    "\n",
    "[Back to Top](#toc)\n",
    "\n",
    "Let's plot some data. The file `sd_data.csv` provided with this notebook contains real data of a supply and demand curve. The first column is the price, the second is the supply quantity, and the third the demand quantity. \n",
    "\n",
    "&#9989;&nbsp; **Do the following** \n",
    "\n",
    "- Use `numpy`, to load the `sd_data.csv` file provided with this notebook. (If you can't figure out how to use NumPy, you can use Pandas for partial credit). (5 points) (2 points for using pandas). \n",
    "\n",
    "- Make a _scatter plot_ of the second and third columns versus the first column. (2 points) \n",
    "\n",
    "- Label your axis, (2 points)\n",
    "\n",
    "You should find that your plot of the data, looks similar to the model line from the section above.\n",
    "\n",
    "**NOTE** if you can't get the data loaded, you can still put your plot commands as you would have done if you had been successful (for partial credit)."
   ]
  },
  {
   "cell_type": "code",
   "execution_count": 47,
   "id": "95e9c887",
   "metadata": {
    "tags": []
   },
   "outputs": [
    {
     "data": {
      "text/plain": [
       "array([[   0.,    0.,  300.],\n",
       "       [   2.,    6.,  306.],\n",
       "       [   4.,   42.,  274.],\n",
       "       [   6.,   89.,  278.],\n",
       "       [   8.,  153.,  254.],\n",
       "       [  10.,  279.,  245.],\n",
       "       [  12.,  318.,  181.],\n",
       "       [  14.,  272.,   90.],\n",
       "       [  16.,  513.,  102.],\n",
       "       [  18.,  656.,   24.],\n",
       "       [  20.,  805.,  -65.],\n",
       "       [  22.,  915., -100.],\n",
       "       [  24., 1177., -186.],\n",
       "       [  26., 1381., -203.],\n",
       "       [  28., 1806., -571.]])"
      ]
     },
     "execution_count": 47,
     "metadata": {},
     "output_type": "execute_result"
    }
   ],
   "source": [
    "# Put your code here\n",
    "sd_data = np.loadtxt('sd_data.csv', usecols = [0,1,2],delimiter=',',skiprows = 1)  \n",
    "sd_data"
   ]
  },
  {
   "cell_type": "code",
   "execution_count": 57,
   "id": "a930c14f-c53f-44f1-900d-5a896eca8fcb",
   "metadata": {
    "tags": []
   },
   "outputs": [
    {
     "data": {
      "text/plain": [
       "Text(0, 0.5, 'quantity')"
      ]
     },
     "execution_count": 57,
     "metadata": {},
     "output_type": "execute_result"
    },
    {
     "data": {
      "image/png": "[encoded data removed]",
      "text/plain": [
       "<Figure size 640x480 with 1 Axes>"
      ]
     },
     "metadata": {},
     "output_type": "display_data"
    }
   ],
   "source": [
    "plt.scatter(sd_data[:,0],sd_data[:,1],label = 'supply',color='blue')\n",
    "plt.scatter(sd_data[:,0],sd_data[:,2], label='demand',color='orange')\n",
    "plt.legend()\n",
    "plt.xlabel('price')\n",
    "plt.ylabel('quantity')"
   ]
  },
  {
   "cell_type": "markdown",
   "id": "68544b38-6ac6-44cc-91f4-e870d2feb899",
   "metadata": {},
   "source": [
    "---\n",
    "\n",
    "# Congratulations, you're done!\n",
    "\n",
    "Submit this quiz by uploading it to the course Desire2Learn web page.  \n",
    "\n",
    "Go to the **Quizzes** section, find the submission folder link for **Quiz 02**, and upload it there.\n",
    "\n",
    "\n",
    "![Moira2](https://media.giphy.com/media/d1E2HnwywoTkES08/giphy.gif)"
   ]
  },
  {
   "cell_type": "code",
   "execution_count": null,
   "id": "f948a9b7-5bd4-41f5-b370-fdc397e6c20a",
   "metadata": {},
   "outputs": [],
   "source": []
  }
 ],
 "metadata": {
  "kernelspec": {
   "display_name": "Python 3 (ipykernel)",
   "language": "python",
   "name": "python3"
  },
  "language_info": {
   "codemirror_mode": {
    "name": "ipython",
    "version": 3
   },
   "file_extension": ".py",
   "mimetype": "text/x-python",
   "name": "python",
   "nbconvert_exporter": "python",
   "pygments_lexer": "ipython3",
   "version": "3.11.5"
  }
 },
 "nbformat": 4,
 "nbformat_minor": 5
}
