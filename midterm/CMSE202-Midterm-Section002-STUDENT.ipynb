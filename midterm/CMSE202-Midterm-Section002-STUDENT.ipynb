{
 "cells": [
  {
   "cell_type": "markdown",
   "id": "3def3efc",
   "metadata": {
    "tags": []
   },
   "source": [
    "# CMSE 202 Midterm (Section 002 - Fall 2024)\n",
    "\n",
    "The goal of this midterm is to give you the opportunity to test out some of the skills that you've developed thus far this semester. In particular, you'll practice setting up a GitHub repository, committing and pushing repository changes, downloading data with command line tools, performing some data analysis, possibly using a new Python package, and writing a python class. You should find that you have all of the skills necessary to complete this exam with even just eight weeks of CMSE 202 under your belt!\n",
    "\n",
    "You are encouraged to look through the entire exam before you get started so that you can appropriately budget your time and understand the broad goals of the exam. Once you've read through it, try doing Parts 0 and 1 first so that you have your repository set up and you download all necessary data files as they will be necessary to complete the assigned tasks. Let your instructor know right away if you have problems downloading the data!\n",
    "\n",
    "The exam is set up so that even if you get stuck on one part there are opportunities to get points on the other parts, so consider jumping ahead if you feel like you aren't making progress and then come back later if you have time. If you have any questions during the exam, you may ask the instructor, the TA, or the LA privately: simply raise your hand and one of us will come over to you. \n",
    "\n",
    "\n",
    "**Important note about using online resources**: This exam is \"open internet\". That means that you can look up documentation, google how to accomplish certain Python tasks, etc. Being able to effectively use the internet for computational modeling and data science is a very important skill, so we want to make sure you have the opportunity to exercise that skill. **However: The use of any person-to-person communication software or generative AI tools is absolutely not acceptable.** If you are seen accessing your email, using a collaborative cloud storage or document software (e.g. Slack, Google Documents), or generative AIs (e.g. ChatGPT), you will be at risk for receiving a zero on the exam.\n",
    "\n",
    "**Keep your eyes on your screen!** Unfortunately, there isn't enough space in the room for everyone to sit at their own table so please do your best to keep your eyes on your own screen. This exam is designed to give *you* the opportunity to show the instructor what you can do and you should hold yourself accountable for maintaining a high level of academic integrity. If any of the instructors observe suspicious behavior, you will, again, risk receiving a zero."
   ]
  },
  {
   "cell_type": "markdown",
   "id": "6b0b3d3a",
   "metadata": {},
   "source": [
    "---\n",
    "## Part 0: Academic integrity statement\n",
    "\n",
    "Read the following statement and edit the markdown text to put your name in the statement. This is your commitment to doing your own authentic work on this exam."
   ]
  },
  {
   "cell_type": "markdown",
   "id": "8e3dc4df",
   "metadata": {
    "pycharm": {
     "name": "#%% md\n"
    }
   },
   "source": [
    "> I, **Joseph Burke**, affirm that this exam represents my own authetic work, without the use of any unpermitted aids or generative AIs or person-to-person communication. I understand that this exam an an opportunity to showcase my own progress in developing and improving my computational skills and have done my best to demonstrate those skills."
   ]
  },
  {
   "cell_type": "markdown",
   "id": "435ee396",
   "metadata": {
    "tags": []
   },
   "source": [
    "## Part 1: Add to your Git repository to track your progress on your exam (12 points total)\n",
    "\n",
    "Before you get to far along in the exam, you're going to add it to the `cmse202-f24-turnin` repository you created in class (or in Homework 1) so that you can track your progress on the exam and preserve the final version that you turn in. In order to do this you need to\n",
    "\n",
    "1. Navigate to your `cmse202-f24-turnin` repository and create a new directory called `midterm`.\n",
    "2. Move this notebook into that **new directory** in your repository, then **add it and commit it to your repository**.\n",
    "3. Finally, to test that everything is working, \"git push\" the file so that it ends up in your GitHub repository.\n",
    "\n",
    "**Important**: Double check you've added your Professor and your TA as collaborators to your \"turnin\" respository (you should have done this in the previous homework assignment).\n",
    "\n",
    "**Important**: Make sure that the version of this notebook that you are working on is the same one that you just added to your repository! If you are working on a different copy of the noteobok, **none of your changes will be tracked**!\n",
    "\n",
    "The file should now show up on your GitHub account in the `cmse202-f24-turnin` repository inside the `midterm` directory you just created.  Periodically, **you'll be asked to commit your changes to the repository and push them to the remote GitHub location**. It can be good to get into a habit of committing your changes any time you make a significant modification."
   ]
  },
  {
   "cell_type": "markdown",
   "id": "290bab71",
   "metadata": {},
   "source": [
    "&#9989; **Question 1.1 Put all the Git commands you used to add your midterm folder and file to your GitHub repository (4 points)**:"
   ]
  },
  {
   "cell_type": "code",
   "execution_count": null,
   "id": "77244e3d",
   "metadata": {},
   "outputs": [],
   "source": [
    "### Put your code here:\n",
    "#!cd CMSE202-f24-turnin\n",
    "#!git pull\n",
    "#!git push\n",
    "#!mkdir midterm\n",
    "#!cd midterm\n",
    "#!git push\n"
   ]
  },
  {
   "cell_type": "markdown",
   "id": "903ce347",
   "metadata": {},
   "source": [
    "&#9989; **Question 1.2 Put the code the instructor will need to clone your repository here (2 points)**:\n"
   ]
  },
  {
   "cell_type": "code",
   "execution_count": null,
   "id": "adf93908",
   "metadata": {},
   "outputs": [],
   "source": [
    "### Put your code here:\n",
    "#!git clone https://github.com/Burkey3072/CMSE202-f24-turnin.git \n"
   ]
  },
  {
   "cell_type": "markdown",
   "id": "8239c731",
   "metadata": {},
   "source": [
    "&#9989; **Question 1.3 Explain why it could be useful to create a branch in Git. (2 points)**:\n"
   ]
  },
  {
   "cell_type": "markdown",
   "id": "5eb98eeb-8a54-41a2-91f0-56d18ad55139",
   "metadata": {},
   "source": [
    ">**We might want to create a branch so different users can all work on different parts of the project, or a developer can do 'risky parts' of a project without risking damage to the rest of the repository.  Then parts can be merged later when they're satisfactory**"
   ]
  },
  {
   "cell_type": "markdown",
   "id": "39b5c084",
   "metadata": {},
   "source": [
    "&#9989; **Question 1.4 (4 points)**: After completing each of Part 2, Part 3, Part 4, and Part 5 below, save your notebook, commit the changes to your Git repository using a descriptive commit message, and push the changes to GitHub. Note that there are large &#128721; **STOP** signs reminding you to do this after each part."
   ]
  },
  {
   "cell_type": "markdown",
   "id": "2a33af2b",
   "metadata": {},
   "source": [
    "## Part 2: Downloading and analyzing unfamiliar data (13 points)\n",
    "\n"
   ]
  },
  {
   "cell_type": "markdown",
   "id": "fdbaac8f",
   "metadata": {},
   "source": [
    "&#9989; **Question 2.1 Read in the \"529_pollen.tsv\" data file and then display the first eight rows of the dataset. (3 points)**:\n"
   ]
  },
  {
   "cell_type": "code",
   "execution_count": 5,
   "id": "acd32e74",
   "metadata": {},
   "outputs": [
    {
     "data": {
      "text/html": [
       "<div>\n",
       "<style scoped>\n",
       "    .dataframe tbody tr th:only-of-type {\n",
       "        vertical-align: middle;\n",
       "    }\n",
       "\n",
       "    .dataframe tbody tr th {\n",
       "        vertical-align: top;\n",
       "    }\n",
       "\n",
       "    .dataframe thead th {\n",
       "        text-align: right;\n",
       "    }\n",
       "</style>\n",
       "<table border=\"1\" class=\"dataframe\">\n",
       "  <thead>\n",
       "    <tr style=\"text-align: right;\">\n",
       "      <th></th>\n",
       "      <th>RIDGE</th>\n",
       "      <th>NUB</th>\n",
       "      <th>CRACK</th>\n",
       "      <th>WEIGHT</th>\n",
       "      <th>target</th>\n",
       "    </tr>\n",
       "  </thead>\n",
       "  <tbody>\n",
       "    <tr>\n",
       "      <th>0</th>\n",
       "      <td>-2.3482</td>\n",
       "      <td>3.6314</td>\n",
       "      <td>5.0289</td>\n",
       "      <td>10.8721</td>\n",
       "      <td>-1.3852</td>\n",
       "    </tr>\n",
       "    <tr>\n",
       "      <th>1</th>\n",
       "      <td>-1.1520</td>\n",
       "      <td>1.4805</td>\n",
       "      <td>3.2375</td>\n",
       "      <td>-0.5939</td>\n",
       "      <td>2.1235</td>\n",
       "    </tr>\n",
       "    <tr>\n",
       "      <th>2</th>\n",
       "      <td>-2.5245</td>\n",
       "      <td>-6.8633</td>\n",
       "      <td>-2.8037</td>\n",
       "      <td>8.4631</td>\n",
       "      <td>-3.4126</td>\n",
       "    </tr>\n",
       "    <tr>\n",
       "      <th>3</th>\n",
       "      <td>5.7523</td>\n",
       "      <td>-6.5091</td>\n",
       "      <td>-5.1510</td>\n",
       "      <td>4.3480</td>\n",
       "      <td>-10.3261</td>\n",
       "    </tr>\n",
       "    <tr>\n",
       "      <th>4</th>\n",
       "      <td>8.7494</td>\n",
       "      <td>-3.8978</td>\n",
       "      <td>-1.3834</td>\n",
       "      <td>-14.8776</td>\n",
       "      <td>-2.4153</td>\n",
       "    </tr>\n",
       "    <tr>\n",
       "      <th>5</th>\n",
       "      <td>10.4303</td>\n",
       "      <td>-3.1628</td>\n",
       "      <td>12.7885</td>\n",
       "      <td>-14.8519</td>\n",
       "      <td>-6.4942</td>\n",
       "    </tr>\n",
       "    <tr>\n",
       "      <th>6</th>\n",
       "      <td>-3.6049</td>\n",
       "      <td>4.6081</td>\n",
       "      <td>6.5540</td>\n",
       "      <td>5.9773</td>\n",
       "      <td>4.0404</td>\n",
       "    </tr>\n",
       "    <tr>\n",
       "      <th>7</th>\n",
       "      <td>-5.6383</td>\n",
       "      <td>-0.8158</td>\n",
       "      <td>-3.8120</td>\n",
       "      <td>1.1674</td>\n",
       "      <td>7.0468</td>\n",
       "    </tr>\n",
       "  </tbody>\n",
       "</table>\n",
       "</div>"
      ],
      "text/plain": [
       "     RIDGE     NUB    CRACK   WEIGHT   target\n",
       "0  -2.3482  3.6314   5.0289  10.8721  -1.3852\n",
       "1  -1.1520  1.4805   3.2375  -0.5939   2.1235\n",
       "2  -2.5245 -6.8633  -2.8037   8.4631  -3.4126\n",
       "3   5.7523 -6.5091  -5.1510   4.3480 -10.3261\n",
       "4   8.7494 -3.8978  -1.3834 -14.8776  -2.4153\n",
       "5  10.4303 -3.1628  12.7885 -14.8519  -6.4942\n",
       "6  -3.6049  4.6081   6.5540   5.9773   4.0404\n",
       "7  -5.6383 -0.8158  -3.8120   1.1674   7.0468"
      ]
     },
     "execution_count": 5,
     "metadata": {},
     "output_type": "execute_result"
    }
   ],
   "source": [
    "### Put your code here:\n",
    "import pandas as pd\n",
    "pollen = pd.read_csv(\"529_pollen.tsv\",sep=\"\\t\")\n",
    "pollen.head(8)\n"
   ]
  },
  {
   "cell_type": "markdown",
   "id": "5c1ff7ba",
   "metadata": {},
   "source": [
    "&#9989; **Question 2.2 Compute and report the max, min, and mean values for the \"RIDGE\" and \"WEIGHT\" features (2 points)**: \n",
    "\n"
   ]
  },
  {
   "cell_type": "code",
   "execution_count": 10,
   "id": "0eabef99",
   "metadata": {},
   "outputs": [
    {
     "data": {
      "text/html": [
       "<div>\n",
       "<style scoped>\n",
       "    .dataframe tbody tr th:only-of-type {\n",
       "        vertical-align: middle;\n",
       "    }\n",
       "\n",
       "    .dataframe tbody tr th {\n",
       "        vertical-align: top;\n",
       "    }\n",
       "\n",
       "    .dataframe thead th {\n",
       "        text-align: right;\n",
       "    }\n",
       "</style>\n",
       "<table border=\"1\" class=\"dataframe\">\n",
       "  <thead>\n",
       "    <tr style=\"text-align: right;\">\n",
       "      <th></th>\n",
       "      <th>RIDGE</th>\n",
       "      <th>NUB</th>\n",
       "      <th>CRACK</th>\n",
       "      <th>WEIGHT</th>\n",
       "      <th>target</th>\n",
       "    </tr>\n",
       "  </thead>\n",
       "  <tbody>\n",
       "    <tr>\n",
       "      <th>count</th>\n",
       "      <td>3848.000000</td>\n",
       "      <td>3848.000000</td>\n",
       "      <td>3848.000000</td>\n",
       "      <td>3848.000000</td>\n",
       "      <td>3848.000000</td>\n",
       "    </tr>\n",
       "    <tr>\n",
       "      <th>mean</th>\n",
       "      <td>-0.003637</td>\n",
       "      <td>0.000160</td>\n",
       "      <td>0.003103</td>\n",
       "      <td>0.004237</td>\n",
       "      <td>0.000166</td>\n",
       "    </tr>\n",
       "    <tr>\n",
       "      <th>std</th>\n",
       "      <td>6.398237</td>\n",
       "      <td>5.186311</td>\n",
       "      <td>7.875199</td>\n",
       "      <td>10.043092</td>\n",
       "      <td>3.144395</td>\n",
       "    </tr>\n",
       "    <tr>\n",
       "      <th>min</th>\n",
       "      <td>-23.283899</td>\n",
       "      <td>-16.393499</td>\n",
       "      <td>-31.413000</td>\n",
       "      <td>-34.035198</td>\n",
       "      <td>-12.039100</td>\n",
       "    </tr>\n",
       "    <tr>\n",
       "      <th>25%</th>\n",
       "      <td>-3.983725</td>\n",
       "      <td>-3.757625</td>\n",
       "      <td>-5.453275</td>\n",
       "      <td>-7.018650</td>\n",
       "      <td>-2.132450</td>\n",
       "    </tr>\n",
       "    <tr>\n",
       "      <th>50%</th>\n",
       "      <td>-0.163850</td>\n",
       "      <td>-0.231700</td>\n",
       "      <td>-0.056150</td>\n",
       "      <td>-0.149350</td>\n",
       "      <td>-0.030450</td>\n",
       "    </tr>\n",
       "    <tr>\n",
       "      <th>75%</th>\n",
       "      <td>4.647150</td>\n",
       "      <td>3.750525</td>\n",
       "      <td>5.661125</td>\n",
       "      <td>6.799800</td>\n",
       "      <td>2.028625</td>\n",
       "    </tr>\n",
       "    <tr>\n",
       "      <th>max</th>\n",
       "      <td>21.406601</td>\n",
       "      <td>17.258301</td>\n",
       "      <td>30.317801</td>\n",
       "      <td>35.802799</td>\n",
       "      <td>10.867300</td>\n",
       "    </tr>\n",
       "  </tbody>\n",
       "</table>\n",
       "</div>"
      ],
      "text/plain": [
       "             RIDGE          NUB        CRACK       WEIGHT       target\n",
       "count  3848.000000  3848.000000  3848.000000  3848.000000  3848.000000\n",
       "mean     -0.003637     0.000160     0.003103     0.004237     0.000166\n",
       "std       6.398237     5.186311     7.875199    10.043092     3.144395\n",
       "min     -23.283899   -16.393499   -31.413000   -34.035198   -12.039100\n",
       "25%      -3.983725    -3.757625    -5.453275    -7.018650    -2.132450\n",
       "50%      -0.163850    -0.231700    -0.056150    -0.149350    -0.030450\n",
       "75%       4.647150     3.750525     5.661125     6.799800     2.028625\n",
       "max      21.406601    17.258301    30.317801    35.802799    10.867300"
      ]
     },
     "execution_count": 10,
     "metadata": {},
     "output_type": "execute_result"
    }
   ],
   "source": [
    "### Put your code here:\n",
    "pollen.describe()\n",
    "\n"
   ]
  },
  {
   "cell_type": "code",
   "execution_count": 47,
   "id": "5cacf7a5-ce8d-4650-8dd8-8d59a7a0c29c",
   "metadata": {},
   "outputs": [
    {
     "name": "stdout",
     "output_type": "stream",
     "text": [
      "ridge max, min, mean: 21.406601, -23.283899, -0.003637 weight max, min, mean: 35.802799\t, -34.035198, \t0.004237\n"
     ]
    }
   ],
   "source": [
    "print('ridge max, min, mean: 21.406601, -23.283899, -0.003637','weight max, min, mean: 35.802799\t, -34.035198, \t0.004237')"
   ]
  },
  {
   "cell_type": "code",
   "execution_count": 46,
   "id": "9f97ecc2-5ff7-453f-9a49-ae10bc873186",
   "metadata": {},
   "outputs": [],
   "source": [
    "#print(pollen['RIDGE'].max,pollen['RIDGE'].min,pollen['RIDGE'].mean,pollen['WEIGHT'].max,pollen['WEIGHT'].min,pollen['WEIGHT'].mean)"
   ]
  },
  {
   "cell_type": "markdown",
   "id": "d86e79ad",
   "metadata": {},
   "source": [
    "&#9989; **Question 2.3 use a function to determine the total number of rows in the data set (2 points)**: \n",
    "\n"
   ]
  },
  {
   "cell_type": "code",
   "execution_count": 48,
   "id": "7fa9bffb",
   "metadata": {},
   "outputs": [
    {
     "data": {
      "text/plain": [
       "3848"
      ]
     },
     "execution_count": 48,
     "metadata": {},
     "output_type": "execute_result"
    }
   ],
   "source": [
    "### Put your code here:\n",
    "len(pollen)\n",
    "\n",
    "def get_rows(df):\n",
    "    rows = len(df)\n",
    "    return rows\n",
    "\n",
    "get_rows(pollen)\n"
   ]
  },
  {
   "cell_type": "markdown",
   "id": "2e90d1bd",
   "metadata": {},
   "source": [
    "&#9989; **Question 2.4 Create a new dataframe that contains only rows that have a WEIGHT value greater than 2. How many rows are in this new dataframe? (2 points)**: \n",
    "\n"
   ]
  },
  {
   "cell_type": "code",
   "execution_count": 55,
   "id": "b777a6af",
   "metadata": {},
   "outputs": [
    {
     "name": "stdout",
     "output_type": "stream",
     "text": [
      "    RIDGE     NUB   CRACK   WEIGHT   target\n",
      "0 -2.3482  3.6314  5.0289  10.8721  -1.3852\n",
      "2 -2.5245 -6.8633 -2.8037   8.4631  -3.4126\n",
      "3  5.7523 -6.5091 -5.1510   4.3480 -10.3261\n",
      "6 -3.6049  4.6081  6.5540   5.9773   4.0404\n",
      "9 -9.0292  2.9723  3.6759  13.8820   4.2106\n"
     ]
    },
    {
     "data": {
      "text/plain": [
       "1521"
      ]
     },
     "execution_count": 55,
     "metadata": {},
     "output_type": "execute_result"
    }
   ],
   "source": [
    "### Put your code here\n",
    "pollenMask = pollen['WEIGHT']>2\n",
    "pollenHeavy = pollen[pollenMask]  #[['WEIGHT']]\n",
    "print(pollenHeavy.head())\n",
    "get_rows(pollenHeavy)"
   ]
  },
  {
   "cell_type": "markdown",
   "id": "322f493d-b843-44da-b41d-62e2357d21ec",
   "metadata": {},
   "source": [
    "> **1521**"
   ]
  },
  {
   "cell_type": "markdown",
   "id": "42fe8ccb",
   "metadata": {},
   "source": [
    "&#9989; **Question 2.5 Create a scatter plot of RIDGE vs. WEIGHT using the new dataframe you created in the last question. Be sure to include all appropriate labels. (2 points)**: \n"
   ]
  },
  {
   "cell_type": "code",
   "execution_count": 61,
   "id": "97b35785",
   "metadata": {},
   "outputs": [
    {
     "data": {
      "text/plain": [
       "Text(0, 0.5, 'Weight')"
      ]
     },
     "execution_count": 61,
     "metadata": {},
     "output_type": "execute_result"
    },
    {
     "data": {
      "image/png": "[encoded data removed]",
      "text/plain": [
       "<Figure size 640x480 with 1 Axes>"
      ]
     },
     "metadata": {},
     "output_type": "display_data"
    }
   ],
   "source": [
    "### Put your code here\n",
    "import matplotlib.pyplot as plt\n",
    "plt.scatter(pollenHeavy['RIDGE'],pollenHeavy['WEIGHT'])\n",
    "plt.title('Heavy Pollen Ridge x Weight (units unknown)')\n",
    "plt.xlabel('Ridge')\n",
    "plt.ylabel('Weight')"
   ]
  },
  {
   "cell_type": "markdown",
   "id": "9732c055",
   "metadata": {},
   "source": [
    "&#9989; **Question 2.6 Record any observations from the scatter plot above. Are there any patterns or trends? (2 points)**: \n"
   ]
  },
  {
   "cell_type": "markdown",
   "id": "a2a8ac76-398f-4268-b5e3-2ea0c5e55248",
   "metadata": {},
   "source": [
    "> **moderately strong negative correlation between ridge and weight.  The lower the ridge, the higher the weight on average**\n",
    "\n"
   ]
  },
  {
   "cell_type": "markdown",
   "id": "c7fb929b",
   "metadata": {
    "jp-MarkdownHeadingCollapsed": true,
    "tags": []
   },
   "source": [
    "---\n",
    "### &#128721; STOP (1 point)\n",
    "**Pause to commit your changes to your Git repository!**\n",
    "\n",
    "Take a moment to save your notebook, commit  and push the changes to your Git repository.\n",
    "\n",
    "---"
   ]
  },
  {
   "cell_type": "markdown",
   "id": "73b28e5a",
   "metadata": {
    "tags": []
   },
   "source": [
    "## Part 3: Working with a new Python package. (10 points)\n",
    "\n",
    "In this section, we will be working with a new Python package called SymPy. This section will focus on your ability to explore and utilize documentation for a Python package you might not be familiar with. You can find the documentation here: https://docs.sympy.org/latest/index.html "
   ]
  },
  {
   "cell_type": "markdown",
   "id": "fac01f60",
   "metadata": {},
   "source": [
    "&#9989; **Question 3.1 Use pip install to install the SymPy package for Jupyter. Include the code you used to install it here. Remember to include the --user flag if using JupyterHub. If you already have SymPy installed, indicate the code you would use to install it. (2 points):** "
   ]
  },
  {
   "cell_type": "code",
   "execution_count": 62,
   "id": "cc86c046",
   "metadata": {},
   "outputs": [
    {
     "name": "stdout",
     "output_type": "stream",
     "text": [
      "Defaulting to user installation because normal site-packages is not writeable\n",
      "Requirement already satisfied: SymPy in /opt/miniconda3/lib/python3.11/site-packages (1.12)\n",
      "Requirement already satisfied: mpmath>=0.19 in /opt/miniconda3/lib/python3.11/site-packages (from SymPy) (1.3.0)\n"
     ]
    }
   ],
   "source": [
    "# Put your code here\n",
    "!pip install SymPy"
   ]
  },
  {
   "cell_type": "code",
   "execution_count": 64,
   "id": "bf78cbd9-5dcb-4d3d-99fe-b8eddbfdad84",
   "metadata": {},
   "outputs": [],
   "source": [
    "#!curl https://docs.sympy.org/latest/index.html -O"
   ]
  },
  {
   "cell_type": "markdown",
   "id": "6890c0b6",
   "metadata": {},
   "source": [
    "&#9989; **Question 3.2 Following the documentation, import the SymPy library and create 'symbols' for 'a', 'b', and 'c' and store them into three unique variables. (2 points):** \n"
   ]
  },
  {
   "cell_type": "code",
   "execution_count": 90,
   "id": "8901b66f",
   "metadata": {},
   "outputs": [
    {
     "data": {
      "text/latex": [
       "$\\displaystyle x^{6}$"
      ],
      "text/plain": [
       "x**6"
      ]
     },
     "execution_count": 90,
     "metadata": {},
     "output_type": "execute_result"
    }
   ],
   "source": [
    "# Put your code here\n",
    "import sympy as sym\n",
    "import sys\n",
    "import mpmath\n",
    "from sympy import Symbol, symbols\n",
    "xpos = Symbol('xpos', positive=True)\n",
    "xneg = Symbol('xneg', negative=True)\n",
    "x = Symbol('x')\n",
    "y = Symbol('y')\n",
    "z = Symbol('z')\n",
    "sys.modules['sympy.mpmath'] = mpmath\n",
    "#x, y, z = Symbol('x y z')\n",
    "sym.integrate(6 * x ** 5, x)\n",
    "\n",
    "\n"
   ]
  },
  {
   "cell_type": "markdown",
   "id": "caa1c580",
   "metadata": {},
   "source": [
    "&#9989; **Question 3.3 now using the symbols you created in Question 3.2 generate and display the equation $(a+b)/c$ (2 points):** \n"
   ]
  },
  {
   "cell_type": "code",
   "execution_count": 106,
   "id": "8a463a0e-85cd-4da3-8eda-ded1b8db08e3",
   "metadata": {},
   "outputs": [
    {
     "data": {
      "text/latex": [
       "$\\displaystyle 1 = \\frac{a + b}{c}$"
      ],
      "text/plain": [
       "Eq(1, (a + b)/c)"
      ]
     },
     "metadata": {},
     "output_type": "display_data"
    },
    {
     "data": {
      "text/latex": [
       "$\\displaystyle \\operatorname{Expr}\\left(\\frac{a + b}{c}\\right)$"
      ],
      "text/plain": [
       "Expr((a + b)/c)"
      ]
     },
     "metadata": {},
     "output_type": "display_data"
    },
    {
     "data": {
      "text/plain": [
       "(None, None)"
      ]
     },
     "execution_count": 106,
     "metadata": {},
     "output_type": "execute_result"
    }
   ],
   "source": [
    "# this code snippet is from a jupyterlab cell\n",
    "import sympy as sym\n",
    "\n",
    "a, b, c = sym.symbols('a,b,c')\n",
    "x       = x.subs({x: 1})\n",
    "x       = sym.UnevaluatedExpr(x)\n",
    "eq      = sym.Eq(x,(a + b)/c)\n",
    "exp      = sym.Expr((a + b)/c)\n",
    "display(eq), display(exp)\n",
    "\n",
    "#cite https://stackoverflow.com/questions/40806591/how-do-i-display-a-full-expression-in-sympy"
   ]
  },
  {
   "cell_type": "code",
   "execution_count": null,
   "id": "54e8f1aa",
   "metadata": {},
   "outputs": [],
   "source": [
    "\n"
   ]
  },
  {
   "cell_type": "markdown",
   "id": "d4c7f3d3",
   "metadata": {},
   "source": [
    "&#9989; **Question 3.4 Now create a string containing the following equation $(x+3)*(x+1)/y$ and then use the 'sympify' function to convert it into a symbolic formula. Finally, use SymPy to 'expand' the function. (4 points):** \n"
   ]
  },
  {
   "cell_type": "code",
   "execution_count": 126,
   "id": "b6dc5057",
   "metadata": {},
   "outputs": [
    {
     "data": {
      "text/latex": [
       "$\\displaystyle (x+3)*(x+1)/y$"
      ],
      "text/plain": [
       "(x+3)*(x+1)/y"
      ]
     },
     "execution_count": 126,
     "metadata": {},
     "output_type": "execute_result"
    }
   ],
   "source": [
    "# Put your code here\n",
    "string = '(x+3)*(x+1)/y'\n",
    "funct= sym.symbols(string)\n",
    "funct\n",
    "sym.expand(funct)\n",
    "\n",
    "#sym.expand?"
   ]
  },
  {
   "cell_type": "markdown",
   "id": "d381baf7",
   "metadata": {
    "jp-MarkdownHeadingCollapsed": true,
    "tags": []
   },
   "source": [
    "---\n",
    "### &#128721; STOP (1 point)\n",
    "**Pause to commit your changes to your Git repository!**\n",
    "\n",
    "Take a moment to save your notebook, commit  and push the changes to your Git repository.\n",
    "\n",
    "---"
   ]
  },
  {
   "cell_type": "markdown",
   "id": "07d450c5",
   "metadata": {},
   "source": [
    "## Part 4: Writing a simple Python class (9 points)"
   ]
  },
  {
   "cell_type": "markdown",
   "id": "8c264b75",
   "metadata": {},
   "source": [
    "&#9989; **Question 4.1 In this part we will create an athlete class to track the calories burned vs calorie intake. (5 points):** \n",
    "\n",
    "Use the starter code below and complete it by doing the folowing: \n",
    "\n",
    "> 1. In the init function initialize an exercise variable to 0 along with an intakeCalories variable to 0.\n",
    "> 2. create a workout function that takes as input the number of hours exercised and adds it to the exercise variable\n",
    "> 3. create an eat function that takes in the number of calories eaten in a meal and adds it to the intakeCalories variablle\n",
    "> 4. create a status function that computes the calorie differential (assume each hour of exercise burns 800 calories). Once it computes the differential, depending on the value print one of the following:\n",
    "\n",
    ">  >      * If a calorie deficit, print \"you have a calorie deficit of [deficit amount], you should eat\"\n",
    "\n",
    ">  >      * If deficit=0, therefore perfectly balanced print \"Wow! You are perfectly balancing eating and exercise\"\n",
    "\n",
    ">  >      * If there is a calorie surplus, print \"You have a calorie surplus of [surplus amount], consider exercising [number of hours to balance]\n"
   ]
  },
  {
   "cell_type": "code",
   "execution_count": 136,
   "id": "0c7c0e8c",
   "metadata": {},
   "outputs": [],
   "source": [
    "### Put your code here\n",
    "class Athlete:\n",
    "    def __init__(self):\n",
    "        self.exercise=0\n",
    "        self.intakeCalories=0\n",
    "\n",
    "    def workout(self,hours):\n",
    "        self.exercise = self.exercise + hours\n",
    "        return self.exercise\n",
    "\n",
    "    def eat(self,calories):\n",
    "        self.intakeCalories = self.intakeCalories + calories\n",
    "        return self.intakeCalories\n",
    "\n",
    "    def status(self):\n",
    "        dif = self.intakeCalories - (self.exercise * 800)\n",
    "        \n",
    "        if dif > 0:\n",
    "            print( \"You have a calorie surplus of\",dif, \"consider exercising\", dif/800,'hours to balance')\n",
    "        elif dif < 0:\n",
    "            print( \"You have a calorie deficit of\",dif, 'you should eat')\n",
    "        elif dif == 0:\n",
    "            print (\"Wow! You are perfectly balancing eating and exercise\")\n",
    "        \n"
   ]
  },
  {
   "cell_type": "markdown",
   "id": "cf47f90d",
   "metadata": {},
   "source": [
    "&#9989; **Question 4.2 Now create an athlete object using your athlete class. Then, using the athlete object, have the athlete exercise 3 hours, followed by food intake of 2700 calories. Then use the status function to determine if the athlete has a surplus or deficit. (4 points):** \n"
   ]
  },
  {
   "cell_type": "code",
   "execution_count": 143,
   "id": "3506a66d",
   "metadata": {},
   "outputs": [
    {
     "name": "stdout",
     "output_type": "stream",
     "text": [
      "You have a calorie surplus of 300 consider exercising 0.375 hours to balance\n"
     ]
    }
   ],
   "source": [
    "### Put your code here\n",
    "Bob = Athlete()\n",
    "Bob.eat(2700)\n",
    "Bob.workout(3)\n",
    "Bob.status()"
   ]
  },
  {
   "cell_type": "markdown",
   "id": "c159cf9a",
   "metadata": {
    "tags": []
   },
   "source": [
    "---\n",
    "### &#128721; STOP (1 point)\n",
    "**Pause to commit your changes to your Git repository!**\n",
    "\n",
    "Take a moment to save your notebook, commit  and push the changes to your Git repository.\n",
    "\n",
    "---"
   ]
  },
  {
   "cell_type": "markdown",
   "id": "755cce02-7247-4e83-8c8f-9d3355f1512a",
   "metadata": {},
   "source": [
    "## Part 5: Writing a simple Python code using different programming paradigms (11 points)\n",
    "\n",
    "In this section, you will show your ability to use the three different programming paradigms we learned in class (linear, functional, and object-oriented)\n",
    "\n",
    "We will simulate the performance of an investor. At each step, you will need to update the investor's portfolio value based on the specified movement of the stocks they own and display the updated value. Complete the following tasks below, ensuring to display the new value of the account after every step. **Note: There are many possible correct solutions.**\n",
    "\n",
    "> 1. Start the investor with $\\$$20,000. $\\$$10,000 of that is invested in Apple (NASDAQ:AAPL) and the other $\\$$10,000 is invested in Microsoft (NASDAQ:MSFT)\n",
    "> 2. Microsoft announces a deal with OpenAI and the stock rises 10%\n",
    "> 3. Apple announces Apple Intelligence (AI) and the stock rises 2%\n",
    "> 4. Apple releases Apple Intelligence and the technology disappoints. The stock declines 6%\n",
    "> 5. Microsoft gets taken over by a rogue AI agent, the stock drops 90%. Apple investors celebrate, stock rises 5%. "
   ]
  },
  {
   "cell_type": "markdown",
   "id": "565a8282-74af-4ffd-b6cf-0c483cf9588f",
   "metadata": {},
   "source": [
    "&#9989; **Question 5.1 Write code for the above task using linear programming (3 points):** "
   ]
  },
  {
   "cell_type": "code",
   "execution_count": null,
   "id": "4c321a9f-e981-4657-ad7a-c83eaa777bdb",
   "metadata": {},
   "outputs": [],
   "source": [
    "### Put your code here"
   ]
  },
  {
   "cell_type": "markdown",
   "id": "0e6d60bd-78fc-4aad-a488-4dbe6cbf762f",
   "metadata": {},
   "source": [
    "&#9989; **Question 5.2 Write code for the above task using functional programming (3 points):** "
   ]
  },
  {
   "cell_type": "code",
   "execution_count": null,
   "id": "647cf0e9-9009-4cda-909c-0aa8107dff4e",
   "metadata": {},
   "outputs": [],
   "source": [
    "### Put your code here"
   ]
  },
  {
   "cell_type": "markdown",
   "id": "7c98bcff-f743-46c9-937f-e493e92666f5",
   "metadata": {},
   "source": [
    "&#9989; **Question 5.3 Write code for the above task using object-oriented programming (3 points):** "
   ]
  },
  {
   "cell_type": "code",
   "execution_count": null,
   "id": "06556500-bcd9-4f3e-8b26-92fd4db2b945",
   "metadata": {},
   "outputs": [],
   "source": [
    "### Put your code here"
   ]
  },
  {
   "cell_type": "markdown",
   "id": "23fa07a7-a7ae-42bd-8c2b-0378bb299852",
   "metadata": {},
   "source": [
    "&#9989; **Question 5.4 Which of the methods do you feel was the most convenient to achieve this task and why? (2 points):** "
   ]
  },
  {
   "cell_type": "markdown",
   "id": "5e8e38cf-1f3c-4711-b90a-227424e39219",
   "metadata": {},
   "source": [
    "### Put your answer here"
   ]
  },
  {
   "cell_type": "markdown",
   "id": "14435d84-82d4-4ffc-82b9-3188de6c7103",
   "metadata": {},
   "source": [
    "---\n",
    "### &#128721; STOP (1 point)\n",
    "**Pause to commit your changes to your Git repository!**\n",
    "\n",
    "Take a moment to save your notebook, commit  and push the changes to your Git repository.\n",
    "\n",
    "---"
   ]
  },
  {
   "cell_type": "markdown",
   "id": "868efbc9",
   "metadata": {
    "jp-MarkdownHeadingCollapsed": true,
    "tags": []
   },
   "source": [
    "## You're done! Congrats on finishing your CMSE 202 Midterm!\n",
    "\n",
    "Make sure all of your changes to your repository are committed and pushed to GitHub. Also upload a copy of this notebook to the dropbox on D2L in case something went wrong with your repository or if you couldn't get the repository to work."
   ]
  }
 ],
 "metadata": {
  "kernelspec": {
   "display_name": "Python 3.11 (default)",
   "language": "python",
   "name": "python3"
  },
  "language_info": {
   "codemirror_mode": {
    "name": "ipython",
    "version": 3
   },
   "file_extension": ".py",
   "mimetype": "text/x-python",
   "name": "python",
   "nbconvert_exporter": "python",
   "pygments_lexer": "ipython3",
   "version": "3.11.9"
  }
 },
 "nbformat": 4,
 "nbformat_minor": 5
}
