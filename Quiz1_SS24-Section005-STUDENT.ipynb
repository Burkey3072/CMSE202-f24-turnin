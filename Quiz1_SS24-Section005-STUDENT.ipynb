{
 "cells": [
  {
   "cell_type": "markdown",
   "id": "a3c4aa76-23aa-4873-9959-1939a459837e",
   "metadata": {},
   "source": [
    "# CMSE 201: Quiz 1 (Spring 2024 - Section 5) \n",
    "\n",
    "## <p style=\"text-align: right;\"> &#9989; Joseph Burke</p>"
   ]
  },
  {
   "cell_type": "markdown",
   "id": "91c9c720-2656-45a2-af5f-ed692cf0f3ea",
   "metadata": {},
   "source": [
    "## Goals and Instructions\n",
    "\n",
    "The goal of this quiz is to give you the opportunity to test out some of the skills that you've developed thus far this semester. In particular, you'll reflect on what you know about writing code using Python and showcase some of your new programming skills.\n",
    "\n",
    "**Important note about using online resources**: This exam is \"open internet\". That means that you can look up documentation, google how to accomplish certain Python tasks, etc. Being able to effectively use the internet for computational modeling and data science is a very important skill, so we want to make sure you have the opportunity to exercise that skill. **However, the use of any person-to-person communication software is absolutely not acceptable.**\n",
    "\n",
    "**You cannot use ChatGPT or any other artificial intelligence tool. If you do you get 0 points!!!**\n",
    "\n",
    "**Do your own work.** This quiz is designed to give *you* the opportunity to show the instructor what you can do and you should hold yourself accountable for maintaining a high level of academic integrity. Any violation of academic integrity could result in you receiving a zero on the quiz.\n",
    "\n",
    "There are a total of **30 points** possible on this quiz and each part of the quiz can be done independently. **If you get stuck _move on to another part of the quiz to earn some points there!_**\n",
    "\n",
    "![Moira](https://media.giphy.com/media/26gs78HRO8sOuhTkQ/giphy.gif)"
   ]
  },
  {
   "cell_type": "markdown",
   "id": "b3e96d40-da31-48c3-884e-2090a3ff89eb",
   "metadata": {},
   "source": [
    "---\n",
    "<a id=\"toc\"></a>\n",
    "\n",
    "## Table of Contents\n",
    "\n",
    "[Part 0. Academic Integrity Statement](#part_0) (1 point)\n",
    "\n",
    "[Part 1. Variables](#part_1)  (5 points)\n",
    "\n",
    "[Part 2. Lists and Indexing](#part_2)  (4 points)\n",
    "\n",
    "[Part 3. Elementwise operations via loops](#part_3) (14 points)\n",
    "\n",
    "[Part 4. Loops and conditional statements](#part_4) (6 points)"
   ]
  },
  {
   "cell_type": "code",
   "execution_count": 8,
   "id": "350b24e1-b778-459b-ab33-c18daf09c22b",
   "metadata": {},
   "outputs": [
    {
     "name": "stdout",
     "output_type": "stream",
     "text": [
      "The total number of points is : 30\n"
     ]
    }
   ],
   "source": [
    "points_list = [1, 5, 4, 14, 6 ]\n",
    "\n",
    "print(f\"The total number of points is : {sum(points_list)}\")"
   ]
  },
  {
   "cell_type": "markdown",
   "id": "3e97893b-bc8d-451a-9798-365ca0a70c87",
   "metadata": {},
   "source": [
    "---\n",
    "<a id=\"part_0\"></a>\n",
    "\n",
    "# Academic integrity statement (1 points)\n",
    "\n",
    "[Back to Top](#toc)\n",
    "\n",
    "In the markdown cell below, put your personal academic integrity statement. By including this statement, you are confirming that you are submitting this as your own work and not that of someone else.\n"
   ]
  },
  {
   "cell_type": "markdown",
   "id": "bf744a00-192a-40b2-b89b-c2cc0d716286",
   "metadata": {},
   "source": [
    "<font size=6 color=\"#009600\">&#9998;</font> *I, `_Joseph Burke_`, commit to `_ upholding all that is expected of a student of Michigan State University on the grounds of honesty and integrity in the classroom.  I'm greatly excited and thankful for my time at MSU and all the opportunities and clubs I'm exposed to and am apart of, and I hope to stay committed and helpful to those groups as much as possible.  I pledge to stay on top of my work and to source everything I use properly and ethically. I will also advocate for the ethical use of data and the distrubution of clear and honest information, and to educate as many people as I can about the effects of bias in data and algarithms. I will reflect the truth in all of my work and will not spread false information.  I will follow the MSU Policy throughout my entire time here, do and turn in  my own work, and grow from the effort I put into this course.   _`*"
   ]
  },
  {
   "cell_type": "markdown",
   "id": "d342f1a0-b964-4872-9a4b-fa2fd2e7fc56",
   "metadata": {},
   "source": [
    "---\n",
    "<a id=\"part_1\"></a>\n",
    "\n",
    "# Part 1. Variables (5 points)\n",
    "[Back to Top](#toc)\n",
    "\n",
    "In the first cell below, define **two** variables: \n",
    "- one variable holds the name of a course you are taking this semester\n",
    "- the other variable holds an integer that is the number of students in that course (a guess is okay).\n",
    "\n",
    "In the second cell below, write a print statement that prints a complete sentence using your two variables defined in the first cell. \n"
   ]
  },
  {
   "cell_type": "code",
   "execution_count": 2,
   "id": "b0b75a79",
   "metadata": {
    "tags": []
   },
   "outputs": [],
   "source": [
    "# define your variables here\n",
    "course = 'CMSE 201'\n",
    "students = 63"
   ]
  },
  {
   "cell_type": "code",
   "execution_count": 3,
   "id": "49c9dd40",
   "metadata": {
    "tags": []
   },
   "outputs": [
    {
     "name": "stdout",
     "output_type": "stream",
     "text": [
      "I am taking CMSE 201 with 63 students.\n"
     ]
    }
   ],
   "source": [
    "# write your print statement here\n",
    "print(\"I am taking\",course,\"with\",students,\"students.\")"
   ]
  },
  {
   "cell_type": "markdown",
   "id": "a7d37a3f-0009-4baa-8478-eb15c620fbd8",
   "metadata": {},
   "source": [
    "---\n",
    "<a id=\"part_2\"></a>\n",
    "\n",
    "# Part 2. Lists and Indexing (4 points)\n",
    "[Back to top](#toc)\n",
    "\n",
    "You are about to run out of your apartment to get some groceries. You have a lot of stuff on your table. Run the cell below to create the list of all the stuff on your table."
   ]
  },
  {
   "cell_type": "code",
   "execution_count": 4,
   "id": "9e6ed06b",
   "metadata": {
    "tags": []
   },
   "outputs": [],
   "source": [
    "# Run this cell and don't change anything!\n",
    "my_stuff = [   \n",
    "    \"cell phone\",\n",
    "    \"hammer\",\n",
    "    \"keys\",\n",
    "    \"laptop\",\n",
    "    \"mug\",\n",
    "    \"camera\",\n",
    "    \"wallet\"\n",
    "]"
   ]
  },
  {
   "cell_type": "markdown",
   "id": "e71afd60",
   "metadata": {},
   "source": [
    "You just need to pick up your phone, keys, and wallet. In the cell below, create a new list called `pocket` that contains the relevant items from the existing list `my_stuff` above. Then print out the new list. Note: **you must use indices to extract the items from `my_stuff`, not by copy-and-pasting the text**.  "
   ]
  },
  {
   "cell_type": "code",
   "execution_count": 12,
   "id": "abee1bfa-7c5c-4384-8864-a6ec952b7289",
   "metadata": {
    "tags": []
   },
   "outputs": [
    {
     "name": "stdout",
     "output_type": "stream",
     "text": [
      "['cell phone', 'keys', 'wallet']\n"
     ]
    }
   ],
   "source": [
    "# put your code here\n",
    "pocket = []\n",
    "pocket.append(my_stuff[0])\n",
    "pocket.append(my_stuff[2])\n",
    "pocket.append(my_stuff[6])\n",
    "print(pocket)\n"
   ]
  },
  {
   "cell_type": "markdown",
   "id": "7e4b3775-a4c4-4686-a303-f286b78595b3",
   "metadata": {},
   "source": [
    "---\n",
    "<a id=\"part_3\"></a>\n",
    "\n",
    "# Part 3. Elementwise operations via loops (14 points): \n",
    "[Back to Top](#toc)\n",
    "\n",
    "&#9989;&nbsp; **Part 3.1 (9 points):**\n",
    "\n",
    "Now you have arrived at the grocery store. You look up your shopping list which is shown in the cell below with the types of food that you want to buy (variable `food_type`) and how many you want for each type (variable `food_count`, e.g., you want to buy two onions). You also looked up the unit price for each type of food. Before you check out, you want to calculate the total amount of money you need to spend and make sure you have brought enough with you.\n",
    "\n",
    "In the cell below, write a for-loop to calculate the total amount of money that you need to spend and print it out. \n"
   ]
  },
  {
   "cell_type": "code",
   "execution_count": 14,
   "id": "a7677abd-6033-4300-ad68-6042557b8f7c",
   "metadata": {
    "tags": []
   },
   "outputs": [
    {
     "name": "stdout",
     "output_type": "stream",
     "text": [
      "avocados 5.97\n",
      "bananas 0.3\n",
      "onions 2.98\n",
      "carrots 2.52\n",
      "$ 11.77\n"
     ]
    }
   ],
   "source": [
    "# your shopping list\n",
    "food_type = [\"avocado\",\"banana\",\"onion\",\"carrot\"]\n",
    "food_count = [3,1,2,4]\n",
    "\n",
    "# the unit price\n",
    "price = [1.99, 0.3, 1.49, 0.63]\n",
    "\n",
    "# Put your code here\n",
    "total_price=[]\n",
    "for i in range(len(food_type)):\n",
    "    item = food_type[i]+'s'\n",
    "    food_price = food_count[i]*price[i]\n",
    "    print(item,food_price)\n",
    "    total_price.append(food_price)\n",
    "#print(total_price)\n",
    "print('$',sum(total_price))\n"
   ]
  },
  {
   "cell_type": "markdown",
   "id": "4b4e61c4",
   "metadata": {},
   "source": [
    "&#9989;&nbsp; **Part 3.2 (5 points):** Answer the following questions in the cell below\n",
    "\n",
    "1. Is your code \"**looping by index**\" or \"**looping by value**\"? (1 point) \n",
    "2. Do you think you could you solve the problem using the other kind of `for` loop? Why or why not? (4 points)"
   ]
  },
  {
   "cell_type": "markdown",
   "id": "aceff525",
   "metadata": {},
   "source": [
    "<font size=6 color=\"#009600\">&#9998;</font>  *looping by index.  It is indexing by integer values that increase by 1 to the max length of the list food_type.  It would not be possible to solve the problem with another for loop, as we have to index multiple lists by the same list at the same time, and we would not be able to do that if we indexed by value*"
   ]
  },
  {
   "cell_type": "markdown",
   "id": "49be1b35-f7c0-4e3b-91de-85b276463c32",
   "metadata": {},
   "source": [
    "---\n",
    "<a id=\"part_4\"></a>\n",
    "\n",
    "# Part 4. Debugging (6 points): \n",
    "[Back to Top](#toc)\n",
    "\n",
    "Now you arrive home with your grocery bag with everything mixed up. You wonder if you actually bought the right number of carrots. You write the code below to count the carrots but it's throwing an error!\n"
   ]
  },
  {
   "cell_type": "code",
   "execution_count": 7,
   "id": "bd589f8f-4f4a-48d8-bd0f-d31e9ecd68a5",
   "metadata": {
    "tags": []
   },
   "outputs": [
    {
     "ename": "TypeError",
     "evalue": "'<' not supported between instances of 'int' and 'list'",
     "output_type": "error",
     "traceback": [
      "\u001b[1;31m---------------------------------------------------------------------------\u001b[0m",
      "\u001b[1;31mTypeError\u001b[0m                                 Traceback (most recent call last)",
      "Cell \u001b[1;32mIn[7], line 10\u001b[0m\n\u001b[0;32m      7\u001b[0m carrot_count \u001b[38;5;241m=\u001b[39m \u001b[38;5;241m0\u001b[39m\n\u001b[0;32m      9\u001b[0m item_count \u001b[38;5;241m=\u001b[39m \u001b[38;5;241m0\u001b[39m\n\u001b[1;32m---> 10\u001b[0m \u001b[38;5;28;01mwhile\u001b[39;00m item_count \u001b[38;5;241m<\u001b[39m grocery_bag:\n\u001b[0;32m     12\u001b[0m     \u001b[38;5;28;01mif\u001b[39;00m grocery_bag[item_count] \u001b[38;5;241m==\u001b[39m \u001b[38;5;124m\"\u001b[39m\u001b[38;5;124mcarrot\u001b[39m\u001b[38;5;124m\"\u001b[39m:\n\u001b[0;32m     13\u001b[0m         carrot_count \u001b[38;5;241m+\u001b[39m\u001b[38;5;241m=\u001b[39m\u001b[38;5;241m1\u001b[39m\n",
      "\u001b[1;31mTypeError\u001b[0m: '<' not supported between instances of 'int' and 'list'"
     ]
    }
   ],
   "source": [
    "# here's your full grocery bag\n",
    "grocery_bag = [\"onion\",\"carrot\",\"avocado\",\"onion\",\"banana\",\"carrot\",\"carrot\",\"avocado\",\"carrot\",\"avocado\",\"carrot\"]\n",
    "\n",
    "carrot_expect = 4 # expected number of carrots\n",
    "\n",
    "\n",
    "carrot_count = 0\n",
    "\n",
    "item_count = 0\n",
    "while item_count < grocery_bag:\n",
    "    \n",
    "    if grocery_bag[item_count] == \"carrot\":\n",
    "        carrot_count +=1\n",
    "        \n",
    "    item_count += 1\n",
    "\n",
    "if carrot_count == carrot_expect:\n",
    "    print(\"I got the right number of carrots!\")\n",
    "else:\n",
    "    print(\"Why do I have\", carrot_count, \"carrots?\")\n"
   ]
  },
  {
   "cell_type": "markdown",
   "id": "75a65704-30f7-4059-b09d-eb662b570864",
   "metadata": {},
   "source": [
    "&#9989;&nbsp; **Part 4.1 (4 points):** In the cell below, answer the following questions\n",
    "\n",
    "1. A plain english description of the error in the code and why you get the error. (2 points)\n",
    "2. How would you fix this bug ? (2 points) "
   ]
  },
  {
   "cell_type": "markdown",
   "id": "bd00855d-f663-4904-8510-04d1b2dbdd1a",
   "metadata": {},
   "source": [
    "<font size=6 color=\"#009600\">&#9998;</font>  *We cannot do mathematical operators between numbers and lists!  The code doesn't understand if 0 is less than ['carrot','onion'] for example because they are not comparable.  I would fix the bug by having item_count compare to the length of the list grocery_bag, which is an integer.*"
   ]
  },
  {
   "cell_type": "markdown",
   "id": "1b7c2154",
   "metadata": {},
   "source": [
    "&#9989;&nbsp; **Part 4.2 (2 points):** Write your fixed code in the cell below. (2 points)"
   ]
  },
  {
   "cell_type": "code",
   "execution_count": null,
   "id": "daf0fbe5",
   "metadata": {
    "tags": []
   },
   "outputs": [],
   "source": [
    "# put your code here\n",
    "# here's your full grocery bag\n",
    "grocery_bag = [\"onion\",\"carrot\",\"avocado\",\"onion\",\"banana\",\"carrot\",\"carrot\",\"avocado\",\"carrot\",\"avocado\",\"carrot\"]\n",
    "\n",
    "carrot_expect = 4 # expected number of carrots\n",
    "\n",
    "\n",
    "carrot_count = 0\n",
    "\n",
    "item_count = 0\n",
    "while item_count < len(grocery_bag):\n",
    "    \n",
    "    if grocery_bag[item_count] == \"carrot\":\n",
    "        carrot_count +=1\n",
    "        \n",
    "    item_count += 1\n",
    "\n",
    "if carrot_count == carrot_expect:\n",
    "    print(\"I got the right number of carrots!\")\n",
    "else:\n",
    "    print(\"Why do I have\", carrot_count, \"carrots?\")"
   ]
  },
  {
   "cell_type": "markdown",
   "id": "7febf615-5e94-44c0-8426-e637db906521",
   "metadata": {},
   "source": [
    "---\n",
    "\n",
    "# Congratulations, you're done!\n",
    "\n",
    "Submit this quiz by uploading it to the course Desire2Learn web page.  \n",
    "\n",
    "Go to the **Quizzes** section, find the submission folder link for **Quiz 01**, and upload it there.\n",
    "\n",
    "\n",
    "![Moira2](https://media.giphy.com/media/d1E2HnwywoTkES08/giphy.gif)"
   ]
  },
  {
   "cell_type": "markdown",
   "id": "d980fbdf-9a5b-4eff-84b8-8c9529ea7dcc",
   "metadata": {},
   "source": [
    "&#169; Copyright 2023,  Department of Computational Mathematics, Science and Engineering at Michigan State University."
   ]
  }
 ],
 "metadata": {
  "kernelspec": {
   "display_name": "Python 3 (ipykernel)",
   "language": "python",
   "name": "python3"
  },
  "language_info": {
   "codemirror_mode": {
    "name": "ipython",
    "version": 3
   },
   "file_extension": ".py",
   "mimetype": "text/x-python",
   "name": "python",
   "nbconvert_exporter": "python",
   "pygments_lexer": "ipython3",
   "version": "3.11.5"
  }
 },
 "nbformat": 4,
 "nbformat_minor": 5
}
