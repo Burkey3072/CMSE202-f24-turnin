{
 "cells": [
  {
   "cell_type": "markdown",
   "id": "89e168d0",
   "metadata": {},
   "source": [
    "# Day 24 In-class Assignment: Project Work Day "
   ]
  },
  {
   "cell_type": "markdown",
   "id": "c674d63b",
   "metadata": {},
   "source": [
    "### <p style=\"text-align: right;\"> &#9989; Put your name here.</p>\n",
    "\n",
    "#### <p style=\"text-align: right;\"> &#9989; Put your group member names here.</p>"
   ]
  },
  {
   "cell_type": "markdown",
   "id": "d1d79f7d",
   "metadata": {},
   "source": [
    "## Goals of this assignment\n",
    "\n",
    "The primary goal of this assignment is to share your project draft with your group members, provide feedback for their projects, and spend some time working on your project.\n",
    "\n",
    "\n",
    "## Assignment instructions\n",
    "\n",
    "Follow the instructions below to fill out this notebook. Upload the assignment to D2L at the end of class."
   ]
  },
  {
   "cell_type": "markdown",
   "id": "871ce230",
   "metadata": {},
   "source": [
    "---\n",
    "## Primary task for today: sharing project drafts and recording feedback\n",
    "\n",
    "**For each group member go through the following process:**\n",
    "\n",
    "**Step 1:** Take ~4 minutes to present your slides to your group\n",
    "\n",
    "**Step 2:** After each presentation, give folks a couple of minutes to record their thoughts and fill out answers to the following questions (using the markdown cell template below):\n",
    "\n",
    "1. Highlight one strength of their work so far\n",
    "2. Identify one area for growth in their project\n",
    "3. Provide at least one question you have about their project and would like to know more about.\n",
    "\n",
    "Take care to make sure you are providing constructive, actionable feedback to your peers to help them improve their projects!\n",
    "\n",
    "**Step 3:** After folks have a chance to synthesize/record their thoughts, take a few minutes to go around and share your thoughts with the presenter.\n",
    "\n",
    "---"
   ]
  },
  {
   "cell_type": "markdown",
   "id": "b798a068",
   "metadata": {},
   "source": [
    "#### Suggestion before you get started, make copies of the provided cell below to make sure you have one for each group member!"
   ]
  },
  {
   "cell_type": "markdown",
   "id": "c60bcb1a",
   "metadata": {},
   "source": [
    "### Group Member: *McKenna*\n",
    "\n",
    "1. Highlight one strength of their work so far\n",
    "    * _Its awesome and humanitarian and I loved learning about whales and about how she's overcome so many challenges _\n",
    "2. Identify one area for growth in their project\n",
    "    * _Visualization_  \n",
    "3. Provide at least one question you have about their project and would like to know more about.\n",
    "    * _I'm very interested in the mapping software she's found and I hope it works out for graphing_   "
   ]
  },
  {
   "cell_type": "markdown",
   "id": "69290683",
   "metadata": {},
   "source": [
    "**Copy and paste the cells for additional group members!**\n",
    ".\n",
    ".\n",
    ".\n",
    ".\n",
    "."
   ]
  },
  {
   "cell_type": "markdown",
   "id": "953f479f-5cdd-421c-8591-b4f7c118b403",
   "metadata": {},
   "source": [
    "### Group Member: *Alexa*\n",
    "\n",
    "1. Highlight one strength of their work so far\n",
    "    * _I love basketball and liked learning about what parameters were importnat in winning the NCAA bracket tournament_\n",
    "2. Identify one area for growth in their project\n",
    "    * _Could create more models and show the audience correlations_  \n",
    "3. Provide at least one question you have about their project and would like to know more about.\n",
    "    * _I would love to see the models and see how each stat she has correlates_   "
   ]
  },
  {
   "cell_type": "markdown",
   "id": "56d767a1-b48d-422e-ac60-aa794fa53d75",
   "metadata": {},
   "source": [
    "### Group Member: *Westley*\n",
    "\n",
    "1. Highlight one strength of their work so far\n",
    "    * _I'm fascinated by his in depth research into the area's crime rates and graphing the correlation between income and crime in the area _\n",
    "2. Identify one area for growth in their project\n",
    "    * _Could have more local areas or more statistics to look at_  \n",
    "3. Provide at least one question you have about their project and would like to know more about.\n",
    "    * _find out if negative correlation indicates inverse, or no correlation_   "
   ]
  },
  {
   "cell_type": "markdown",
   "id": "a3459792",
   "metadata": {},
   "source": [
    "---\n",
    "---\n",
    "## Recording the feedback you receive from your peers\n",
    "\n",
    "**You may wish to use this cell to record some of the feedback you receive from your peers.** OR, you could ask for folks to send your the feedback they wrote!\n",
    "\n",
    "*Show some of the absolute data, make scoring model*"
   ]
  },
  {
   "cell_type": "markdown",
   "id": "e30f21c7",
   "metadata": {},
   "source": [
    "---\n",
    "---\n",
    "## After everyone shares...\n",
    "\n",
    "### Submission of Feedback\n",
    "\n",
    "When everyone is finished sharing and feedback has been recorded, upload your notebook to D2L.\n",
    "\n",
    "### Post-class Survey\n",
    "\n",
    "In the post-class survey, provide a sentence or two describing what you worked on in class for your project!\n",
    "\n",
    "---"
   ]
  },
  {
   "cell_type": "markdown",
   "id": "954a4eb6",
   "metadata": {},
   "source": [
    "## Assignment wrapup\n",
    "\n",
    "Please fill out the form that appears when you run the code below. **You must completely fill this out in order to receive credit for the assignment!** "
   ]
  },
  {
   "cell_type": "code",
   "execution_count": 1,
   "id": "ef5db08e",
   "metadata": {
    "tags": []
   },
   "outputs": [
    {
     "data": {
      "text/html": [
       "\n",
       "<iframe \n",
       "\tsrc=\"https://cmse.msu.edu/cmse201-ic-survey\" \n",
       "\twidth=\"800px\" \n",
       "\theight=\"600px\" \n",
       "\tframeborder=\"0\" \n",
       "\tmarginheight=\"0\" \n",
       "\tmarginwidth=\"0\">\n",
       "\tLoading...\n",
       "</iframe>\n"
      ],
      "text/plain": [
       "<IPython.core.display.HTML object>"
      ]
     },
     "execution_count": 1,
     "metadata": {},
     "output_type": "execute_result"
    }
   ],
   "source": [
    "from IPython.display import HTML\n",
    "HTML(\n",
    "\"\"\"\n",
    "<iframe \n",
    "\tsrc=\"https://cmse.msu.edu/cmse201-ic-survey\" \n",
    "\twidth=\"800px\" \n",
    "\theight=\"600px\" \n",
    "\tframeborder=\"0\" \n",
    "\tmarginheight=\"0\" \n",
    "\tmarginwidth=\"0\">\n",
    "\tLoading...\n",
    "</iframe>\n",
    "\"\"\"\n",
    ")"
   ]
  },
  {
   "cell_type": "markdown",
   "id": "2c984a59",
   "metadata": {},
   "source": [
    "## Congratulations, you're done!\n",
    "\n",
    "Submit this assignment by uploading your notebook to the course Desire2Learn web page.  Go to the \"In-Class Assignments\" folder, find the appropriate submission link, and upload everything there. Make sure your name is on it!"
   ]
  }
 ],
 "metadata": {
  "kernelspec": {
   "display_name": "Python 3 (ipykernel)",
   "language": "python",
   "name": "python3"
  },
  "language_info": {
   "codemirror_mode": {
    "name": "ipython",
    "version": 3
   },
   "file_extension": ".py",
   "mimetype": "text/x-python",
   "name": "python",
   "nbconvert_exporter": "python",
   "pygments_lexer": "ipython3",
   "version": "3.11.5"
  }
 },
 "nbformat": 4,
 "nbformat_minor": 5
}
