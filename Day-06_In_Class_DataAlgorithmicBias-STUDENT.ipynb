{
 "cells": [
  {
   "cell_type": "markdown",
   "metadata": {
    "id": "YGCIvFLJd2y_"
   },
   "source": [
    "# Day 6 In-class Assignment: Data and Algorithmic Bias, Academic Integrity, and Coding Best Practices\n"
   ]
  },
  {
   "cell_type": "markdown",
   "metadata": {
    "id": "CMVmh3G0d2zC"
   },
   "source": [
    "### <p style=\"text-align: right;\"> &#9989; Joseph Burke.\n",
    "<p style=\"text-align: right;\"> &#9989; Group 9 Section 005."
   ]
  },
  {
   "cell_type": "markdown",
   "metadata": {
    "id": "Aehb3-hwd2zD"
   },
   "source": [
    "## Learning Goals:\n",
    "\n",
    "By the end of this assignment you should be able to:\n",
    "\n",
    "* Identify how bias occurs in data and algorithms\n",
    "* Understand the impact data and algorithmic bias has on people\n",
    "* Apply practices to look for bias in your work and others, and minimize it\n",
    "* Search on google for snippets of code and compose solutions with integrity\n",
    "* Construct variable names following best coding practices\n"
   ]
  },
  {
   "cell_type": "markdown",
   "metadata": {
    "id": "ExUKEKKYefnu"
   },
   "source": [
    "# Part 1: Discussing Data and Algorithmic Bias"
   ]
  },
  {
   "cell_type": "markdown",
   "metadata": {
    "id": "-8lJ5Zn1e35n"
   },
   "source": [
    "In the Pre-class you explored the concepts of Data and Algorithmic Bias by watching videos and reading an article.\n",
    "\n",
    "&#9989;&nbsp; **Activity**:\n",
    "\n",
    "Go around the group and take **about 2 minutes per person** for each person to summarize their thoughts/reflections from the pre-class assignment. Record the results of your group discussion below. **Make sure to include any observations made by your classmates that perhaps you didn't think about when you did the pre-class assignment**."
   ]
  },
  {
   "cell_type": "markdown",
   "metadata": {},
   "source": [
    "<font size=\"+3\">&#9998;</font> *Write your response here*"
   ]
  },
  {
   "cell_type": "markdown",
   "metadata": {
    "id": "gkVPyO36Duug"
   },
   "source": [
    "&#9989;&nbsp; **Activity**:\n",
    "\n",
    "Below there are several short articles that discuss examples of data or algorithmic bias. \n",
    "\n",
    "Each group member should choose a different article. \n",
    "\n",
    "Take **10-15 minutes** to read your article and prepare answers to the questions below. \n",
    "\n",
    "Then, take **1-2 minutes** each to share your answers to the questions with your group members."
   ]
  },
  {
   "cell_type": "markdown",
   "metadata": {
    "id": "Gh6fW-r7i6Ul"
   },
   "source": [
    "## Examples here:\n",
    "\n",
    "* [Amazon hiring Algorithm bias](https://www.theguardian.com/technology/2018/oct/10/amazon-hiring-ai-gender-bias-recruiting-engine)\n",
    "* [Health Care risk algorithm bias](https://www.scientificamerican.com/article/racial-bias-found-in-a-major-health-care-risk-algorithm/)\n",
    "* [Twitter Chatbot turning racist](https://spectrum.ieee.org/in-2016-microsofts-racist-chatbot-revealed-the-dangers-of-online-conversation)\n",
    "* [Predictive Policing](https://www.latimes.com/california/story/2022-07-04/researchers-use-ai-to-predict-crime-biased-policing)\n",
    "* [Health Insurance Premium Increases](https://www.propublica.org/article/health-insurers-are-vacuuming-up-details-about-you-and-it-could-raise-your-rates)\n",
    "* [How Uber Profits While Its Drivers Aren't Earning Money](https://www.vice.com/en/article/wnxd84/how-uber-profits-even-while-its-drivers-arent-earning-money)"
   ]
  },
  {
   "cell_type": "markdown",
   "metadata": {
    "id": "H0oPO8ZJk1p3"
   },
   "source": [
    "## Questions for Discussion:\n",
    "\n",
    "* How is data being used?\n",
    "* How does the actual usage of data relate to its intended usage?\n",
    "* Who owns and/or controls the data?\n",
    "* Who benefits from the data usage?\n",
    "* How is the data usage related to bias?"
   ]
  },
  {
   "cell_type": "markdown",
   "metadata": {},
   "source": [
    "<font size=\"+3\">&#9998;</font> *Write your response here*\n",
    "*the data is being used to calculate the 'risk' of individuals based upon their medical history costs*\n",
    "*the actual usage of data is doing a great job identifying the largest medical history costs and focusing on those individuals, but it isn't truly quantifying risk properly among patients with inadequate records or those who haven't visited as much, particularly black patients*\n",
    "*The data is owned and controlled by the health insurance companies, heath companies, and algorithm developers, but it has been published to public*\n",
    "*health companies and patients are intended to benefit from this information*\n",
    "*it reflect real life disparities in society in black communities and with trust between doctors and patients*"
   ]
  },
  {
   "cell_type": "markdown",
   "metadata": {
    "id": "eJyuHyVPd2zG"
   },
   "source": [
    "---\n",
    "## Part 2: Practice searching for snippets of code and constructing your own code\n",
    "\n",
    "As stated in the pre-class, we want you to learn how to use the internet as a resource in your coding.  In general, you should practice taking problems and breaking them into sub-problems.  Searching on the internet for solutions to sub-problems is an important skill. **It is also important to make sure that you do not take credit for someone else's work as your own.**\n",
    "\n",
    "When you find helpful code from peers or the internet, you should write this code in your words and, when appropriate, indicate where your original code originated from.  Specifically:\n",
    "1. Rename all variables using variable names that make sense **to you**.\n",
    "2. Use your own structure (i.e. order the code in a way that makes the most sense **to you**)\n",
    "3. Add comments to help clarify complicated syntax\n",
    "4. If you received substantive value from another source (for example, complicated syntax or > 5 lines of content), cite the source (Author, URL, and Date Accessed)"
   ]
  },
  {
   "cell_type": "markdown",
   "metadata": {
    "id": "5011-ozJd2zL"
   },
   "source": [
    "&#9989;&nbsp; **2.1 Question**: Construct a list of items and quantities for a grocery list.  Using the following two lists that have been provided, make a new list that contains all string-type variables such that the value at each index `i` in the new list should be the concatenation of the values for index `i` from `list1` and `list2`.  When complete, the final list should be\n",
    "\n",
    "`['apples_5', 'oranges_2', 'bananas_4', 'kiwi_1', 'rambutan_10']`\n",
    "\n",
    "**Remember**, do not place this exact question into google.  We do not want you to find the whole solution to a whole problem because a) **you will not learn how to code on your own**, b) you may feel tempted to plagiarize someone else's complete work, and c) you likely will waste time because the answer for this specific problem is not out there.\n",
    "\n",
    "Instead, break this into smaller problems and search for those.\n",
    "Potential google search phrases:\n",
    "\n",
    "[`python construct a list`](https://www.google.com/search?q=python+construct+a+list)\n",
    "\n",
    "`python loop through a list`\n",
    "\n",
    "`python concatenate values`\n",
    "\n",
    "Notice that when searching for ways to accomplish this task using Python, it is important to include \"python\" in your search phrase!\n",
    "\n",
    "**Talk with your group about other useful search phrases and share the resources you locate!**"
   ]
  },
  {
   "cell_type": "code",
   "execution_count": 3,
   "metadata": {
    "id": "u2OvvPbyd2zI",
    "tags": []
   },
   "outputs": [],
   "source": [
    "# Remember, if you use a source, \n",
    "# 1) Rename the variables, \n",
    "# 2) Use your own structure, \n",
    "# 3) Add comments to help clarify complicated syntax\n",
    "# 4) Cite the source if it provides substanative value\n",
    "\n",
    "\n"
   ]
  },
  {
   "cell_type": "code",
   "execution_count": 14,
   "metadata": {
    "id": "CIgeUZJRd2zL",
    "tags": []
   },
   "outputs": [
    {
     "name": "stdout",
     "output_type": "stream",
     "text": [
      "['apples_5', 'oranges_2', 'bananas_4', 'kiwi_1', 'rambutan_10']\n"
     ]
    }
   ],
   "source": [
    "list1 = ['apples','oranges','bananas','kiwi','rambutan']\n",
    "list2 = [5,2,4,1,10]\n",
    "list3=[]\n",
    "def fruitninja (list1, list2):\n",
    "    for i in range(len(list1)):\n",
    "        list3.append(list1[i] +\"_\"+str(list2[i]))\n",
    "        #adds each value to list 3!\n",
    "    return list3\n",
    "\n",
    "fruitylist = fruitninja(list1,list2)\n",
    "print(fruitylist)\n",
    "#source is awesome Tayden <3"
   ]
  },
  {
   "cell_type": "markdown",
   "metadata": {
    "id": "u_6ZufBkd2zM"
   },
   "source": [
    "---\n",
    "## Part 3: Python Coding Conventions\n",
    "\n",
    "*Code is read much more often than it is written.*\n",
    "<sub>~Guido van Rossum, Author of PEP8</sub>\n",
    "\n",
    "There are several proposed Python Enhancement Proposals (PEP), with the goal to improve the readability and consistency of Python code.  [PEP 8 is a document that provides guidelines and best practices on how to write Python code](https://www.python.org/dev/peps/pep-0008/).  In your studies and career, you may spend a few minutes, or a whole day, writing a piece of code. Once it is written, you will likely not need to write it again, but you *will* likely need to read it.  And, others will need to read it and understand what you have written.  **Readability matters**, motivating the effort to write code following certain consistency rules.  \n",
    "\n",
    "There are numerous conventions for Python coding.  For now, we do not want to bog you down with all the details.  For now, we will focus on best practices for *naming* data types (variables, functions,etc) and for *commenting* code.\n",
    "\n",
    "**Name Conventions**\n",
    "\n",
    "Choosing sensible names will save you time and energy later.  The best way to name your objects in Python is to use descriptive names to make it clear what the object represents. \n",
    "\n",
    "| Type \t| PEP8 Naming Convention \t| Examples |\n",
    "| :------- |:--------|:------|\n",
    "|Variable |\tUse a lowercase single letter, word, or words. Separate words with underscores to improve readability. \t| length_inches, list_groceries, my_variable |\n",
    "|Function |\tUse a lowercase word or words. Separate words by underscores to improve readability.| \tmultiple_by_three, my_function|\n",
    "\n",
    "**Tips**:\n",
    "- Never use spaces in your names (use underscores instead so that each name is a string of characters)\n",
    "- Avoid single character names unless it is clear what it means (ex: `growth_rate` is preferred to `g`)\n",
    "- If variable contains a value with units, include units in the name (ex: `weight_kg`, `height_ft`)\n",
    "- Avoid capitalizing variable and function names (capitals will be used for naming classes/constants/others objects, that come later)\n",
    "\n",
    "**Comment Conventions**\n",
    "\n",
    "Especially when learning to code, **feel free to use comments often!**  This will help you understand your code and make it easier for you to review later.  If you are tasked with a challenging task, use a comment block at the beginning to describe in your own words the goal of your code.  \n",
    "\n",
    "For more information on the PEP8 Python Style Guide, visit [How to Write Beautiful Python Code With PEP 8](https://realpython.com/python-pep8/)"
   ]
  },
  {
   "cell_type": "markdown",
   "metadata": {
    "id": "ZjtLw3dqd2zN"
   },
   "source": [
    "---\n",
    "The following examples will give you practice building from snippets of code and chosing quality variable names.\n",
    "\n",
    "&#9989;&nbsp; **3.1 Question:** Write a loop that prints the first 5 rows of Pascal's triangle.\n",
    "\n",
    "You look online and find the following snippet of code on https://www.tutorialspoint.com/program-to-generate-pascal-s-triangle-in-python\n",
    "\n",
    "```python\n",
    "def solve(n):\n",
    "   for i in range(n+1):\n",
    "      for j in range(n-i):\n",
    "         print(' ', end='')\n",
    "\n",
    "      C = 1\n",
    "      for j in range(1, i+1):\n",
    "         print(C, ' ', sep='', end='')\n",
    "         C = C * (i - j) // j\n",
    "      print()\n",
    "\n",
    "n = 5\n",
    "solve(n)\n",
    "```\n",
    "    \n",
    "Using this code as a base, write your own code **that follows the best practices that have been described above.**"
   ]
  },
  {
   "cell_type": "code",
   "execution_count": 16,
   "metadata": {
    "id": "jkOMK4Yad2zN",
    "tags": []
   },
   "outputs": [
    {
     "name": "stdout",
     "output_type": "stream",
     "text": [
      "     \n",
      "    1 \n",
      "   1 1 \n",
      "  1 2 1 \n",
      " 1 3 3 1 \n",
      "1 4 6 4 1 \n"
     ]
    }
   ],
   "source": [
    "# Put your code here.\n",
    "def solve(number):\n",
    "   for index in range(number+1):\n",
    "      for jindex in range(number-index):\n",
    "         print(' ', end='')\n",
    "\n",
    "      Constant = 1\n",
    "      for jindex in range(1, index+1):\n",
    "            #jindex is a second for loop index!\n",
    "         print(Constant, ' ', sep='', end='')\n",
    "         Constant = Constant * (index - jindex) // jindex\n",
    "      print()\n",
    "\n",
    "number = 5\n",
    "solve(number)\n",
    "# First cite source material\n",
    "# Answer based on: https://www.tutorialspoint.com/program-to-generate-pascal-s-triangle-in-python, Accessed 01/25/24\n",
    "#site CMSE Day 06 inclass doc!\n",
    "\n"
   ]
  },
  {
   "cell_type": "markdown",
   "metadata": {
    "id": "uKa8fCTRd2zO"
   },
   "source": [
    "&#9989;&nbsp; **3.2 Question:** Modify your code such that it prints to screen the 5th through 10th row of Pascal's triangle. \n",
    "The output should look like this\n",
    "\n",
    "```\n",
    "The 5th row of Pascal's triangle is: [1, 4, 6, 4, 1]\n",
    "The 6th row of Pascal's triangle is: [1, 5, 10, 10, 5, 1]\n",
    "The 7th row of Pascal's triangle is: [1, 6, 15, 20, 15, 6, 1]\n",
    "The 8th row of Pascal's triangle is: [1, 7, 21, 35, 35, 21, 7, 1]\n",
    "The 9th row of Pascal's triangle is: [1, 8, 28, 56, 70, 56, 28, 8, 1]\n",
    "The 10th row of Pascal's triangle is: [1, 9, 36, 84, 126, 126, 84, 36, 9, 1]\n",
    "```"
   ]
  },
  {
   "cell_type": "code",
   "execution_count": 7,
   "metadata": {
    "id": "_8IFtTeTd2zO",
    "tags": []
   },
   "outputs": [
    {
     "name": "stdout",
     "output_type": "stream",
     "text": [
      "          \n",
      "         1 \n",
      "        1 1 \n",
      "       1 2 1 \n",
      "      1 3 3 1 \n",
      "     1 4 6 4 1 \n",
      "    1 5 10 10 5 1 \n",
      "   1 6 15 20 15 6 1 \n",
      "  1 7 21 35 35 21 7 1 \n",
      " 1 8 28 56 70 56 28 8 1 \n",
      "1 9 36 84 126 126 84 36 9 1 \n"
     ]
    }
   ],
   "source": [
    "# Put your code here.\n",
    "def solve(number):\n",
    "    \n",
    "   for index in range(number+1):\n",
    "      for jindex in range(number-index):\n",
    "         print(' ', end='')\n",
    "        \n",
    "\n",
    "      Constant = 1\n",
    "      for jindex in range(1, index+1):\n",
    "            #jindex is a second for loop index!\n",
    "         print(Constant, ' ', sep='', end='')\n",
    "         Constant = Constant * (index - jindex) // jindex\n",
    "      print()\n",
    "\n",
    "number = 10\n",
    "solve(number)\n",
    "# First cite source material\n",
    "# Answer based on: https://www.programiz.com/python-programming/examples/fibonacci-sequence, Accessed 8/18/20\n",
    "\n",
    "\n"
   ]
  },
  {
   "cell_type": "markdown",
   "metadata": {
    "id": "iX_LVs_yd2zO"
   },
   "source": [
    "&#9989;&nbsp; **3.3 Question:** Go back to the code that you wrote in part 2 of this notebook.  Add comments and adjust the variable names to ensure they follow best practices.  \n"
   ]
  },
  {
   "cell_type": "markdown",
   "metadata": {
    "id": "HrXO50qAd2zP"
   },
   "source": [
    "---\n",
    "##  Part 4: Experimenting with Python dictionaries (time permitting)\n",
    "\n",
    "One of the goals of CMSE 201 is for you to develop the skills necessary to learn new Python techniques on the fly by reading pieces of code and searching google for useful information when necessary -- let's give that a shot!\n",
    "\n",
    "Hopefully you're starting to feel comfortable with Python lists at this point, but this isn't the only tool available for storing information in Python. Another useful Python object for storing information is called a \"dictionary\". Rather than using integer numbers as the indices for accessing the information contained within the dictionary, a Python dictionary uses words, called **\"keys\"**, to access the information.\n",
    "\n",
    "Take a look at the code below. This code creates a simple dictionary that stores information about CMSE 201 this semester and then prints out a bit of information about the course."
   ]
  },
  {
   "cell_type": "code",
   "execution_count": 8,
   "metadata": {
    "id": "Uk7l7g6jd2zP"
   },
   "outputs": [
    {
     "name": "stdout",
     "output_type": "stream",
     "text": [
      "The instructors for CMSE201 are:\n",
      "\n",
      "Bao\n",
      "Bao\n",
      "Silvestri\n",
      "Dickson\n",
      "Zhang\n",
      "Percival\n",
      "LaRose\n",
      "Percival\n"
     ]
    }
   ],
   "source": [
    "# Create a dictionary to store information about CMSE 201\n",
    "course = {\"course_title\": \"Computational Modeling and Data Analysis I\",\n",
    "           \"course_code\": \"CMSE\",\n",
    "           \"course_number\": 201,\n",
    "           \"section_numbers\": [1,2,3,4,5,6,7,8],\n",
    "           \"instructors\": ['Bao', 'Bao', 'Silvestri', 'Dickson', 'Zhang', 'Percival', 'LaRose', 'Percival']}\n",
    "\n",
    "# print some information about the course\n",
    "print('The instructors for '+course['course_code']+str(course['course_number'])+' are:\\n')\n",
    "for name in course['instructors']:\n",
    "    print(name)\n",
    "            "
   ]
  },
  {
   "cell_type": "markdown",
   "metadata": {
    "id": "RCzROeHXd2zP"
   },
   "source": [
    "&#9989;&nbsp; **Review** the above code and talk with your group to ensure that you understand what the code is doing. In a new Markdown cell below this one, **write down everything you notice about how a Python dictionary is created when compared to a Python list and how information stored in the dictionary is accessed.** Also comment on anything else you noticed about the code that you find interesting or new to you."
   ]
  },
  {
   "cell_type": "markdown",
   "metadata": {
    "id": "CCaKqpsmd2zP"
   },
   "source": [
    "&#9989;&nbsp; **Practice** creating your own python dictionary. In a new code cell, **create a Python dictionary that stores a bit of information about yourself**:\n",
    "\n",
    "* Your name as a **string**\n",
    "* Your major as a **string**\n",
    "* The year that your favorite song, movie, or book was first released or published as an **integer**\n",
    "* The courses you're currently taking this semester as a **list**\n",
    "\n",
    "Once you've created the dictionary, try printing out some of the information from the dictionary to make sure you set it up correctly."
   ]
  },
  {
   "cell_type": "code",
   "execution_count": 16,
   "metadata": {
    "tags": []
   },
   "outputs": [
    {
     "name": "stdout",
     "output_type": "stream",
     "text": [
      "Burke\n",
      "['CMSE201', 'PHY184', 'CEM352', 'ISS310', 'MTH133']\n"
     ]
    }
   ],
   "source": [
    "burkeyboy = {\"first\": \"Joseph\",\n",
    "             \"last\": \"Burke\",\n",
    "             \"major\": \"Data Science & Biochemistry\",\n",
    "             \"song_year\": 1977,\n",
    "             \"courseload\": [\"CMSE201\", \"PHY184\",\"CEM352\",\"ISS310\",\"MTH133\"]\n",
    "            }\n",
    "print(burkeyboy[\"last\"])\n",
    "print(burkeyboy[\"courseload\"])"
   ]
  },
  {
   "cell_type": "markdown",
   "metadata": {
    "id": "fyqRjV6dd2zQ"
   },
   "source": [
    "---\n",
    "### &#128721; STOP\n",
    "Check in with an instructor before you leave class!\n",
    "\n"
   ]
  },
  {
   "cell_type": "markdown",
   "metadata": {
    "id": "qQe8ZKAPd2zQ"
   },
   "source": [
    "---\n",
    "## Assignment wrapup\n",
    "\n",
    "Please fill out the form that appears when you run the code below. **You must completely fill this out in order to receive credit for the assignment!** "
   ]
  },
  {
   "cell_type": "code",
   "execution_count": 17,
   "metadata": {
    "id": "a3kF5jk-d2zQ"
   },
   "outputs": [
    {
     "data": {
      "text/html": [
       "\n",
       "<iframe \n",
       "\tsrc=\"https://cmse.msu.edu/cmse201-ic-survey\" \n",
       "\twidth=\"800px\" \n",
       "\theight=\"600px\" \n",
       "\tframeborder=\"0\" \n",
       "\tmarginheight=\"0\" \n",
       "\tmarginwidth=\"0\">\n",
       "\tLoading...\n",
       "</iframe>\n"
      ],
      "text/plain": [
       "<IPython.core.display.HTML object>"
      ]
     },
     "execution_count": 17,
     "metadata": {},
     "output_type": "execute_result"
    }
   ],
   "source": [
    "from IPython.display import HTML\n",
    "HTML(\n",
    "\"\"\"\n",
    "<iframe \n",
    "\tsrc=\"https://cmse.msu.edu/cmse201-ic-survey\" \n",
    "\twidth=\"800px\" \n",
    "\theight=\"600px\" \n",
    "\tframeborder=\"0\" \n",
    "\tmarginheight=\"0\" \n",
    "\tmarginwidth=\"0\">\n",
    "\tLoading...\n",
    "</iframe>\n",
    "\"\"\"\n",
    ")"
   ]
  },
  {
   "cell_type": "markdown",
   "metadata": {
    "id": "Pt83wW9bd2zQ"
   },
   "source": [
    "---\n",
    "\n",
    "## Congratulations, you're done!\n",
    "\n",
    "Submit this assignment by uploading it to the course Desire2Learn web page.  Go to the \"In-class assignments\" folder, find the appropriate submission link, and upload it there.\n",
    "\n",
    "See you next class!"
   ]
  },
  {
   "cell_type": "markdown",
   "metadata": {
    "id": "oioWRiR0d2zQ"
   },
   "source": [
    "Copyright &#169; 2023, [Department of Computational Mathematics, Science and Engineering](https://cmse.msu.edu/) at Michigan State University, All rights reserved."
   ]
  }
 ],
 "metadata": {
  "colab": {
   "provenance": []
  },
  "kernelspec": {
   "display_name": "Python 3 (ipykernel)",
   "language": "python",
   "name": "python3"
  },
  "language_info": {
   "codemirror_mode": {
    "name": "ipython",
    "version": 3
   },
   "file_extension": ".py",
   "mimetype": "text/x-python",
   "name": "python",
   "nbconvert_exporter": "python",
   "pygments_lexer": "ipython3",
   "version": "3.11.5"
  },
  "vscode": {
   "interpreter": {
    "hash": "31f2aee4e71d21fbe5cf8b01ff0e069b9275f58929596ceb00d14d90e3e16cd6"
   }
  },
  "widgets": {
   "application/vnd.jupyter.widget-state+json": {
    "state": {},
    "version_major": 2,
    "version_minor": 0
   }
  }
 },
 "nbformat": 4,
 "nbformat_minor": 4
}
