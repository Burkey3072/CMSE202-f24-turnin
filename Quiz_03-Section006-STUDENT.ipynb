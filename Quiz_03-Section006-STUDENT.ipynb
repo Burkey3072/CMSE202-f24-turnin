{
 "cells": [
  {
   "cell_type": "markdown",
   "id": "6ac1403f-3bcf-420e-996c-00e27a9e45a1",
   "metadata": {},
   "source": [
    "# CMSE 201: Quiz 3 (Spring 2024)\n",
    "\n",
    "## <p style=\"text-align: right;\"> &#9989; Put your name here</p>"
   ]
  },
  {
   "cell_type": "markdown",
   "id": "b08ebd34-95b3-4129-a61f-a12a5f2bcf3e",
   "metadata": {},
   "source": [
    "\n",
    "The goal of this quiz is to give you the opportunity to test out more of the skills that you've developed thus far this semester. In particular, you'll reflect on what you know about writing code using Python and showcase some of your more recently acquired programming skills.\n",
    "\n",
    "**Important note about using online resources**: This exam is \"open internet\". That means that you can look up documentation, google how to accomplish certain Python tasks, etc. Being able to effectively use the internet for computational modeling and data science is a very important skill, so we want to make sure you have the opportunity to exercise that skill. **However, the use of any person-to-person communication software is absolutely not acceptable.**\n",
    "\n",
    "**Do your own work.** This quiz is designed to give *you* the opportunity to show the instructor what you can do and you should hold yourself accountable for maintaining a high level of academic integrity. Any violation of academic integrity could result in you receiving a zero on the quiz.\n",
    "\n",
    "**If ChatGPT is used**, _you must cite it_ with the access date and the prompt as described in the course [Generative AI policy](https://msu-cmse-courses.github.io/cmse201-S24-jb/Course_Materials-201/AI_Policy/CMSE201_GenerativeAI_Policy.html). Without appropriate citation, you may **receive partial or no credit.**\n",
    "\n",
    "There are a total of **30 points** possible on this quiz and each part of the quiz can be done independently. **If you get stuck _move on to another part of the quiz to earn some points there!_**\n",
    "\n",
    "\n",
    "![Moira](https://media.giphy.com/media/26gs78HRO8sOuhTkQ/giphy.gif)"
   ]
  },
  {
   "cell_type": "markdown",
   "id": "7b8bb320-18cb-47a9-80b5-c41cc8639068",
   "metadata": {
    "ExecuteTime": {
     "end_time": "2023-04-03T16:42:19.977036Z",
     "start_time": "2023-04-03T16:42:19.973227Z"
    }
   },
   "source": [
    "---\n",
    "<a id=\"toc\"></a>\n",
    "\n",
    "## Table of Contents\n",
    "\n",
    "[Part 0. Integrity Statement](#part_0)  (1 points)\n",
    "\n",
    "[Part 1. Cars](#part_1)  (13 points)\n",
    "\n",
    "[Part 2. Stocks](#part_2)  (16 points)\n"
   ]
  },
  {
   "cell_type": "code",
   "execution_count": null,
   "id": "1bf21f35-4679-4444-aaac-451f074ac3b3",
   "metadata": {
    "ExecuteTime": {
     "end_time": "2023-04-03T16:42:40.056628Z",
     "start_time": "2023-04-03T16:42:40.054007Z"
    }
   },
   "outputs": [],
   "source": [
    "points_list = [1, 13, 16]\n",
    "\n",
    "print(f\"The total number of points is : {sum(points_list)}\")"
   ]
  },
  {
   "cell_type": "markdown",
   "id": "8a7d9ead",
   "metadata": {},
   "source": [
    "---\n",
    "<a id=\"part_0\"></a>\n",
    "\n",
    "# Part 0. Academic integrity statement (1 point)\n",
    "\n",
    "In the markdown cell below, put your personal academic integrity statement. By including this statement, you are confirming that you are submitting this as your own work and not that of someone else.\n"
   ]
  },
  {
   "cell_type": "markdown",
   "id": "fbf10010",
   "metadata": {},
   "source": [
    "<font size=+3>&#9998;</font> *Put your personal academic integrity statement here.*"
   ]
  },
  {
   "cell_type": "code",
   "execution_count": 2,
   "id": "546ee40a-5e9e-450f-ab1a-0f7424e672d2",
   "metadata": {
    "ExecuteTime": {
     "end_time": "2023-04-03T16:37:20.019134Z",
     "start_time": "2023-04-03T16:37:18.704180Z"
    },
    "tags": []
   },
   "outputs": [],
   "source": [
    "import numpy as np\n",
    "import matplotlib.pyplot as plt\n",
    "\n",
    "%matplotlib inline\n",
    "import pandas as pd\n",
    "import seaborn as sns"
   ]
  },
  {
   "cell_type": "markdown",
   "id": "a4639997-1321-465a-9eae-445770dc1025",
   "metadata": {},
   "source": [
    "---\n",
    "<a id=\"part_1\"></a>\n",
    "\n",
    "# Part 1. Loading, exploring, and masking data with Pandas (15 points)\n",
    "[Back to Top](#toc)"
   ]
  },
  {
   "cell_type": "markdown",
   "id": "809e80e3-9a86-4c1f-af02-91f57ea0a1dc",
   "metadata": {},
   "source": [
    "&#9989;&nbsp; **Question 1.1 (1 point)** Run the cell below to load the mpg (cars) dataset from seaborn and then **display the first 8 rows of data only.**"
   ]
  },
  {
   "cell_type": "code",
   "execution_count": 3,
   "id": "79704d98-66eb-4672-b79d-11ae0f1fc344",
   "metadata": {
    "ExecuteTime": {
     "end_time": "2023-04-03T15:24:25.828647Z",
     "start_time": "2023-04-03T15:24:23.862544Z"
    },
    "tags": []
   },
   "outputs": [],
   "source": [
    "cars = sns.load_dataset(\"mpg\")"
   ]
  },
  {
   "cell_type": "code",
   "execution_count": 10,
   "id": "a62e49a3",
   "metadata": {
    "tags": []
   },
   "outputs": [
    {
     "data": {
      "text/html": [
       "<div>\n",
       "<style scoped>\n",
       "    .dataframe tbody tr th:only-of-type {\n",
       "        vertical-align: middle;\n",
       "    }\n",
       "\n",
       "    .dataframe tbody tr th {\n",
       "        vertical-align: top;\n",
       "    }\n",
       "\n",
       "    .dataframe thead th {\n",
       "        text-align: right;\n",
       "    }\n",
       "</style>\n",
       "<table border=\"1\" class=\"dataframe\">\n",
       "  <thead>\n",
       "    <tr style=\"text-align: right;\">\n",
       "      <th></th>\n",
       "      <th>mpg</th>\n",
       "      <th>cylinders</th>\n",
       "      <th>displacement</th>\n",
       "      <th>horsepower</th>\n",
       "      <th>weight</th>\n",
       "      <th>acceleration</th>\n",
       "      <th>model_year</th>\n",
       "      <th>origin</th>\n",
       "      <th>name</th>\n",
       "    </tr>\n",
       "  </thead>\n",
       "  <tbody>\n",
       "    <tr>\n",
       "      <th>0</th>\n",
       "      <td>18.0</td>\n",
       "      <td>8</td>\n",
       "      <td>307.0</td>\n",
       "      <td>130.0</td>\n",
       "      <td>3504</td>\n",
       "      <td>12.0</td>\n",
       "      <td>70</td>\n",
       "      <td>usa</td>\n",
       "      <td>chevrolet chevelle malibu</td>\n",
       "    </tr>\n",
       "    <tr>\n",
       "      <th>1</th>\n",
       "      <td>15.0</td>\n",
       "      <td>8</td>\n",
       "      <td>350.0</td>\n",
       "      <td>165.0</td>\n",
       "      <td>3693</td>\n",
       "      <td>11.5</td>\n",
       "      <td>70</td>\n",
       "      <td>usa</td>\n",
       "      <td>buick skylark 320</td>\n",
       "    </tr>\n",
       "    <tr>\n",
       "      <th>2</th>\n",
       "      <td>18.0</td>\n",
       "      <td>8</td>\n",
       "      <td>318.0</td>\n",
       "      <td>150.0</td>\n",
       "      <td>3436</td>\n",
       "      <td>11.0</td>\n",
       "      <td>70</td>\n",
       "      <td>usa</td>\n",
       "      <td>plymouth satellite</td>\n",
       "    </tr>\n",
       "    <tr>\n",
       "      <th>3</th>\n",
       "      <td>16.0</td>\n",
       "      <td>8</td>\n",
       "      <td>304.0</td>\n",
       "      <td>150.0</td>\n",
       "      <td>3433</td>\n",
       "      <td>12.0</td>\n",
       "      <td>70</td>\n",
       "      <td>usa</td>\n",
       "      <td>amc rebel sst</td>\n",
       "    </tr>\n",
       "    <tr>\n",
       "      <th>4</th>\n",
       "      <td>17.0</td>\n",
       "      <td>8</td>\n",
       "      <td>302.0</td>\n",
       "      <td>140.0</td>\n",
       "      <td>3449</td>\n",
       "      <td>10.5</td>\n",
       "      <td>70</td>\n",
       "      <td>usa</td>\n",
       "      <td>ford torino</td>\n",
       "    </tr>\n",
       "    <tr>\n",
       "      <th>5</th>\n",
       "      <td>15.0</td>\n",
       "      <td>8</td>\n",
       "      <td>429.0</td>\n",
       "      <td>198.0</td>\n",
       "      <td>4341</td>\n",
       "      <td>10.0</td>\n",
       "      <td>70</td>\n",
       "      <td>usa</td>\n",
       "      <td>ford galaxie 500</td>\n",
       "    </tr>\n",
       "    <tr>\n",
       "      <th>6</th>\n",
       "      <td>14.0</td>\n",
       "      <td>8</td>\n",
       "      <td>454.0</td>\n",
       "      <td>220.0</td>\n",
       "      <td>4354</td>\n",
       "      <td>9.0</td>\n",
       "      <td>70</td>\n",
       "      <td>usa</td>\n",
       "      <td>chevrolet impala</td>\n",
       "    </tr>\n",
       "    <tr>\n",
       "      <th>7</th>\n",
       "      <td>14.0</td>\n",
       "      <td>8</td>\n",
       "      <td>440.0</td>\n",
       "      <td>215.0</td>\n",
       "      <td>4312</td>\n",
       "      <td>8.5</td>\n",
       "      <td>70</td>\n",
       "      <td>usa</td>\n",
       "      <td>plymouth fury iii</td>\n",
       "    </tr>\n",
       "  </tbody>\n",
       "</table>\n",
       "</div>"
      ],
      "text/plain": [
       "    mpg  cylinders  displacement  horsepower  weight  acceleration  \\\n",
       "0  18.0          8         307.0       130.0    3504          12.0   \n",
       "1  15.0          8         350.0       165.0    3693          11.5   \n",
       "2  18.0          8         318.0       150.0    3436          11.0   \n",
       "3  16.0          8         304.0       150.0    3433          12.0   \n",
       "4  17.0          8         302.0       140.0    3449          10.5   \n",
       "5  15.0          8         429.0       198.0    4341          10.0   \n",
       "6  14.0          8         454.0       220.0    4354           9.0   \n",
       "7  14.0          8         440.0       215.0    4312           8.5   \n",
       "\n",
       "   model_year origin                       name  \n",
       "0          70    usa  chevrolet chevelle malibu  \n",
       "1          70    usa          buick skylark 320  \n",
       "2          70    usa         plymouth satellite  \n",
       "3          70    usa              amc rebel sst  \n",
       "4          70    usa                ford torino  \n",
       "5          70    usa           ford galaxie 500  \n",
       "6          70    usa           chevrolet impala  \n",
       "7          70    usa          plymouth fury iii  "
      ]
     },
     "execution_count": 10,
     "metadata": {},
     "output_type": "execute_result"
    }
   ],
   "source": [
    "# Put your code here\n",
    "cars.head(8)"
   ]
  },
  {
   "cell_type": "markdown",
   "id": "21c4f5f4-1345-4e2b-92e8-a8339c76ef11",
   "metadata": {},
   "source": [
    "&#9989;  **Question 1.2 (1 point)**: Use `.describe()` to display several summary statistics from the data frame."
   ]
  },
  {
   "cell_type": "code",
   "execution_count": 6,
   "id": "769741e5-d8b1-4199-87ca-52b213a4e6cd",
   "metadata": {
    "ExecuteTime": {
     "end_time": "2023-04-03T16:15:49.913164Z",
     "start_time": "2023-04-03T16:15:49.911172Z"
    },
    "tags": []
   },
   "outputs": [
    {
     "data": {
      "text/html": [
       "<div>\n",
       "<style scoped>\n",
       "    .dataframe tbody tr th:only-of-type {\n",
       "        vertical-align: middle;\n",
       "    }\n",
       "\n",
       "    .dataframe tbody tr th {\n",
       "        vertical-align: top;\n",
       "    }\n",
       "\n",
       "    .dataframe thead th {\n",
       "        text-align: right;\n",
       "    }\n",
       "</style>\n",
       "<table border=\"1\" class=\"dataframe\">\n",
       "  <thead>\n",
       "    <tr style=\"text-align: right;\">\n",
       "      <th></th>\n",
       "      <th>mpg</th>\n",
       "      <th>cylinders</th>\n",
       "      <th>displacement</th>\n",
       "      <th>horsepower</th>\n",
       "      <th>weight</th>\n",
       "      <th>acceleration</th>\n",
       "      <th>model_year</th>\n",
       "    </tr>\n",
       "  </thead>\n",
       "  <tbody>\n",
       "    <tr>\n",
       "      <th>count</th>\n",
       "      <td>398.000000</td>\n",
       "      <td>398.000000</td>\n",
       "      <td>398.000000</td>\n",
       "      <td>392.000000</td>\n",
       "      <td>398.000000</td>\n",
       "      <td>398.000000</td>\n",
       "      <td>398.000000</td>\n",
       "    </tr>\n",
       "    <tr>\n",
       "      <th>mean</th>\n",
       "      <td>23.514573</td>\n",
       "      <td>5.454774</td>\n",
       "      <td>193.425879</td>\n",
       "      <td>104.469388</td>\n",
       "      <td>2970.424623</td>\n",
       "      <td>15.568090</td>\n",
       "      <td>76.010050</td>\n",
       "    </tr>\n",
       "    <tr>\n",
       "      <th>std</th>\n",
       "      <td>7.815984</td>\n",
       "      <td>1.701004</td>\n",
       "      <td>104.269838</td>\n",
       "      <td>38.491160</td>\n",
       "      <td>846.841774</td>\n",
       "      <td>2.757689</td>\n",
       "      <td>3.697627</td>\n",
       "    </tr>\n",
       "    <tr>\n",
       "      <th>min</th>\n",
       "      <td>9.000000</td>\n",
       "      <td>3.000000</td>\n",
       "      <td>68.000000</td>\n",
       "      <td>46.000000</td>\n",
       "      <td>1613.000000</td>\n",
       "      <td>8.000000</td>\n",
       "      <td>70.000000</td>\n",
       "    </tr>\n",
       "    <tr>\n",
       "      <th>25%</th>\n",
       "      <td>17.500000</td>\n",
       "      <td>4.000000</td>\n",
       "      <td>104.250000</td>\n",
       "      <td>75.000000</td>\n",
       "      <td>2223.750000</td>\n",
       "      <td>13.825000</td>\n",
       "      <td>73.000000</td>\n",
       "    </tr>\n",
       "    <tr>\n",
       "      <th>50%</th>\n",
       "      <td>23.000000</td>\n",
       "      <td>4.000000</td>\n",
       "      <td>148.500000</td>\n",
       "      <td>93.500000</td>\n",
       "      <td>2803.500000</td>\n",
       "      <td>15.500000</td>\n",
       "      <td>76.000000</td>\n",
       "    </tr>\n",
       "    <tr>\n",
       "      <th>75%</th>\n",
       "      <td>29.000000</td>\n",
       "      <td>8.000000</td>\n",
       "      <td>262.000000</td>\n",
       "      <td>126.000000</td>\n",
       "      <td>3608.000000</td>\n",
       "      <td>17.175000</td>\n",
       "      <td>79.000000</td>\n",
       "    </tr>\n",
       "    <tr>\n",
       "      <th>max</th>\n",
       "      <td>46.600000</td>\n",
       "      <td>8.000000</td>\n",
       "      <td>455.000000</td>\n",
       "      <td>230.000000</td>\n",
       "      <td>5140.000000</td>\n",
       "      <td>24.800000</td>\n",
       "      <td>82.000000</td>\n",
       "    </tr>\n",
       "  </tbody>\n",
       "</table>\n",
       "</div>"
      ],
      "text/plain": [
       "              mpg   cylinders  displacement  horsepower       weight  \\\n",
       "count  398.000000  398.000000    398.000000  392.000000   398.000000   \n",
       "mean    23.514573    5.454774    193.425879  104.469388  2970.424623   \n",
       "std      7.815984    1.701004    104.269838   38.491160   846.841774   \n",
       "min      9.000000    3.000000     68.000000   46.000000  1613.000000   \n",
       "25%     17.500000    4.000000    104.250000   75.000000  2223.750000   \n",
       "50%     23.000000    4.000000    148.500000   93.500000  2803.500000   \n",
       "75%     29.000000    8.000000    262.000000  126.000000  3608.000000   \n",
       "max     46.600000    8.000000    455.000000  230.000000  5140.000000   \n",
       "\n",
       "       acceleration  model_year  \n",
       "count    398.000000  398.000000  \n",
       "mean      15.568090   76.010050  \n",
       "std        2.757689    3.697627  \n",
       "min        8.000000   70.000000  \n",
       "25%       13.825000   73.000000  \n",
       "50%       15.500000   76.000000  \n",
       "75%       17.175000   79.000000  \n",
       "max       24.800000   82.000000  "
      ]
     },
     "execution_count": 6,
     "metadata": {},
     "output_type": "execute_result"
    }
   ],
   "source": [
    "# Put your code here\n",
    "cars.describe()"
   ]
  },
  {
   "cell_type": "markdown",
   "id": "b86d7bb8-cf84-43ce-a7f8-dd76d9bcf7f0",
   "metadata": {
    "ExecuteTime": {
     "end_time": "2023-04-02T23:39:43.548753Z",
     "start_time": "2023-04-02T23:39:43.545996Z"
    }
   },
   "source": [
    "&#9989;  **Question 1.3 (5 points)**: Answer the following questions in the next markdown cell\n",
    "\n",
    "1. How many columns are in the **entire** dataset? (1 point)\n",
    "2. Why are there missing **columns** in the statistical summary? (1 point)\n",
    "3. How many **rows** are in the dataset? Remember that Python indexing starts at 0. (1 point)\n",
    "4. How much does the heaviest car weigh? (1 point)\n",
    "5. Do you think that the `displacement` column is normally distributed? Explain. (1 point) "
   ]
  },
  {
   "cell_type": "markdown",
   "id": "a6712eec-7194-4be1-8805-70631d0a1bba",
   "metadata": {},
   "source": [
    "#1 9 columns\n",
    "#2 the missing columns are non-numerical\n",
    "#3 398 rows\n",
    "#4 5140 max weight (no unit given)\n",
    "#5 the displacement column is not normally distributed, because the median is at 193, but the median is at 148, and the difference between the max and median is much larger than median and min\n",
    "\n"
   ]
  },
  {
   "cell_type": "markdown",
   "id": "9f481c02-fcc7-46b0-8ee0-eed4e68cd8a2",
   "metadata": {
    "ExecuteTime": {
     "end_time": "2023-04-02T23:39:43.548753Z",
     "start_time": "2023-04-02T23:39:43.545996Z"
    }
   },
   "source": [
    "&#9989; **Question 1.4 (3 points)**:\n",
    "Using `.loc` or `.iloc` display the `horsepower`, `weight`, and `acceleration` of the 278th car. \n",
    "If you do this correctly you should get these values.\n",
    "\n",
    " horsepower | weight | acceleration | \n",
    "-------:|---------:|-------:|\n",
    "  133.0 |      3410 | 15.8 |\n",
    "  \n",
    "Your answer does not need to be in this format.\n",
    "  \n",
    "\n",
    "**Note:** Don't forget that the first car has index = 0.\n"
   ]
  },
  {
   "cell_type": "code",
   "execution_count": 25,
   "id": "719b442b-41c7-48ea-84a1-41374f2858be",
   "metadata": {
    "ExecuteTime": {
     "end_time": "2023-04-03T16:15:52.043353Z",
     "start_time": "2023-04-03T16:15:52.041401Z"
    },
    "tags": []
   },
   "outputs": [
    {
     "data": {
      "text/plain": [
       "horsepower      133.0\n",
       "weight           3410\n",
       "acceleration     15.8\n",
       "Name: 277, dtype: object"
      ]
     },
     "execution_count": 25,
     "metadata": {},
     "output_type": "execute_result"
    }
   ],
   "source": [
    "# Put your code here\n",
    "cars.iloc[277,3:6]"
   ]
  },
  {
   "cell_type": "markdown",
   "id": "87f24269-ab08-4188-b66e-ad4165462176",
   "metadata": {},
   "source": [
    "&#9989; **Question 1.5 (3 points)**: You notice that the 278th car does not have the highest horsepower (compare to what you saw/wrote in Question 1.2). Using masking, display the line of the car with the **highest horsepower**.\n"
   ]
  },
  {
   "cell_type": "code",
   "execution_count": 30,
   "id": "8aafa2a0-87c5-4741-852a-00197d968270",
   "metadata": {
    "ExecuteTime": {
     "end_time": "2023-04-03T16:21:48.576077Z",
     "start_time": "2023-04-03T16:21:48.574146Z"
    },
    "tags": []
   },
   "outputs": [
    {
     "data": {
      "text/html": [
       "<div>\n",
       "<style scoped>\n",
       "    .dataframe tbody tr th:only-of-type {\n",
       "        vertical-align: middle;\n",
       "    }\n",
       "\n",
       "    .dataframe tbody tr th {\n",
       "        vertical-align: top;\n",
       "    }\n",
       "\n",
       "    .dataframe thead th {\n",
       "        text-align: right;\n",
       "    }\n",
       "</style>\n",
       "<table border=\"1\" class=\"dataframe\">\n",
       "  <thead>\n",
       "    <tr style=\"text-align: right;\">\n",
       "      <th></th>\n",
       "      <th>mpg</th>\n",
       "      <th>cylinders</th>\n",
       "      <th>displacement</th>\n",
       "      <th>horsepower</th>\n",
       "      <th>weight</th>\n",
       "      <th>acceleration</th>\n",
       "      <th>model_year</th>\n",
       "      <th>origin</th>\n",
       "      <th>name</th>\n",
       "    </tr>\n",
       "  </thead>\n",
       "  <tbody>\n",
       "    <tr>\n",
       "      <th>116</th>\n",
       "      <td>16.0</td>\n",
       "      <td>8</td>\n",
       "      <td>400.0</td>\n",
       "      <td>230.0</td>\n",
       "      <td>4278</td>\n",
       "      <td>9.5</td>\n",
       "      <td>73</td>\n",
       "      <td>usa</td>\n",
       "      <td>pontiac grand prix</td>\n",
       "    </tr>\n",
       "  </tbody>\n",
       "</table>\n",
       "</div>"
      ],
      "text/plain": [
       "      mpg  cylinders  displacement  horsepower  weight  acceleration  \\\n",
       "116  16.0          8         400.0       230.0    4278           9.5   \n",
       "\n",
       "     model_year origin                name  \n",
       "116          73    usa  pontiac grand prix  "
      ]
     },
     "execution_count": 30,
     "metadata": {},
     "output_type": "execute_result"
    }
   ],
   "source": [
    "# Put your code here\n",
    "mask = cars.iloc[:,3]>=230\n",
    "cars[mask]"
   ]
  },
  {
   "cell_type": "markdown",
   "id": "b496f755-0e03-4a41-9ee3-919ef8fb3414",
   "metadata": {},
   "source": [
    "---\n",
    "<a id=\"part_2\"></a>\n",
    "\n",
    "# Part 2. Correlations: (14 points)\n",
    "## Does the stock price of tech companies correlate with the S & P 500 index? \n",
    "\n",
    "[Back to Top](#toc)\n",
    "\n",
    "Let's answer the above question"
   ]
  },
  {
   "cell_type": "markdown",
   "id": "ee7a9811-bd35-4d2b-9630-71be89d321bf",
   "metadata": {
    "execution": {
     "iopub.execute_input": "2024-03-08T16:47:08.055213Z",
     "iopub.status.busy": "2024-03-08T16:47:08.054471Z",
     "iopub.status.idle": "2024-03-08T16:47:08.064293Z",
     "shell.execute_reply": "2024-03-08T16:47:08.063051Z",
     "shell.execute_reply.started": "2024-03-08T16:47:08.055157Z"
    }
   },
   "source": [
    "&#9989; **Question 2.1 (3 points)**: The file `stocks_data.csv` in **D2L** contains the closing price of several tech companies over the past year (March 2023 - March 2024). Do the following\n",
    "\n",
    "- Download the file `stocks_data.csv` from **D2L** and read in the dataset **(1 points)**. \n",
    "- Use the `Date` column (first column) as the index **(1 point)**. This is very important for the next part so make sure you get it right!\n",
    "- Display the last 7 days **(1 point)**."
   ]
  },
  {
   "cell_type": "code",
   "execution_count": 39,
   "id": "f33af37c-c53f-4fd2-8c4b-2f22814a993d",
   "metadata": {
    "tags": []
   },
   "outputs": [
    {
     "data": {
      "text/plain": [
       "245    2024-02-21 00:00:00-05:00\n",
       "246    2024-02-22 00:00:00-05:00\n",
       "247    2024-02-23 00:00:00-05:00\n",
       "248    2024-02-26 00:00:00-05:00\n",
       "249    2024-02-27 00:00:00-05:00\n",
       "250    2024-02-28 00:00:00-05:00\n",
       "251    2024-02-29 00:00:00-05:00\n",
       "Name: Date, dtype: object"
      ]
     },
     "execution_count": 39,
     "metadata": {},
     "output_type": "execute_result"
    }
   ],
   "source": [
    "# Put your answer here\n",
    "stocks = pd.read_csv('stocks_data.csv')\n",
    "stocks['Date'].tail(7)\n"
   ]
  },
  {
   "cell_type": "markdown",
   "id": "356ac64c-e73c-4ae9-8e99-2ea6f3d10c01",
   "metadata": {},
   "source": [
    "As you can see the dataset consists of daily stock (close) price data with the following columns:\n",
    "\n",
    "- **Date:** The date and time of the recorded stock price, including the timezone offset (Eastern Time Zone, ET). The format includes the year, month, day, hour, minute, second, and the timezone offset.\n",
    "- Seven columns listing the daily stock closing price for each of seven different tech companies\n",
    "- **S&P 500**: An index which tracks the performance of 500 of the largest companies in the US"
   ]
  },
  {
   "cell_type": "markdown",
   "id": "46a60b01-0bdb-4a8d-a444-c39b39b6fad7",
   "metadata": {},
   "source": [
    "In the following cell the first line of code transforms the index into something called a datetime format. This is a way to better represent calendar dates and times so that a computer can understand. The first code line will allow you to make a nice plot later on.\n",
    "\n",
    "Run the following cell, replacing \"your_dataset_name\" with the dataframe you loaded in Question 2.1."
   ]
  },
  {
   "cell_type": "code",
   "execution_count": 43,
   "id": "34c7e3a9-9355-4487-8ed8-c226b199b339",
   "metadata": {
    "tags": []
   },
   "outputs": [],
   "source": [
    "# Convert the index into a datetime format using pandas.Timestamp\n",
    "stocks.index = pd.to_datetime(stocks.index)"
   ]
  },
  {
   "cell_type": "markdown",
   "id": "0ebc4190",
   "metadata": {},
   "source": [
    "&#9989; **Question 2.2 (2 points)**: From the dataframe, create a dataframe that only includes the columns \"Apple\", \"Intel\", \"Microsoft\", \"NVIDIA\", and \"S&P 500\"."
   ]
  },
  {
   "cell_type": "code",
   "execution_count": 48,
   "id": "fe2a8bc2",
   "metadata": {
    "tags": []
   },
   "outputs": [
    {
     "data": {
      "text/html": [
       "<div>\n",
       "<style scoped>\n",
       "    .dataframe tbody tr th:only-of-type {\n",
       "        vertical-align: middle;\n",
       "    }\n",
       "\n",
       "    .dataframe tbody tr th {\n",
       "        vertical-align: top;\n",
       "    }\n",
       "\n",
       "    .dataframe thead th {\n",
       "        text-align: right;\n",
       "    }\n",
       "</style>\n",
       "<table border=\"1\" class=\"dataframe\">\n",
       "  <thead>\n",
       "    <tr style=\"text-align: right;\">\n",
       "      <th></th>\n",
       "      <th>Apple</th>\n",
       "      <th>Intel</th>\n",
       "      <th>Microsoft</th>\n",
       "      <th>NVIDIA</th>\n",
       "      <th>S&amp;P 500</th>\n",
       "    </tr>\n",
       "  </thead>\n",
       "  <tbody>\n",
       "    <tr>\n",
       "      <th>1970-01-01 00:00:00.000000000</th>\n",
       "      <td>144.538483</td>\n",
       "      <td>24.980659</td>\n",
       "      <td>244.265244</td>\n",
       "      <td>226.868668</td>\n",
       "      <td>3951.389893</td>\n",
       "    </tr>\n",
       "    <tr>\n",
       "      <th>1970-01-01 00:00:00.000000001</th>\n",
       "      <td>145.135330</td>\n",
       "      <td>25.838665</td>\n",
       "      <td>249.065842</td>\n",
       "      <td>233.025681</td>\n",
       "      <td>3981.350098</td>\n",
       "    </tr>\n",
       "    <tr>\n",
       "      <th>1970-01-01 00:00:00.000000002</th>\n",
       "      <td>150.228119</td>\n",
       "      <td>26.035904</td>\n",
       "      <td>253.211823</td>\n",
       "      <td>238.782852</td>\n",
       "      <td>4045.639893</td>\n",
       "    </tr>\n",
       "    <tr>\n",
       "      <th>1970-01-01 00:00:00.000000003</th>\n",
       "      <td>153.013275</td>\n",
       "      <td>25.631559</td>\n",
       "      <td>254.778961</td>\n",
       "      <td>235.424484</td>\n",
       "      <td>4048.419922</td>\n",
       "    </tr>\n",
       "    <tr>\n",
       "      <th>1970-01-01 00:00:00.000000004</th>\n",
       "      <td>150.795120</td>\n",
       "      <td>25.177902</td>\n",
       "      <td>252.081085</td>\n",
       "      <td>232.805328</td>\n",
       "      <td>3986.370117</td>\n",
       "    </tr>\n",
       "    <tr>\n",
       "      <th>...</th>\n",
       "      <td>...</td>\n",
       "      <td>...</td>\n",
       "      <td>...</td>\n",
       "      <td>...</td>\n",
       "      <td>...</td>\n",
       "    </tr>\n",
       "    <tr>\n",
       "      <th>1970-01-01 00:00:00.000000247</th>\n",
       "      <td>182.520004</td>\n",
       "      <td>42.990002</td>\n",
       "      <td>410.339996</td>\n",
       "      <td>788.132996</td>\n",
       "      <td>5088.799805</td>\n",
       "    </tr>\n",
       "    <tr>\n",
       "      <th>1970-01-01 00:00:00.000000248</th>\n",
       "      <td>181.160004</td>\n",
       "      <td>42.990002</td>\n",
       "      <td>407.540009</td>\n",
       "      <td>790.882874</td>\n",
       "      <td>5069.529785</td>\n",
       "    </tr>\n",
       "    <tr>\n",
       "      <th>1970-01-01 00:00:00.000000249</th>\n",
       "      <td>182.630005</td>\n",
       "      <td>42.730000</td>\n",
       "      <td>407.480011</td>\n",
       "      <td>786.973083</td>\n",
       "      <td>5078.180176</td>\n",
       "    </tr>\n",
       "    <tr>\n",
       "      <th>1970-01-01 00:00:00.000000250</th>\n",
       "      <td>181.419998</td>\n",
       "      <td>41.990002</td>\n",
       "      <td>407.720001</td>\n",
       "      <td>776.593567</td>\n",
       "      <td>5069.759766</td>\n",
       "    </tr>\n",
       "    <tr>\n",
       "      <th>1970-01-01 00:00:00.000000251</th>\n",
       "      <td>180.750000</td>\n",
       "      <td>43.049999</td>\n",
       "      <td>413.640015</td>\n",
       "      <td>791.082886</td>\n",
       "      <td>5096.270020</td>\n",
       "    </tr>\n",
       "  </tbody>\n",
       "</table>\n",
       "<p>252 rows × 5 columns</p>\n",
       "</div>"
      ],
      "text/plain": [
       "                                    Apple      Intel   Microsoft      NVIDIA  \\\n",
       "1970-01-01 00:00:00.000000000  144.538483  24.980659  244.265244  226.868668   \n",
       "1970-01-01 00:00:00.000000001  145.135330  25.838665  249.065842  233.025681   \n",
       "1970-01-01 00:00:00.000000002  150.228119  26.035904  253.211823  238.782852   \n",
       "1970-01-01 00:00:00.000000003  153.013275  25.631559  254.778961  235.424484   \n",
       "1970-01-01 00:00:00.000000004  150.795120  25.177902  252.081085  232.805328   \n",
       "...                                   ...        ...         ...         ...   \n",
       "1970-01-01 00:00:00.000000247  182.520004  42.990002  410.339996  788.132996   \n",
       "1970-01-01 00:00:00.000000248  181.160004  42.990002  407.540009  790.882874   \n",
       "1970-01-01 00:00:00.000000249  182.630005  42.730000  407.480011  786.973083   \n",
       "1970-01-01 00:00:00.000000250  181.419998  41.990002  407.720001  776.593567   \n",
       "1970-01-01 00:00:00.000000251  180.750000  43.049999  413.640015  791.082886   \n",
       "\n",
       "                                   S&P 500  \n",
       "1970-01-01 00:00:00.000000000  3951.389893  \n",
       "1970-01-01 00:00:00.000000001  3981.350098  \n",
       "1970-01-01 00:00:00.000000002  4045.639893  \n",
       "1970-01-01 00:00:00.000000003  4048.419922  \n",
       "1970-01-01 00:00:00.000000004  3986.370117  \n",
       "...                                    ...  \n",
       "1970-01-01 00:00:00.000000247  5088.799805  \n",
       "1970-01-01 00:00:00.000000248  5069.529785  \n",
       "1970-01-01 00:00:00.000000249  5078.180176  \n",
       "1970-01-01 00:00:00.000000250  5069.759766  \n",
       "1970-01-01 00:00:00.000000251  5096.270020  \n",
       "\n",
       "[252 rows x 5 columns]"
      ]
     },
     "execution_count": 48,
     "metadata": {},
     "output_type": "execute_result"
    }
   ],
   "source": [
    "# put your answer here\n",
    "stock = stocks.loc[:,['Apple','Intel','Microsoft','NVIDIA','S&P 500']]\n",
    "stock"
   ]
  },
  {
   "attachments": {
    "plot.png": {
     "image/png": "[encoded data removed]"
    }
   },
   "cell_type": "markdown",
   "id": "c49ad377-041c-41b0-85f7-8ed41394211e",
   "metadata": {},
   "source": [
    "&#9989; **Question 2.3 (6 points)**: Let's make a nice plot. \n",
    "\n",
    "- Plot all the columns vs date **(1 points)**.\n",
    "- Make the plot 10in wide and 7in high **(1 points)**.\n",
    "- Make the $y$-axis **log** scaled **(1 point)**.\n",
    "- Set the $y$-label to **Price (USD)** **(1 point)**.\n",
    "- Set the $x$-label to **Date** **(1 point)**.\n",
    "- Rotate the $x$-ticks by **30 degrees** **(1 point)**.\n",
    "\n",
    "Most of the above can be done using pandas plotting function `plot` [link to documentation](https://pandas.pydata.org/pandas-docs/stable/reference/api/pandas.DataFrame.plot.html).\n",
    "\n",
    "The final result should look something like this\n",
    "\n",
    "![plot.png](attachment:plot.png)"
   ]
  },
  {
   "cell_type": "code",
   "execution_count": 78,
   "id": "1bcdc470-f912-443b-bad6-72933a21f28c",
   "metadata": {
    "tags": []
   },
   "outputs": [
    {
     "data": {
      "text/plain": [
       "<matplotlib.legend.Legend at 0x1d21614f3d0>"
      ]
     },
     "execution_count": 78,
     "metadata": {},
     "output_type": "execute_result"
    },
    {
     "data": {
      "image/png": "[encoded data removed]",
      "text/plain": [
       "<Figure size 1000x700 with 1 Axes>"
      ]
     },
     "metadata": {},
     "output_type": "display_data"
    }
   ],
   "source": [
    "# Put your answer here\n",
    "x = stock.index\n",
    "plt.figure(figsize=(10, 7)) \n",
    "plt.plot(x,stock['Apple'],color='blue',label='Apple')\n",
    "plt.plot(x,stock['Intel'],color='orange',label='Intel')\n",
    "plt.plot(x,stock['Microsoft'],color='green',label='Microsoft')\n",
    "plt.plot(x,stock['NVIDIA'],color='red',label='NVIDIA')\n",
    "plt.plot(x,stock['S&P 500'],color='purple',label='S&P 500')\n",
    "plt.yscale('log')\n",
    "plt.xlabel('date')\n",
    "plt.ylabel('price(USD)')\n",
    "plt.legend()\n"
   ]
  },
  {
   "cell_type": "markdown",
   "id": "cbeac69c-3625-47e7-812d-41dfa2d84934",
   "metadata": {
    "execution": {
     "iopub.execute_input": "2024-03-09T00:23:08.731216Z",
     "iopub.status.busy": "2024-03-09T00:23:08.730458Z",
     "iopub.status.idle": "2024-03-09T00:23:08.749095Z",
     "shell.execute_reply": "2024-03-09T00:23:08.748375Z",
     "shell.execute_reply.started": "2024-03-09T00:23:08.731164Z"
    }
   },
   "source": [
    "&#9989; **Question 2.4 (2 points)**: Calculate the correlation matrix of the dataset.  "
   ]
  },
  {
   "cell_type": "code",
   "execution_count": 80,
   "id": "38f07f3c-8a9e-49ba-b519-358f4e420462",
   "metadata": {
    "tags": []
   },
   "outputs": [
    {
     "data": {
      "text/html": [
       "<div>\n",
       "<style scoped>\n",
       "    .dataframe tbody tr th:only-of-type {\n",
       "        vertical-align: middle;\n",
       "    }\n",
       "\n",
       "    .dataframe tbody tr th {\n",
       "        vertical-align: top;\n",
       "    }\n",
       "\n",
       "    .dataframe thead th {\n",
       "        text-align: right;\n",
       "    }\n",
       "</style>\n",
       "<table border=\"1\" class=\"dataframe\">\n",
       "  <thead>\n",
       "    <tr style=\"text-align: right;\">\n",
       "      <th></th>\n",
       "      <th>Apple</th>\n",
       "      <th>Intel</th>\n",
       "      <th>Microsoft</th>\n",
       "      <th>NVIDIA</th>\n",
       "      <th>S&amp;P 500</th>\n",
       "    </tr>\n",
       "  </thead>\n",
       "  <tbody>\n",
       "    <tr>\n",
       "      <th>Apple</th>\n",
       "      <td>1.000000</td>\n",
       "      <td>0.702992</td>\n",
       "      <td>0.812438</td>\n",
       "      <td>0.695458</td>\n",
       "      <td>0.784708</td>\n",
       "    </tr>\n",
       "    <tr>\n",
       "      <th>Intel</th>\n",
       "      <td>0.702992</td>\n",
       "      <td>1.000000</td>\n",
       "      <td>0.874108</td>\n",
       "      <td>0.778574</td>\n",
       "      <td>0.857966</td>\n",
       "    </tr>\n",
       "    <tr>\n",
       "      <th>Microsoft</th>\n",
       "      <td>0.812438</td>\n",
       "      <td>0.874108</td>\n",
       "      <td>1.000000</td>\n",
       "      <td>0.921532</td>\n",
       "      <td>0.934152</td>\n",
       "    </tr>\n",
       "    <tr>\n",
       "      <th>NVIDIA</th>\n",
       "      <td>0.695458</td>\n",
       "      <td>0.778574</td>\n",
       "      <td>0.921532</td>\n",
       "      <td>1.000000</td>\n",
       "      <td>0.945426</td>\n",
       "    </tr>\n",
       "    <tr>\n",
       "      <th>S&amp;P 500</th>\n",
       "      <td>0.784708</td>\n",
       "      <td>0.857966</td>\n",
       "      <td>0.934152</td>\n",
       "      <td>0.945426</td>\n",
       "      <td>1.000000</td>\n",
       "    </tr>\n",
       "  </tbody>\n",
       "</table>\n",
       "</div>"
      ],
      "text/plain": [
       "              Apple     Intel  Microsoft    NVIDIA   S&P 500\n",
       "Apple      1.000000  0.702992   0.812438  0.695458  0.784708\n",
       "Intel      0.702992  1.000000   0.874108  0.778574  0.857966\n",
       "Microsoft  0.812438  0.874108   1.000000  0.921532  0.934152\n",
       "NVIDIA     0.695458  0.778574   0.921532  1.000000  0.945426\n",
       "S&P 500    0.784708  0.857966   0.934152  0.945426  1.000000"
      ]
     },
     "execution_count": 80,
     "metadata": {},
     "output_type": "execute_result"
    }
   ],
   "source": [
    "# Put your code here\n",
    "stock.corr()"
   ]
  },
  {
   "cell_type": "markdown",
   "id": "0701fb80-04c6-4d58-98d3-4310ac175400",
   "metadata": {},
   "source": [
    "&#9989; **Question 2.5 (3 points)**: Answer these questions\n",
    "\n",
    "1. What are the companies that are **positively** correlated with `S&P 500`? (1 point)\n",
    "2. What are the companies that are **negatively** correlated with `S&P 500`? (1 point)\n",
    "3. Interesting! Given that the S&P 500 is based partially on the performance of all the companies in this dataset, are the answers to the first two questions surprising? (1 point)"
   ]
  },
  {
   "cell_type": "markdown",
   "id": "ba0befef-41b9-4d43-aa25-a34d77d80409",
   "metadata": {
    "execution": {
     "iopub.execute_input": "2024-03-08T16:52:19.544659Z",
     "iopub.status.busy": "2024-03-08T16:52:19.543932Z",
     "iopub.status.idle": "2024-03-08T16:52:19.551232Z",
     "shell.execute_reply": "2024-03-08T16:52:19.550180Z",
     "shell.execute_reply.started": "2024-03-08T16:52:19.544605Z"
    }
   },
   "source": [
    "NVIDIA,>Microsoft>Intel>Apple\n",
    "none are negatively correlated,\n",
    "no they should definitely correlate so i'm not surprised"
   ]
  },
  {
   "cell_type": "markdown",
   "id": "176fb174-ebf1-46bd-a4d8-77ff6e0cfc04",
   "metadata": {},
   "source": [
    "---\n",
    "\n",
    "# Congratulations, you're done!\n",
    "\n",
    "Submit this quiz by uploading it to the course Desire2Learn web page.  \n",
    "\n",
    "Go to the **Quizzes** section, find the submission folder link for **Quiz 03**, and upload it there.\n",
    "\n",
    "\n",
    "![Moira2](https://media.giphy.com/media/d1E2HnwywoTkES08/giphy.gif)"
   ]
  },
  {
   "cell_type": "code",
   "execution_count": null,
   "id": "ed11e1d2",
   "metadata": {},
   "outputs": [],
   "source": []
  }
 ],
 "metadata": {
  "kernelspec": {
   "display_name": "Python 3 (ipykernel)",
   "language": "python",
   "name": "python3"
  },
  "language_info": {
   "codemirror_mode": {
    "name": "ipython",
    "version": 3
   },
   "file_extension": ".py",
   "mimetype": "text/x-python",
   "name": "python",
   "nbconvert_exporter": "python",
   "pygments_lexer": "ipython3",
   "version": "3.11.5"
  }
 },
 "nbformat": 4,
 "nbformat_minor": 5
}
