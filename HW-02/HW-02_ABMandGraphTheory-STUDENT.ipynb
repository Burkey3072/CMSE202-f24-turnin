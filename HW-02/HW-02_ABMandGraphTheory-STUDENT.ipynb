{
 "cells": [
  {
   "cell_type": "markdown",
   "metadata": {},
   "source": [
    "# Homework Assignment 2\n",
    "## Agent Based Modeling (ABM), and Graph Theory"
   ]
  },
  {
   "cell_type": "markdown",
   "metadata": {},
   "source": [
    "### <p style=\"text-align: right;\"> &#9989;Joseph Burke.</p>\n",
    "### <p style=\"text-align: right;\"> &#9989; Burkey_3072.</p>"
   ]
  },
  {
   "cell_type": "markdown",
   "metadata": {},
   "source": [
    "\n",
    "### Goals for this homework assignment\n",
    "By the end of this assignment, you should be able to:\n",
    "* Run and modify agent based models.\n",
    "* Read and understand someone else's code and be able to use it.\n",
    "* Use your Pandas/Networkx skills to form a graph from data, visualize it, and answer questions about the data.\n",
    "* Read documentation to understand and use Networkx methods that you may not be familiar with\n",
    "\n",
    "Work through the following assignment, making sure to follow all of the directions and answer all of the questions.\n",
    "\n",
    "There are **87 points** possible on this assignment. Point values for each part are included in the section headers and question prompts.\n",
    "\n",
    "**This assignment is due on Friday, October 25th at 11:59pm ET.** It should be uploaded into the \"Homework Assignments\" submission folder for Homework #2.  Submission instructions can be found at the end of the notebook.\n",
    "\n",
    "\n",
    "### Please read the updated Generative AI policy for this course https://msu-cmse-courses.github.io/cmse202-F24-jb/course_materials/CMSE202_GenerativeAI_Policy.html\n",
    "\n",
    "### In particular, you should not rely solely on AI tools to complete questions in this assignment. Simply copying questions from the assignments into generative AIs and pasting the answers back into the assignments with non-essential modifications are NOT acceptable and may be considered plagiarism."
   ]
  },
  {
   "cell_type": "markdown",
   "metadata": {},
   "source": [
    "---\n",
    "## Part 1: Add to your Git repository to track your progress on your assignment (8 points)\n",
    "\n",
    "For this assignment, you're going to add it to the `cmse202-f24-turnin` repository you created in class so that you can track your progress on the assignment and preserve the final version that you turn in. In order to do this you need to\n",
    "\n",
    "**&#9989; Do the following**:\n",
    "\n",
    "1. Navigate to your `cmse202-f24-turnin` repository and create a new directory called `hw-02`.\n",
    "2. Move this notebook into that **new directory** in your repository, then **add it and commit it to your repository**.\n",
    "3. Finally, to test that everything is working, \"git push\" the file so that it ends up in your GitHub repository.\n",
    "\n",
    "**Important**: Double check you've added your Professor and your TA as collaborators to your \"turnin\" repository (you should have done this in the previous homework assignment).\n",
    "\n",
    "**Also important**: Make sure that the version of this notebook that you are working on is the same one that you just added to your repository! If you are working on a different copy of the notebook, **none of your changes will be tracked**!\n",
    "\n",
    "If everything went as intended, the file should now show up on your GitHub account in the \"`cmse202-f24-turnin`\" repository inside the `hw-02` directory that you just created.  Periodically, **you'll be asked to commit your changes to the repository and push them to the remote GitHub location**. Of course, you can always commit your changes more often than that, if you wish.  It can be good to get into a habit of committing your changes any time you make a significant modification, or when you stop working on the project for a bit.\n",
    "\n",
    "&#9989; **1.1 Do this**: Before you move on, put the command that your instructor should run to clone your repository in the markdown cell below."
   ]
  },
  {
   "cell_type": "markdown",
   "metadata": {},
   "source": [
    "<font size=6 color=\"#009600\">&#9998;</font> \n",
    "!git pull CMSE202-f24-turnin #update if already have it\n",
    "!git clone CMSE202-f24-turnin #clone if don't have it\n",
    "!cd CMSE202-f24-turnin #navigate to repo\n",
    "!git clone HW-02 #clone homework subrepo\n",
    "!cd HW-02\n",
    "!cd HW-02_ABM..."
   ]
  },
  {
   "cell_type": "markdown",
   "metadata": {},
   "source": [
    "**You MUST commit and push your notebook multiple times during this assignment.**"
   ]
  },
  {
   "cell_type": "markdown",
   "metadata": {},
   "source": [
    "---\n",
    "## Part 2: ABM for simulating swarming of birds (34 points)\n",
    "\n",
    "Swarming is a natural phenomenon exhibitied by many species such as fish, bees, and <a href=\"https://unsplash.com/photos/a-large-flock-of-birds-flying-over-a-field-b7MZ6iGIoSI\" alt=\"Image of a swarm of birds\"> birds</a>. Studying this phenomenon not only enhances our standing of biological systems, but it has also inspired <a href=\"https://fiveable.me/lists/key-swarm-intelligence-algorithms\">new intelligent designs and control strategies for engineered systems </a>.\n",
    "\n",
    "\n",
    "\n",
    "In this part you will study an ABM model for swarming of birds implemented using OOP. The model we use is the two dimensional <a href=\"https://www.math.ucla.edu/~bertozzi/papers/swarm10.pdf\">D'Orsogna model</a>, which studies the interactions of $N$ agents whose motion is characterized by their positions $x_i$ and velocities $v_i$ in time, where $i=1,2,\\ldots, N$. The initial state of the flock, i.e., the initial positions and velocities, are chosen indepentently at random from a uniform distribution over $[-1,1]$. Note that the initial distribution does not influence the behavior of the flock after some time has passed. \n",
    "\n",
    "The motion of each bird is influenced by local and a global force terms. The local terms are due to self-propelling motion of the bird and drag. The global force captures the pariwise attractive-repulsive social interactions among the birds in the flock. A bird's ability to respond to the presence of another bird decays over space to mimic the decay in sensory signals due to the fading of smell, sight, or sound over longer distances. The attraction term is related to the bird's desire to stay close to its fellow birds. The flock state updates according to a differential equation, but that part of the assignment will be provided in the class `MoveBird`. "
   ]
  },
  {
   "cell_type": "markdown",
   "metadata": {},
   "source": [
    "&#9989; **Question 2.1 (8 points)**: First, let's implement the class for the birds in the simulation. All of the required attributes and methods for the `Bird()` class are described in the docstrings. Read the docstrings and implement the needed attributes and methods including `__init__()` as needed. To clarify how the visual field is defined, see the figure below. \n",
    "\n",
    "Note that you will get a chance to test out the code in Question 2.4. If that test doesn't do what you excpect, you may need to debug your `Bird()` class code.\n",
    "\n",
    "<img src=\"https://github.com/hoolagans/CMSE202_FS24/blob/main/bird_field_of_vision.png?raw=true\" alt=\"illustration of the bird's field of vision\" align=\"center\" width=\"150\">"
   ]
  },
  {
   "cell_type": "code",
   "execution_count": 1,
   "metadata": {},
   "outputs": [],
   "source": [
    "# We will need these imports, so make sure to run this cell before moving on.\n",
    "import matplotlib.pyplot as plt\n",
    "from matplotlib.animation import PillowWriter\n",
    "import numpy as np\n",
    "from scipy.spatial import distance_matrix\n",
    "from scipy.integrate import solve_ivp"
   ]
  },
  {
   "cell_type": "code",
   "execution_count": 2,
   "metadata": {},
   "outputs": [],
   "source": [
    "# Complete the code for the Bird() class below based on the description in docstrings and the instructions in the comments.\n",
    "\n",
    "class Bird:\n",
    "\n",
    "    '''\n",
    "    This class defines the attributes and methods for the bird class.\n",
    "\n",
    "    Attributes\n",
    "    ----------\n",
    "    bird_type : string\n",
    "        The type of the bird, e.g., hawk, pigeon, etc.\n",
    "    mass : float\n",
    "        The mass of the bird in kilograms.\n",
    "    visual_field : float\n",
    "        The visual field of the bird in degrees specified as an angle in degrees.\n",
    "    wingspan : float\n",
    "        wingspan of the bird in meters.\n",
    "    max_speed : float\n",
    "        bird's maximum flight speed in meters/second.\n",
    "    alpha : float\n",
    "        bird's self-propulsion rate in kg/second. \n",
    "    beta : float\n",
    "        bird's drag strength in kg.s/m^2.\n",
    "\n",
    "    Methods\n",
    "    -------\n",
    "    __init__()\n",
    "    chirp()\n",
    "\n",
    "    '''\n",
    "\n",
    "    def __init__(self, bird_type,mass,visual_field,wingspan,max_speed,alpha,beta):\n",
    "        \"\"\"\n",
    "        initializes and creates birdy with all its lil features\n",
    "        \"\"\"\n",
    "        self.bird_type = bird_type\n",
    "        self.mass = mass\n",
    "        self.visual_field = visual_field\n",
    "        self.wingspan = wingspan\n",
    "        self.max_speed = max_speed\n",
    "        self.alpha = alpha\n",
    "        self.beta = beta\n",
    "        pass\n",
    "\n",
    "    def chirp(self):\n",
    "        \"\"\"\n",
    "        Prints 'Chirp..Chirp'\n",
    "\n",
    "        Parameters\n",
    "        ----------\n",
    "        None\n",
    "\n",
    "        Returns\n",
    "        -------\n",
    "        None\n",
    "        \"\"\"\n",
    "        print(\"Chirp..Chirp\")\n",
    "        \n",
    "    def celebrate(self):\n",
    "        print(\"YAY WE DID IT\")\n",
    "\n",
    "    def set_bird_type(self,bird_type):\n",
    "        \"\"\"\n",
    "        set The type of the bird, e.g., hawk, pigeon, etc.\n",
    "        \"\"\"\n",
    "        self.bird_type = bird_type\n",
    "        return self.bird_type\n",
    "        \n",
    "    def get_bird_type(self):\n",
    "        \"\"\"\n",
    "        return The type of the bird, e.g., hawk, pigeon, etc.\n",
    "        \"\"\"\n",
    "        return self.bird_type\n",
    "\n",
    "    def get_group(self):\n",
    "        \"\"\"\n",
    "        name for the group of birds\n",
    "        \"\"\"\n",
    "        if self.bird_type == \"kiwi\":\n",
    "            self.group = 'tribe'\n",
    "        if self.bird_type == \"crow\":\n",
    "            self.group = 'murder'   \n",
    "        return self.group\n",
    "\n",
    "    def get_data(self):\n",
    "        return [\n",
    "        self.bird_type, \n",
    "        self.mass ,\n",
    "        self.visual_field,\n",
    "        self.wingspan ,\n",
    "        self.max_speed ,\n",
    "        self.alpha ,\n",
    "        self.beta ]"
   ]
  },
  {
   "cell_type": "code",
   "execution_count": 3,
   "metadata": {},
   "outputs": [
    {
     "name": "stdout",
     "output_type": "stream",
     "text": [
      "Chirp..Chirp\n"
     ]
    }
   ],
   "source": [
    "Ninja_Kiwi = Bird(\"kiwi\",3,125,.03,0.027,.2,.2)\n",
    "Ninja_Kiwi.chirp()\n"
   ]
  },
  {
   "cell_type": "markdown",
   "metadata": {},
   "source": [
    "Here we provide partial code for the `Flock` class. This class has three methods:\n",
    "1. `__init__()`: Populates the class parameters, and generates a random $N \\times 4$ array for the initial positions $x$ and $y$ and velocities $v_x$ and $v_y$. The columns of the matrix contain the random values $(x,y,v_x, v_y)$ in that order. \n",
    "2. `get_rel_placement_within_flock()`: Obtain the Euclidean distances $|\\mathbf{x_i}-\\mathbf{x}_j|$ between $i$ th bird and the rest, and unit vecotrs $u_{ij}$ pointing from the $i$ th bird to the rest for every bird in the flock. See the figure below for an illustration of these two quantities for the $i$ th bird. \n",
    "3. `accept_bird_mover()`: This is a method to help with solving the needed differential equations.\n",
    "4. `animate_flock()`: We will use this to animate the flocking behavior.\n",
    "\n",
    "Run the code cell below so that you can answer the following questions. \n",
    "\n",
    "<img src=\"https://github.com/hoolagans/CMSE202_FS24/blob/main/flock_relative_positions.png?raw=true\" alt=\"Example heading unit vectors for a bird in the flock.\" align=\"center\" width=\"280\">"
   ]
  },
  {
   "cell_type": "code",
   "execution_count": 4,
   "metadata": {},
   "outputs": [],
   "source": [
    "### DO NOT EDIT THIS CODE CELL\n",
    "### DO NOT EDIT THIS CODE CELL\n",
    "import numpy as np\n",
    "import matplotlib.pyplot as plt\n",
    "from IPython.display import display, clear_output\n",
    "import time\n",
    "\n",
    "class Flock:\n",
    "\n",
    "    '''\n",
    "    This class defines the attributes and methods for the flock class, which is composed of Bird objects. \n",
    "\n",
    "    Attributes\n",
    "    ----------\n",
    "    N : int\n",
    "        The number of birds in the flock.\n",
    "    bird_dict: Dictionary of Bird objects\n",
    "        A dict of N objects of class Bird\n",
    "    group_name: str\n",
    "        What is a group of the selected birds typically called, e.g., brood of chickens, dole of doves, etc.\n",
    "    states : numpy array\n",
    "        N x 4 states of the flock, i.e., the positions (x,y) and velocities (xdot, ydot).\n",
    "    velocities : numpy array\n",
    "        velocities of the birds within the flock\n",
    "    velocity : numpy array\n",
    "        velocity of the birds within the flock\n",
    "    Cr : float\n",
    "        Repulsive potential amplitude.\n",
    "    Ca : float\n",
    "        Attractive potential amplitude.\n",
    "    Lr : float\n",
    "        Repulsive potential range.\n",
    "    La : float\n",
    "        Attractive potential range    \n",
    "    '''\n",
    "\n",
    "    def __init__(self, group_name, Cr, Ca, Lr, La, bird_list):\n",
    "        \n",
    "        self.group_name = group_name\n",
    "        self.Cr = Cr\n",
    "        self.Ca = Ca\n",
    "        self.Lr = Lr\n",
    "        self.La = La\n",
    "        \n",
    "        # initialize a list of N random locations and velocities uniformly distributed over the square [-1,1] x [-1,1] in the xy plane\n",
    "        # first two columns are the (x,y) positions, thrid and fourth columns are velocities (xdot, ydot)\n",
    "        rng = np.random.default_rng()\n",
    "\n",
    "        # get the number of birds in bird_list, or initialize a default list of birds\n",
    "        if bird_list is None:\n",
    "            N = 10\n",
    "            self.N = 10\n",
    "            rand_states = rng.uniform(low=-1, high=1, size=(N, 4))\n",
    "            # set the states (position and velocity)            \n",
    "            self.states  = rand_states\n",
    "            # initialize a dictionary of bird objects with the obtained random locations and velocities\n",
    "            self.bird_dict = {k: [Bird(), self.states[k]] for k in range(N)}\n",
    "        else:\n",
    "            N = len(bird_list)\n",
    "            self.N = N\n",
    "            rand_states = rng.uniform(low=-1, high=1, size=(N, 4))\n",
    "            # set the states (position and velocity)\n",
    "            self.states  = rand_states\n",
    "            # initialize a dictionary of bird objects with the obtained random locations and velocities\n",
    "            self.bird_dict = {k: [bird_list[k], self.states[k]] for k in range(0,N)}\n",
    "\n",
    "    def get_rel_placement_within_flock(self):\n",
    "\n",
    "        '''\n",
    "        This method returns a dictionary that includes the relative distance and heading (as a unit vector)\n",
    "        between each of the birds in the flock.        \n",
    "\n",
    "        Inputs\n",
    "        ------\n",
    "        points: numpy array\n",
    "\n",
    "        returns\n",
    "        -------\n",
    "        A dictionary where the keys are integers representing each bird, and each value is a list that contains two vectors, one for the distances between the \n",
    "        keyed bird and all the other birds, while the second vector is the relative heading (as unit vectors) from the keyed bird to all the others. \n",
    "        '''\n",
    "\n",
    "        G = {}\n",
    "        matrix = distance_matrix(self.states[:, 0:2], self.states[:, 0:2])\n",
    "        for i in range(0,len(matrix)):\n",
    "            k_values = []\n",
    "            distances = matrix[i]\n",
    "            indexmin = np.argsort(distances)\n",
    "            k_values = indexmin[1:]\n",
    "\n",
    "            # For the ith bird, get unit vectors pointing from the ith bird to all the other birds. These are relative heading vectors.\n",
    "            rel_heading = (self.states[k_values, 0:2] - self.states[i, 0:2]) / np.reshape(distances[k_values], (len(distances)-1,1))\n",
    "            G[i] = [distances[k_values], rel_heading]\n",
    "        return G\n",
    "\n",
    "\n",
    "    def accept_bird_mover(self, bird_mover):\n",
    "\n",
    "        '''\n",
    "        This method allows the integrator to access the Flock class methods.\n",
    "\n",
    "        Inputs\n",
    "        ------\n",
    "        bird_mover: BirdMover\n",
    "            A concrete instance of the BirdMover class that implements an ODE solver to move the flock. \n",
    "            (This is an implementation of the visitor pattern).\n",
    "\n",
    "        returns\n",
    "        -------\n",
    "        None\n",
    "\n",
    "        '''\n",
    "\n",
    "        bird_mover.simulate_flock(self)\n",
    "\n",
    "\n",
    "    def animate_flock(self,simulation,t_vec, fig_bounds, metadata, save_as='animation.gif', dpi=1920/16, fps=15, labels=['x', 'y'],animate_what='locations'):\n",
    "        '''\n",
    "        This method animates either the positions (as scatter plot) or velocities (as quiver plots) of Flock objects.\n",
    "\n",
    "        Inputs\n",
    "        ------\n",
    "        simulation: BirdMover\n",
    "            A concrete instance of the BirdMover class that that contains a solution.         \n",
    "        t_vec: numpy array\n",
    "            An array that defines the time steps to use in the animation.\n",
    "        fig_bounds: list\n",
    "            [xmin, xmax, ymin, ymax] for the figure used in the animation\n",
    "        metadata: dictionary\n",
    "            Meta data to save with the anmication. For example, dict(title='file_name.gif', artist='artist_name')\n",
    "        save_as: string\n",
    "            file name used to save the animation.\n",
    "        dpi: float\n",
    "            Dots per Inch. The higher the dpi, the more detailed the animation will be.\n",
    "        fps: int\n",
    "            frames per second\n",
    "        labels: list\n",
    "            A list with two strings containing the labels to use for the x- and y-axis in the animation\n",
    "        animate_what: string\n",
    "            Either 'locations' to obtain a scatter plot of the flock or 'velocities' to obtain a quiver plot of the flock velocities. In both cases the plotted data is colored according to speed.\n",
    "        \n",
    "        returns\n",
    "        -------\n",
    "        None\n",
    "\n",
    "        '''\n",
    "        # initilize an empty figure\n",
    "        fig1 = plt.figure(figsize=(16, 9), dpi=(1920/16))\n",
    "        ax1 = fig1.add_subplot()\n",
    "\n",
    "        # set the bounding box for the figure\n",
    "        xmin, xmax, ymin, ymax = fig_bounds\n",
    "\n",
    "        ax1.set_xlim([xmin, xmax])\n",
    "        ax1.set_ylim([ymin, ymax])\n",
    "        ax1.set_autoscale_on(False)\n",
    "\n",
    "        # add figure labels\n",
    "        plt.xlabel(labels[0])\n",
    "        plt.ylabel(labels[1])\n",
    "\n",
    "        # we will create a Gif using PillowWriter object\n",
    "        writer = PillowWriter(fps, metadata=metadata)\n",
    "        sct = None        \n",
    "        with writer.saving(fig1, save_as, dpi):\n",
    "            for tval in t_vec:\n",
    "                z = simulation.solution.sol(tval)\n",
    "\n",
    "                # get the position, instantanteous velocity, and speed of the birds at tval\n",
    "                xpos= z[:2*N:2]\n",
    "                ypos = z[1:2*N:2]\n",
    "                xvel = z[2*N:4*N:2]\n",
    "                yvel = z[2*N+1:4*N:2]\n",
    "                speed = np.sqrt(xvel**2 + yvel**2)\n",
    "\n",
    "                if sct is not None:\n",
    "                    sct.remove()\n",
    "                \n",
    "                if animate_what == 'locations':\n",
    "                    sct = plt.scatter(xpos, ypos,c=speed)\n",
    "                elif animate_what == 'velocities':\n",
    "                    sct = plt.quiver(xpos, ypos, xvel, yvel, speed)   \n",
    "                else:                    \n",
    "                    raise ValueError(\"Unreognized what_if option '{}'. Please use either 'positions' or 'velocities'\".format(animate_what))\n",
    "                    \n",
    "\n",
    "                writer.grab_frame()\n",
    "### DO NOT EDIT THIS CODE CELL\n",
    "### DO NOT EDIT THIS CODE CELL"
   ]
  },
  {
   "cell_type": "markdown",
   "metadata": {},
   "source": [
    "&#9989; **Question 2.2 (4 points)** **Answer this:** What is the purpose of the 144-154 (shown below) of the `get_rel_placement_within_flock()` method?\n",
    "```python\n",
    "    G = {}\n",
    "    matrix = distance_matrix(self.states[:, 0:2], self.states[:, 0:2])\n",
    "    for i in range(0,len(matrix)):\n",
    "        k_values = []\n",
    "        distances = matrix[i]\n",
    "        indexmin = np.argsort(distances)\n",
    "        k_values = indexmin[1:]\n",
    "\n",
    "        # For the ith bird, get unit vectors pointing from the ith bird to all the other birds. These are relative heading vectors.\n",
    "        rel_heading = (self.states[k_values, 0:2] - self.states[i, 0:2]) / np.reshape(distances[k_values], (len(distances)-1,1))\n",
    "        G[i] = [distances[k_values], rel_heading]]\n",
    "```\n"
   ]
  },
  {
   "cell_type": "code",
   "execution_count": null,
   "metadata": {},
   "outputs": [],
   "source": []
  },
  {
   "cell_type": "markdown",
   "metadata": {},
   "source": [
    "<font size=6 color=\"#009600\">&#9998;</font>\"This method returns a dictionary that includes the relative distance and heading (as a unit vector)\n",
    "        between each of the birds in the flock.        \n",
    "        Inputs\n",
    "        ------\n",
    "        points: numpy array\n",
    "        returns\n",
    "        -------\n",
    "        A dictionary where the keys are integers representing each bird, and each value is a list that contains two vectors, one for the distances between the \n",
    "        keyed bird and all the other birds, while the second vector is the relative heading (as unit vectors) from the keyed bird to all the others. \n",
    "        '''\n",
    "makes dictionary \n",
    "states are the random positions and velocities = N*4 matrix so x and y\n",
    "the matrix is a matrix of the position/velocity values for distances between birds\n",
    "now, it iterates through each for each bird in N (in the matrix) and stores them as distances \n",
    "it returns the order of indexes that would return the sorted matrix to get the closest distances so the nearest guys\n",
    "kvalues are all the birds in order not including the 0th bird (0 distance)\n",
    "rel heading gets the difference of the positions then divides by distance to make it a unit vector \n",
    "puts it in G and returns it\n"
   ]
  },
  {
   "cell_type": "markdown",
   "metadata": {},
   "source": [
    "To make it easier to solve the simulation, we provide the class `BirdMOver` to handle the numerical simulation. \n",
    "\n",
    "Run the code block below before proceeding."
   ]
  },
  {
   "cell_type": "code",
   "execution_count": 5,
   "metadata": {},
   "outputs": [],
   "source": [
    "class BirdMOver:\n",
    "    def __init__(self, tspan, y0=None, method='RK45',dense_output=True):\n",
    "        # set integration parameters\n",
    "        self.tspan = tspan\n",
    "        self.y0 = y0\n",
    "        self.method = method\n",
    "        self.sol = None\n",
    "        self.dense_output = dense_output\n",
    "        self.solution = None\n",
    "\n",
    "\n",
    "    def simulate_flock(self, flock):\n",
    "        N = flock.N\n",
    "\n",
    "        # set y0 from flock attributes, if not explicitly passed\n",
    "        if self.y0 is None:\n",
    "            # recover the states matrix\n",
    "            states_matrix = np.vstack(list(flock.states))\n",
    "            # now obtain the vector of states [x1, y1, x2, y2, ..., xN, yN, xdot1, ydot1, ..., xdotN, ydotN]\n",
    "            self.y0 = np.reshape([np.ravel(states_matrix[:,0:2]),np.ravel(states_matrix[:,2:4])],(states_matrix.size,))    \n",
    "        \n",
    "        # extract alpha, beta, and m from each bird in the flock\n",
    "        alpha_vec = np.zeros((flock.N, 1))\n",
    "        beta_vec  = np.zeros((flock.N, 1))\n",
    "        mass_vec = np.zeros((flock.N, 1))\n",
    "        for k in range(N):\n",
    "            alpha_vec[k] = flock.bird_dict[k][0].alpha\n",
    "            beta_vec[k] = flock.bird_dict[k][0].beta\n",
    "            mass_vec[k] = flock.bird_dict[k][0].mass\n",
    "\n",
    "        # simulate, then call update Bird's concrete instance's state.\n",
    "        solution = solve_ivp(fun=lambda t,y: self.Orsogna_model(t, y, flock, alpha_vec, beta_vec, mass_vec), t_span=self.tspan, y0=self.y0, method=self.method, dense_output=self.dense_output)\n",
    "\n",
    "        self.solution = solution\n",
    "        \n",
    "\n",
    "    def Orsogna_model(self, t, y, flock, alpha_vec, beta_vec, mass_vec):\n",
    "\n",
    "        N = flock.N\n",
    "        # generate m, alpha, and beta matrices so we can write the right hand side of the differential eqs.\n",
    "        mass_vec = np.ravel(np.tile(mass_vec, (2,1)), order='F')\n",
    "        alpha_vec = np.ravel(np.tile(alpha_vec, (2,1)), order='F')\n",
    "        beta_vec = np.ravel(np.tile(beta_vec, (2,1)), order='F')\n",
    "\n",
    "        # get the speed |v_i|=np.sqrt(v_ix^2+v_iy^2) of each agent\n",
    "        speeds = np.sqrt(np.sum(np.reshape(y[2*N:4*N], (N,2))**2,axis=1))\n",
    "        speed_vec = np.ravel(np.tile(speeds, (2,1)), order='F')        \n",
    "\n",
    "        # update flock states\n",
    "        flock.states = np.concatenate([np.reshape(y[0:2*N], [N,2]), np.reshape(y[2*N:4*N], [N,2])], axis=1)\n",
    "\n",
    "        # Get the dictionary with unit vectors from each bird to the rest of the flock\n",
    "        G = flock.get_rel_placement_within_flock()\n",
    "\n",
    "        # Get the generalized Morse potential gradient Del U(x)\n",
    "        DelU = np.zeros((N,2))\n",
    "        for k in range(N):\n",
    "            # get distances and headings for the kth bird\n",
    "            distances = G[k][0]\n",
    "            headings = G[k][1]\n",
    "\n",
    "            # compute DelU_k\n",
    "            DelU[k] =  np.sum(-headings * np.expand_dims((-flock.Cr/flock.Lr * np.exp(-distances/flock.Lr) + flock.Ca/flock.La * np.exp(-distances/flock.La)),axis=-1),axis=0)\n",
    "\n",
    "        dxdt = y[2*N:4*N]\n",
    "        dxdotdt = 1/mass_vec * ((alpha_vec  - beta_vec * speed_vec**2) * y[2*N:4*N] - np.ravel(DelU))\n",
    "\n",
    "        return np.ravel([dxdt, dxdotdt])"
   ]
  },
  {
   "cell_type": "markdown",
   "metadata": {},
   "source": [
    "&#9989; **Question 2.3 (5 points)**: We will need to do some research before initializing the birds and their flocks.  Do the following:\n",
    "1. Choose what kind of birds you will use for the flock. Do an internet search on the following attributes of your chosen bird:\n",
    "    1. Averge mass\n",
    "    2. Visual field specified as an angle in degrees.\n",
    "    3. Wingspan.\n",
    "    4. Maximum speed.\n",
    "    5. The name typically used for a group of the chosen bird type (e.g., gaggle, pod, pack, etc.). \n",
    "\n",
    "No points will be awarded for any part of the answer missing citations. If you cannot find an exact reference for the bird you chose, it's ok to extrapolate based on the characteristics of similar birds, but make sure to note what you did."
   ]
  },
  {
   "cell_type": "markdown",
   "metadata": {},
   "source": [
    "**<font size=+3>&#9998;</font> Put your answer here**\n",
    "cite https://en.wikipedia.org/wiki/Cassowary: 'Cassowaries' - are flightless birds\n",
    "\n",
    "cite https://en.wikipedia.org/wiki/Crow: 'Crows' Corvus brachyrhynchos https://en.wikipedia.org/wiki/American_crow - Description: wingspan 'with the wingspan ranging from 85 to 100 cm (33 to 39 in). ', mass ' 316 to 620 g', \n",
    "\n",
    "https://factanimal.com/animal-facts/fastest-flying-animals-in-the-world/ - Crow Max speed - max speed: 'Crow (Top Speed: 97 kph / 60 mph)' - Thatcher Cooke\n",
    "\n",
    "https://pubmed.ncbi.nlm.nih.gov/20803204/ Crow visual field degrees - Visual coverage and scanning behavior in two corvid species: American crow and Western scrub jay https://link.springer.com/article/10.1007/s00359-010-0570-0 - visual field -~61"
   ]
  },
  {
   "cell_type": "markdown",
   "metadata": {},
   "source": [
    "&#9989; **Question 2.4 (3 points)**: Now it is time to start setting up the simulation. \n",
    "1. Enter the missing values in the code below based on your bird choice. We will start with $N=40$ birds. After you get the simulation working, you can experiment with larger flocks. We will try different values for $C_r$, $L_r$, $C_a$, and $L_a$ later. \n",
    "2. Create a list of `Bird` objects by completing the for loop line."
   ]
  },
  {
   "cell_type": "code",
   "execution_count": 6,
   "metadata": {},
   "outputs": [],
   "source": [
    "# Put your code for Question 2.4 here\n",
    "\n",
    "# bird paramters\n",
    "mass = .55\n",
    "bird_type = \"crow\"\n",
    "visual_field = 61\n",
    "max_speed = 27 #60 mph m/s\n",
    "wing_span = .93 #85-100\n",
    "\n",
    "alpha = 1  # bird's self-propulsion rate in kg/second.\n",
    "beta = 0.5  # drag strength in kg.s/m^2.\n",
    "\n",
    "# flock parameters\n",
    "N = 40  # number of birds in the flock\n",
    "group_name = \"murder\"\n",
    "Cr = 0.6\n",
    "Lr = 1.2\n",
    "Ca = 1\n",
    "La = 1  \n",
    "\n",
    "# Instantiate the Bird class\n",
    "bird_list = []\n",
    "for k in range(0, N):\n",
    "    bird_list.append(Bird(bird_type,mass,visual_field,wing_span,max_speed,alpha,beta))\n"
   ]
  },
  {
   "cell_type": "markdown",
   "metadata": {},
   "source": [
    "&#9989; **Question 2.5 (4 points)**: Now we are ready to instantiate `Flock` objects, and run the simulation. Do the following:\n",
    "1. Instantiate a `Flock` object that contains the bird list that you defined above. This should be a one-liner.\n",
    "2. Insert the commnads for calling the `animate_flock()` method on the Flock object as indicated in the code block. Run the code block. It will generate two gif files in your working directory. One will animate the movement of the flock over time (flock\\_animation.gif), and the other shows the velocity of each bird over time (flock\\_headings.gif). "
   ]
  },
  {
   "cell_type": "code",
   "execution_count": 7,
   "metadata": {},
   "outputs": [
    {
     "data": {
      "image/png": "[encoded data removed]",
      "text/plain": [
       "<Figure size 1920x1080 with 1 Axes>"
      ]
     },
     "metadata": {},
     "output_type": "display_data"
    },
    {
     "data": {
      "image/png": "[encoded data removed]",
      "text/plain": [
       "<Figure size 1920x1080 with 1 Axes>"
      ]
     },
     "metadata": {},
     "output_type": "display_data"
    }
   ],
   "source": [
    "# Put your code for Question 2.5 here\n",
    "## Answer\n",
    "\n",
    "# Instantiate the flock\n",
    "# <----------------------------------------------------------------------------------------------Instantiate the flock here\n",
    "#(self, group_name, Cr, Ca, Lr, La, bird_list):\n",
    "my_squad = Flock(group_name, Cr, Ca, Lr, La, bird_list)\n",
    "\n",
    "\n",
    "\n",
    "# Instantiate the integrator birdMover\n",
    "# birdMover (integrator) parameters\n",
    "# start/end time of the simulation in seconds. Transients approximately decay at mass/alpha, so we simulate twice as much.\n",
    "tspan = [0, 30]  \n",
    "simulation = BirdMOver(tspan)\n",
    "\n",
    "# Perform the integration\n",
    "simulation.simulate_flock(my_squad)\n",
    "\n",
    "# We will now create an animation of the flock. Define the time points that will be used in the animation, and create the time vector.\n",
    "nsteps = 150  # number of time vector points to evaluate the solution on\n",
    "t_vec = np.linspace(tspan[0], tspan[1], nsteps)\n",
    "\n",
    "# add metadata to the animation\n",
    "metadata = dict(title='flock_movement.gif', artist='madScientist')\n",
    "# define boundaries of the figure\n",
    "fig_bounds = [-1, 1, -1, 1]  # [xmin, xmax, ymin, ymax]\n",
    "# file name for the animation\n",
    "file_name = 'flock_animation.gif'\n",
    "\n",
    "# call the animate_flock method to animate flock locations\n",
    "# <------------------------------------------------------------------------------------------------- call the animate_flock method here to animate positions\n",
    "my_squad.animate_flock(simulation,t_vec, fig_bounds, metadata, save_as=file_name)\n",
    "\n",
    "# let's create another animation for the velocity field of the flock. We will use nsteps and t_vec from above.\n",
    "# add metadata to the animation\n",
    "metadata = dict(title='flock_headings.gif', artist='madScientist')\n",
    "\n",
    "# define boundaries of the figure\n",
    "fig_bounds = [-1, 1, -1, 1]  # [xmin, xmax, ymin, ymax]\n",
    "# file name for the animation\n",
    "file_name = 'headings_animation.gif'\n",
    "\n",
    "# call the animate_flock method\n",
    "# <------------------------------------------------------------------------------------------------- call the animate_flock method here to animate velocities\n",
    "my_squad.animate_flock(simulation,t_vec, fig_bounds, metadata, save_as=file_name)"
   ]
  },
  {
   "cell_type": "markdown",
   "metadata": {},
   "source": [
    "&#9989; **Question 2.6 (8 points)**: If all goes well, you should obtain a gif showing the birds flying in clumps along a ring similar to the animation below (I used nsteps=300, and tspan=[0,60] to make the animation smoother and longer). \n",
    "The gif on the left shows positions over time, while the plot on the right is a quiver plot of the velocities. The color in both animations corresopnds to the velcities of the birds. \n",
    "\n",
    "<table>\n",
    "    <tr>\n",
    "        <td><img src=\"https://github.com/hoolagans/CMSE202_FS24/blob/main/flock_animation_case_c.gif?raw=true\" alt=\"flock position animation.\" width=\"800\"  align=\"center\" title=\"Animation of flock positions.\" >\n",
    "        <td><img src=\"https://github.com/hoolagans/CMSE202_FS24/blob/main/headings_animation_case_c.gif?raw=true\" alt=\"flock velocity animation.\" width=\"800\" align=\"center\" title=\"Animation of flock velocities.\">\n",
    "    </tr>\n",
    "</table>\n",
    "\n",
    "Different flock parameters can lead to different swarming behavior, or even the collapse of the flock! For example for some parameters the birds might individually fly away from the swarm, or the swarm may break up into clumps that fly away from the rest of the swarm. Let's test some scenarios.\n",
    "1. Set $N=40$, tspan=[0, 30].\n",
    "2. Describe what you see when you choose the parameters $C_r$, $C_a$, $L_r$, and $L_a$ such that the system is in regions a, b (the red diagonal dashed line), and d. The animations provided above are for region c. Run the simulation for each parameter combination, and examine the resulting animations. \n",
    "* __Hint1__: Note that the ratios $C=\\frac{C_r}{C_a}$, and $L=\\frac{L_r}{L_a}$ are the $x$ and $y$ axes, respectively, of the figure below. Choose parameter combinations that make these ratios land in the regions indicated in the figure. What type of behavior do you observe in each region? You must include the parameters that you chose for each region with your answer. \n",
    "* __Hint2__: start with grid_bound=[-1,1,-1,1]. If the birds leave that bound, try expanding image boundary and re-animate to get a better view of wht the flock is doing. Also, increasing nsteps from 150 to 200, or 300 will create a smoother animation, but may increase the runtime. \n",
    "\n",
    "<img src=\"https://github.com/hoolagans/CMSE202_FS24/blob/main/flock_parameter_chart.png?raw=true\" alt=\"Diagram showing partitioned space of the D'Orsonga model.\" align=\"center\" style=\"width:25%\"/>"
   ]
  },
  {
   "cell_type": "code",
   "execution_count": 16,
   "metadata": {},
   "outputs": [
    {
     "data": {
      "image/png": "[encoded data removed]",
      "text/plain": [
       "<Figure size 1920x1080 with 1 Axes>"
      ]
     },
     "metadata": {},
     "output_type": "display_data"
    }
   ],
   "source": [
    "#A\n",
    "\n",
    "# Instantiate the integrator birdMover\n",
    "# birdMover (integrator) parameters\n",
    "# start/end time of the simulation in seconds. Transients approximately decay at mass/alpha, so we simulate twice as much.\n",
    "Cr = 0.5\n",
    "Lr = 0.25\n",
    "Ca = 1\n",
    "La = 1  \n",
    "\n",
    "Murder = Flock(group_name, Cr, Ca, Lr, La, bird_list)\n",
    "\n",
    "tspan = [0, 30]  \n",
    "simulation = BirdMOver(tspan)\n",
    "\n",
    "# Perform the integration\n",
    "simulation.simulate_flock(Murder)\n",
    "\n",
    "\n",
    "\n",
    "\n",
    "file_name = 'a_headings_animation.gif'\n",
    "\n",
    "# call the animate_flock method\n",
    "# <------------------------------------------------------------------------------------------------- call the animate_flock method here to animate velocities\n",
    "my_squad.animate_flock(simulation,t_vec, fig_bounds, metadata, save_as=file_name)"
   ]
  },
  {
   "cell_type": "code",
   "execution_count": null,
   "metadata": {},
   "outputs": [],
   "source": [
    "#B\n",
    "\n",
    "# Instantiate the integrator birdMover\n",
    "# birdMover (integrator) parameters\n",
    "# start/end time of the simulation in seconds. Transients approximately decay at mass/alpha, so we simulate twice as much.\n",
    "Cr = 0.9\n",
    "Lr = 0.9\n",
    "Ca = 1\n",
    "La = 1  \n",
    "\n",
    "Murder = Flock(group_name, Cr, Ca, Lr, La, bird_list)\n",
    "\n",
    "tspan = [0, 30]  \n",
    "simulation = BirdMOver(tspan)\n",
    "\n",
    "# Perform the integration\n",
    "simulation.simulate_flock(Murder)\n",
    "\n",
    "\n",
    "\n",
    "\n",
    "file_name = 'b_headings_animation.gif'\n",
    "\n",
    "# call the animate_flock method\n",
    "# <------------------------------------------------------------------------------------------------- call the animate_flock method here to animate velocities\n",
    "my_squad.animate_flock(simulation,t_vec, fig_bounds, metadata, save_as=file_name)"
   ]
  },
  {
   "cell_type": "code",
   "execution_count": 17,
   "metadata": {},
   "outputs": [
    {
     "data": {
      "image/png": "[encoded data removed]",
      "text/plain": [
       "<Figure size 1920x1080 with 1 Axes>"
      ]
     },
     "metadata": {},
     "output_type": "display_data"
    }
   ],
   "source": [
    "#D\n",
    "\n",
    "# Instantiate the integrator birdMover\n",
    "# birdMover (integrator) parameters\n",
    "# start/end time of the simulation in seconds. Transients approximately decay at mass/alpha, so we simulate twice as much.\n",
    "Cr = 0.5\n",
    "Lr = 2\n",
    "Ca = 1\n",
    "La = 1  \n",
    "\n",
    "Murder = Flock(group_name, Cr, Ca, Lr, La, bird_list)\n",
    "\n",
    "tspan = [0, 30]  \n",
    "simulation = BirdMOver(tspan)\n",
    "\n",
    "# Perform the integration\n",
    "simulation.simulate_flock(Murder)\n",
    "\n",
    "\n",
    "\n",
    "\n",
    "file_name = 'd_headings_animation.gif'\n",
    "\n",
    "# call the animate_flock method\n",
    "# <------------------------------------------------------------------------------------------------- call the animate_flock method here to animate velocities\n",
    "my_squad.animate_flock(simulation,t_vec, fig_bounds, metadata, save_as=file_name)"
   ]
  },
  {
   "cell_type": "markdown",
   "metadata": {},
   "source": [
    "**<font size=+3>&#9998;</font> Put your observations here:**\n",
    "A is very loose, but stays together\n",
    "B scatters quickly\n",
    "D holds together very tightly\n",
    "\n",
    "perhaps the lower on this graph, the looser the flock gets, but perhaps the circle b is on a specific line where the flock will not hold together"
   ]
  },
  {
   "cell_type": "markdown",
   "metadata": {},
   "source": [
    "There are many other interesting investigations you can do on your own with this simulation. For example, you can initialize a list of birds with different masses (maybe the masses are distributed around the average mass that you researched). You can also explore altering the sensory perception of birds (so for example, assume they only respond to other birds in the flock within their eye of sight), etc. Feel free to play around, and let us konw if you get some cool results to share!"
   ]
  },
  {
   "cell_type": "markdown",
   "metadata": {},
   "source": [
    "---\n",
    "### &#128721; STOP\n",
    "**Pause to commit your changes to your Git repository!**\n",
    "\n",
    "Take a moment to save your notebook, commit the changes to your Git repository using the commit message \"Committing Part 2\", and push the changes to GitHub.\n",
    "\n",
    "---"
   ]
  },
  {
   "cell_type": "code",
   "execution_count": 18,
   "metadata": {},
   "outputs": [],
   "source": [
    "!git add .\n",
    "!git commit -m \"this is after modeling my murders of crows\""
   ]
  },
  {
   "cell_type": "markdown",
   "metadata": {},
   "source": [
    "## "
   ]
  },
  {
   "cell_type": "markdown",
   "metadata": {},
   "source": [
    "---\n",
    "## Part 3: Graph theory transportation data (45 points)\n",
    "\n",
    "In this part of the homework, we will look at a dataset which contains the whole UK public transport system for a week in October 2010 [[1](https://doi.org/10.1038/srep38994), [2](https://doi.org/10.1038/sdata.2014.56), [data file](https://datadryad.org/stash/dataset/doi:10.5061/dryad.pc8m3)]. We will model this data as a graph where each team is terminal where travel starts/stops is a node. We will later add directionarlity to capture the departure arrival relationship, and weights on edges that represent travel time. "
   ]
  },
  {
   "cell_type": "markdown",
   "metadata": {},
   "source": [
    "&#9989;  **Question 3.1 (3 points)**: Go to [this website](https://datadryad.org/stash/dataset/doi:10.5061/dryad.pc8m3) and download the full data set. Unpack the .zip file into your working directory. The data we need is in the folder Data_Release_v1.11. After you unzip the folder, you will see edges.csv and nodes.csv, plus some other files. The former two are the ones we will primarily work with here. \n",
    "\n",
    "**Do This:** Load the nodes.csv and edges.csv in this file into `Pandas` `DataFrames`. Display the first few and last few rows of each. "
   ]
  },
  {
   "cell_type": "code",
   "execution_count": 8,
   "metadata": {},
   "outputs": [],
   "source": [
    "# Write your code here"
   ]
  },
  {
   "cell_type": "markdown",
   "metadata": {},
   "source": [
    "Now, you will construct a graph of the nodes (stops). \n",
    "\n",
    "&#9989;  **Question 3.2 (5 points)**: Create an empty (undirected, unweighted)`Graph` object from the `networkx` package. For each row of the `DataFrame` where both the destination and origin are associated to \"Rail,\" i.e., the integer 2 in both ori_layer and des_layer of edges.csv, add an edge between the origin (ori_node) and the destination (des_node) nodes.  "
   ]
  },
  {
   "cell_type": "code",
   "execution_count": 9,
   "metadata": {},
   "outputs": [],
   "source": [
    "# Write your code here"
   ]
  },
  {
   "cell_type": "markdown",
   "metadata": {},
   "source": [
    "Plotting the graph. \n",
    "\n",
    "&#9989;  **Question 3.3 (5 points)**: Plot the graph using the latitude and longitude of each node as its position, labeled by the columns lat and lon, respectively in nodes.csv. "
   ]
  },
  {
   "cell_type": "code",
   "execution_count": 10,
   "metadata": {},
   "outputs": [],
   "source": [
    "# Write your code here"
   ]
  },
  {
   "cell_type": "markdown",
   "metadata": {},
   "source": [
    "Next, you will construct the weighted directed graph to represent this data. \n",
    "\n",
    "&#9989;  **Question 3.4 (5 points)**: Create an empty `DiGraph` object from the `networkx` package. For each row of the `DataFrame`where both the destination and origin are associated to \"Rail,\" i.e., the integer 2 in both ori_layer and des_layer of edges.csv, add a directed edge from the node corresponding to the origin node (ori_node) to the destination_node (des_node). \n",
    "\n",
    "For directed graphs, the parameter *weight* can be used to specify the weight of each edge. Use the kilometers distance (`km` in edges.csv) between the origin and destination nodes as the weight for each edge.\n",
    "\n",
    "Note: Remember that each edge in a directed graph has an orientation. So adding an edge from node A to node B is not the same thing as adding an edge from node B to node A. "
   ]
  },
  {
   "cell_type": "code",
   "execution_count": 11,
   "metadata": {},
   "outputs": [],
   "source": [
    "# Write your code here"
   ]
  },
  {
   "cell_type": "markdown",
   "metadata": {},
   "source": [
    "&#9989;  **Question 3.5 (5 points)**: Plot the directed graph using the spring_layout option, __not the spatial coordinates you used in 3.4.__, for nodes' positions."
   ]
  },
  {
   "cell_type": "code",
   "execution_count": 12,
   "metadata": {},
   "outputs": [],
   "source": [
    "# Write your code here"
   ]
  },
  {
   "cell_type": "markdown",
   "metadata": {},
   "source": [
    "&#9989;  **Question 3.6 (5 points)**: When making travel plans for individuals and freight, it is often helpful to find the shortest path from origin to destination stations. \n",
    "\n",
    "**Do this**: Our goal is to make a function that takes in the directed graph that you created along with two nodes representing the origin and destination stations, and then prints a sequence of statements of the form \"Take [origin_nodeID] to [destination_nodeID]\" which can be used to make travel plans along the shortest path from the origin to the destination`. For multiple transitions, the code must print out the sequence of statements \"Take [origin_nodeID]{i} to [destination_nodeID]{i+1}\".\n",
    "\n",
    "Make sure to include an error in case a path does not exist between the requested source and origin. See the documentation on [Exceptions](https://networkx.org/documentation/stable/reference/exceptions.html) in networkx to find an appropriate exception to raise."
   ]
  },
  {
   "cell_type": "code",
   "execution_count": 13,
   "metadata": {},
   "outputs": [],
   "source": [
    "# Fill out the following function\n",
    "\n",
    "def find_itinerary():\n",
    "    pass"
   ]
  },
  {
   "cell_type": "code",
   "execution_count": 14,
   "metadata": {},
   "outputs": [
    {
     "ename": "NameError",
     "evalue": "name 'DG' is not defined",
     "output_type": "error",
     "traceback": [
      "\u001b[0;31m---------------------------------------------------------------------------\u001b[0m",
      "\u001b[0;31mNameError\u001b[0m                                 Traceback (most recent call last)",
      "Cell \u001b[0;32mIn[14], line 2\u001b[0m\n\u001b[1;32m      1\u001b[0m \u001b[38;5;66;03m# use this command to test your code\u001b[39;00m\n\u001b[0;32m----> 2\u001b[0m find_itinerary(\u001b[43mDG\u001b[49m, origin_nodeID\u001b[38;5;241m=\u001b[39m\u001b[38;5;241m1\u001b[39m, destination_nodeID\u001b[38;5;241m=\u001b[39m\u001b[38;5;241m169164\u001b[39m)\n",
      "\u001b[0;31mNameError\u001b[0m: name 'DG' is not defined"
     ]
    }
   ],
   "source": [
    "# use this command to test your code\n",
    "find_itinerary(DG, origin_nodeID=1, destination_nodeID=169164)"
   ]
  },
  {
   "cell_type": "markdown",
   "metadata": {},
   "source": [
    "&#9989;  **Question 3.7 (5 points):** Urban mobility hubs are important for urban planning and for sustaininig reliable transportation. Here we will explore the identification of existing urban mobility hubs by using the concept of community structure, purely based on connectivity, i.e., discarding weight and directionarlity information as described below. \n",
    "\n",
    "A graph/network is said to have a \"[community structure](https://en.wikipedia.org/wiki/Community_structure)\" if the nodes can be partitioned into communities such that generally nodes are connected to a high percentage of other nodes in the same community and a low percentage of nodes in other communities. By detecting which nodes of a graph are part of tightly connected transportation network, we can identify urban mobility hubs.\n",
    "\n",
    "Let's see how easily we can detect this from the data. The Louvain method is one algorithm for community detection. Not required, but check out this link if you're interested in learning more https://en.wikipedia.org/wiki/Louvain_method."
   ]
  },
  {
   "cell_type": "markdown",
   "metadata": {},
   "source": [
    "**Do This:** First, make an undirected `Graph` that has the same nodes and edges as your `DiGraph` containing all the rail stops (check out the to_undirected() method in networkx). Next, use the `louvain_communities()` method with `seed = 48823` which is in the `community` subpackage of `networkx` to partition the graph into communities or hubs using the Louvain Community Detection Algorithm. The output of this method is a list of sets where each set represents a community. Finally, print the output of this algorithm. If the list is too long, only print the first 3. \n",
    "\n",
    "You may want to read the documentation for the [`louvain_comminities()`](https://networkx.org/documentation/stable/reference/algorithms/generated/networkx.algorithms.community.louvain.louvain_communities.html) method."
   ]
  },
  {
   "cell_type": "code",
   "execution_count": null,
   "metadata": {},
   "outputs": [],
   "source": [
    "# Write your code here"
   ]
  },
  {
   "cell_type": "markdown",
   "metadata": {},
   "source": [
    "&#9989;  **Question 3.8 (7 points):** An induced subgraph of a graph is another graph, formed from a subset of the vertices of the graph and all of the edges, from the original graph, connecting pairs of vertices in that subset. A subgraph can be created using the Graph.subgraph() command in networkx. Use the command to create a subgraph of the first community with accuracte spatial positions."
   ]
  },
  {
   "cell_type": "code",
   "execution_count": null,
   "metadata": {},
   "outputs": [],
   "source": [
    "# Write your code here"
   ]
  },
  {
   "cell_type": "markdown",
   "metadata": {},
   "source": [
    "&#9989;  **Question 3.9 (5 points):** In class, we discussed what the degree of a node was. A node can be considered a hub if it has more connections (higher degree) than other nodes. Identify the top three hubs and state which cities are they located in. \n",
    "\n",
    "Were you surprised to see these cities as the hubs, or did this pretty much match where you would expect to find a transportation hub?"
   ]
  },
  {
   "cell_type": "code",
   "execution_count": null,
   "metadata": {},
   "outputs": [],
   "source": [
    "# Write your code here"
   ]
  },
  {
   "cell_type": "markdown",
   "metadata": {},
   "source": [
    "**Check which cities these longitude and latitudes correspond to. You can use Google Maps.**\n",
    "\n",
    "**<font size=+3>&#9998;</font> Write your answer here:**\n"
   ]
  },
  {
   "cell_type": "markdown",
   "metadata": {},
   "source": [
    "---\n",
    "### &#128721; STOP\n",
    "**Pause to commit your changes to your Git repository!**\n",
    "\n",
    "Take a moment to save your notebook, commit the changes to your Git repository using the commit message \"Committing Part 3\", and push the changes to GitHub.\n",
    "\n",
    "---"
   ]
  },
  {
   "cell_type": "markdown",
   "metadata": {},
   "source": [
    "---\n",
    "## Assignment wrap-up\n",
    "\n",
    "Please fill out the form that appears when you run the code below.  **You must completely fill this out in order to receive credit for the assignment!**"
   ]
  },
  {
   "cell_type": "code",
   "execution_count": null,
   "metadata": {},
   "outputs": [],
   "source": [
    "\n",
    "\n",
    "from IPython.display import HTML\n",
    "HTML(\n",
    "\"\"\"\n",
    "<iframe \n",
    "\tsrc=\"https://forms.office.com/Pages/ResponsePage.aspx?id=MHEXIi9k2UGSEXQjetVofbihPqVa-WtNjOGYhCwpOgRUN1RKT0U4S1AxUFNMUlY5TlRXWDgwNVA3VS4u\" \n",
    "\twidth=\"800px\" \n",
    "\theight=\"600px\" \n",
    "\tframeborder=\"0\" \n",
    "\tmarginheight=\"0\" \n",
    "\tmarginwidth=\"0\">\n",
    "\tLoading...\n",
    "</iframe>\n",
    "\"\"\"\n",
    ")"
   ]
  },
  {
   "cell_type": "markdown",
   "metadata": {},
   "source": [
    "### Congratulations, you're done!\n",
    "\n",
    "Submit this assignment by uploading it to the course Desire2Learn web page.  Go to the \"Homework Assignments\" folder, find the dropbox link for Homework #2, and upload **your notebook** there."
   ]
  },
  {
   "cell_type": "code",
   "execution_count": null,
   "metadata": {},
   "outputs": [],
   "source": []
  }
 ],
 "metadata": {
  "anaconda-cloud": {},
  "kernelspec": {
   "display_name": "Python 3.11 (default)",
   "language": "python",
   "name": "python3"
  },
  "language_info": {
   "codemirror_mode": {
    "name": "ipython",
    "version": 3
   },
   "file_extension": ".py",
   "mimetype": "text/x-python",
   "name": "python",
   "nbconvert_exporter": "python",
   "pygments_lexer": "ipython3",
   "version": "3.11.9"
  }
 },
 "nbformat": 4,
 "nbformat_minor": 4
}
