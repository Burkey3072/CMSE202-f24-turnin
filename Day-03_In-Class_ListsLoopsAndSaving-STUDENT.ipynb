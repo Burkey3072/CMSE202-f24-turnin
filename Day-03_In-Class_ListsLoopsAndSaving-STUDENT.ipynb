{
 "cells": [
  {
   "cell_type": "markdown",
   "metadata": {},
   "source": [
    "# Day 3 In-class Assignment: The power of compound interest\n",
    "<img src=\"https://g.foolcdn.com/image/?url=https%3A//g.foolcdn.com/editorial/images/463624/retirement-savings-jar-full-of-coins-and-alarm-clock.jpg&w=2000&op=resize\" width=400px>\n"
   ]
  },
  {
   "cell_type": "markdown",
   "metadata": {},
   "source": [
    "### <p style=\"text-align: right;\"> &#9989; Put your name here.\n",
    "<p style=\"text-align: right;\"> &#9989; Put your group member names here."
   ]
  },
  {
   "cell_type": "markdown",
   "metadata": {},
   "source": [
    "## Learning Goals:\n",
    "\n",
    "By the end of this assignment you should be able to:\n",
    "\n",
    "* Use Python lists to store values\n",
    "* Use loops to iterate over a specified range or until a condition is met.\n",
    "* Compute the best retirement savings plan.\n"
   ]
  },
  {
   "cell_type": "markdown",
   "metadata": {},
   "source": [
    "---\n",
    "## The Problem\n",
    "\n",
    "You are working for a bank, writing code to calculate the revenue and expenses for the company. A person can deposit money in a retirement account at your bank, and the bank pays interest every year on the money in the retirement account. The mathematical expression for calculating the amount of money in the retirement account every year is:\n",
    "\n",
    "$\\mathrm{New~Retirement~Total} = (\\mathrm{Old~Retirement~Total}) + [(\\mathrm{Old~Retirement~Total})*(\\mathrm{Interest~Rate})] + (\\mathrm{Money~Added~to~Retirement})$\n",
    "\n",
    "Or, if we simplify this a bit, we can re-write it as:\n",
    "\n",
    "$\\mathrm{New~Retirement~Total} = [(\\mathrm{Old~Retirement~Total})*(\\mathrm{1 + Interest~Rate})] + (\\mathrm{Money~Added~to~Retirement})$\n",
    "\n",
    "**Your job is to write a piece of code that calculates and stores (in a list) the total amount of money in the retirement account *every year* for some number of years** (your boss is going to make a plot of it, so make sure you have the value for each year!). \n",
    "\n",
    "Your boss tells you to model the total retirement savings for a ***range*** of different parameters (*e.g.* interest rates and annual contributions).\n",
    "\n",
    "**You can assume that the person saving for retirement starts when they're 18 and continues until they're 65. Also assume that the interest rate and annual contributions are fixed.**"
   ]
  },
  {
   "cell_type": "markdown",
   "metadata": {},
   "source": [
    "---\n",
    "## 1. Planning your solution and pseudo-coding\n",
    "\n",
    "Before you start writing any code you should come up with a plan for how you've going to solve the problem. During this phase you should identify and define the variables that are revelant to the problem, the equations you're going to need to model, the overall structure of the program that you will write, and how you will make sure the code is running correctly.\n",
    "\n",
    "#### You and your group members are expected to use the white board at your table (or a virtual whiteboard app like [Google Jamboard](https://jamboard.google.com/) or the [Aww app](https://awwapp.com/)) to write out your ideas to ensure that everyone is on the same page and allow your instructors to see your progress.\n",
    "\n",
    "Part of this planning process should involve writing \"**pseudo-code**\", a plain language description of the steps in your code (sort of like writing out in your code in form of a cooking recipe). **You actually already did a version of this on Day 1 when you and your group came up with an _algorithm_ for sorting people by their birthday.**\n",
    "\n",
    "As a reminder, **an algorithm is**: a procedure for solving a problem in terms of the actions to be executed and the order in which those actions are to be executed. In other words, an algorithm is merely the sequence of steps taken to solve a problem. [[source](https://www.unf.edu/~broggio/cop2221/2221pseu.htm) of this definition]\n",
    "\n",
    "You can see some examples of pseudocode [here](https://www.unf.edu/~broggio/cop2221/2221pseu.htm) and [here](https://www.geeksforgeeks.org/how-to-write-a-pseudo-code/).\n",
    "\n",
    "Things you should decide on during your planning and psuedo-coding:\n",
    "\n",
    "1. What quantities in your model are \"variables\" that will change as a function of time? What are the initial values of these variables?\n",
    "2. What quantities in your model are \"parameters\" that are constant over time? What are reasonable ranges for each parameter? \n",
    "4. How will you go about solving this problem for a given set of inputs?\n",
    "5. How will you check to make sure your code is running correctly. \n",
    "\n",
    "\n",
    "You should be able to justify your choices.\n",
    "\n",
    "### &#9989;&nbsp; 1.1 Record the details of you plan in the Markdown cell below."
   ]
  },
  {
   "cell_type": "markdown",
   "metadata": {},
   "source": [
    "<font size=6 color=\"#009600\">&#9998;</font> *year, retTot are moving variables, and intRate and newMoney.  Range from 18-65, which is 47 years (indicies) \n",
    "retTot = retTot*(1+IntRate)+newMoney*"
   ]
  },
  {
   "cell_type": "markdown",
   "metadata": {},
   "source": [
    "## &#128721; STOP AND ASK YOUR INSTRUCTOR TO COME OVER AND CHECK YOUR PSEUDOCODE\n",
    "\n",
    "---\n",
    "## 2. Coding up your solution\n",
    "\n",
    "Now that you and your group have come up with a plan for your code, it's time to put your plan into action.\n",
    "\n",
    "### &#9989;&nbsp; 2.1 Writing Code\n",
    "**Write your code for calculating the total retirement savings in the cell below. Start by writing code for a single set of parameter values (i.e., not a range).** It is simpler, and you can also add to it later.\n",
    "\n",
    "**Hint: Remember to update the value of $\\mathrm{Old~Retirement~Total}$ in your loop!**"
   ]
  },
  {
   "cell_type": "code",
   "execution_count": 17,
   "metadata": {
    "tags": []
   },
   "outputs": [
    {
     "name": "stdout",
     "output_type": "stream",
     "text": [
      "18 0\n",
      "19 1000.0\n",
      "20 2050.0\n",
      "21 3152.5\n",
      "22 4310.125\n",
      "23 5525.63125\n",
      "24 6801.912812500001\n",
      "25 8142.008453125001\n",
      "26 9549.108875781252\n",
      "27 11026.564319570316\n",
      "28 12577.892535548832\n",
      "29 14206.787162326274\n",
      "30 15917.126520442589\n",
      "31 17712.982846464718\n",
      "32 19598.631988787954\n",
      "33 21578.563588227353\n",
      "34 23657.491767638723\n",
      "35 25840.36635602066\n",
      "36 28132.384673821693\n",
      "37 30539.00390751278\n",
      "38 33065.95410288842\n",
      "39 35719.251808032845\n",
      "40 38505.21439843449\n",
      "41 41430.47511835621\n",
      "42 44501.998874274024\n",
      "43 47727.098817987724\n",
      "44 51113.45375888711\n",
      "45 54669.12644683147\n",
      "46 58402.582769173045\n",
      "47 62322.7119076317\n",
      "48 66438.8475030133\n",
      "49 70760.78987816397\n",
      "50 75298.82937207217\n",
      "51 80063.77084067579\n",
      "52 85066.95938270958\n",
      "53 90320.30735184507\n",
      "54 95836.32271943733\n",
      "55 101628.1388554092\n",
      "56 107709.54579817966\n",
      "57 114095.02308808865\n",
      "58 120799.77424249309\n",
      "59 127839.76295461775\n",
      "60 135231.75110234864\n",
      "61 142993.33865746608\n",
      "62 151143.0055903394\n",
      "63 159700.15586985636\n",
      "64 168685.16366334917\n",
      "65 178119.42184651663\n",
      "[1000.0, 2050.0, 3152.5, 4310.125, 5525.63125, 6801.912812500001, 8142.008453125001, 9549.108875781252, 11026.564319570316, 12577.892535548832, 14206.787162326274, 15917.126520442589, 17712.982846464718, 19598.631988787954, 21578.563588227353, 23657.491767638723, 25840.36635602066, 28132.384673821693, 30539.00390751278, 33065.95410288842, 35719.251808032845, 38505.21439843449, 41430.47511835621, 44501.998874274024, 47727.098817987724, 51113.45375888711, 54669.12644683147, 58402.582769173045, 62322.7119076317, 66438.8475030133, 70760.78987816397, 75298.82937207217, 80063.77084067579, 85066.95938270958, 90320.30735184507, 95836.32271943733, 101628.1388554092, 107709.54579817966, 114095.02308808865, 120799.77424249309, 127839.76295461775, 135231.75110234864, 142993.33865746608, 151143.0055903394, 159700.15586985636, 168685.16366334917, 178119.42184651663, 188025.39293884247]\n"
     ]
    }
   ],
   "source": [
    "# Put your code for calculating the total amount of retirement savings here\n",
    "retTotList=[]\n",
    "retTot=0\n",
    "interestRate = .05\n",
    "newMoney = 1000\n",
    "for year in range(48):\n",
    "    print(year+18,retTot)\n",
    "    retTot= (retTot*(1+interestRate))+newMoney\n",
    "    retTotList.append(retTot)\n",
    "    \n",
    "print(retTotList)\n",
    "    \n",
    "    \n"
   ]
  },
  {
   "cell_type": "markdown",
   "metadata": {},
   "source": [
    "---\n",
    "### &#128721; STOP\n",
    "\n",
    "**Check to make sure your code is working correctly.**"
   ]
  },
  {
   "cell_type": "code",
   "execution_count": null,
   "metadata": {},
   "outputs": [],
   "source": [
    "# If your method for checking your results involves writing code, put it here"
   ]
  },
  {
   "cell_type": "markdown",
   "metadata": {},
   "source": [
    "*Explain how you know your code is working correctly.*"
   ]
  },
  {
   "cell_type": "markdown",
   "metadata": {},
   "source": [
    "<font size=6 color=\"#009600\">&#9998;</font> *Put your explanation here!* \n",
    "calculator!\n",
    "1000*1.05+1000=2050\n",
    "2050*1.05+1000=3152.5\n",
    "yay"
   ]
  },
  {
   "cell_type": "markdown",
   "metadata": {},
   "source": [
    "## 3. Coding up your solution (Range of Values)\n",
    "\n",
    "### &#9989;&nbsp; 3.1 Putting in a Range of Values\n",
    "**Take the code you wrote in Part 2 and expand on it so that you can calculate total retirement savings for a range of different input parameters.** To start, try 3 different annual contribution values and 4 different interests rates, but try to write your code so that you could easily do greater or fewer numbers of values for both parameters.\n",
    "\n",
    "**Note:** To explore a range of input parameters, you may want to use a \"nested\" loop (a loop inside a loop). Look back at the pre-class assignment for an example!"
   ]
  },
  {
   "cell_type": "code",
   "execution_count": 46,
   "metadata": {
    "tags": []
   },
   "outputs": [
    {
     "name": "stdout",
     "output_type": "stream",
     "text": [
      "[[16450, 17943, 19481, 21066, 22698, 24379, 26110, 27893, 29730, 31622, 33571, 35578, 37645, 39775, 41968, 44227, 46554, 48950, 51419, 53962, 56580, 59278, 62056, 64918, 67865, 70901, 74028, 77249, 80567, 83984, 87503, 91128, 94862, 98708, 102670, 106750, 110952, 115281, 119739, 124331, 129061, 133933, 138951, 144120, 149443, 154927, 160574, 166392], [16750, 18587, 20516, 22542, 24669, 26903, 29248, 31710, 34296, 37011, 39861, 42854, 45997, 49297, 52762, 56400, 60220, 64231, 68443, 72865, 77508, 82384, 87503, 92878, 98522, 104448, 110670, 117204, 124064, 131267, 138831, 146772, 155111, 163867, 173060, 182713, 192849, 203491, 214666, 226399, 238719, 251655, 265238, 279500, 294475, 310199, 326708, 344044], [17050, 19243, 21590, 24101, 26789, 29664, 32740, 36032, 39554, 43323, 47356, 51671, 56288, 61228, 66514, 72170, 78222, 84698, 91626, 99040, 106973, 115461, 124544, 134262, 144660, 155786, 167691, 180430, 194060, 208644, 224249, 240947, 258813, 277930, 298385, 320272, 343691, 368750, 395562, 424251, 454949, 487796, 522941, 560547, 600786, 643841, 689909, 739203]]\n",
      "[[17450, 19973, 22572, 25249, 28007, 30847, 33773, 36786, 39889, 43086, 46379, 49770, 53263, 56861, 60567, 64384, 68315, 72365, 76536, 80832, 85257, 89815, 94509, 99344, 104325, 109454, 114738, 120180, 125786, 131559, 137506, 143631, 149940, 156438, 163132, 170026, 177126, 184440, 191973, 199733, 207725, 215956, 224435, 233168, 242163, 251428, 260971, 270800], [17750, 20637, 23669, 26852, 30195, 33705, 37390, 41260, 45323, 49589, 54068, 58772, 63710, 68896, 74341, 80058, 86061, 92364, 98982, 105931, 113227, 120889, 128933, 137380, 146249, 155561, 165340, 175607, 186387, 197706, 209592, 222071, 235175, 248934, 263380, 278549, 294477, 311201, 328761, 347199, 366559, 386887, 408231, 430643, 454175, 478884, 504828, 532069], [18050, 21313, 24805, 28541, 32539, 36817, 41394, 46292, 51532, 57140, 63139, 69559, 76428, 83778, 91643, 100058, 109062, 118697, 129005, 140036, 151838, 164467, 177980, 192438, 207909, 224463, 242175, 261127, 281406, 303105, 326322, 351165, 377746, 406189, 436622, 469186, 504029, 541311, 581202, 623887, 669559, 718428, 770718, 826668, 886535, 950592, 1019134, 1092473]]\n",
      "[[18450, 22003, 25663, 29433, 33316, 37316, 41435, 45678, 50048, 54550, 59186, 63962, 68881, 73947, 79166, 84541, 90077, 95779, 101653, 107702, 113933, 120351, 126962, 133771, 140784, 148007, 155448, 163111, 171005, 179135, 187509, 196134, 205018, 214169, 223594, 233302, 243301, 253600, 264208, 275134, 286388, 297980, 309919, 322217, 334883, 347930, 361367, 375208], [18750, 22687, 26821, 31162, 35721, 40507, 45532, 50809, 56349, 62167, 68275, 74689, 81423, 88494, 95919, 103715, 111901, 120496, 129521, 138997, 148947, 159394, 170364, 181882, 193976, 206675, 220009, 234009, 248710, 264145, 280352, 297370, 315239, 334001, 353701, 374386, 396105, 418910, 442856, 467999, 494399, 522119, 551225, 581786, 613875, 647569, 682947, 720095], [19050, 23383, 28020, 32981, 38290, 43970, 50048, 56552, 63510, 70956, 78923, 87448, 96569, 106329, 116772, 127946, 139902, 152696, 166384, 181031, 196703, 213473, 231416, 250615, 271158, 293139, 316659, 341825, 368753, 397566, 428395, 461383, 496680, 534447, 574859, 618099, 664366, 713872, 766843, 823522, 884168, 949060, 1018494, 1092789, 1172284, 1257344, 1348358, 1445743]]\n"
     ]
    }
   ],
   "source": [
    "startAge=18\n",
    "endAge=65\n",
    "finalRetTotalList = []\n",
    "intRateList = [0.03, 0.05, 0.07]\n",
    "newMoneyList = [1000, 2000, 3000]\n",
    "for newMoney in newMoneyList:\n",
    "    varNewMoney = []\n",
    "    retTotal = 15000\n",
    "    for intRate in intRateList:\n",
    "        varRateList = []\n",
    "        retTotalCopy = retTotal\n",
    "        for i in range(endAge+1-startAge):\n",
    "            retTotalCopy = (retTotalCopy*(1+intRate)) + newMoney\n",
    "            varRateList.append(int(retTotalCopy))\n",
    "        varNewMoney.append(varRateList)\n",
    "    finalRetTotalList.append(varNewMoney)\n",
    "for i in finalRetTotalList:\n",
    "    print(i)"
   ]
  },
  {
   "cell_type": "markdown",
   "metadata": {},
   "source": [
    "## 4. Bringing in new customers\n",
    "\n",
    "Your boss says the bank is trying to attract customers that don't start saving for retirement until later in life, and they're trying to find a good way to do this. You suggest offering **double the usual interest rate** for people that don't start saving until they're 30. \n",
    "\n",
    "Your boss likes the idea and wants you to run the numbers. \n",
    "\n",
    "### &#9989;&nbsp; 4.1 Answering your Boss' Question, Code\n",
    "**Who would end up with more money saved: someone that starts saving at 18 with a normal interest rate, or someone that starts saving at 30 with double the interest rate?**"
   ]
  },
  {
   "cell_type": "code",
   "execution_count": 53,
   "metadata": {
    "tags": []
   },
   "outputs": [
    {
     "name": "stdout",
     "output_type": "stream",
     "text": [
      "[[16450, 17943, 19481, 21066, 22698, 24379, 26110, 27893, 29730, 31622, 33571, 35578, 37645, 39775, 41968, 44227, 46554, 48950, 51419, 53962, 56580, 59278, 62056, 64918, 67865, 70901, 74028, 77249, 80567, 83984, 87503, 91128, 94862, 98708, 102670, 106750], [16900, 18914, 21048, 23311, 25710, 28253, 30948, 33805, 36833, 40043, 43446, 47052, 50876, 54928, 59224, 63777, 68604, 73720, 79143, 84892, 90986, 97445, 104292, 111549, 119242, 127397, 136040, 145203, 154915, 165210, 176123, 187690, 199952, 212949, 226726, 241329]]\n"
     ]
    }
   ],
   "source": [
    "# Put your code here\n",
    "endAge=65\n",
    "startAgeList=[18,30]\n",
    "finalRetTotalList = []\n",
    "intRateList = [0.03, 0.06]\n",
    "newMoneyList = [1000]\n",
    "for newMoney in newMoneyList:\n",
    "    varNewMoney = []\n",
    "    retTotal = 15000\n",
    "    for intRate in intRateList:\n",
    "        varRateList = []\n",
    "        retTotalCopy = retTotal\n",
    "        for startAge in startAgeList:\n",
    "            varStartList = []\n",
    "            retTotalCopy = retTotal\n",
    "        for i in range(endAge+1-startAge):\n",
    "            retTotalCopy = (retTotalCopy*(1+intRate)) + newMoney\n",
    "            varRateList.append(int(retTotalCopy))\n",
    "        varNewMoney.append(varRateList)\n",
    "    finalRetTotalList.append(varNewMoney)\n",
    "for i in finalRetTotalList:\n",
    "    print(i)\n",
    "\n",
    "    #241329 > 106750"
   ]
  },
  {
   "cell_type": "markdown",
   "metadata": {},
   "source": [
    "### &#9989;&nbsp; 4.2 Answering your Boss' Question, Answer\n",
    "\n",
    "**Who would end up saving more money for retirement?**"
   ]
  },
  {
   "cell_type": "markdown",
   "metadata": {},
   "source": [
    "*The 18 year old will make more money, as the original value would have compounded much more than the 30 year old's over time, even if the rates were doubled.*"
   ]
  },
  {
   "cell_type": "markdown",
   "metadata": {},
   "source": [
    "---\n",
    "## Assignment wrap-up\n",
    "\n",
    "Please fill out the form that appears when you run the code below. ***For today's assignment, ignore the part about pre-class assignment.*  You must completely fill this out in order to receive credit for the assignment!** "
   ]
  },
  {
   "cell_type": "code",
   "execution_count": 54,
   "metadata": {
    "tags": []
   },
   "outputs": [
    {
     "data": {
      "text/html": [
       "\n",
       "<iframe \n",
       "\tsrc=\"https://cmse.msu.edu/cmse201-ic-survey\" \n",
       "\twidth=\"800px\" \n",
       "\theight=\"600px\" \n",
       "\tframeborder=\"0\" \n",
       "\tmarginheight=\"0\" \n",
       "\tmarginwidth=\"0\">\n",
       "\tLoading...\n",
       "</iframe>\n"
      ],
      "text/plain": [
       "<IPython.core.display.HTML object>"
      ]
     },
     "execution_count": 54,
     "metadata": {},
     "output_type": "execute_result"
    }
   ],
   "source": [
    "from IPython.display import HTML\n",
    "HTML(\n",
    "\"\"\"\n",
    "<iframe \n",
    "\tsrc=\"https://cmse.msu.edu/cmse201-ic-survey\" \n",
    "\twidth=\"800px\" \n",
    "\theight=\"600px\" \n",
    "\tframeborder=\"0\" \n",
    "\tmarginheight=\"0\" \n",
    "\tmarginwidth=\"0\">\n",
    "\tLoading...\n",
    "</iframe>\n",
    "\"\"\"\n",
    ")"
   ]
  },
  {
   "cell_type": "markdown",
   "metadata": {},
   "source": [
    "## Congratulations, you're done!\n",
    "\n",
    "Submit this assignment by uploading it to the course Desire2Learn web page.  Go to the \"In-class assignments\" folder, find the appropriate submission link, and upload it there.\n",
    "\n",
    "See you next class!"
   ]
  },
  {
   "cell_type": "markdown",
   "metadata": {},
   "source": [
    "&#169; Copyright 2023,  Department of Computational Mathematics, Science and Engineering at Michigan State University."
   ]
  }
 ],
 "metadata": {
  "kernelspec": {
   "display_name": "Python 3 (ipykernel)",
   "language": "python",
   "name": "python3"
  },
  "language_info": {
   "codemirror_mode": {
    "name": "ipython",
    "version": 3
   },
   "file_extension": ".py",
   "mimetype": "text/x-python",
   "name": "python",
   "nbconvert_exporter": "python",
   "pygments_lexer": "ipython3",
   "version": "3.11.5"
  },
  "vscode": {
   "interpreter": {
    "hash": "31f2aee4e71d21fbe5cf8b01ff0e069b9275f58929596ceb00d14d90e3e16cd6"
   }
  }
 },
 "nbformat": 4,
 "nbformat_minor": 4
}
