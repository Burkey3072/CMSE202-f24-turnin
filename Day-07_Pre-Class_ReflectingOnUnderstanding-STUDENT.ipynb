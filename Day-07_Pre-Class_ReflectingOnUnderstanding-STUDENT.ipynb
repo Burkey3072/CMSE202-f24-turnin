{
 "cells": [
  {
   "cell_type": "markdown",
   "metadata": {},
   "source": [
    "# Day 7 Pre-Class Assignment: A reflection on what you've learned so far!"
   ]
  },
  {
   "cell_type": "markdown",
   "metadata": {},
   "source": [
    "### <p style=\"text-align: right;\"> &#9989; Joseph Burke</p>"
   ]
  },
  {
   "cell_type": "markdown",
   "metadata": {},
   "source": [
    "### <p style=\"text-align: right;\"> &#9989; Group 9 Section 005 </p>"
   ]
  },
  {
   "cell_type": "markdown",
   "metadata": {},
   "source": [
    "<img src=\"https://www.dictionary.com/e/wp-content/uploads/2018/03/Thinking_Face_Emoji-Emoji-Island.png\" width=\"100px\" align=\"right\">\n",
    "\n",
    "### Goals for this pre-class assignment\n",
    "By the end of this assignment, you should be able to:\n",
    "* Identify the content we've covered thus far in the course that you feel confident about\n",
    "* Identify the content that you feel like you could use more practice with or feel less confident about\n",
    "* Come up with a strategy for patching the gaps in your understanding or new computational skillset\n",
    "\n",
    "### Assignment instructions\n",
    "\n",
    "Watch the videos below, do the readings linked to below the videos, and complete the assigned programming problems.  Please get started early, and come to office hours if you have any questions! Make use of Slack as well!\n",
    "\n",
    "**This assignment is due by 11:59 p.m. the day before class,** and should be uploaded into appropriate the \"Pre-class assignments\" submission folder.  Submission instructions can be found at the end of the notebook."
   ]
  },
  {
   "cell_type": "markdown",
   "metadata": {},
   "source": [
    "---\n",
    "## Overview of the concepts we've covered so far\n",
    "\n",
    "Thus far in the course we've gone through a number of fundamental Python concepts and practiced a variety of programming skills. For many of you, just a few weeks ago, you had no prior coding experience and now you're writing algorithms that tackle a variety of problems.\n",
    "\n",
    "The key Python (and general programming) concepts we've covered so far to build algorithms include the following:\n",
    "\n",
    "* Defining variables in Pythong (e.g. intergers, floats, strings, lists)\n",
    "\n",
    "* Doing simple math using arithmetic operators (e.g. `+`, `-`, `*`, `/`) and concatenation of strings (also using `+`)\n",
    "\n",
    "* Storing information in lists and manipulating them by change values or appending values\n",
    "\n",
    "* Writing `for` loops and `while` loops to loop in the following ways:\n",
    "    - Looping by integer or index (i.e. `for i in range(len(mylist)):`)\n",
    "    - Looping by value over a list (i.e. `for val in list_of_values:`)\n",
    "    - Looping by condition (i.e. `while n < cut_off:`)\n",
    "<br>\n",
    "<br>\n",
    "* Controlling code flow using conditional statements (`if` statements as well as `elif` and `else`)\n",
    "\n",
    "* Defining functions to write code that is **modular**, **resuable**, and **useful**.\n",
    "\n",
    "* Understanding error messages and trouble-shooting code when bugs arises (i.e. \"debugging\" your code). You've been doing this implicitly throughout the course!\n",
    "\n",
    "We also spent some time talking about **data ethics** and specifically looked at how things issues **data bias** and **algorithmic bias** exist in the modern world. We reflected on how these sorts of bias can be combatted and considered how we can hold ourselves to high ethical standards and uphold academic integrity as we work through the materials in this course.\n",
    "\n",
    "#### Now is the time to **pause, look back, and consider what you feel like you _know_ and what you could still use more time and practice with.**"
   ]
  },
  {
   "cell_type": "markdown",
   "metadata": {},
   "source": [
    "---\n",
    "## A moment of self-reflection\n",
    "\n",
    "As we find ourselves learning new things and pushing the boundaries of our current, we can often feel like we are constantly in a state of _not knowing_. This can be a bit overwhelming if we stay in that state constantly, so this pre-class assignment is an opportunity to take a breath, and review all of things you have already learned in just a few class periods.\n",
    "\n",
    "**Review list of concepts and ideas above that we've covered so far in class and then respond to the following prompts**:"
   ]
  },
  {
   "cell_type": "markdown",
   "metadata": {},
   "source": [
    "#### &#9989;&nbsp; What concepts and Python skills do you feel like you have a strong understanding of and could use to solve a problem or build an algorithm?\n",
    "List *all* of the concepts for which this is true."
   ]
  },
  {
   "cell_type": "markdown",
   "metadata": {},
   "source": [
    "<font size=6 color=\"#009600\">&#9998;</font> *I feel like i greatly understand indexes lists and for loops and how to use additional variables to get code to operate how I see it useful.  I'm learning a good deal about functions but still find them to be more difficult than others.  I also I believe I understand if/else statements well.  I see myself being able to search through data to find what I need or to quickly be able to summarize large data for others*"
   ]
  },
  {
   "cell_type": "markdown",
   "metadata": {},
   "source": [
    "#### &#9989;&nbsp; What concepts and Python skills do you feel like you have a weaker understanding of and might struggle to use to solve a problem or build an algorithm?\n",
    "List *all* of the concepts for which this is true."
   ]
  },
  {
   "cell_type": "markdown",
   "metadata": {},
   "source": [
    "<font size=6 color=\"#009600\">&#9998;</font> *I think while loops and the concept of return in functions and initially calling functions is difficult to grasp*"
   ]
  },
  {
   "cell_type": "markdown",
   "metadata": {},
   "source": [
    "#### &#9989;&nbsp; Are there any concepts that you feel like you don't understand at all currently? If so, make note of them here.\n",
    "List *all* of the concepts for which this is true."
   ]
  },
  {
   "cell_type": "markdown",
   "metadata": {},
   "source": [
    "<font size=6 color=\"#009600\">&#9998;</font> *I think I have at least some understanding of all of the topics we've covered.  I'm grateful for the refresher!*"
   ]
  },
  {
   "cell_type": "markdown",
   "metadata": {},
   "source": [
    "#### &#9989;&nbsp; Take a look back through the assignments we've completed so far in the course. Are there any specific assignments that you would like to revisit or having lingering questions about?\n",
    "List *all* of the assignments for which this is true and make note of the ones you would most like to discuss with someone. You'll have the opportunity in class to ask some of these questions. You can easily skim the assignments on the course website: https://cmse.msu.edu/cmse201"
   ]
  },
  {
   "cell_type": "markdown",
   "metadata": {},
   "source": [
    "<font size=6 color=\"#009600\">&#9998;</font> *I believe I would love to spend more time with the first lesson on functions and the lesson on while loops. Those assignments were challenging and time consuming and I feel like I can give them more effort.*"
   ]
  },
  {
   "cell_type": "markdown",
   "metadata": {},
   "source": [
    "#### &#9989;&nbsp; In reflecting on the videos you watched, the articles you read, and the discussions you had in class regarding data bias and algorithmic bias, what were some of the big take-aways you ended up with? What surprised you the most, if anything? What things might you do in the future to increase your awareness of these issues or prevent yourself for perpetuating some of this same bias?"
   ]
  },
  {
   "cell_type": "markdown",
   "metadata": {},
   "source": [
    "<font size=6 color=\"#009600\">&#9998;</font> *I love how easy it is to simplify data using code.  With code I'm able to make something that can take a broad range of variables from multiple people and places and be able to search through it for specific things and have the code make decisions and stratify information and place them in multiple places and be able to port that over so quickly to any other person.*"
   ]
  },
  {
   "cell_type": "markdown",
   "metadata": {},
   "source": [
    "---\n",
    "## Coming up with a plan\n",
    "\n",
    "Now that you've reflected on the course up to this point and where you feel confident and where you feel less confident, **what is your plan for trying to address the weaker points or patch some gaps in your knowledge or skills?** You should come up with a plan that is more specific than \"Go to office hours or help room\".\n",
    "\n",
    "#### &#9989;&nbsp; Think about the key areas where you feel like your confidence and abilities could be increased and try to come up with some concrete questions to ask, previous assignments you could work through again, or specific practice opportunites you plan to seek out to boost your confidence, knowledge, and skills. Record these ideas below.\n",
    "\n",
    "Learning to write code and build algorithms takes practice and time, but coming up with a concrete plan can help to make your effort more impactful."
   ]
  },
  {
   "cell_type": "markdown",
   "metadata": {},
   "source": [
    "<font size=6 color=\"#009600\">&#9998;</font> *I plan on revisting the topics of while loops and experimenting on my own with the true scope of functions.  I want to rewatch the videos and import data from sources like the squirrel spotting, and see how I can use different functions and while loops to simplify my coding.  I also plan on spending more time between classes on CMSE in order to reduce the amount of stress I have at the end of the night when trying to get all my homework and studying done.  I look forward to meeting with TA's and building closer relationships with classmates as we learn together and share our insights and ideas with eachother.*"
   ]
  },
  {
   "cell_type": "markdown",
   "metadata": {},
   "source": [
    "---\n",
    "## What will we be doing in class based on what you've done here?\n",
    "\n",
    "In class, we'll be taking a sort of \"choose your own adventure\" approach to brushing up on some of the concepts and skills you feel like you would use more practice or time with. There will be a variety of content and concepts available and you'll be able to spend time reviewing and practicing in the key areas where you feel like you could use the extra practice. The instructors will be available to help answer questions and address any gaps you feel like you might have in your knowledge or skillset right now. You can also use this class time to ask questions about previous assignments that you haven't had a chance to get answered.\n",
    "\n",
    "**Make sure you think about which of these areas you'd most like to spend some time on before you come to class**\n",
    "\n",
    "You'll also be able to use the Day 7 in-class assignment as a tool for preparing for the first quiz as well!"
   ]
  },
  {
   "cell_type": "markdown",
   "metadata": {},
   "source": [
    "---\n",
    "## Follow-up Questions\n",
    "\n",
    "Copy and paste the following questions into the appropriate box in the assignment survey include below and answer them there. (Note: You'll have to fill out the section number and the assignment number and go to the \"NEXT\" section of the survey to paste in these questions.)\n",
    "\n",
    "1. Considering your responses to the questions above prompts, which concept do you feel like you are most confident in right now?\n",
    "\n",
    "2. Which concept do you have the most questions about or could use the most time practicing?\n",
    "\n",
    "3. What concerns, if any, do you have about the first quiz?"
   ]
  },
  {
   "cell_type": "markdown",
   "metadata": {},
   "source": [
    "---\n",
    "## Assignment wrap-up\n",
    "\n",
    "Please fill out the form that appears when you run the code below.  **You must completely fill this out in order to receive credit for the assignment!**"
   ]
  },
  {
   "cell_type": "code",
   "execution_count": 1,
   "metadata": {
    "tags": []
   },
   "outputs": [
    {
     "data": {
      "text/html": [
       "\n",
       "<iframe \n",
       "\tsrc=\"https://cmse.msu.edu/cmse201-pc-survey\" \n",
       "\twidth=\"800px\" \n",
       "\theight=\"600px\" \n",
       "\tframeborder=\"0\" \n",
       "\tmarginheight=\"0\" \n",
       "\tmarginwidth=\"0\">\n",
       "\tLoading...\n",
       "</iframe>\n"
      ],
      "text/plain": [
       "<IPython.core.display.HTML object>"
      ]
     },
     "execution_count": 1,
     "metadata": {},
     "output_type": "execute_result"
    }
   ],
   "source": [
    "from IPython.display import HTML\n",
    "HTML(\n",
    "\"\"\"\n",
    "<iframe \n",
    "\tsrc=\"https://cmse.msu.edu/cmse201-pc-survey\" \n",
    "\twidth=\"800px\" \n",
    "\theight=\"600px\" \n",
    "\tframeborder=\"0\" \n",
    "\tmarginheight=\"0\" \n",
    "\tmarginwidth=\"0\">\n",
    "\tLoading...\n",
    "</iframe>\n",
    "\"\"\"\n",
    ")"
   ]
  },
  {
   "cell_type": "markdown",
   "metadata": {},
   "source": [
    "### Congratulations, you're done!\n",
    "\n",
    "Submit this assignment by uploading it to the course Desire2Learn web page.  Go to the \"Pre-class assignments\" folder, find the appropriate assignment submission link, and upload it there.\n",
    "\n",
    "See you in class!"
   ]
  },
  {
   "cell_type": "markdown",
   "metadata": {},
   "source": [
    "&#169; Copyright 2023, The Department of Computational Mathematics, Science and Engineering at Michigan State University"
   ]
  }
 ],
 "metadata": {
  "kernelspec": {
   "display_name": "Python 3 (ipykernel)",
   "language": "python",
   "name": "python3"
  },
  "language_info": {
   "codemirror_mode": {
    "name": "ipython",
    "version": 3
   },
   "file_extension": ".py",
   "mimetype": "text/x-python",
   "name": "python",
   "nbconvert_exporter": "python",
   "pygments_lexer": "ipython3",
   "version": "3.11.5"
  },
  "vscode": {
   "interpreter": {
    "hash": "57d964a2ef938b66daa93f67207194045a8aae98a88dc0c9d20f5f06155eead0"
   }
  },
  "widgets": {
   "application/vnd.jupyter.widget-state+json": {
    "state": {},
    "version_major": 2,
    "version_minor": 0
   }
  }
 },
 "nbformat": 4,
 "nbformat_minor": 4
}
