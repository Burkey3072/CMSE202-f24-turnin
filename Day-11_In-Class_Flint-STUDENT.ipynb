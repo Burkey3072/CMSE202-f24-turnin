{
 "cells": [
  {
   "cell_type": "markdown",
   "id": "f785c2ce",
   "metadata": {},
   "source": [
    "# Day 11 In-class Assignment: Get the Lead Out: Understanding The Water Crisis in Flint, MI"
   ]
  },
  {
   "cell_type": "markdown",
   "id": "35fd0ecc-5418-4c7c-8623-54d8600aa848",
   "metadata": {},
   "source": [
    "### <p style=\"text-align: right;\"> &#9989; Joseph Burke.</p>\n",
    "\n",
    "#### <p style=\"text-align: right;\"> &#9989; Myself tonight :(.</p>"
   ]
  },
  {
   "cell_type": "markdown",
   "id": "c7e0fdbd-913c-49d7-bf08-a0b5f839d128",
   "metadata": {},
   "source": [
    "<div align=\"center\"><img src=\"https://assets1.cbsnewsstatic.com/hub/i/r/2017/09/21/d348dfb2-b44c-49de-95c5-893fdf143ce6/thumbnail/620x349/d43e72275d7f4c4966124cfd9e66e22a/0921-eve-flinthearing-reynolds.jpg\" width=600px></div>\n"
   ]
  },
  {
   "cell_type": "markdown",
   "id": "8e3d5350-cabb-4433-9c36-aa41dcc673dd",
   "metadata": {},
   "source": [
    "## Learning Goals:\n",
    "\n",
    "By the end of this assignment you should be able to:\n",
    "* Use Pandas to filter data to select particular subsets of interest\n",
    "* Articulate, based on your own perception, what you thinks makes a data visualization \"good\" versus \"bad\"\n",
    "* Use data to support a claim or make an argument"
   ]
  },
  {
   "cell_type": "markdown",
   "id": "4b7e6f52-94e3-49ff-8be9-c1da9cf5f63d",
   "metadata": {},
   "source": [
    "## Assignment instructions\n",
    "\n",
    "Work with your group to complete this assignment. Instructions for submitting this assignment are at the end of the notebook. The assignment is due at the end of class."
   ]
  },
  {
   "cell_type": "markdown",
   "id": "f33adaae-175a-4de0-bd28-f57d8350f905",
   "metadata": {},
   "source": [
    "---\n",
    "# Background and motivation\n",
    "\n",
    "Today we want you to think about what the data is telling you, but still use coding to help you; and, use some of the visualization ideas you explored above. We'll be looking at the publicly released [Flint Water Quality dataset](http://flintwaterstudy.org/2015/12/complete-dataset-lead-results-in-tap-water-for-271-flint-samples/). The water testing method involves collecting three different bottles worth of water.\n",
    "\n",
    "**Review the properties of the data, read the descriptions of the data fields, and review what the Evironmental Protection Agency (EPA) limits are on lead in water supplies.**"
   ]
  },
  {
   "cell_type": "code",
   "execution_count": 1,
   "id": "5603307b-fef8-4572-9143-1fb0310c9141",
   "metadata": {
    "tags": []
   },
   "outputs": [],
   "source": [
    "import matplotlib.pyplot as plt\n",
    "\n",
    "import numpy as np\n",
    "import pandas as pd\n",
    "\n",
    "# Loading the data\n",
    "flint = pd.read_csv('flint_water_data.csv')"
   ]
  },
  {
   "cell_type": "markdown",
   "id": "c1a0e9f6",
   "metadata": {},
   "source": [
    "Double-check that your data loaded correctly by displaying the first first lines."
   ]
  },
  {
   "cell_type": "code",
   "execution_count": 2,
   "id": "18e59374",
   "metadata": {},
   "outputs": [
    {
     "data": {
      "text/html": [
       "<div>\n",
       "<style scoped>\n",
       "    .dataframe tbody tr th:only-of-type {\n",
       "        vertical-align: middle;\n",
       "    }\n",
       "\n",
       "    .dataframe tbody tr th {\n",
       "        vertical-align: top;\n",
       "    }\n",
       "\n",
       "    .dataframe thead th {\n",
       "        text-align: right;\n",
       "    }\n",
       "</style>\n",
       "<table border=\"1\" class=\"dataframe\">\n",
       "  <thead>\n",
       "    <tr style=\"text-align: right;\">\n",
       "      <th></th>\n",
       "      <th>SampleID</th>\n",
       "      <th>Zip Code</th>\n",
       "      <th>Ward</th>\n",
       "      <th>PbBottle1_ppb</th>\n",
       "      <th>PbBottle2_ppb</th>\n",
       "      <th>PbBottle3_ppb</th>\n",
       "      <th>Notes</th>\n",
       "    </tr>\n",
       "  </thead>\n",
       "  <tbody>\n",
       "    <tr>\n",
       "      <th>0</th>\n",
       "      <td>1</td>\n",
       "      <td>48504</td>\n",
       "      <td>6</td>\n",
       "      <td>0.344</td>\n",
       "      <td>0.226</td>\n",
       "      <td>0.145</td>\n",
       "      <td>NaN</td>\n",
       "    </tr>\n",
       "    <tr>\n",
       "      <th>1</th>\n",
       "      <td>2</td>\n",
       "      <td>48507</td>\n",
       "      <td>9</td>\n",
       "      <td>8.133</td>\n",
       "      <td>10.770</td>\n",
       "      <td>2.761</td>\n",
       "      <td>NaN</td>\n",
       "    </tr>\n",
       "    <tr>\n",
       "      <th>2</th>\n",
       "      <td>4</td>\n",
       "      <td>48504</td>\n",
       "      <td>1</td>\n",
       "      <td>1.111</td>\n",
       "      <td>0.110</td>\n",
       "      <td>0.123</td>\n",
       "      <td>NaN</td>\n",
       "    </tr>\n",
       "    <tr>\n",
       "      <th>3</th>\n",
       "      <td>5</td>\n",
       "      <td>48507</td>\n",
       "      <td>8</td>\n",
       "      <td>8.007</td>\n",
       "      <td>7.446</td>\n",
       "      <td>3.384</td>\n",
       "      <td>NaN</td>\n",
       "    </tr>\n",
       "    <tr>\n",
       "      <th>4</th>\n",
       "      <td>6</td>\n",
       "      <td>48505</td>\n",
       "      <td>3</td>\n",
       "      <td>1.951</td>\n",
       "      <td>0.048</td>\n",
       "      <td>0.035</td>\n",
       "      <td>NaN</td>\n",
       "    </tr>\n",
       "  </tbody>\n",
       "</table>\n",
       "</div>"
      ],
      "text/plain": [
       "   SampleID  Zip Code  Ward  PbBottle1_ppb  PbBottle2_ppb  PbBottle3_ppb Notes\n",
       "0         1     48504     6          0.344          0.226          0.145   NaN\n",
       "1         2     48507     9          8.133         10.770          2.761   NaN\n",
       "2         4     48504     1          1.111          0.110          0.123   NaN\n",
       "3         5     48507     8          8.007          7.446          3.384   NaN\n",
       "4         6     48505     3          1.951          0.048          0.035   NaN"
      ]
     },
     "execution_count": 2,
     "metadata": {},
     "output_type": "execute_result"
    }
   ],
   "source": [
    "# Put your code here\n",
    "flint.head()"
   ]
  },
  {
   "cell_type": "markdown",
   "id": "4ec214b7-7a8d-4c3c-82b0-c482ba6e50f1",
   "metadata": {},
   "source": [
    "#### Description of data fields in this data set:\n",
    "\n",
    "- *SampleID*: Unique study code for each sample\n",
    "- *Zip Code*: location where samples were collected\n",
    "- *Ward*: location where samples were collected\n",
    "- *PbBottle1_ppb*: Concentration of lead in parts per billion (ppb) in sample acquired at initial turn on of water\n",
    "- *PbBottle2_ppb*: Concentration of lead in parts per billion (ppb) in sample acquired after 45 seconds of flushing water\n",
    "- *PbBottle3_ppb*: Concentration of lead in parts per billion (ppb) in sample acquired after 120 seconds of flushing water\n",
    "\n",
    "\n",
    "#### EPA Limits (i.e. how does the EPA define unsafe lead levels in a water supply?)\n",
    "\n",
    "\n",
    "The U.S. Environmental Protection Agency (EPA) guidelines about lead contaminants state:\n",
    "\n",
    "> Lead and copper are regulated by a treatment technique that requires systems to control the corrosiveness of their water. **If more than 10% of tap water samples exceed the action level,** water systems must take additional steps. For copper, the action level is 1.3 mg/L (1300 ppb), and **for lead is 0.015 mg/L (15 ppb).** \n",
    ">\n",
    "> Source: (http://www.epa.gov/your-drinking-water/table-regulated-drinking-water-contaminants#seven). \n",
    "\n",
    "\n"
   ]
  },
  {
   "cell_type": "markdown",
   "id": "1aed7971-b9ce-45b5-8196-8f430573eab1",
   "metadata": {},
   "source": [
    "---\n",
    "## 1. Analysis Using Descriptive Statistics\n",
    "### 1.1\n",
    "Use `describe()` function to determine the mean, standard deviation, min, median, and max of the first set of samples (`PbBottle1_ppb`). "
   ]
  },
  {
   "cell_type": "code",
   "execution_count": 22,
   "id": "10b093df-cc90-4c56-8fa3-56d6259e01a0",
   "metadata": {},
   "outputs": [
    {
     "data": {
      "text/plain": [
       "count    270.000000\n",
       "mean      10.658593\n",
       "std       21.599817\n",
       "min        0.344000\n",
       "25%        1.574500\n",
       "50%        3.502500\n",
       "75%        9.175000\n",
       "max      158.000000\n",
       "Name: PbBottle1_ppb, dtype: float64"
      ]
     },
     "execution_count": 22,
     "metadata": {},
     "output_type": "execute_result"
    }
   ],
   "source": [
    "# Write your code here\n",
    "flint.describe()['PbBottle1_ppb']\n"
   ]
  },
  {
   "cell_type": "markdown",
   "id": "5032024d-195e-403c-975d-043c9116cb43",
   "metadata": {},
   "source": [
    "### 1.2\n",
    "From this information alone, can you determine if the water supply in Flint met the EPA standard?"
   ]
  },
  {
   "cell_type": "markdown",
   "id": "d3f9eab1-bc94-453f-a3c2-3e35696b5081",
   "metadata": {},
   "source": [
    "<font size=\"+3\" color=\"green\">&#9998;</font> *No.  The mean and 75% are both less than 15*"
   ]
  },
  {
   "cell_type": "markdown",
   "id": "385d074d-21ea-4af3-b20d-0295668a7155",
   "metadata": {},
   "source": [
    "### 1.3\n",
    "What are the **median** of the bottle samples? How do they compare to the **mean**? Do you expect this sample to be close to a normal (Gaussian) distribution? (think back on your pre-class assignment about the properties of normal distributions)"
   ]
  },
  {
   "cell_type": "markdown",
   "id": "1dab7d68-ba14-47e8-9547-379ffbce29a9",
   "metadata": {},
   "source": [
    "<font size=\"+3\" color=\"green\">&#9998;</font> *The median is 3.5.  The mean is 10.7.  I expect this sample to be skewed right, with some very large outliers*"
   ]
  },
  {
   "cell_type": "markdown",
   "id": "8450a1cd-0186-495d-98d1-194f9ce81664",
   "metadata": {},
   "source": [
    "---\n",
    "## 2. Analysis Using Visualizations\n",
    "### 2.1\n",
    "Make a histogram visualization of the distribution of the first set of samples (`PbBottle1_ppb`). Use the `axvline()` function to add a line showing where the EPA limit is. (You will may need to use google to remind yourself what this function does.)\n",
    "\n",
    "Also, make sure that your plot has \n",
    "- $x$ and $y$-axes labels\n",
    "- a title\n",
    "- and a legend"
   ]
  },
  {
   "cell_type": "code",
   "execution_count": 4,
   "id": "ca2808b8-728f-4269-812a-71fc7d35f284",
   "metadata": {},
   "outputs": [
    {
     "data": {
      "text/plain": [
       "<matplotlib.legend.Legend at 0x29a9b1ebad0>"
      ]
     },
     "execution_count": 4,
     "metadata": {},
     "output_type": "execute_result"
    },
    {
     "data": {
      "image/png": "[encoded data removed]",
      "text/plain": [
       "<Figure size 640x480 with 1 Axes>"
      ]
     },
     "metadata": {},
     "output_type": "display_data"
    }
   ],
   "source": [
    "# Write your code here\n",
    "plt.hist(flint['PbBottle1_ppb'],label='Bottle1',bins=25)\n",
    "plt.xlabel('pb ppb')\n",
    "plt.ylabel('frequency')\n",
    "plt.title('Flint Lead Frequency')\n",
    "plt.axvline(15,color='red',label='EPA limit')\n",
    "plt.legend()"
   ]
  },
  {
   "cell_type": "markdown",
   "id": "63e8b81b-ad3d-42b6-949c-e089a2c57e0b",
   "metadata": {},
   "source": [
    "### 2.2\n",
    "Does the distribution of samples look like a normal (Gaussian) distribution? Is that what you predicted based on your analysis of the descriptive statistics (Part 1.3)?"
   ]
  },
  {
   "cell_type": "markdown",
   "id": "10c89e5e-ddde-4720-a4e7-bdd690ddfb8b",
   "metadata": {},
   "source": [
    "<font size=\"+3\" color=\"green\">&#9998;</font> *It does not look normal.  Yes it looks skewed right like predicted.*"
   ]
  },
  {
   "cell_type": "markdown",
   "id": "6ae1fecc-45b4-4b09-986b-d1b442203cd4",
   "metadata": {},
   "source": [
    "### 2.3\n",
    "Looking at this, there’s a big pile up of samples that are near or below the EPA limit, and it makes it hard to get a sense of what the full distribution looks like. Use `plt.yscale()` to make the y-axis logarithmic. "
   ]
  },
  {
   "cell_type": "code",
   "execution_count": 6,
   "id": "a5aa5b76-815f-4223-9950-943172a83341",
   "metadata": {},
   "outputs": [
    {
     "data": {
      "text/plain": [
       "<matplotlib.legend.Legend at 0x29a9e067d10>"
      ]
     },
     "execution_count": 6,
     "metadata": {},
     "output_type": "execute_result"
    },
    {
     "data": {
      "image/png": "[encoded data removed]",
      "text/plain": [
       "<Figure size 640x480 with 1 Axes>"
      ]
     },
     "metadata": {},
     "output_type": "display_data"
    }
   ],
   "source": [
    "# Write your code here\n",
    "plt.hist(flint['PbBottle1_ppb'],label='Bottle1')\n",
    "plt.xlabel('pb ppb')\n",
    "plt.ylabel('frequency')\n",
    "plt.title('Flint Lead Frequency')\n",
    "plt.axvline(15,color='red',label='EPA limit')\n",
    "plt.yscale('log')\n",
    "plt.legend()"
   ]
  },
  {
   "cell_type": "markdown",
   "id": "393d804c-c7c3-4e19-924e-e2ace1cc8378",
   "metadata": {},
   "source": [
    "### 2.4\n",
    "As discussed in the pre-class, logarithmic scales allow us to get a better handle on distributions with a *large dynamic range*. Use your log plot estimate the number of samples that lie above the EPA limit by counting the number of samples that fall into the bins that are above the limit.\n",
    "\n",
    "What fraction of the total samples appear to fall above the EPA limit?"
   ]
  },
  {
   "cell_type": "markdown",
   "id": "7c5e8c0d-12d7-4ea8-ad78-f85d39f872f3",
   "metadata": {},
   "source": [
    "<font size=\"+3\" color=\"green\">&#9998;</font> *1/4*"
   ]
  },
  {
   "cell_type": "markdown",
   "id": "c9e77432-fca4-42d5-84e9-e078ee4bec39",
   "metadata": {},
   "source": [
    "### 2.5\n",
    "Based on this analysis, does it appear that the Flint samples met the EPA standards?"
   ]
  },
  {
   "cell_type": "markdown",
   "id": "32967e2b-e67b-4d18-b8bd-2974ee970211",
   "metadata": {},
   "source": [
    "<font size=\"+3\" color=\"green\">&#9998;</font> *No i do not believe the Flint samples met the EPA standards|*"
   ]
  },
  {
   "cell_type": "markdown",
   "id": "2a14d1b1-5daa-4a8a-a73a-f78292511fd4",
   "metadata": {},
   "source": [
    "## STOP\n",
    "Based on your analysis so far, answer the following question: ***Would you feel comfortable drinking a glass of water in Flint at the height of the water crisis?***"
   ]
  },
  {
   "cell_type": "markdown",
   "id": "7bfd5c30-8029-4f2d-8fc3-c1431f67d553",
   "metadata": {},
   "source": [
    "<font size=\"+3\" color=\"green\">&#9998;</font> *Yea no*"
   ]
  },
  {
   "cell_type": "markdown",
   "id": "c6b43fae-e4ce-4ee5-a397-631cd2df4acb",
   "metadata": {},
   "source": [
    "---\n",
    "## 3. Analysis Using Masks\n",
    "\n",
    "In the previous part, you used descriptive statistics and a visualization to try to estimate the number of samples that fell above the EPA limit. Now we’re going to actually count the number that actually don’t meet the EPA regulation. \n",
    "\n",
    "### 3.1\n",
    "\n",
    "Create a mask and a new dataframe that only contain samples where `PbBottle1_ppb` was greater than the EPA limit."
   ]
  },
  {
   "cell_type": "code",
   "execution_count": 20,
   "id": "ac2a475d-8320-4d40-a023-5697e54eac71",
   "metadata": {},
   "outputs": [
    {
     "name": "stdout",
     "output_type": "stream",
     "text": [
      "270\n",
      "6       40.63\n",
      "11      24.37\n",
      "19     120.00\n",
      "21      16.52\n",
      "28      66.88\n",
      "29      20.41\n",
      "30     109.60\n",
      "51      30.91\n",
      "58     105.30\n",
      "72      31.14\n",
      "73     102.70\n",
      "81      75.82\n",
      "82     138.80\n",
      "93      31.06\n",
      "95      23.85\n",
      "106     59.00\n",
      "111     15.90\n",
      "123     43.19\n",
      "125     66.24\n",
      "131     27.05\n",
      "145     32.85\n",
      "147     38.02\n",
      "157     27.02\n",
      "162     25.21\n",
      "163     15.55\n",
      "166     26.64\n",
      "168     19.16\n",
      "169     28.70\n",
      "170     20.22\n",
      "172     18.86\n",
      "174    118.40\n",
      "175     27.45\n",
      "182    158.00\n",
      "216     34.13\n",
      "218     15.73\n",
      "232     22.08\n",
      "233     16.51\n",
      "234     56.26\n",
      "237     29.13\n",
      "240     16.49\n",
      "245     28.91\n",
      "252     19.12\n",
      "262     16.99\n",
      "265     18.11\n",
      "268     29.59\n",
      "Name: PbBottle1_ppb, dtype: float64\n",
      "45\n"
     ]
    },
    {
     "data": {
      "text/plain": [
       "0.16666666666666666"
      ]
     },
     "execution_count": 20,
     "metadata": {},
     "output_type": "execute_result"
    }
   ],
   "source": [
    "# Write your code here\n",
    "vals = flint['PbBottle1_ppb']\n",
    "print(len(vals))\n",
    "dirty = (vals > 15)\n",
    "filtered = vals[dirty]\n",
    "print(filtered)\n",
    "print(len(filtered))\n",
    "45/270"
   ]
  },
  {
   "cell_type": "markdown",
   "id": "5218243e-4b8e-47fb-98e2-e7d2782c4243",
   "metadata": {},
   "source": [
    "### 3.2\n",
    "Answer the following questions: \n",
    "1. How many samples were above the EPA limit? \n",
    "2. What fraction of the total samples does this comprise? "
   ]
  },
  {
   "cell_type": "markdown",
   "id": "79eac5e8-334a-4c73-82b1-02613d88c049",
   "metadata": {},
   "source": [
    "<font size=\"+3\" color=\"green\">&#9998;</font> *45 samples over the limit.  this is 16% of the 270*"
   ]
  },
  {
   "cell_type": "markdown",
   "id": "5ff3e50c-863f-4fe2-b3ab-3b5f940c7e50",
   "metadata": {},
   "source": [
    "### 3.3\n",
    "Based on this analysis, do these samples meet the EPA standards?"
   ]
  },
  {
   "cell_type": "markdown",
   "id": "306970ba-26af-4b4d-92cc-5856cbacb518",
   "metadata": {},
   "source": [
    "<font size=\"+3\" color=\"green\">&#9998;</font> *No.  More than 10% violate the EPA standards*"
   ]
  },
  {
   "cell_type": "markdown",
   "id": "7e8450ba-9265-4111-af4d-2cd2c3474eb3",
   "metadata": {},
   "source": [
    "---\n",
    "## 4. Extending Analysis to the Other Samples\n",
    "\n",
    "Repeat the analysis you did parts 1, 2, and 3 for both the `PbBottle2_ppb` and  `PbBottle3_ppb` samples. Recall that these are samples drawn 45 seconds after the taps are turned on (`PbBottle2_ppb`) and two minutes after the taps are turned on (`PbBottle3_ppb`). \n",
    "To complete this section, you should:\n",
    "1. Fill in the table below with descriptive statistics and fraction of samples above the EPA limit.\n",
    "2. Have a three panel plot showing the distribution of samples. The y-axes for each of them should be logarithmic and each plot should have x and y-axes labels and a title.\n",
    "\n",
    "\n",
    "| Sample | Mean | Std. Dev | Min | Median | Max | Fraction > EPA |\n",
    "| :----- | :----- | :------ | :----- | :----- | :----- | :----- |\n",
    "| PbBottle1_ppb | ??| ?? | ??  | ?? | ?? | ?? |\n",
    "| PbBottle2_ppb | ??| ?? | ??  | ?? | ?? | ?? |\n",
    "| PbBottle3_ppb | ??| ?? | ??  | ?? | ?? | ?? |"
   ]
  },
  {
   "cell_type": "code",
   "execution_count": 25,
   "id": "5806d72a-9cb4-4da2-8fc3-c78d5626abe1",
   "metadata": {},
   "outputs": [
    {
     "name": "stdout",
     "output_type": "stream",
     "text": [
      "count    270.000000\n",
      "mean      10.658593\n",
      "std       21.599817\n",
      "min        0.344000\n",
      "25%        1.574500\n",
      "50%        3.502500\n",
      "75%        9.175000\n",
      "max      158.000000\n",
      "Name: PbBottle1_ppb, dtype: float64\n",
      "count    270.000000\n",
      "mean       6.446704\n",
      "std       23.157891\n",
      "min        0.032000\n",
      "25%        0.457500\n",
      "50%        1.397500\n",
      "75%        4.720500\n",
      "max      259.800000\n",
      "Name: PbBottle2_ppb, dtype: float64\n",
      "count    270.000000\n",
      "mean       3.669344\n",
      "std       10.557109\n",
      "min        0.031000\n",
      "25%        0.306000\n",
      "50%        0.820000\n",
      "75%        2.750750\n",
      "max       94.520000\n",
      "Name: PbBottle3_ppb, dtype: float64\n"
     ]
    }
   ],
   "source": [
    "# Write your code here\n",
    "print(flint.describe()['PbBottle1_ppb'])\n",
    "print(flint.describe()['PbBottle2_ppb'])\n",
    "print(flint.describe()['PbBottle3_ppb'])"
   ]
  },
  {
   "cell_type": "code",
   "execution_count": 36,
   "id": "8cfcf11c-fb22-4dba-ba09-af5468a582fe",
   "metadata": {
    "tags": []
   },
   "outputs": [
    {
     "data": {
      "text/html": [
       "<div>\n",
       "<style scoped>\n",
       "    .dataframe tbody tr th:only-of-type {\n",
       "        vertical-align: middle;\n",
       "    }\n",
       "\n",
       "    .dataframe tbody tr th {\n",
       "        vertical-align: top;\n",
       "    }\n",
       "\n",
       "    .dataframe thead th {\n",
       "        text-align: right;\n",
       "    }\n",
       "</style>\n",
       "<table border=\"1\" class=\"dataframe\">\n",
       "  <thead>\n",
       "    <tr style=\"text-align: right;\">\n",
       "      <th></th>\n",
       "      <th>Sample</th>\n",
       "      <th>Mean</th>\n",
       "      <th>Std. Dev</th>\n",
       "      <th>Min</th>\n",
       "      <th>25</th>\n",
       "      <th>median</th>\n",
       "      <th>75</th>\n",
       "      <th>max</th>\n",
       "    </tr>\n",
       "  </thead>\n",
       "  <tbody>\n",
       "    <tr>\n",
       "      <th>PbBottle1_ppb</th>\n",
       "      <td>270.0</td>\n",
       "      <td>10.658593</td>\n",
       "      <td>21.599817</td>\n",
       "      <td>0.344</td>\n",
       "      <td>1.5745</td>\n",
       "      <td>3.5025</td>\n",
       "      <td>9.17500</td>\n",
       "      <td>158.00</td>\n",
       "    </tr>\n",
       "    <tr>\n",
       "      <th>PbBottle2_ppb</th>\n",
       "      <td>270.0</td>\n",
       "      <td>6.446704</td>\n",
       "      <td>23.157891</td>\n",
       "      <td>0.032</td>\n",
       "      <td>0.4575</td>\n",
       "      <td>1.3975</td>\n",
       "      <td>4.72050</td>\n",
       "      <td>259.80</td>\n",
       "    </tr>\n",
       "    <tr>\n",
       "      <th>PbBottle3_ppb</th>\n",
       "      <td>270.0</td>\n",
       "      <td>3.669344</td>\n",
       "      <td>10.557109</td>\n",
       "      <td>0.031</td>\n",
       "      <td>0.3060</td>\n",
       "      <td>0.8200</td>\n",
       "      <td>2.75075</td>\n",
       "      <td>94.52</td>\n",
       "    </tr>\n",
       "  </tbody>\n",
       "</table>\n",
       "</div>"
      ],
      "text/plain": [
       "               Sample       Mean   Std. Dev    Min      25  median       75  \\\n",
       "PbBottle1_ppb   270.0  10.658593  21.599817  0.344  1.5745  3.5025  9.17500   \n",
       "PbBottle2_ppb   270.0   6.446704  23.157891  0.032  0.4575  1.3975  4.72050   \n",
       "PbBottle3_ppb   270.0   3.669344  10.557109  0.031  0.3060  0.8200  2.75075   \n",
       "\n",
       "                  max  \n",
       "PbBottle1_ppb  158.00  \n",
       "PbBottle2_ppb  259.80  \n",
       "PbBottle3_ppb   94.52  "
      ]
     },
     "execution_count": 36,
     "metadata": {},
     "output_type": "execute_result"
    }
   ],
   "source": [
    "DF_NoIndex = pd.DataFrame([flint.describe()['PbBottle1_ppb'],flint.describe()['PbBottle2_ppb'],flint.describe()['PbBottle3_ppb']]) #creates unlabeled rows and columns\n",
    "DF_NoIndex.columns = ['Sample','Mean','Std. Dev','Min','25','median','75','max'] # names the columns\n",
    "\n",
    "DF_NoIndex"
   ]
  },
  {
   "cell_type": "markdown",
   "id": "7be22ba4-871f-4fd9-b80f-92088d26360e",
   "metadata": {},
   "source": [
    "## 5. Conclusions\n",
    "\n",
    "Based on your new analysis, answer the following question: ***Would you feel comfortable drinking a glass of water in Flint at the height of the water crisis?*** \n",
    "\n",
    "**Use statistical values and/or data visualizations to back up your choice.**"
   ]
  },
  {
   "cell_type": "markdown",
   "id": "73f4bf51-8601-4a51-b964-2e6b87635316",
   "metadata": {},
   "source": [
    "<font size=\"+3\" color=\"green\">&#9998;</font> *I would feel better if I had to drink the water by waiting til bottle 3 but still a gamble*"
   ]
  },
  {
   "cell_type": "markdown",
   "id": "a74d6169-f835-4573-afd8-2f83f1c6b9ff",
   "metadata": {},
   "source": [
    "## 6. (Time Permitting) Looking for Other Sources of Analysis\n",
    "\n",
    "For your project, it will be good to draw upon other resources to compare your results/conclusions to. \n",
    "\n",
    "Go through the [following article from the New York Times](https://www.nytimes.com/2018/07/22/opinion/flint-lead-poisoning-water.html) and compare it's conclusions to your own from Part 5. Given the information in this article, ***Would you feel comfortable drinking a glass of water in Flint at the height of the water criss?*** \n",
    "\n",
    "\n",
    "**NOTE:** If you are an MSU student, you have access to a free New York Times account. [Click this link](https://asmsu.msu.edu/home/services/717-2/) and follow the steps to get access through MSU. "
   ]
  },
  {
   "cell_type": "markdown",
   "id": "3fee15c5-bc01-4149-b2c5-fa9454be8f06",
   "metadata": {},
   "source": [
    "<font size=\"+3\" color=\"green\">&#9998;</font> *At the height, about 5% had high lead levels in their blood, so It's a smaller population than I expected but that's still very scary.  If I had the option, I would not drink that water.*"
   ]
  },
  {
   "cell_type": "markdown",
   "id": "c6e9dc57-fd17-433c-be82-03370c20c9a7",
   "metadata": {},
   "source": [
    "---\n",
    "## Assignment wrapup\n",
    "\n",
    "Please fill out the form that appears when you run the code below. **You must completely fill this out in order to receive credit for the assignment!** "
   ]
  },
  {
   "cell_type": "code",
   "execution_count": 37,
   "id": "8673a369-5d7b-418c-b289-4ffb483517f5",
   "metadata": {},
   "outputs": [
    {
     "data": {
      "text/html": [
       "\n",
       "<iframe \n",
       "\tsrc=\"https://cmse.msu.edu/cmse201-ic-survey\" \n",
       "\twidth=\"800px\" \n",
       "\theight=\"600px\" \n",
       "\tframeborder=\"0\" \n",
       "\tmarginheight=\"0\" \n",
       "\tmarginwidth=\"0\">\n",
       "\tLoading...\n",
       "</iframe>\n"
      ],
      "text/plain": [
       "<IPython.core.display.HTML object>"
      ]
     },
     "execution_count": 37,
     "metadata": {},
     "output_type": "execute_result"
    }
   ],
   "source": [
    "from IPython.display import HTML\n",
    "HTML(\n",
    "\"\"\"\n",
    "<iframe \n",
    "\tsrc=\"https://cmse.msu.edu/cmse201-ic-survey\" \n",
    "\twidth=\"800px\" \n",
    "\theight=\"600px\" \n",
    "\tframeborder=\"0\" \n",
    "\tmarginheight=\"0\" \n",
    "\tmarginwidth=\"0\">\n",
    "\tLoading...\n",
    "</iframe>\n",
    "\"\"\"\n",
    ")"
   ]
  },
  {
   "cell_type": "markdown",
   "id": "9198e947-95cb-4ee3-98d6-c1cacf318f91",
   "metadata": {},
   "source": [
    "---\n",
    "\n",
    "## Congratulations, you're done!\n",
    "\n",
    "Submit this assignment by uploading your notebook to the course Desire2Learn web page.  Go to the \"In-Class Assignments\" folder, find the appropriate submission link, and upload everything there. Make sure your name is on it!"
   ]
  },
  {
   "cell_type": "markdown",
   "id": "03819570-8d73-4c7a-8e74-a831f934f0b6",
   "metadata": {},
   "source": [
    "&#169; Copyright 2023,  The Department of Computational Mathematics, Science and Engineering at Michigan State University"
   ]
  }
 ],
 "metadata": {
  "kernelspec": {
   "display_name": "Python 3 (ipykernel)",
   "language": "python",
   "name": "python3"
  },
  "language_info": {
   "codemirror_mode": {
    "name": "ipython",
    "version": 3
   },
   "file_extension": ".py",
   "mimetype": "text/x-python",
   "name": "python",
   "nbconvert_exporter": "python",
   "pygments_lexer": "ipython3",
   "version": "3.11.5"
  }
 },
 "nbformat": 4,
 "nbformat_minor": 5
}
