{
 "cells": [
  {
   "cell_type": "markdown",
   "metadata": {},
   "source": [
    "# Day 20 In-Class Assignment: Compartmental Modeling, moving from the model to the code\n",
    "___"
   ]
  },
  {
   "cell_type": "markdown",
   "metadata": {},
   "source": [
    "### <p style=\"text-align: right;\"> &#9989; Put your name here.</p>\n",
    "\n",
    "#### <p style=\"text-align: right;\"> &#9989; Put your group member names here.</p>"
   ]
  },
  {
   "cell_type": "markdown",
   "metadata": {},
   "source": [
    "**Make to execute this cell so that you have the imports that you need!**"
   ]
  },
  {
   "cell_type": "code",
   "execution_count": null,
   "metadata": {},
   "outputs": [],
   "source": [
    "import numpy as np\n",
    "from scipy.integrate import solve_ivp\n",
    "%matplotlib inline\n",
    "import matplotlib.pyplot as plt"
   ]
  },
  {
   "cell_type": "markdown",
   "metadata": {},
   "source": [
    "## Background\n",
    "___\n",
    "\n",
    "Previously, you explored three compartmental models. Today, you will build one of those in detail.\n",
    "\n",
    "You won't be too surprised to learn that clever researchers have explored all of the models we explored, and some standard models have emerged. Many researchers take these simple versions as starting points and build more complex models from them. **That is what *you* will do today.** \n",
    "\n",
    "Depending on which group you chose or were assigned to, read the description below for your model. You will learn a little about the standard model, what the logic is behind it, and what it typically tells us. Then, you will extend that model to answer some specific questions. At the end of class your group will **present a slide (or two) of your model and your findings**.\n",
    "\n",
    "One of the things you won't know as you extend the model is the value of the parameters. In general we don't know the value of the parameters; in fact, often it is the purpose of building the model to find the parameters from data. Leave the parameters as variables in your code that you can vary. You might be able to come up with a reasonable guess, and then you can run your model for values around that good guess. Write your code so that this is easy to do: you might want to make a plot with $10$ to $100$ different runs for the basic model as the parameters are varied. (Or not, depends on what you do with your model.) Similarly, you won't know the initial conditions; again, make those variables that you can vary to explore the performance of the model.\n",
    "\n",
    "___\n",
    "### Creating your Slide(s)\n",
    "___\n",
    "\n",
    "Will create your group's slides in the Google Slides or OneDrive Powerpoint file shared with you by your instructor on slide labeled with your group/table number. **You should work collaboratively as a group** to add text and figures and so that everyone will have access to your results.\n",
    "\n",
    "In your slide(s), you should cover:\n",
    "\n",
    "* Which model did your group consider?\n",
    "* What is the basic model used for this class of problems? \n",
    "* Show an example of what the model gives in its most basic form.\n",
    "* Show how compartments are connected through transitions (one thing becomes another) and through influence (a compartment changes the rate at which things happen). \n",
    "* Give a conclusion on what you learned and what you think could be learned if the model were developed further. \n",
    "\n",
    "#### At the end, you will save a copy of the slides and **you will be submitting the slides with your assignment to D2L**\n",
    "___\n",
    "### Organization\n",
    "___\n",
    "\n",
    "Before you get started, you should probably try to organize your group. You might assign one person to be in charge of managing the slides for your group so that they can be filled in as you go along. You don't want to wait until the end to figure out how to put a figure into the presentation!  "
   ]
  },
  {
   "cell_type": "markdown",
   "metadata": {},
   "source": [
    "___\n",
    "## Ecology: The Lotka-Volterra Model\n",
    "___\n",
    "\n",
    "<img src=\"https://museum.wa.gov.au/sites/default/files/imagecache/wam_v2_page_full/news-images/Planet%20Shark%20Predator%20or%20Prey.%20Courtesy%20Grande%20Exhibitions_0.jpg\" width=400px>\n",
    "\n",
    "Ecologists have explored predator-prey situations in the context of many obvious examples (foxes and rabbits); but the model itself can also be used to explore competition between companies, chemical reactions, among many other examples. The most famous predator-prey model is the [**Lotka-Volterra**](https://en.wikipedia.org/wiki/Lotka%E2%80%93Volterra_equations) model, and it can be expressed most simply as a two-compartment model with, you guessed it, predators and prey. The simple version you will start with can be described in words as:\n",
    "\n",
    "* The prey breed at some rate that is proportional to the current population of prey. \n",
    "* The prey are removed through interactions with the predators.\n",
    "* The predator population grows through interactions with the prey.\n",
    "* The predators die at some rate (which includes everything from old age, disease, etc.) in proportion to their current population. \n",
    "\n",
    "In this compartmental model, we can use  $p$ and ${\\cal P}$ to represent the prey and predator populations, respectively.\n",
    "\n",
    "**Write down the ODEs for the Predator-Prey model using the code given below**. Discuss why the terms in the equations have the form them do. These equations have an amazingly rich set of solutions!\n",
    "\n",
    "You can learn more about the model [here](https://en.wikipedia.org/wiki/Lotka%E2%80%93Volterra_equations)."
   ]
  },
  {
   "cell_type": "code",
   "execution_count": null,
   "metadata": {},
   "outputs": [],
   "source": [
    "import numpy as np\n",
    "import matplotlib.pyplot as plt\n",
    "from scipy.integrate import solve_ivp\n",
    "\n",
    "def lv_model(time, current_state, alpha, beta, delta, gamma):\n",
    "    \"\"\"\n",
    "    Defines the Lotka-Volterra predator-prey model.\n",
    "\n",
    "    Parameters:\n",
    "    - time: Time variable (not used in calculations but required by solve_ivp)\n",
    "    - current_state: A list or array with two elements: [prey population, predator population]\n",
    "    - alpha: The natural growing rate of prey when there's no predator\n",
    "    - beta: The natural dying rate of prey due to predation\n",
    "    - delta: The rate at which predators increase by consuming prey\n",
    "    - gamma: The natural dying rate of predators when there's no prey\n",
    "\n",
    "    Returns:\n",
    "    - A list of the rate of change of prey and predator populations: [dprey_dt, dpredators_dt]\n",
    "    \"\"\"\n",
    "    \n",
    "    # Unpack the current state of the system\n",
    "    prey, predators = current_state\n",
    "    \n",
    "    # Lotka-Volterra equations\n",
    "    dprey_dt = alpha * prey - beta * prey * predators\n",
    "    dpredators_dt = delta * prey * predators - gamma * predators\n",
    "    \n",
    "    return [dprey_dt, dpredators_dt]\n",
    "\n",
    "# Model parameters\n",
    "alpha = 1\n",
    "beta = 4/3\n",
    "delta = 1\n",
    "gamma = 1\n",
    "\n",
    "# Initial conditions: [prey population, predator population]\n",
    "initial_conditions = [1, 0.1]\n",
    "\n",
    "# Time span for the simulation\n",
    "time = np.linspace(0, 20, 1000)\n",
    "\n",
    "# Solve the Lotka-Volterra model\n",
    "result = solve_ivp(lv_model, (0, 20), initial_conditions, t_eval=time, args=(alpha, beta, delta, gamma))\n",
    "\n",
    "# Extract the solution for prey and predator populations\n",
    "prey, predators = result.y\n",
    "\n",
    "# Plotting\n",
    "fig, ax = plt.subplots()  # Create a figure and an axes object\n",
    "ax.plot(time, prey, label='Prey')  # Plot prey population\n",
    "ax.plot(time, predators, label='Predators')  # Plot predator population\n",
    "ax.grid(alpha=0.3)  # Add a grid with partial transparency\n",
    "ax.legend()  # Show legend to identify the curves\n",
    "ax.set_xlabel('Time')  # Label for the x-axis\n",
    "ax.set_ylabel('Population (thousands)')  # Label for the y-axis\n",
    "ax.set_title('Solution of the Lotka-Volterra Predator-Prey Equations')  # Title for the plot\n",
    "\n",
    "plt.show()  # Display the plot\n",
    "\n",
    "fig.savefig(\"predator-prey.png\")"
   ]
  },
  {
   "cell_type": "markdown",
   "metadata": {},
   "source": [
    "Using the code above, vary the parameters in the model to get a sense for the different behaviors the basic LV model gives. Discuss the basic behavior in your presentation. Are there values of the parameters for which there are qualitatively different types of solutions? Also, discuss this. Make several plots, such as a quad subplot, to show this. Include in your plots the populations versus time _and_ phase portraits (plotting one population versus the other, rather than time.) "
   ]
  },
  {
   "cell_type": "markdown",
   "metadata": {},
   "source": [
    "Now that you have the sense for how a standard predator-prey model works, let's modify it. Stop and think about the LV model: is this the model you would have come up with? What would your model have looked like? For example, suppose there are no predators, what happens? \n",
    "\n",
    "Let's explore that a bit. If we have an equation of the form\n",
    "\n",
    "$$ \\frac{dp}{dt} = \\alpha p,$$\n",
    "\n",
    "we get exponential growth; this can't continue in this way. Modify your model to include a new term of the form\n",
    "\n",
    "$$ \\frac{dp}{dt} = \\alpha p\\left(1 - \\frac{p}{p_{max}} \\right),$$\n",
    "\n",
    "where $p_{max}$ is called the \"carrying capapacity\". (You will modify your full code to include this modification.) Describe what it is doing mathematically and explore solutions of the model as you vary the carry capacity. Does this change the nature of the solutions you get? (Vary the parameters again to explore the possible range of solutions: do the populations ever die away? Do you always get oscillating solutions?) "
   ]
  },
  {
   "cell_type": "code",
   "execution_count": null,
   "metadata": {},
   "outputs": [],
   "source": [
    "# put any new or modified code here!\n"
   ]
  },
  {
   "cell_type": "markdown",
   "metadata": {},
   "source": [
    "___\n",
    "## Social Science: The Daley-Kendall Model\n",
    "___\n",
    "<img src=\"http://www.thatsnonsense.com/wp-content/uploads/2012/01/rumours.jpg\" width=400px>\n",
    "\n",
    "The flow of information through society impacts all of us, whether it be through malicious rumors about us, government propaganda, or fake news cites attempting to influence the government. Daley and Kendall formulated a basic model for the spread of rumors that we can build new models from. Their model has three compartments:\n",
    "1. Ignorants (I): these are people ignorant of the rumor. \n",
    "2. Spreaders (S): these are people actively spreading the rumor.\n",
    "3. Stiflers (R): there are people who are bored with the rumor.\n",
    "\n",
    "More interesting than the compartments of the models are the rules in which they interact:\n",
    "\n",
    "$$I + S \\to S + S,$$\n",
    "$$S + S \\to S + R,$$\n",
    "$$R + S \\to R + R.$$\n",
    "\n",
    "Think through these rules and how you would convert them into an ODE model. Look at the code below and compare with these transitions; do you see how the rules of the model became these ODEs? **Write down the ODE model for the DK model based on the code below**.\n",
    "\n",
    "You can learn more about the model [here](https://en.wikipedia.org/wiki/Rumor_spread_in_social_network)."
   ]
  },
  {
   "cell_type": "code",
   "execution_count": 44,
   "metadata": {
    "tags": []
   },
   "outputs": [
    {
     "data": {
      "image/png": "[encoded data removed]",
      "text/plain": [
       "<Figure size 1600x400 with 3 Axes>"
      ]
     },
     "metadata": {},
     "output_type": "display_data"
    }
   ],
   "source": [
    "import numpy as np\n",
    "import matplotlib.pyplot as plt\n",
    "from scipy.integrate import solve_ivp\n",
    "\n",
    "def DK(time, current_state, alpha, beta):\n",
    "    \"\"\"\n",
    "    Defines the Daley-Kendall model for the spread of rumors.\n",
    "\n",
    "    Parameters:\n",
    "    - time: Time variable (not used in calculations but required by solve_ivp)\n",
    "    - current_state: A list or array with three elements: [ignorant population, spreader population, stifler population]\n",
    "    - alpha: The rate at which spreaders become stiflers upon meeting other spreaders or stiflers\n",
    "    - beta: The rate at which ignorants become spreaders upon meeting spreaders\n",
    "\n",
    "    Returns:\n",
    "    - A list of the rate of change of ignorant, spreader, and stifler populations: [dignorant_dt, dspreader_dt, dstifler_dt]\n",
    "    \"\"\"\n",
    "\n",
    "    ignorant, spreader, stifler = current_state\n",
    "\n",
    "    # Daley-Kendall model equations\n",
    "    dignorant_dt = -beta * ignorant * spreader\n",
    "    dspreader_dt = beta * ignorant * spreader - alpha * spreader * (spreader + stifler)\n",
    "    dstifler_dt = alpha * spreader * (spreader + stifler)\n",
    "    \n",
    "    return [dignorant_dt, dspreader_dt, dstifler_dt]\n",
    "\n",
    "# Model parameters\n",
    "\n",
    "\n",
    "# Initial conditions: [ignorant population, spreader population, stifler population]\n",
    "I0 = 1000\n",
    "P0 = 1\n",
    "T0 = 0\n",
    "initial = [1000, 1, 0]\n",
    "\n",
    "# Time span for the simulation\n",
    "t = np.linspace(0, 5, 1000)\n",
    "\n",
    "\n",
    "fig, axs = plt.subplots(1, 3, figsize=(16, 4))\n",
    "\n",
    "\n",
    "\n",
    "def run_simulation(initial, model_parameters, ax, title, xy_coord = (0.6, 0.75)):\n",
    "    \n",
    "    # Solve the Daley-Kendall model\n",
    "    result = solve_ivp(DK, (t[0], t[-1]), initial, t_eval=t, args=model_parameters)\n",
    "\n",
    "    # Extract the solution for ignorant, spreader, and stifler populations\n",
    "    ignorant, spreader, stifler = result.y\n",
    "\n",
    "    # Plotting\n",
    "\n",
    "    ax.plot(t, ignorant, label='Ignorant')  # Plot ignorant population\n",
    "    ax.plot(t, spreader, label='Spreader')  # Plot spreader population\n",
    "    ax.plot(t, stifler, label='Stifler')  # Plot stifler population\n",
    "    ax.grid(alpha=0.3)  # Add a grid with partial transparency\n",
    "    ax.legend()  # Show legend to identify the curves\n",
    "    ax.set_xlabel('Time')  # Label for the x-axis\n",
    "    ax.set_ylabel('Population')  # Label for the y-axis\n",
    "    ax.set_title(title)  # Title for the plot\n",
    "\n",
    "\n",
    "\n",
    "    \n",
    "    solution = [t, ignorant, spreader, stifler]\n",
    "    \n",
    "    return solution\n",
    "\n",
    "titles = ['Scenario 1', 'Scenario 2', 'Scenario 3']\n",
    "alpha = 0.01 #, .02, .01]\n",
    "beta = 0.003 # , .003, .006]\n",
    "params1 = .01,.003\n",
    "params2 = .01,.009\n",
    "params3 = .05,.003\n",
    "parameters = [params1,params2,params3]\n",
    "\n",
    "\n",
    "for i in range(len(parameters)):\n",
    "    t, ignorant, spreader, stifler  = run_simulation(initial, parameters[i], axs[i], title = titles[i])\n",
    "\n",
    "plt.tight_layout()\n",
    "plt.show()  # Display the plot\n",
    "fig.savefig(\"rumor_spread.png\")"
   ]
  },
  {
   "cell_type": "markdown",
   "metadata": {},
   "source": [
    "Next, vary the parameters of the model to see what behaviors you find; build your intuition for the model. Make several plots to show this behavior, including phase portraits (plot one variable versus another, rather than time).\n",
    "\n",
    "Now, you are going to modify the model to model [fake news](https://en.wikipedia.org/wiki/Fake_news_website). Suppose you wish to create a website that sells lots of advertising and an election is coming up. Further suppose that there are two candidates running for office. You want to model this in advance to understand better how the dynamics will play out. Modify the model in these ways:\n",
    "* Assume there are two populations of voters, one for each candidate.\n",
    "* When you start a rumor, one voting population converts to the other. \n",
    "\n",
    "Build, code and explore (with plots) this basic model. \n",
    "\n",
    "Modify the model to include these behaviors:\n",
    "* As people get bored with the latest rumor, some of them transition back to their original beliefs. Modify the model so that rather than becoming a stifler in the new compartment, they *eventually* transition back to being an ignorant in the original compartment. Explore this model by coding it and making plots. \n",
    "* While one can possibly sells a lot of ads this way, consider the case where the source is another government attempting to meddle in the election. They are not interested in making money, but impacting the outcome - timing is everything. Use your model to advise the nefarious government on the optimal strategy to influence the election in the most subtle way (you don't want people to notice that there is suddenly an enormous amount of fake news immediately before the election). \n",
    "\n",
    "In your presentation, be sure to include many plots for variants of the models to prove your points. "
   ]
  },
  {
   "cell_type": "code",
   "execution_count": null,
   "metadata": {},
   "outputs": [],
   "source": [
    "# put any new or modified code here!\n"
   ]
  },
  {
   "cell_type": "markdown",
   "metadata": {},
   "source": [
    "___\n",
    "## Health: The SIR Model\n",
    "___\n",
    "\n",
    "<img src=\"https://raw.githubusercontent.com/msu-cmse-courses/cmse201-S22-data/main/Day-19/spread_clipart.png\" width=400px>\n",
    "\n",
    "There are a wide range of infectious disease models, as many as there are diseases, their variants and strategies to control them. However, the starting point for modeling many infectious diseases is the SIR model, which can be understood as:  \n",
    "\n",
    "- **S**: people susceptible to the disease (number of people who can get it) \n",
    "- **I**: those who are infectious with the disease (can spread it) \n",
    "- **R**: people recovered from the disease (they are well and not spreading) \n",
    "\n",
    "**Write down the ODEs for the SIR model using the code given below**. Discuss why the terms in the equations have the form them do. \n",
    "\n",
    "You find out more about the model [here](https://en.wikipedia.org/wiki/Compartmental_models_in_epidemiology#The_SIR_model)."
   ]
  },
  {
   "cell_type": "code",
   "execution_count": null,
   "metadata": {},
   "outputs": [],
   "source": [
    "import numpy as np\n",
    "import matplotlib.pyplot as plt\n",
    "from scipy.integrate import solve_ivp\n",
    "\n",
    "def SIR(time, current_state, beta, gamma):\n",
    "    \"\"\"\n",
    "    Defines the SIR model for infectious disease spread.\n",
    "\n",
    "    Parameters:\n",
    "    - time: Time variable (not used in calculations but required by solve_ivp)\n",
    "    - current_state: A list or array with three elements: [susceptible population, infectious population, recovered population]\n",
    "    - beta: The effective contact rate which leads to infection\n",
    "    - gamma: The recovery rate of infectious individuals\n",
    "\n",
    "    Returns:\n",
    "    - A list of the rate of change of susceptible, infectious, and recovered populations: [dsusceptible_dt, dinfectious_dt, drecovered_dt]\n",
    "    \"\"\"\n",
    "    \n",
    "    susceptible, infectious, recovered = current_state\n",
    "    \n",
    "    # SIR model equations\n",
    "    dsusceptible_dt = -beta * susceptible * infectious\n",
    "    dinfectious_dt = beta * susceptible * infectious - gamma * infectious\n",
    "    drecovered_dt = gamma * infectious\n",
    "    \n",
    "    return [dsusceptible_dt, dinfectious_dt, drecovered_dt]\n",
    "\n",
    "# Model parameters\n",
    "beta = 0.002\n",
    "gamma = 1\n",
    "\n",
    "# Initial conditions: [susceptible population, infectious population, recovered population]\n",
    "initial_conditions = [1000, 1, 0]\n",
    "\n",
    "# Time span for the simulation\n",
    "time = np.linspace(0, 20, 1000)\n",
    "\n",
    "# Solve the SIR model\n",
    "result = solve_ivp(SIR, (0, 20), initial_conditions, t_eval=time, args=(beta, gamma))\n",
    "\n",
    "# Extract the solution for susceptible, infectious, and recovered populations\n",
    "susceptible, infectious, recovered = result.y\n",
    "\n",
    "# Plotting\n",
    "fig, ax = plt.subplots()  # Create a figure and an axes object\n",
    "ax.plot(time, susceptible, label='Susceptible')  # Plot susceptible population\n",
    "ax.plot(time, infectious, label='Infectious')  # Plot infectious population\n",
    "ax.plot(time, recovered, label='Recovered')  # Plot recovered population\n",
    "ax.grid(alpha=0.3)  # Add a grid with partial transparency for better readability\n",
    "ax.legend()  # Show legend to identify the curves\n",
    "ax.set_xlabel('Time')  # Label for the x-axis\n",
    "ax.set_ylabel('Population (thousands)')  # Label for the y-axis\n",
    "ax.set_title('Solution of the SIR Model')  # Title for the plot\n",
    "\n",
    "plt.show()  # Display the plot\n",
    "fig.savefig(\"SIR_model.png\")"
   ]
  },
  {
   "cell_type": "markdown",
   "metadata": {},
   "source": [
    "Make some plots, including phase portraits (plots of populations versus each other, rather than time) to show the range of behaviors of the SIR. For example, what controls how many people stay well after the epidemic has past (final population of **S**)? Are there any scenarios in which all people become sick, or are there always a few who do not? Why? "
   ]
  },
  {
   "cell_type": "markdown",
   "metadata": {},
   "source": [
    "Now, you are going to modify this model. The first step is to add a latent compartment to the model. That is, change the model to have a temporary state in which the person is ill, but you can't tell (they have no symptoms; they are \"asymptomatic\"). Explore this model, comparing it with the original. Discuss the differences in your presentation. \n",
    "\n",
    "Next, you would like to use drugs to treat this illness. Let's suppose it is an influenza pandemic and our government has opened its stockpile of Tamiflu. Add two additional compartments that hold people who have been given the drug *before* they get ill and those to get the drug *once they have symptoms*. Explore the model:\n",
    "* If you give the drug at the same rate to either new compartment, which reduces the number of people who get ill most? Or, do you get the same outcome? \n",
    "* In a pandemic scenario, we will not have a vaccine (this is why it is a pandemic rather than an epidemic - it is moving quickly through the population); suppose your goal is not to reduce the number of people who get ill, but rather you want to slow the pandemic to allow time to develop a vaccine. Invent some stratgies that do this. \n",
    "\n",
    "Describe your models, and include plots comparing all of them, in your presentation."
   ]
  },
  {
   "cell_type": "code",
   "execution_count": null,
   "metadata": {},
   "outputs": [],
   "source": [
    "# put any new or modified code here!\n"
   ]
  },
  {
   "cell_type": "markdown",
   "metadata": {},
   "source": [
    "---\n",
    "## Assignment wrapup\n",
    "\n",
    "Please fill out the form that appears when you run the code below. **You must completely fill this out in order to receive credit for the assignment!** "
   ]
  },
  {
   "cell_type": "code",
   "execution_count": null,
   "metadata": {},
   "outputs": [],
   "source": [
    "from IPython.display import HTML\n",
    "HTML(\n",
    "\"\"\"\n",
    "<iframe \n",
    "\tsrc=\"https://cmse.msu.edu/cmse201-ic-survey\" \n",
    "\twidth=\"800px\" \n",
    "\theight=\"600px\" \n",
    "\tframeborder=\"0\" \n",
    "\tmarginheight=\"0\" \n",
    "\tmarginwidth=\"0\">\n",
    "\tLoading...\n",
    "</iframe>\n",
    "\"\"\"\n",
    ")"
   ]
  },
  {
   "cell_type": "markdown",
   "metadata": {},
   "source": [
    "---\n"
   ]
  },
  {
   "cell_type": "markdown",
   "metadata": {},
   "source": [
    "### Congratulations, you're done!\n",
    "\n",
    "Submit this assignment by uploading your notebook and a PDF of your presentation slides it to the course Desire2Learn web page.  Go to the \"In-Class Assignments\" folder, find the appropriate submission link, and upload everything there. Make sure your name is on it!"
   ]
  },
  {
   "cell_type": "markdown",
   "metadata": {},
   "source": [
    "&#169; Copyright 2023,  Michigan State University Board of Trustees"
   ]
  }
 ],
 "metadata": {
  "anaconda-cloud": {},
  "kernelspec": {
   "display_name": "Python 3 (ipykernel)",
   "language": "python",
   "name": "python3"
  },
  "language_info": {
   "codemirror_mode": {
    "name": "ipython",
    "version": 3
   },
   "file_extension": ".py",
   "mimetype": "text/x-python",
   "name": "python",
   "nbconvert_exporter": "python",
   "pygments_lexer": "ipython3",
   "version": "3.11.5"
  },
  "widgets": {
   "application/vnd.jupyter.widget-state+json": {
    "state": {},
    "version_major": 2,
    "version_minor": 0
   }
  }
 },
 "nbformat": 4,
 "nbformat_minor": 4
}
