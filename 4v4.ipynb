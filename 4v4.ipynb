{
 "cells": [
  {
   "cell_type": "code",
   "execution_count": 1,
   "id": "7e8e0041-f73b-4c08-b07f-1041036b785b",
   "metadata": {},
   "outputs": [],
   "source": [
    "#4v4"
   ]
  },
  {
   "cell_type": "code",
   "execution_count": 2,
   "id": "dddccaff-802b-43fb-9690-62b9e0ce0373",
   "metadata": {
    "tags": []
   },
   "outputs": [],
   "source": [
    "import pandas as pd\n",
    "import numpy as np\n",
    "import random\n",
    "import itertools\n",
    "from collections import defaultdict\n",
    "\n",
    "# Initialize players\n",
    "boys = ['A', 'B', 'C', 'D', 'E', 'F', 'G', 'H', 'I', 'J', 'K', 'L']\n",
    "girls = ['M', 'N', 'O', 'P', 'Q', 'R', 'S', 'T', 'U', 'V', 'W', 'X']\n",
    "players = boys + girls\n",
    "\n",
    "# Parameters\n",
    "num_rounds = 9\n",
    "games_per_player = 6\n",
    "rest_per_player = 3\n",
    "team_size = 4\n",
    "num_teams = 4\n",
    "rest_size = 8\n",
    "\n",
    "# Helper function to generate teams\n",
    "def generate_teams(players):\n",
    "    random.shuffle(players)\n",
    "    teams = sorted([players[i:i + team_size] for i in range(0, len(players) - rest_size, team_size)])\n",
    "    rest = sorted(players[-rest_size:])\n",
    "    teams = [sorted(teams[0]),sorted(teams[1]),sorted(teams[2]),sorted(teams[3])]\n",
    "    return teams, rest\n",
    "\n",
    "# Check constraints\n",
    "def valid_teams(teams):\n",
    "    for team in teams:\n",
    "        boys_count = sum(1 for player in team if player in boys)\n",
    "        girls_count = sum(1 for player in team if player in girls)\n",
    "        if boys_count != 2 or girls_count != 2:\n",
    "            return False\n",
    "    return True\n",
    "\n",
    "# Generate a schedule\n",
    "def generate_schedule():\n",
    "    schedule = []\n",
    "    for _ in range(num_rounds):\n",
    "        while True:\n",
    "            teams, rest = generate_teams(players)\n",
    "            if valid_teams(teams):\n",
    "                schedule.append((teams, rest))\n",
    "                break\n",
    "    return schedule\n"
   ]
  },
  {
   "cell_type": "code",
   "execution_count": 3,
   "id": "a955b7c6-0522-4fb9-a5cf-2b17d89d1c05",
   "metadata": {
    "tags": []
   },
   "outputs": [],
   "source": [
    "# Evaluate schedule\n",
    "def evaluate_schedule(schedule):\n",
    "    frequency = defaultdict(int)\n",
    "    for round_teams, _ in schedule:\n",
    "        for team in round_teams:\n",
    "            for pair in itertools.combinations(team, 2):\n",
    "                frequency[tuple(sorted(pair))] += 1\n",
    "\n",
    "    for i in range(len(schedule)):\n",
    "        teams, rest = schedule[i]\n",
    "        for team in teams:\n",
    "            if len(set(rest) & set(team)) > 0:\n",
    "                return False, frequency\n",
    "\n",
    "    score1 = sum(1 for count in frequency.values() if count == 1)\n",
    "    return True, score1\n"
   ]
  },
  {
   "cell_type": "code",
   "execution_count": 4,
   "id": "a46505b0-e698-4640-a586-27c0245cd90b",
   "metadata": {
    "tags": []
   },
   "outputs": [
    {
     "name": "stdout",
     "output_type": "stream",
     "text": [
      "Best score: 118\n",
      "Round 1:\n",
      "  Team 1: ['C', 'L', 'P', 'V']\n",
      "  Team 2: ['D', 'G', 'R', 'S']\n",
      "  Team 3: ['J', 'K', 'N', 'O']\n",
      "  Team 4: ['A', 'F', 'T', 'X']\n",
      "  Rest: ['B', 'E', 'H', 'I', 'M', 'Q', 'U', 'W']\n",
      "Round 2:\n",
      "  Team 1: ['B', 'G', 'M', 'Q']\n",
      "  Team 2: ['A', 'H', 'O', 'V']\n",
      "  Team 3: ['D', 'L', 'S', 'T']\n",
      "  Team 4: ['E', 'F', 'R', 'X']\n",
      "  Rest: ['C', 'I', 'J', 'K', 'N', 'P', 'U', 'W']\n",
      "Round 3:\n",
      "  Team 1: ['E', 'H', 'V', 'W']\n",
      "  Team 2: ['D', 'F', 'Q', 'R']\n",
      "  Team 3: ['G', 'L', 'O', 'P']\n",
      "  Team 4: ['A', 'J', 'M', 'U']\n",
      "  Rest: ['B', 'C', 'I', 'K', 'N', 'S', 'T', 'X']\n",
      "Round 4:\n",
      "  Team 1: ['B', 'F', 'R', 'V']\n",
      "  Team 2: ['H', 'L', 'M', 'X']\n",
      "  Team 3: ['I', 'K', 'P', 'S']\n",
      "  Team 4: ['C', 'J', 'N', 'W']\n",
      "  Rest: ['A', 'D', 'E', 'G', 'O', 'Q', 'T', 'U']\n",
      "Round 5:\n",
      "  Team 1: ['J', 'K', 'U', 'X']\n",
      "  Team 2: ['C', 'H', 'M', 'T']\n",
      "  Team 3: ['A', 'F', 'Q', 'W']\n",
      "  Team 4: ['E', 'L', 'N', 'R']\n",
      "  Rest: ['B', 'D', 'G', 'I', 'O', 'P', 'S', 'V']\n",
      "Round 6:\n",
      "  Team 1: ['A', 'C', 'O', 'P']\n",
      "  Team 2: ['E', 'H', 'N', 'Q']\n",
      "  Team 3: ['F', 'K', 'S', 'V']\n",
      "  Team 4: ['B', 'D', 'R', 'W']\n",
      "  Rest: ['G', 'I', 'J', 'L', 'M', 'T', 'U', 'X']\n",
      "Round 7:\n",
      "  Team 1: ['D', 'J', 'P', 'U']\n",
      "  Team 2: ['A', 'H', 'Q', 'X']\n",
      "  Team 3: ['G', 'L', 'M', 'N']\n",
      "  Team 4: ['B', 'K', 'O', 'R']\n",
      "  Rest: ['C', 'E', 'F', 'I', 'S', 'T', 'V', 'W']\n",
      "Round 8:\n",
      "  Team 1: ['F', 'L', 'Q', 'U']\n",
      "  Team 2: ['H', 'I', 'O', 'W']\n",
      "  Team 3: ['D', 'K', 'S', 'X']\n",
      "  Team 4: ['A', 'B', 'T', 'V']\n",
      "  Rest: ['C', 'E', 'G', 'J', 'M', 'N', 'P', 'R']\n",
      "Round 9:\n",
      "  Team 1: ['D', 'E', 'P', 'T']\n",
      "  Team 2: ['C', 'H', 'Q', 'V']\n",
      "  Team 3: ['F', 'K', 'M', 'S']\n",
      "  Team 4: ['A', 'I', 'N', 'U']\n",
      "  Rest: ['B', 'G', 'J', 'L', 'O', 'R', 'W', 'X']\n"
     ]
    }
   ],
   "source": [
    "# Main function\n",
    "def main():\n",
    "    best_schedule = None\n",
    "    best_score = 100\n",
    "\n",
    "    for _ in range(100):  # Number of simulations\n",
    "        schedule = generate_schedule()\n",
    "        valid, score1 = evaluate_schedule(schedule)\n",
    "        if valid and score1 > best_score:\n",
    "            best_schedule = schedule\n",
    "            best_score = score1\n",
    "\n",
    "    print(\"Best score:\", best_score)\n",
    "    for i, (teams, rest) in enumerate(best_schedule):\n",
    "        print(f\"Round {i+1}:\")\n",
    "        for j, team in enumerate(teams):\n",
    "            print(f\"  Team {j+1}: {team}\")\n",
    "        print(f\"  Rest: {rest}\")\n",
    "\n",
    "if __name__ == \"__main__\":\n",
    "    main()\n",
    "    "
   ]
  },
  {
   "cell_type": "code",
   "execution_count": 13,
   "id": "84110bad-22b1-4832-b7a7-f0ccb5dafeb6",
   "metadata": {
    "tags": []
   },
   "outputs": [],
   "source": [
    "def evaluate_schedule(schedule):\n",
    "    frequency = defaultdict(int)\n",
    "    score_against = defaultdict(int)\n",
    "    \n",
    "    for round_teams, _ in schedule:\n",
    "        for team in round_teams:\n",
    "            for pair in itertools.combinations(team, 2):\n",
    "                frequency[tuple(sorted(pair))] += 1\n",
    "        \n",
    "        # Count matchups between teams\n",
    "        for player1 in round_teams[0]:\n",
    "            for player2 in round_teams[1]:\n",
    "                score_against[tuple(sorted((player1, player2)))] += 1\n",
    "        for player1 in round_teams[2]:\n",
    "            for player2 in round_teams[3]:\n",
    "                score_against[tuple(sorted((player1, player2)))] += 1\n",
    "\n",
    "    for i in range(len(schedule)):\n",
    "        teams, rest = schedule[i]\n",
    "        for team in teams:\n",
    "            if len(set(rest) & set(team)) > 0:\n",
    "                return False, frequency, score_against\n",
    "\n",
    "    score = sum(1 for count in frequency.values() if count == 1)\n",
    "    return True, score, score_against\n",
    "\n",
    "# Main function\n",
    "def main():\n",
    "    best_schedule = None\n",
    "    best_score = -1\n",
    "    best_score_against = None\n",
    "\n",
    "    for _ in range(100):  # Number of simulations\n",
    "        schedule = generate_schedule()\n",
    "        valid, score, score_against = evaluate_schedule(schedule)\n",
    "        if valid and score > best_score:\n",
    "            best_schedule = schedule\n",
    "            best_score = score\n",
    "            best_score_against = score_against[3]\n",
    "\n",
    "            print(score_against)\n",
    "\n",
    " "
   ]
  },
  {
   "cell_type": "code",
   "execution_count": 14,
   "id": "e3285ed1-8d98-42d2-81e4-88ba7498bd60",
   "metadata": {
    "tags": []
   },
   "outputs": [
    {
     "name": "stdout",
     "output_type": "stream",
     "text": [
      "defaultdict(<class 'int'>, {('A', 'F'): 4, ('A', 'J'): 1, ('A', 'O'): 1, ('A', 'W'): 2, ('F', 'I'): 3, ('I', 'J'): 2, ('I', 'O'): 2, ('I', 'W'): 2, ('F', 'U'): 4, ('J', 'U'): 1, ('O', 'U'): 2, ('U', 'W'): 4, ('F', 'X'): 1, ('J', 'X'): 1, ('O', 'X'): 2, ('W', 'X'): 2, ('C', 'G'): 3, ('E', 'G'): 3, ('G', 'S'): 2, ('G', 'T'): 2, ('C', 'K'): 2, ('E', 'K'): 2, ('K', 'S'): 1, ('K', 'T'): 2, ('C', 'P'): 3, ('E', 'P'): 3, ('P', 'S'): 2, ('P', 'T'): 2, ('C', 'R'): 5, ('E', 'R'): 4, ('R', 'S'): 3, ('R', 'T'): 1, ('C', 'E'): 3, ('E', 'L'): 2, ('E', 'V'): 2, ('C', 'I'): 2, ('I', 'L'): 1, ('I', 'P'): 1, ('I', 'V'): 3, ('C', 'M'): 2, ('L', 'M'): 2, ('M', 'P'): 2, ('M', 'V'): 2, ('L', 'R'): 1, ('P', 'R'): 1, ('R', 'V'): 2, ('A', 'B'): 1, ('A', 'G'): 2, ('A', 'T'): 3, ('A', 'U'): 2, ('B', 'K'): 1, ('G', 'K'): 1, ('K', 'U'): 2, ('B', 'Q'): 2, ('G', 'Q'): 1, ('Q', 'T'): 3, ('Q', 'U'): 2, ('B', 'W'): 2, ('G', 'W'): 2, ('T', 'W'): 2, ('A', 'C'): 2, ('A', 'E'): 2, ('A', 'M'): 1, ('A', 'X'): 2, ('G', 'M'): 1, ('G', 'X'): 1, ('M', 'R'): 2, ('R', 'X'): 1, ('C', 'T'): 1, ('E', 'T'): 1, ('M', 'T'): 2, ('T', 'X'): 1, ('B', 'H'): 2, ('B', 'L'): 1, ('B', 'U'): 1, ('H', 'K'): 1, ('K', 'L'): 1, ('K', 'Q'): 2, ('H', 'N'): 3, ('L', 'N'): 1, ('N', 'Q'): 2, ('N', 'U'): 1, ('H', 'O'): 1, ('L', 'O'): 1, ('O', 'Q'): 1, ('F', 'J'): 2, ('J', 'N'): 1, ('J', 'V'): 1, ('F', 'K'): 2, ('I', 'K'): 2, ('K', 'N'): 3, ('K', 'V'): 2, ('F', 'M'): 2, ('I', 'M'): 1, ('M', 'N'): 2, ('F', 'S'): 2, ('I', 'S'): 1, ('N', 'S'): 1, ('S', 'V'): 2, ('B', 'C'): 2, ('C', 'X'): 2, ('B', 'E'): 1, ('E', 'X'): 1, ('B', 'O'): 1, ('G', 'O'): 1, ('O', 'R'): 1, ('R', 'W'): 1, ('A', 'D'): 1, ('D', 'G'): 1, ('F', 'G'): 1, ('G', 'U'): 2, ('D', 'M'): 1, ('M', 'U'): 1, ('D', 'P'): 1, ('F', 'P'): 2, ('P', 'U'): 1, ('C', 'H'): 2, ('E', 'H'): 4, ('H', 'V'): 1, ('C', 'O'): 1, ('E', 'O'): 1, ('N', 'O'): 2, ('O', 'V'): 1, ('N', 'R'): 2, ('B', 'N'): 2, ('B', 'S'): 1, ('E', 'N'): 2, ('E', 'S'): 2, ('H', 'P'): 2, ('N', 'P'): 1, ('H', 'X'): 2, ('N', 'X'): 1, ('S', 'X'): 1, ('D', 'J'): 1, ('J', 'Q'): 1, ('J', 'W'): 1, ('D', 'K'): 2, ('K', 'W'): 1, ('D', 'T'): 1, ('F', 'T'): 1, ('D', 'U'): 1, ('B', 'D'): 1, ('D', 'O'): 1, ('D', 'R'): 1, ('B', 'I'): 1, ('I', 'R'): 2, ('B', 'M'): 1, ('K', 'M'): 1, ('M', 'O'): 1, ('A', 'L'): 1, ('H', 'L'): 3, ('H', 'T'): 2, ('E', 'U'): 1, ('L', 'U'): 1, ('T', 'U'): 1, ('U', 'X'): 1, ('L', 'V'): 1, ('T', 'V'): 1, ('V', 'X'): 1, ('C', 'U'): 1, ('A', 'V'): 2, ('P', 'V'): 1, ('U', 'V'): 2, ('P', 'W'): 1, ('H', 'R'): 1, ('E', 'J'): 1, ('J', 'L'): 1, ('J', 'R'): 1, ('J', 'T'): 1, ('E', 'Q'): 1, ('L', 'Q'): 2, ('Q', 'R'): 1, ('L', 'S'): 1, ('S', 'T'): 1, ('C', 'Q'): 1, ('P', 'Q'): 1, ('G', 'I'): 1, ('A', 'R'): 1, ('R', 'U'): 1, 3: 0})\n",
      "defaultdict(<class 'int'>, {('B', 'D'): 1, ('D', 'F'): 2, ('D', 'P'): 1, ('D', 'X'): 4, ('B', 'E'): 1, ('E', 'F'): 4, ('E', 'P'): 3, ('E', 'X'): 1, ('B', 'M'): 1, ('F', 'M'): 3, ('M', 'P'): 3, ('M', 'X'): 1, ('B', 'V'): 2, ('F', 'V'): 2, ('P', 'V'): 2, ('V', 'X'): 4, ('A', 'C'): 3, ('A', 'J'): 1, ('A', 'T'): 2, ('A', 'U'): 1, ('C', 'K'): 1, ('J', 'K'): 1, ('K', 'T'): 2, ('K', 'U'): 2, ('C', 'Q'): 1, ('J', 'Q'): 2, ('Q', 'T'): 2, ('Q', 'U'): 3, ('C', 'R'): 2, ('J', 'R'): 1, ('R', 'T'): 1, ('R', 'U'): 1, ('C', 'E'): 3, ('C', 'L'): 2, ('C', 'M'): 3, ('C', 'X'): 1, ('D', 'E'): 1, ('D', 'L'): 4, ('D', 'M'): 3, ('E', 'O'): 4, ('L', 'O'): 1, ('M', 'O'): 1, ('O', 'X'): 1, ('E', 'V'): 2, ('L', 'V'): 2, ('M', 'V'): 3, ('A', 'B'): 1, ('B', 'I'): 2, ('B', 'R'): 3, ('B', 'T'): 1, ('A', 'K'): 1, ('I', 'K'): 1, ('K', 'R'): 1, ('A', 'N'): 2, ('I', 'N'): 2, ('N', 'R'): 1, ('N', 'T'): 1, ('A', 'P'): 2, ('I', 'P'): 2, ('P', 'R'): 3, ('P', 'T'): 2, ('A', 'H'): 1, ('A', 'L'): 1, ('A', 'O'): 2, ('A', 'Q'): 1, ('H', 'I'): 1, ('I', 'L'): 1, ('I', 'O'): 2, ('I', 'Q'): 2, ('H', 'R'): 1, ('L', 'R'): 2, ('O', 'R'): 3, ('Q', 'R'): 1, ('H', 'U'): 1, ('L', 'U'): 1, ('O', 'U'): 1, ('B', 'F'): 1, ('B', 'G'): 3, ('B', 'P'): 1, ('E', 'G'): 3, ('G', 'M'): 1, ('F', 'T'): 1, ('G', 'T'): 1, ('T', 'V'): 1, ('A', 'D'): 1, ('A', 'M'): 1, ('A', 'X'): 1, ('C', 'H'): 1, ('D', 'H'): 1, ('H', 'M'): 2, ('H', 'X'): 2, ('C', 'U'): 1, ('D', 'U'): 2, ('M', 'U'): 1, ('U', 'X'): 2, ('C', 'W'): 2, ('D', 'W'): 1, ('M', 'W'): 1, ('W', 'X'): 1, ('E', 'L'): 2, ('E', 'N'): 2, ('E', 'Q'): 2, ('F', 'J'): 1, ('J', 'L'): 1, ('J', 'N'): 3, ('F', 'P'): 1, ('L', 'P'): 1, ('N', 'P'): 2, ('P', 'Q'): 1, ('N', 'V'): 1, ('Q', 'V'): 2, ('G', 'P'): 3, ('G', 'W'): 1, ('B', 'J'): 1, ('E', 'J'): 2, ('J', 'P'): 1, ('J', 'W'): 1, ('B', 'N'): 1, ('N', 'W'): 2, ('E', 'R'): 2, ('R', 'W'): 2, ('F', 'K'): 1, ('F', 'Q'): 1, ('F', 'X'): 1, ('K', 'L'): 1, ('L', 'Q'): 2, ('L', 'X'): 1, ('D', 'V'): 1, ('K', 'V'): 1, ('D', 'J'): 1, ('H', 'J'): 1, ('H', 'L'): 1, ('L', 'N'): 2, ('M', 'N'): 1, ('N', 'X'): 2, ('J', 'S'): 1, ('L', 'S'): 2, ('M', 'S'): 3, ('S', 'X'): 1, ('C', 'V'): 2, ('A', 'G'): 1, ('G', 'R'): 1, ('G', 'V'): 2, ('O', 'V'): 1, ('C', 'D'): 2, ('C', 'I'): 1, ('C', 'P'): 1, ('D', 'G'): 1, ('G', 'I'): 1, ('I', 'M'): 1, ('I', 'X'): 1, ('P', 'X'): 2, ('B', 'K'): 1, ('E', 'K'): 1, ('K', 'N'): 1, ('K', 'Q'): 1, ('B', 'L'): 2, ('B', 'O'): 1, ('N', 'O'): 2, ('O', 'Q'): 1, ('B', 'W'): 1, ('E', 'W'): 1, ('Q', 'W'): 1, ('A', 'E'): 1, ('A', 'I'): 1, ('I', 'J'): 2, ('N', 'Q'): 1, ('J', 'T'): 1, ('O', 'T'): 1, ('B', 'C'): 1, ('L', 'M'): 1, ('L', 'W'): 1, ('D', 'R'): 1, ('M', 'R'): 2, ('B', 'S'): 1, ('D', 'S'): 1, ('S', 'W'): 1, ('C', 'O'): 1, ('F', 'L'): 1, ('F', 'O'): 1, ('E', 'S'): 1, ('O', 'S'): 1, ('B', 'U'): 1, ('B', 'X'): 1, ('G', 'J'): 1, ('J', 'U'): 1, ('J', 'X'): 1, ('G', 'N'): 1, ('N', 'U'): 1, ('P', 'U'): 1, 3: 0})\n",
      "defaultdict(<class 'int'>, {('B', 'I'): 1, ('I', 'J'): 3, ('I', 'M'): 2, ('I', 'P'): 2, ('B', 'K'): 2, ('J', 'K'): 1, ('K', 'M'): 3, ('K', 'P'): 1, ('B', 'Q'): 1, ('J', 'Q'): 1, ('M', 'Q'): 2, ('P', 'Q'): 2, ('B', 'S'): 3, ('J', 'S'): 1, ('M', 'S'): 2, ('P', 'S'): 2, ('D', 'F'): 3, ('D', 'H'): 1, ('D', 'T'): 2, ('D', 'W'): 3, ('E', 'F'): 2, ('E', 'H'): 2, ('E', 'T'): 1, ('E', 'W'): 1, ('F', 'O'): 1, ('H', 'O'): 2, ('O', 'T'): 1, ('O', 'W'): 3, ('F', 'V'): 2, ('H', 'V'): 2, ('T', 'V'): 1, ('V', 'W'): 3, ('H', 'I'): 3, ('H', 'J'): 2, ('H', 'T'): 2, ('I', 'L'): 1, ('J', 'L'): 2, ('L', 'O'): 2, ('L', 'T'): 2, ('I', 'U'): 1, ('J', 'U'): 1, ('O', 'U'): 1, ('T', 'U'): 2, ('I', 'W'): 2, ('J', 'W'): 1, ('T', 'W'): 2, ('A', 'D'): 3, ('D', 'G'): 1, ('D', 'S'): 1, ('D', 'X'): 2, ('A', 'F'): 3, ('F', 'G'): 1, ('F', 'S'): 2, ('F', 'X'): 2, ('A', 'R'): 2, ('G', 'R'): 2, ('R', 'S'): 4, ('R', 'X'): 1, ('A', 'V'): 2, ('G', 'V'): 1, ('S', 'V'): 1, ('V', 'X'): 3, ('A', 'K'): 2, ('A', 'T'): 1, ('A', 'W'): 1, ('B', 'D'): 2, ('B', 'T'): 1, ('B', 'W'): 2, ('D', 'R'): 2, ('K', 'R'): 3, ('R', 'T'): 1, ('R', 'W'): 3, ('D', 'U'): 2, ('K', 'U'): 2, ('U', 'W'): 2, ('G', 'I'): 2, ('I', 'S'): 2, ('G', 'L'): 1, ('H', 'L'): 2, ('L', 'P'): 2, ('L', 'S'): 2, ('G', 'M'): 1, ('H', 'M'): 1, ('M', 'P'): 3, ('G', 'N'): 2, ('H', 'N'): 2, ('N', 'P'): 2, ('N', 'S'): 2, ('A', 'L'): 2, ('A', 'M'): 1, ('A', 'Q'): 2, ('D', 'L'): 3, ('D', 'M'): 1, ('D', 'Q'): 3, ('F', 'T'): 1, ('M', 'T'): 2, ('Q', 'T'): 1, ('L', 'X'): 2, ('M', 'X'): 1, ('Q', 'X'): 2, ('G', 'H'): 2, ('G', 'O'): 2, ('G', 'P'): 1, ('J', 'O'): 2, ('J', 'P'): 2, ('I', 'N'): 1, ('N', 'O'): 2, ('H', 'R'): 3, ('I', 'R'): 1, ('O', 'R'): 2, ('P', 'R'): 1, ('E', 'I'): 1, ('E', 'O'): 1, ('E', 'R'): 1, ('F', 'J'): 1, ('J', 'R'): 2, ('I', 'V'): 1, ('O', 'V'): 2, ('R', 'V'): 1, ('F', 'W'): 2, ('A', 'B'): 1, ('A', 'U'): 1, ('B', 'P'): 1, ('P', 'U'): 2, ('Q', 'S'): 1, ('S', 'U'): 1, ('C', 'D'): 2, ('C', 'K'): 2, ('C', 'N'): 1, ('C', 'W'): 1, ('F', 'K'): 1, ('F', 'N'): 1, ('N', 'R'): 1, ('K', 'T'): 2, ('N', 'T'): 1, ('G', 'J'): 2, ('G', 'X'): 1, ('H', 'P'): 2, ('O', 'P'): 1, ('P', 'X'): 1, ('J', 'V'): 2, ('A', 'G'): 2, ('A', 'X'): 1, ('D', 'J'): 1, ('J', 'X'): 1, ('G', 'Q'): 1, ('Q', 'V'): 1, ('G', 'W'): 1, ('W', 'X'): 1, ('E', 'K'): 2, ('I', 'K'): 1, ('E', 'M'): 1, ('M', 'R'): 2, ('E', 'S'): 1, ('S', 'T'): 1, ('A', 'J'): 1, ('A', 'O'): 1, ('A', 'S'): 1, ('B', 'G'): 1, ('B', 'J'): 1, ('B', 'O'): 1, ('J', 'N'): 1, ('C', 'L'): 1, ('E', 'L'): 1, ('L', 'M'): 1, ('L', 'U'): 2, ('C', 'P'): 1, ('E', 'P'): 1, ('C', 'Q'): 1, ('E', 'Q'): 1, ('Q', 'U'): 1, ('A', 'P'): 1, ('F', 'H'): 1, ('H', 'K'): 1, ('F', 'M'): 1, ('K', 'S'): 1, ('B', 'C'): 1, ('B', 'L'): 1, ('B', 'X'): 1, ('C', 'U'): 1, ('U', 'X'): 1, ('C', 'V'): 1, ('L', 'V'): 1, 3: 0})\n",
      "defaultdict(<class 'int'>, {('A', 'E'): 1, ('A', 'K'): 2, ('A', 'U'): 1, ('A', 'W'): 2, ('E', 'I'): 3, ('I', 'K'): 2, ('I', 'U'): 3, ('I', 'W'): 2, ('E', 'O'): 1, ('K', 'O'): 1, ('O', 'U'): 1, ('O', 'W'): 2, ('E', 'R'): 1, ('K', 'R'): 2, ('R', 'U'): 1, ('R', 'W'): 4, ('G', 'H'): 2, ('G', 'L'): 1, ('G', 'N'): 2, ('G', 'V'): 1, ('H', 'J'): 1, ('J', 'L'): 1, ('J', 'N'): 1, ('J', 'V'): 2, ('H', 'M'): 1, ('L', 'M'): 1, ('M', 'N'): 2, ('M', 'V'): 4, ('H', 'S'): 2, ('L', 'S'): 2, ('N', 'S'): 1, ('S', 'V'): 2, ('A', 'I'): 2, ('A', 'N'): 1, ('A', 'X'): 1, ('E', 'K'): 3, ('E', 'N'): 2, ('E', 'X'): 2, ('I', 'R'): 3, ('N', 'R'): 1, ('R', 'X'): 2, ('K', 'U'): 1, ('N', 'U'): 2, ('U', 'X'): 2, ('B', 'J'): 2, ('F', 'J'): 1, ('J', 'S'): 2, ('B', 'L'): 2, ('F', 'L'): 1, ('L', 'V'): 3, ('B', 'O'): 1, ('F', 'O'): 3, ('O', 'S'): 2, ('O', 'V'): 1, ('B', 'T'): 2, ('F', 'T'): 1, ('S', 'T'): 1, ('T', 'V'): 1, ('A', 'B'): 1, ('A', 'D'): 1, ('A', 'V'): 1, ('D', 'L'): 2, ('L', 'W'): 1, ('B', 'M'): 2, ('D', 'M'): 1, ('M', 'W'): 2, ('B', 'P'): 2, ('D', 'P'): 2, ('P', 'V'): 2, ('P', 'W'): 1, ('F', 'G'): 1, ('G', 'I'): 2, ('G', 'Q'): 1, ('G', 'T'): 1, ('F', 'K'): 3, ('K', 'Q'): 2, ('K', 'T'): 1, ('F', 'R'): 1, ('Q', 'R'): 1, ('R', 'T'): 1, ('F', 'U'): 1, ('Q', 'U'): 1, ('T', 'U'): 1, ('A', 'H'): 1, ('A', 'Q'): 1, ('A', 'R'): 2, ('B', 'H'): 2, ('B', 'I'): 1, ('B', 'Q'): 1, ('B', 'R'): 2, ('H', 'W'): 2, ('Q', 'W'): 2, ('H', 'X'): 1, ('I', 'X'): 1, ('Q', 'X'): 1, ('C', 'D'): 2, ('D', 'K'): 1, ('D', 'S'): 1, ('D', 'U'): 2, ('C', 'E'): 3, ('E', 'S'): 1, ('E', 'U'): 3, ('C', 'M'): 2, ('K', 'M'): 2, ('M', 'S'): 1, ('M', 'U'): 2, ('C', 'P'): 1, ('K', 'P'): 1, ('P', 'S'): 1, ('P', 'U'): 1, ('B', 'D'): 4, ('B', 'E'): 2, ('C', 'T'): 1, ('E', 'P'): 1, ('M', 'P'): 1, ('P', 'T'): 1, ('D', 'X'): 1, ('M', 'X'): 1, ('T', 'X'): 2, ('F', 'H'): 2, ('H', 'L'): 1, ('K', 'L'): 1, ('K', 'S'): 1, ('K', 'W'): 3, ('F', 'Q'): 2, ('L', 'Q'): 1, ('Q', 'S'): 2, ('F', 'V'): 1, ('V', 'W'): 2, ('D', 'G'): 1, ('D', 'N'): 1, ('D', 'V'): 1, ('H', 'N'): 2, ('H', 'V'): 2, ('G', 'P'): 2, ('N', 'P'): 1, ('B', 'X'): 2, ('G', 'X'): 1, ('N', 'X'): 1, ('V', 'X'): 1, ('E', 'F'): 2, ('E', 'Q'): 1, ('E', 'W'): 1, ('C', 'K'): 1, ('C', 'O'): 2, ('O', 'Q'): 1, ('C', 'S'): 1, ('F', 'S'): 1, ('S', 'W'): 2, ('C', 'F'): 1, ('F', 'I'): 2, ('F', 'N'): 1, ('F', 'P'): 1, ('C', 'G'): 1, ('I', 'O'): 1, ('N', 'O'): 1, ('O', 'P'): 1, ('C', 'Q'): 1, ('I', 'Q'): 2, ('N', 'Q'): 2, ('P', 'Q'): 1, ('E', 'J'): 1, ('J', 'M'): 1, ('J', 'W'): 2, ('B', 'K'): 1, ('B', 'U'): 1, ('U', 'W'): 1, ('B', 'V'): 1, ('E', 'V'): 2, ('D', 'T'): 1, ('E', 'L'): 1, ('E', 'T'): 1, ('B', 'N'): 1, ('L', 'N'): 1, ('N', 'T'): 1, ('L', 'X'): 1, ('A', 'F'): 1, ('A', 'J'): 1, ('A', 'M'): 1, ('I', 'J'): 1, ('I', 'M'): 2, ('J', 'O'): 1, ('M', 'O'): 1, ('O', 'R'): 2, ('F', 'W'): 1, ('F', 'M'): 1, ('H', 'I'): 1, ('Q', 'V'): 1, ('B', 'G'): 1, ('B', 'S'): 1, ('D', 'J'): 1, ('G', 'J'): 1, ('J', 'R'): 1, ('D', 'O'): 1, ('G', 'O'): 1, ('D', 'W'): 1, ('G', 'W'): 1, 3: 0})\n"
     ]
    }
   ],
   "source": [
    "main()"
   ]
  },
  {
   "cell_type": "code",
   "execution_count": null,
   "id": "fb37e5be-f05f-4af5-869d-75c1fb18ebe4",
   "metadata": {},
   "outputs": [],
   "source": [
    "   print(\"Best score:\", best_score)\n",
    "    print(\"Score against counts:\")\n",
    "    for key, value in best_score_against.items():\n",
    "        print(f\"{key}: {value}\")\n",
    "\n",
    "    for i, (teams, rest) in enumerate(best_schedule):\n",
    "        print(f\"Round {i+1}:\")\n",
    "        for j, team in enumerate(teams):\n",
    "            print(f\"  Team {j+1}: {team}\")\n",
    "        print(f\"  Rest: {rest}\")\n",
    "\n",
    "if __name__ == \"__main__\":\n",
    "    main()"
   ]
  },
  {
   "cell_type": "code",
   "execution_count": 8,
   "id": "93baa849-a2e7-4993-b504-5924891d5738",
   "metadata": {},
   "outputs": [
    {
     "data": {
      "text/plain": [
       "\u001b[1;31mInit signature:\u001b[0m \u001b[0menumerate\u001b[0m\u001b[1;33m(\u001b[0m\u001b[0miterable\u001b[0m\u001b[1;33m,\u001b[0m \u001b[0mstart\u001b[0m\u001b[1;33m=\u001b[0m\u001b[1;36m0\u001b[0m\u001b[1;33m)\u001b[0m\u001b[1;33m\u001b[0m\u001b[1;33m\u001b[0m\u001b[0m\n",
       "\u001b[1;31mDocstring:\u001b[0m     \n",
       "Return an enumerate object.\n",
       "\n",
       "  iterable\n",
       "    an object supporting iteration\n",
       "\n",
       "The enumerate object yields pairs containing a count (from start, which\n",
       "defaults to zero) and a value yielded by the iterable argument.\n",
       "\n",
       "enumerate is useful for obtaining an indexed list:\n",
       "    (0, seq[0]), (1, seq[1]), (2, seq[2]), ...\n",
       "\u001b[1;31mType:\u001b[0m           type\n",
       "\u001b[1;31mSubclasses:\u001b[0m     "
      ]
     },
     "metadata": {},
     "output_type": "display_data"
    }
   ],
   "source": [
    "?enumerate"
   ]
  },
  {
   "cell_type": "code",
   "execution_count": null,
   "id": "0f40e156-4c6a-4641-a697-4a49de20ec88",
   "metadata": {},
   "outputs": [],
   "source": []
  }
 ],
 "metadata": {
  "kernelspec": {
   "display_name": "Python 3 (ipykernel)",
   "language": "python",
   "name": "python3"
  },
  "language_info": {
   "codemirror_mode": {
    "name": "ipython",
    "version": 3
   },
   "file_extension": ".py",
   "mimetype": "text/x-python",
   "name": "python",
   "nbconvert_exporter": "python",
   "pygments_lexer": "ipython3",
   "version": "3.11.5"
  }
 },
 "nbformat": 4,
 "nbformat_minor": 5
}
