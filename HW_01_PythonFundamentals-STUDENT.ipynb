{
 "cells": [
  {
   "cell_type": "markdown",
   "id": "45bb8053-48ae-4a43-9420-7531a2088f70",
   "metadata": {},
   "source": [
    "# Homework 1: Python fundamentals\n",
    "## And using external resources to better undersand code!"
   ]
  },
  {
   "cell_type": "markdown",
   "id": "369b25c4-5270-44f7-b4aa-5de43f181457",
   "metadata": {},
   "source": [
    "### <p style=\"text-align: right;\"> &#9989; **Joseph Burke** </p>"
   ]
  },
  {
   "cell_type": "markdown",
   "id": "9db8f7d4-bb38-4e4d-81eb-b3f4a29e4390",
   "metadata": {},
   "source": [
    "## Learning Goals\n",
    "\n",
    "### Content Goals\n",
    "- Review the arithmetic operators in Python\n",
    "- Utilize loops to perform repeated operations and to store, access, and manipulate data in one more or lists\n",
    "- Utilize variables and lists to store and access data\n",
    "- Use conditional statements to control code flow.\n",
    "\n",
    "### Practice Goals\n",
    "- Use the internet as a resource for learning how to write code, learn new things, and troubleshoot problems\n",
    "- Solve a variety of problems using code\n",
    "- Troubleshoot errors and debug your code as issues arise (you'll do this all the time in this course!)\n",
    "___\n",
    "\n"
   ]
  },
  {
   "cell_type": "markdown",
   "id": "e2d25c6b-8ba7-4899-b2aa-e1c9db4ade5c",
   "metadata": {},
   "source": [
    "## Assignment instructions\n",
    "\n",
    "Work through the following assignment, making sure to follow all the directions and answer all the questions.\n",
    "\n",
    "**This assignment is due at 11:59 pm on Friday, February 2.** It should be uploaded into the \"Homework Assignments\" submission folder for Homework #1.  Submission instructions can be found at the end of the notebook.\n"
   ]
  },
  {
   "cell_type": "markdown",
   "id": "3c95e3e0-bf6e-4735-aa5c-ffdf3b4b69a4",
   "metadata": {},
   "source": [
    "---\n",
    "## Version check\n",
    "\n",
    "Before you begin, make sure your Jupyter kernel is Python 3. There are significant differences between Python 2 and Python 3, and we use Python 3 in this course. The kernel type at the upper-right corner should say \"Python 3\", and the following code should show a version of the form: `3.x.y` (where \"x\" and \"y\" are the sub-version numbers).\n",
    "\n",
    "If your kernel is Python 2, try selecting Python 3 from the Kernel menu above under the sub-menu \"Change kernel\". If that does not work, consult the Teams help channel for assistance."
   ]
  },
  {
   "cell_type": "code",
   "execution_count": 1,
   "id": "df6fc368-2a6f-4a95-83c1-89279fbc61b3",
   "metadata": {},
   "outputs": [
    {
     "name": "stdout",
     "output_type": "stream",
     "text": [
      "3.11.5 | packaged by Anaconda, Inc. | (main, Sep 11 2023, 13:26:23) [MSC v.1916 64 bit (AMD64)]\n"
     ]
    }
   ],
   "source": [
    "import sys\n",
    "print(sys.version)"
   ]
  },
  {
   "cell_type": "markdown",
   "id": "e27dda44-fb98-447c-8c6d-cd8a251b38ee",
   "metadata": {},
   "source": [
    "---\n",
    "<a id=\"toc\"></a>\n",
    "\n",
    "## Table of Contents\n",
    "\n",
    "[Part 0. Integrity statement and office hours](#part_0) (4 point)\n",
    "\n",
    "[Part 1. Doing basic math with Python](#part_1)  (6 points)\n",
    "\n",
    "[Part 2. Finding common divisors](#part_2) (4 points)\n",
    "\n",
    "[Part 3. Fibonacci numbers](#part_3)  (14 points)\n",
    "\n",
    "[Part 4. Amortizing loans](#part_4) (16 points)\n",
    "\n",
    "[Part 5. Dictionaries and everything else](#part_5) (7 points)\n",
    "\n",
    "[Part 6. Conditional statements and debugging](#part_6) (6 points)"
   ]
  },
  {
   "cell_type": "code",
   "execution_count": 2,
   "id": "b82268ef-c236-4bb0-991d-231b9a3c31bc",
   "metadata": {},
   "outputs": [
    {
     "name": "stdout",
     "output_type": "stream",
     "text": [
      "The total number of points is : 57\n"
     ]
    }
   ],
   "source": [
    "points_list = [4, 6, 4, 14, 16, 7, 6]\n",
    "\n",
    "print(f\"The total number of points is : {sum(points_list)}\")"
   ]
  },
  {
   "cell_type": "markdown",
   "id": "07697278-efc1-44f9-b281-b7b4aece9bff",
   "metadata": {},
   "source": [
    "---\n",
    "<a id=\"part_0\"></a>\n",
    "\n",
    "## Part 0: Integrity statement and office hours\n",
    "\n",
    "[Back to Top](#toc)\n",
    "\n",
    "### 0.1 Academic integrity statement (2 Points)\n",
    "\n",
    "In the markdown cell below, paste your personal academic integrity statement. **You should have generated this in the Day 6 pre-class assignment**, if you did not do this pre-class assignment, locate that assignment, find the appropriate section, and draft your integrity statment now.\n",
    "\n",
    "By including this statement, you are confirming that you are submitting this as your own work and not that of someone else.\n"
   ]
  },
  {
   "cell_type": "markdown",
   "id": "add02426-de57-4036-8da8-2add665532c4",
   "metadata": {},
   "source": [
    "<font size=6 color=\"#009600\">&#9998;</font> *I, `_Joseph Burke_`, commit to `_ upholding all that is expected of a student of Michigan State University on the grounds of honesty and integrity in the classroom.  I'm greatly excited and thankful for my time at MSU and all the opportunities and clubs I'm exposed to and am apart of, and I hope to stay committed and helpful to those groups as much as possible.  I pledge to stay on top of my work and to source everything I use properly and ethically. I will also advocate for the ethical use of data and the distrubution of clear and honest information, and to educate as many people as I can about the effects of bias in data and algarithms. I will reflect the truth in all of my work and will not spread false information.  I will follow the MSU Policy throughout my entire time here, do and turn in  my own work, and grow from the effort I put into this course.   _`*"
   ]
  },
  {
   "cell_type": "markdown",
   "id": "295e310b-e5f2-4c21-9e3b-afe0ec9813f9",
   "metadata": {},
   "source": [
    "### 0.2 Going to Office/Help Room Hours (2 Points)\n",
    "\n",
    "#### Why are we doing this?\n",
    "We want to make sure that everyone knows how to access the resources\n",
    "available to you. One of the best resources you have at your disposal is office/help room hours, which are offered by the instructors, TAs, and LAs associated with CMSE 201.\n",
    "\n",
    "#### What will you do?\n",
    "(At minimum) Go to one office hour session ​(it doesn’t matter which one you go to). Come with one question that you would like to talk about. It can be big or small. Ask your question. All of the instructional staff for CMSE 201 (section instructors, TAs, and LAs) will have access to a roster of the folks enrolled in CMSE 201 and will be able to mark off that you stopped in. As long as there ends up being a check next to your name, you’ll get credit for this part of Homework 1.\n",
    "\n",
    "If your schedule is such that none of the nearly 40 hours of office hours/help room work with your schedule. Send and email to your instructor to coordinate an option to make sure you can get credit for this part of the assignment.\n",
    "\n",
    "**NOTE:** The day when the homework is due (**Friday, February 2nd**) will be the busiest time for folks to go to office hours. You are **STRONGLY** encouraged to go to office hours before that Friday to get credit for this part of this assignment. If you show up to office/help room hours on that Friday and it's very busy, there is no guarantee that one of the instructors, TAs, or LAs will be able to check you off for this part of the assignment. (You should still feel free to go to office hours on Friday for help, though!)\n",
    "\n",
    "You can find the office hours calendar on the [course website](https://cmse.msu.edu/cmse201). There is a link to the calendar on the front page and the calendar itself is embedded near the bottom of the front page. Double-check the calendar events for details on which zoom room or physical location the office/help room hours are being held in. The information is also pinned in the cmse201-S24-help channel on Teams!"
   ]
  },
  {
   "cell_type": "markdown",
   "id": "3297235f",
   "metadata": {},
   "source": [
    "---\n",
    "<a id=\"part_1\"></a>\n",
    "\n",
    "## Part 1. Doing basic math with Python (6 points)\n",
    "\n",
    "[Back to Top](#toc)\n",
    "\n",
    "As you explored with your order of magnitude modeling assignment in the Day 2 in-class assignment, Python is great at doing basic math -- much like your favorite calculator! As you get more comfortable with writing Python code, you might find yourself writing a bit of code when you need to do some calculations instead of pulling digging out your calculator or launching the calculator app on your phone. \n",
    "\n",
    "Doing basic math with Python involves using various \"**operators**\" -- these operators are the Python symbols used to do the actual math. For example, to add two variables, we use the \"`+`\" operator. To subtract, we use the \"`-`\" operator.\n",
    "\n",
    "There are a number of other arithmetic (math) operators as well.\n",
    "\n",
    "### &#9989;&nbsp; Question 1.1 (4 points)\n",
    "\n",
    "In the markdown cell below, fill out the following table to indicate what math each operator is used for. If you don't know the answer off the top of your head, you should practice using Google (or your search engine of choice) to pick up some new Python knowledge (something even the pros do!). **Make sure you use the keyword \"python\" in your search terms when looking for these math operators.**\n",
    "\n",
    "**Remember**: You can double-click on a markdown cell to edit it."
   ]
  },
  {
   "cell_type": "markdown",
   "id": "3c372d31",
   "metadata": {},
   "source": [
    "| Arithmetic Operator Symbol |  Name of Mathematical Operation | Description |\n",
    "| :------------------------- | :------------------------------ | :---------- | \n",
    "| +                          | Addition                        | Add two variables or numbers together |\n",
    "| -                          | Subtraction                     | Subtract one variable or number from another |\n",
    "| *                          | Multiplication                  | Mutiplies two variables or numbers together or expands a list |\n",
    "| /                          | Division                        | Divides a variable or number from another |\n",
    "| **                         | Exponentiation                  | Raises a variable or number to a power or could be used to root |\n",
    "| %                          | Modulus                         | Gives the remainder for one var or number divided by another - nick helped clarify|"
   ]
  },
  {
   "cell_type": "markdown",
   "id": "ff524860",
   "metadata": {},
   "source": [
    "### &#9989;&nbsp; Question 1.2 (2 Points)\n",
    "\n",
    "One arithmetic operator is missing from the table above. This is the \"Floor Division\" operator, which looks like this: `//`\n",
    "\n",
    "In your own words in the cell below, explain what this operator does. In the code cell below that, use the operator in an example to confirm that your explanation is accurate."
   ]
  },
  {
   "cell_type": "markdown",
   "id": "7aa69bac",
   "metadata": {},
   "source": [
    "<font size=6 color=\"#009600\">&#9998;</font> *The Floored division operator // divides numbers, but only displays the amount of times a number is fully divisible by another, and will only return integers and disregard remainders.  Simply, it divides and rounds down to the nearest whole number.  It will always round down towards the negative direction*"
   ]
  },
  {
   "cell_type": "code",
   "execution_count": 3,
   "id": "a59a5d5f",
   "metadata": {},
   "outputs": [
    {
     "name": "stdout",
     "output_type": "stream",
     "text": [
      "-4\n",
      "1\n",
      "-1\n",
      "-1\n",
      "0\n",
      "-3\n"
     ]
    }
   ],
   "source": [
    "# Put your example code that showcases how the // operator works to ensure that it agrees with your explanation\n",
    "a = 24\n",
    "b = -6\n",
    "c = 16\n",
    "print(a//b)\n",
    "print(a//c)\n",
    "print(b//a)\n",
    "print(b//c)\n",
    "print(c//a)\n",
    "print(c//b)"
   ]
  },
  {
   "cell_type": "markdown",
   "id": "a5c7d1a7-b822-4228-94b7-606eeb722df2",
   "metadata": {},
   "source": [
    "---\n",
    "<a id=\"part_2\"></a>\n",
    "\n",
    "## Part 2: Finding common divisors (4 points)\n",
    "\n",
    "[Back to Top](#toc)\n",
    "\n",
    "For this question you should write code using the tools you learned so far. The code will find all the integers in the interval from 1 to 12000 that are **divisible by both 3 and 14**. **Store** all the numbers that satisfy this criterion into a _list_ and **print** the entire list. \n",
    "\n",
    "**Hint**: Remember the logical operators `and`, `or` and `not` are available in Python."
   ]
  },
  {
   "cell_type": "code",
   "execution_count": 4,
   "id": "11dc4429-c44e-4a99-b7aa-5d00a7c6477f",
   "metadata": {},
   "outputs": [
    {
     "name": "stdout",
     "output_type": "stream",
     "text": [
      "[0, 42, 84, 126, 168, 210, 252, 294, 336, 378, 420, 462, 504, 546, 588, 630, 672, 714, 756, 798, 840, 882, 924, 966, 1008, 1050, 1092, 1134, 1176, 1218, 1260, 1302, 1344, 1386, 1428, 1470, 1512, 1554, 1596, 1638, 1680, 1722, 1764, 1806, 1848, 1890, 1932, 1974, 2016, 2058, 2100, 2142, 2184, 2226, 2268, 2310, 2352, 2394, 2436, 2478, 2520, 2562, 2604, 2646, 2688, 2730, 2772, 2814, 2856, 2898, 2940, 2982, 3024, 3066, 3108, 3150, 3192, 3234, 3276, 3318, 3360, 3402, 3444, 3486, 3528, 3570, 3612, 3654, 3696, 3738, 3780, 3822, 3864, 3906, 3948, 3990, 4032, 4074, 4116, 4158, 4200, 4242, 4284, 4326, 4368, 4410, 4452, 4494, 4536, 4578, 4620, 4662, 4704, 4746, 4788, 4830, 4872, 4914, 4956, 4998, 5040, 5082, 5124, 5166, 5208, 5250, 5292, 5334, 5376, 5418, 5460, 5502, 5544, 5586, 5628, 5670, 5712, 5754, 5796, 5838, 5880, 5922, 5964, 6006, 6048, 6090, 6132, 6174, 6216, 6258, 6300, 6342, 6384, 6426, 6468, 6510, 6552, 6594, 6636, 6678, 6720, 6762, 6804, 6846, 6888, 6930, 6972, 7014, 7056, 7098, 7140, 7182, 7224, 7266, 7308, 7350, 7392, 7434, 7476, 7518, 7560, 7602, 7644, 7686, 7728, 7770, 7812, 7854, 7896, 7938, 7980, 8022, 8064, 8106, 8148, 8190, 8232, 8274, 8316, 8358, 8400, 8442, 8484, 8526, 8568, 8610, 8652, 8694, 8736, 8778, 8820, 8862, 8904, 8946, 8988, 9030, 9072, 9114, 9156, 9198, 9240, 9282, 9324, 9366, 9408, 9450, 9492, 9534, 9576, 9618, 9660, 9702, 9744, 9786, 9828, 9870, 9912, 9954, 9996, 10038, 10080, 10122, 10164, 10206, 10248, 10290, 10332, 10374, 10416, 10458, 10500, 10542, 10584, 10626, 10668, 10710, 10752, 10794, 10836, 10878, 10920, 10962, 11004, 11046, 11088, 11130, 11172, 11214, 11256, 11298, 11340, 11382, 11424, 11466, 11508, 11550, 11592, 11634, 11676, 11718, 11760, 11802, 11844, 11886, 11928, 11970]\n"
     ]
    }
   ],
   "source": [
    "# put your code here\n",
    "div_list=[]\n",
    "for x in range(0,12001):\n",
    "    if x%3 ==0 and x%14 ==0:\n",
    "        div_list.append(x)\n",
    "print(div_list)"
   ]
  },
  {
   "cell_type": "markdown",
   "id": "140169fb-eb23-4560-aad9-717300d09e15",
   "metadata": {},
   "source": [
    "---\n",
    "<a id=\"part_3\"></a>\n",
    "\n",
    "## Part 3: Fibonacci numbers (14 points)\n",
    "\n",
    "[Back to Top](#toc)\n",
    "\n",
    "Why is it that the number of petals in a flower is often one of the following numbers: 3, 5, 8, 13, 21, 34 or 55? For example, the lily has three petals, buttercups have five, the chicory has 21, the daisy has often 34 or 55 petals, etc. https://thefibonaccisequence.weebly.com/flowers.html\n",
    "\n",
    "Are these numbers the product of chance? No! They all belong to the Fibonacci sequence: 1, 1, 2, 3, 5, 8, 13, 21, 34, 55, 89, 144, ..., where each number is obtained from the sum of the two preceding.  The $n$th Fibonacci number $f_n$ can be derived by $f_n = f_{n-1} + f_{n-2}$. For a long time, it had been noticed that these numbers were important in nature, but only relatively recently did we understand that this is related to efficiency during the growth process of plants. \n",
    "\n",
    "### &#9989;&nbsp; Question 3.1 (5 Points) \n",
    "In this exercise, you are given a numerical sequence that has the form $1, 1, 2, 3, 5, \\ldots$. Your goal is to write a __*loop*__ that computes 50 terms of the Fibonacci sequence. Store this sequence as a __*list*__ and then **print the entire list all at once.**. \n",
    "\n",
    "```\n",
    "[1, 1, 2, 3, 5, 8, 13, 21, 34, 55, 89, 144, 233, 377, 610, 987, 1597, 2584, 4181, 6765, 10946, 17711, 28657, 46368, 75025, 121393, 196418, 317811, 514229, 832040, 1346269, 2178309, 3524578, 5702887, 9227465, 14930352, 24157817, 39088169, 63245986, 102334155, 165580141, 267914296, 433494437, 701408733, 1134903170, 1836311903, 2971215073, 4807526976, 7778742049, 12586269025, 20365011074]\n",
    "```"
   ]
  },
  {
   "cell_type": "markdown",
   "id": "bcb234a0-dfce-4b3a-90e1-8bae3656d412",
   "metadata": {},
   "source": [
    "**Note:** If you Google Fibonacci number python code you will likely find something about _recursion_. **You are not allowed to use recursion!**. You should be able to write this code using only loops and lists! No functions needed.\n"
   ]
  },
  {
   "cell_type": "code",
   "execution_count": 5,
   "id": "5e67513f-4ebd-4e02-beaa-44c62a6cd93a",
   "metadata": {},
   "outputs": [
    {
     "name": "stdout",
     "output_type": "stream",
     "text": [
      "[1, 1, 2, 3, 5, 8, 13, 21, 34, 55, 89, 144, 233, 377, 610, 987, 1597, 2584, 4181, 6765, 10946, 17711, 28657, 46368, 75025, 121393, 196418, 317811, 514229, 832040, 1346269, 2178309, 3524578, 5702887, 9227465, 14930352, 24157817, 39088169, 63245986, 102334155, 165580141, 267914296, 433494437, 701408733, 1134903170, 1836311903, 2971215073, 4807526976, 7778742049, 12586269025, 20365011074]\n"
     ]
    }
   ],
   "source": [
    "# Put your code here\n",
    "def fibonacci ():\n",
    "    n=0\n",
    "    a=1\n",
    "    fib =[1]\n",
    "    for x in range(0,25):  #only need 25 because we're appending two numbers for each iteration\n",
    "        n = n+a  #using a and n to write fibonacci sequence as the sum of the two previous numbers\n",
    "        fib.append(n)\n",
    "        a=n+a\n",
    "        fib.append(a)\n",
    "    return fib"
   ]
  },
  {
   "cell_type": "markdown",
   "id": "2a114db3-4e96-4c12-b02f-54c9fa8c95f3",
   "metadata": {},
   "source": [
    "### &#9989;&nbsp; Question 3.2 (5 Points)  \n",
    "Once you have your list of Fibonacci numbers, use it to calculate the ratios $R_n = f_{n}/f_{n+1}$ and store it into a new list. \n",
    "At the end print the entire new list all at once. "
   ]
  },
  {
   "cell_type": "code",
   "execution_count": 6,
   "id": "c65c5267-da64-4848-b661-03b5320036df",
   "metadata": {},
   "outputs": [
    {
     "name": "stdout",
     "output_type": "stream",
     "text": [
      "[1.0, 0.5, 0.6666666666666666, 0.6, 0.625, 0.6153846153846154, 0.6190476190476191, 0.6176470588235294, 0.6181818181818182, 0.6179775280898876, 0.6180555555555556, 0.6180257510729614, 0.6180371352785146, 0.6180327868852459, 0.6180344478216818, 0.6180338134001252, 0.6180340557275542, 0.6180339631667066, 0.6180339985218034, 0.618033985017358, 0.6180339901755971, 0.6180339882053251, 0.618033988957902, 0.6180339886704432, 0.6180339887802427, 0.618033988738303, 0.6180339887543226, 0.6180339887482036, 0.6180339887505408, 0.6180339887496481, 0.618033988749989, 0.6180339887498588, 0.6180339887499086, 0.6180339887498896, 0.6180339887498969, 0.6180339887498941, 0.6180339887498951, 0.6180339887498948, 0.6180339887498949, 0.6180339887498948, 0.6180339887498949, 0.6180339887498948, 0.6180339887498949, 0.6180339887498949, 0.6180339887498949, 0.6180339887498949, 0.6180339887498949, 0.6180339887498949, 0.6180339887498949, 0.6180339887498949]\n"
     ]
    }
   ],
   "source": [
    "# Put your code here\n",
    "fibratio = []  #say in Italian accent :)\n",
    "for n in range(len(fibonacci)-1):\n",
    "    if n == 0 or n== 1:\n",
    "        fn=fibonacci[n]\n",
    "    else:\n",
    "        fn = fibonacci[n-1]+fibonacci[n-2]    #finding fn the hard way\n",
    "    fibonacci[n]\n",
    "    ratio = fn/fibonacci[n+1]\n",
    "    fibratio.append(ratio)\n",
    "print(fibratio)"
   ]
  },
  {
   "cell_type": "markdown",
   "id": "758f04ff-94ee-458b-846f-05f97b67051a",
   "metadata": {},
   "source": [
    "### &#9989;&nbsp; Questions 3.3 (6 Points) \n",
    "\n",
    "1. (2 points) Do you notice something interesting in the printed numbers? How do the numbers change? Try googling the last number.\n",
    "2. (4 points) What type of loops did you use to write the above programs, **looping by value** or **looping by index**? If you used looping by value, can you re-write your code using looping by index? Instead, if you used looping by index, can you re-write your code using looping by value?\n",
    "\n",
    "You must explain your answers. \n",
    "\n",
    "**Note:** If you use code from the internet of AI tools you must cite the source by including a comment in your code (using the `#` symbol) that provides the URL that your code came from and the date you accessed that URL. If you used AI tools don't forget to add the prompt used. You must explain any new code (_e.g._ built-in python functions) that has not been covered in class. \n"
   ]
  },
  {
   "cell_type": "code",
   "execution_count": 7,
   "id": "27f2636e-95dd-4899-925b-2e4288626356",
   "metadata": {},
   "outputs": [
    {
     "name": "stdout",
     "output_type": "stream",
     "text": [
      "[1.0, 0.5, 0.6666666666666666, 0.6, 0.625, 0.6153846153846154, 0.6190476190476191, 0.6176470588235294, 0.6181818181818182, 0.6179775280898876, 0.6180555555555556, 0.6180257510729614, 0.6180371352785146, 0.6180327868852459, 0.6180344478216818, 0.6180338134001252, 0.6180340557275542, 0.6180339631667066, 0.6180339985218034, 0.618033985017358, 0.6180339901755971, 0.6180339882053251, 0.618033988957902, 0.6180339886704432, 0.6180339887802427, 0.618033988738303, 0.6180339887543226, 0.6180339887482036, 0.6180339887505408, 0.6180339887496481, 0.618033988749989, 0.6180339887498588, 0.6180339887499086, 0.6180339887498896, 0.6180339887498969, 0.6180339887498941, 0.6180339887498951, 0.6180339887498948, 0.6180339887498949, 0.6180339887498948, 0.6180339887498949, 0.6180339887498948, 0.6180339887498949, 0.6180339887498949, 0.6180339887498949, 0.6180339887498949, 0.6180339887498949, 0.6180339887498949, 0.6180339887498949, 0.6180339887498949]\n"
     ]
    }
   ],
   "source": [
    "#I usually looped by index\n",
    "\n",
    "# Put any code you might need here\n",
    "fibratio = []  #say in Italian accent :)\n",
    "for n in range(0,50):\n",
    "    fn=fibonacci[n]\n",
    "    ratio = fn/fibonacci[n+1]\n",
    "    fibratio.append(ratio)\n",
    "print(fibratio)"
   ]
  },
  {
   "cell_type": "markdown",
   "id": "9184685b-6793-4fd0-8deb-434a459267a0",
   "metadata": {},
   "source": [
    "<font size=6 color=\"#009600\">&#9998;</font> The ratios become increasingly similar until they stay the same at ~.618034, which is 'the golden ratio'. Wikipedia states that this number is refered to by the greek letter phi and is mathematically (1+sqrt(5))/2.  The golden ratio is incredible in geometry and nature and is important in plant growth and fractals. #https://en.wikipedia.org/wiki/Golden_ratio accessed 1/31/24 "
   ]
  },
  {
   "cell_type": "markdown",
   "id": "6f717c6f",
   "metadata": {},
   "source": [
    "##### ---\n",
    "<a id=\"part_4\"></a>\n",
    "\n",
    "## Part 4. Amortizing Loans (16 points)\n",
    "\n",
    "[Back to Top](#toc)\n",
    "\n",
    "\n",
    "An amortizing loan is a type of loan in which the borrower makes regular payments consisting of both principal and interest. These payments are designed to fully repay the loan by the end of its term. One common example of an amortizing loan is a fixed-rate mortgage for buying a home.\n",
    "\n",
    "An amortization schedule is a detailed table that outlines each payment on an amortizing loan, including the portion that goes toward paying off the principal amount and the portion that covers the interest. This schedule helps borrowers understand how their loan balance decreases over time. You can find more details [here](https://www.investopedia.com/terms/a/amortization.asp#toc-what-is-amortization) if you are interested. \n",
    "\n",
    "### &#9989;&nbsp; Question 4.1 (12 points)\n",
    "\n",
    "Your task is to create a Python program that generates an amortization schedule for a loan of \\$30,000 with an annual interest rate of 3% over a 4-year period. The program should print out the amortization schedule, including the amount of interest, the amount of payment towards the principal, and the remaining loan balance.\n",
    "\n",
    "**Formula for Monthly Payment:**\n",
    "\n",
    "The monthly payment on an amortizing loan can be calculated using the following formula:\n",
    "\n",
    "$$ M = \\frac{P \\cdot r \\cdot (1 + r)^N}{(1 + r)^N - 1} $$\n",
    "\n",
    "where\n",
    "- $M$ is the monthly payment.\n",
    "- $P$ is the principal loan amount (in this case, \\$ 30,000).\n",
    "- $r$ is the monthly interest rate, the annual interest rate divided by the number of months in a year.\n",
    "- $N$ is the total number of monthly payments (in this case, the loan term in months).\n",
    "\n",
    "The amount of interest paid in each monthly installment is obtained by multiplying the remaining balance times the monthly interest rate. \n",
    "\n",
    "**Sample Output:**\n",
    "\n",
    "Your program should generate an amortization schedule with numbers rounded to 2 decimal places. Here is a sample output\n",
    "\n",
    "| Month  | Amount of Interest | Amount of Payment Towards Principal | Remaining Balance |\n",
    "|--------|--------------------|-------------------------------------|-------------------|\n",
    "|        |                    |                                     | 30,000            |\n",
    "| 1      | 75                 | 589.03                              | 29,410.97         |\n",
    "| 2      | 73.53              | 590.50                              | 28,820.47         |\n",
    "| 3      | 72.05              | 591.98                              | 28,228.49         |\n",
    "| 4      | 70.57              | 593.46                              | 27,635.03         |\n",
    "\n",
    "Some started code is given below.\n",
    "\n",
    "**IMPORTANT:** If you use a `for` loop in Part 2, then you must use a `while` loop in here and viceversa. Otherwise you will receive only half the points.\n"
   ]
  },
  {
   "cell_type": "code",
   "execution_count": 8,
   "id": "639f8611-01e8-4f78-afff-cdea363c5cbb",
   "metadata": {},
   "outputs": [
    {
     "name": "stdout",
     "output_type": "stream",
     "text": [
      "| Month  | Monthly Payment | Amount of Interest | Amount of Payment Towards Principal | Remaining Balance |\n",
      "| 0 | 664.03 | 73.34 | 737.37 | 29335.97 |\n",
      "| 1 | 664.03 | 71.68 | 735.71 | 28671.94 |\n",
      "| 2 | 664.03 | 70.02 | 734.05 | 28007.91 |\n",
      "| 3 | 664.03 | 68.36 | 732.39 | 27343.88 |\n",
      "| 4 | 664.03 | 66.7 | 730.73 | 26679.85 |\n",
      "| 5 | 664.03 | 65.04 | 729.07 | 26015.82 |\n",
      "| 6 | 664.03 | 63.38 | 727.41 | 25351.79 |\n",
      "| 7 | 664.03 | 61.72 | 725.75 | 24687.76 |\n",
      "| 8 | 664.03 | 60.06 | 724.09 | 24023.73 |\n",
      "| 9 | 664.03 | 58.4 | 722.43 | 23359.7 |\n",
      "| 10 | 664.03 | 56.74 | 720.77 | 22695.67 |\n",
      "| 11 | 664.03 | 55.08 | 719.11 | 22031.64 |\n",
      "| 12 | 664.03 | 53.42 | 717.45 | 21367.61 |\n",
      "| 13 | 664.03 | 51.76 | 715.79 | 20703.58 |\n",
      "| 14 | 664.03 | 50.1 | 714.13 | 20039.55 |\n",
      "| 15 | 664.03 | 48.44 | 712.47 | 19375.52 |\n",
      "| 16 | 664.03 | 46.78 | 710.81 | 18711.49 |\n",
      "| 17 | 664.03 | 45.12 | 709.15 | 18047.46 |\n",
      "| 18 | 664.03 | 43.46 | 707.49 | 17383.43 |\n",
      "| 19 | 664.03 | 41.8 | 705.83 | 16719.4 |\n",
      "| 20 | 664.03 | 40.14 | 704.17 | 16055.37 |\n",
      "| 21 | 664.03 | 38.48 | 702.51 | 15391.34 |\n",
      "| 22 | 664.03 | 36.82 | 700.85 | 14727.31 |\n",
      "| 23 | 664.03 | 35.16 | 699.19 | 14063.28 |\n",
      "| 24 | 664.03 | 33.5 | 697.53 | 13399.25 |\n",
      "| 25 | 664.03 | 31.84 | 695.87 | 12735.22 |\n",
      "| 26 | 664.03 | 30.18 | 694.21 | 12071.2 |\n",
      "| 27 | 664.03 | 28.52 | 692.55 | 11407.17 |\n",
      "| 28 | 664.03 | 26.86 | 690.89 | 10743.14 |\n",
      "| 29 | 664.03 | 25.2 | 689.23 | 10079.11 |\n",
      "| 30 | 664.03 | 23.54 | 687.57 | 9415.08 |\n",
      "| 31 | 664.03 | 21.88 | 685.91 | 8751.05 |\n",
      "| 32 | 664.03 | 20.22 | 684.25 | 8087.02 |\n",
      "| 33 | 664.03 | 18.56 | 682.59 | 7422.99 |\n",
      "| 34 | 664.03 | 16.9 | 680.93 | 6758.96 |\n",
      "| 35 | 664.03 | 15.24 | 679.27 | 6094.93 |\n",
      "| 36 | 664.03 | 13.58 | 677.61 | 5430.9 |\n",
      "| 37 | 664.03 | 11.92 | 675.95 | 4766.87 |\n",
      "| 38 | 664.03 | 10.26 | 674.29 | 4102.84 |\n",
      "| 39 | 664.03 | 8.6 | 672.63 | 3438.81 |\n",
      "| 40 | 664.03 | 6.94 | 670.97 | 2774.78 |\n",
      "| 41 | 664.03 | 5.28 | 669.31 | 2110.75 |\n",
      "| 42 | 664.03 | 3.62 | 667.65 | 1446.72 |\n",
      "| 43 | 664.03 | 1.96 | 665.99 | 782.69 |\n",
      "| 44 | 664.03 | 0.3 | 664.33 | 118.66 |\n",
      "| 45 | 664.03 | -1.36 | 662.67 | -545.37 |\n",
      "| Month  | Monthly Payment | Amount of Interest | Amount of Payment Towards Principal | Remaining Balance |\n",
      "|--------|-----------------|--------------------|-------------------------------------|-------------------|\n"
     ]
    }
   ],
   "source": [
    "# Put your code here\n",
    "print(\"| Month  | Monthly Payment | Amount of Interest | Amount of Payment Towards Principal | Remaining Balance |\")\n",
    "\n",
    "def monthly_payment(principal, interest_as_decimal, years):\n",
    "    remaining_bal=principal\n",
    "    i=0\n",
    "    while remaining_bal >=0:\n",
    "        number_payments = years*12\n",
    "        monthslist = list(range(number_payments))\n",
    "        rate = interest_as_decimal/12\n",
    "        numerator=principal*(rate)*((1+rate)**number_payments)\n",
    "        denominator = ((1+rate)**number_payments)-1\n",
    "\n",
    "        monthly_pay = numerator/denominator\n",
    "        remaining_bal = remaining_bal-monthly_pay\n",
    "        interest = remaining_bal*rate\n",
    "        payment=monthly_pay+interest\n",
    "        if i < len(monthslist):\n",
    "            print(\"|\",monthslist[i],\"|\",round(monthly_pay,2),\"|\",round(interest,2),\"|\",round(payment,2),\"|\",round(remaining_bal,2),\"|\")\n",
    "            i=+ i+1\n",
    "    return monthly_pay\n",
    "\n",
    "mortgage = monthly_payment(30000,.03,4)\n",
    "\n",
    "        \n",
    "        \n",
    "# Sample code \n",
    "print(\"| Month  | Monthly Payment | Amount of Interest | Amount of Payment Towards Principal | Remaining Balance |\")\n",
    "print(\"|--------|-----------------|--------------------|-------------------------------------|-------------------|\")\n"
   ]
  },
  {
   "cell_type": "markdown",
   "id": "98b33a31-5d07-4d38-9ca1-c7701da0d92a",
   "metadata": {},
   "source": [
    "### &#9989;&nbsp; Questions 4.2 (4 Points) \n",
    "\n",
    "What type of loops did you use to write the above programs, **looping by value** or **looping by index**? If you used looping by value, can you re-write your code using looping by index? Instead, if you used looping by index, can you re-write your code using looping by value?\n",
    "\n",
    "You must explain your answers. \n",
    "\n",
    "**Note:** If you use code from the internet of AI tools you must cite the source by including a comment in your code (using the `#` symbol) that provides the URL that your code came from and the date you accessed that URL. If you used AI tools don't forget to add the prompt used. You must explain any new code (_e.g._ built-in python functions) that has not been covered in class. \n"
   ]
  },
  {
   "cell_type": "markdown",
   "id": "4b80fe67-dd9a-49a3-8829-ed9b548eb1c9",
   "metadata": {},
   "source": [
    "---\n",
    "<a id=\"part_5\"></a>\n",
    "\n",
    "## Part 5. Dictionaries and everything else (7 points)\n",
    "\n",
    "[Back to Top](#toc)\n",
    "\n",
    "Occasionally during this class you will be expected to learn a new Python concept \"on-the-fly\". This is when it becomes important for you to be able to digest Python documentation and do some intelligent Googling. For this part of the assignment, you're going to see if you can pick up a bit about how another Python data container works, the **dictionary**.\n",
    "\n",
    "Dictionaries are like lists in the sense that we have some object (e.g. integer, string, etc.) occupying a position in the dictionary. However, dictionaries differ in that we refer to each element by a **key** rather than an integer index. For example, in the dictionary `example_dict` in the cell below, the key string `\"red\"` corresponds to the **value** integer `-2`, the key string `\"green\"` corresponds to the value string `\"beach_ball\"`. We can include values of different types in the same dictionary, just as we did with lists above.\n",
    "\n",
    "__*IMPORTANT:*__ Keys may be of any type, but an element can only be accessed by its specific key. Even though `\"red\"` is the first key, `example_dict[0]` is not a valid way to access it. Also note that dictionaries are written using **curly braces `{}`**; lists use **square brackets `[]`**. The key-value pairs are separated by a **colon `:`**."
   ]
  },
  {
   "cell_type": "code",
   "execution_count": 9,
   "id": "eda1d0cd-b93f-4f78-9281-af31e97b5188",
   "metadata": {},
   "outputs": [
    {
     "data": {
      "text/plain": [
       "-2"
      ]
     },
     "execution_count": 9,
     "metadata": {},
     "output_type": "execute_result"
    }
   ],
   "source": [
    "# Here is how to define a dictionary in Python with strings as keys\n",
    "example_dict = {\"red\": -2, \"orange\": \"Cata\", \"green\": \"beach_ball\", \"blue\": 25}\n",
    "\n",
    "# This outputs the value that corresponds to the key \"red\"\n",
    "example_dict[\"red\"]\n",
    "\n",
    "# The following line will error, because integer 1 is not a valid key for this dictionary\n",
    "#example_dict[1] turning into tag so the kernel thing works :)\n"
   ]
  },
  {
   "cell_type": "markdown",
   "id": "1b370b70-aa95-4ec3-ac4c-47085b5f7ab9",
   "metadata": {},
   "source": [
    "In addition to the above example, here is a table that highlights some of the other properties of dictionaries in Python (you may need to scroll side-to-side):"
   ]
  },
  {
   "cell_type": "markdown",
   "id": "89adadd3-8a27-4d7d-aa94-098b2f8d8493",
   "metadata": {},
   "source": [
    "|Container Type $\\hspace{0.5in}$|Mutable or Immutable $\\hspace{0.5in}$|Initialization *Without* Values $\\hspace{0.9in}$|Initializtion *With* Values $\\hspace{2.5in}$|Adding Values to Container $\\hspace{3.5in}$|Removing Values from Container $\\hspace{2.0in}$|Modifying Values $\\hspace{2.0in}$|Access Method $\\hspace{1.0in}$|Notable Operations and Additional Information $\\hspace{2.5in}$|\n",
    "|:---|:---|:---|:---|:---|:---|:---|:---|:---|\n",
    "|**Dictionary**|Mutable| `student={}` | `>>> student={'name': 'John Doe', 'age': 22, 'college': 'MSU'}` | `>>> student['major']='Computer Science'` <br> `>>> student` <br> `{'name': 'John Doe', 'age': 22, 'college': 'MSU', 'major': 'Computer Science'}` | `del dictName[keyName] #This method removes all entries associated with the given key` | `>>> student['age'] = 23` <br> `>>> student` <br> `{'name': 'John Doe', 'age': 23, 'college': 'MSU', 'major': 'Computer Science'}`| Access by key word. Note that this key **must** be a string. <br> `>>>student['college']` <br> `MSU`| The 'in' keyword can be very helpful with dictionaries. Ex: <br><ul><li>`'k' in dict #Returns true if key 'k' is in dictionary dict`</li><li>`'k' not in dict #Returns true if key 'k' is not in dicitonary dict`</li><li>`for key in dict #This will iterate over all keys in dictionary dict`</li></ul> <br>See webpage [here](http://www.python-course.eu/python3_dictionaries.php) for additional helpful methods and operations|"
   ]
  },
  {
   "cell_type": "markdown",
   "id": "2102b54e-3dbc-4f48-9e19-ac8712cc6124",
   "metadata": {},
   "source": [
    "### &#9989;&nbsp; Question 5.1 (3 Points) \n",
    "\n",
    "**Define a dictionary called `cmse_201`**. There will be 4 elements in your dictionary. The keys should be the strings `\"Instructor\"`, `\"TA\"`, `\"Section\"`, and `\"Class Days\"`. The values assigned to each key should be your respective instructor, TA, section number (e.g. 1, 2, 3, or 5), and a _list_ that contains the days of the week that the course meets. Once you've created it, print your dictionary.\n"
   ]
  },
  {
   "cell_type": "code",
   "execution_count": 10,
   "id": "40c955fe-e22a-4f66-8d0b-76def8433d9c",
   "metadata": {},
   "outputs": [
    {
     "name": "stdout",
     "output_type": "stream",
     "text": [
      "{'instructor': 'Mengsen Zhang', 'TA': 'Nick Shwartz', 'Section': 5, 'Class_Days': ['Tuesday', 'Thursday']}\n"
     ]
    }
   ],
   "source": [
    "# Put your code here\n",
    "cmse_201 = {\"instructor\":\"Mengsen Zhang\",  \"TA\":\"Nick Shwartz\", \"Section\":5, \"Class_Days\":['Tuesday','Thursday']}\n",
    "print(cmse_201)"
   ]
  },
  {
   "cell_type": "markdown",
   "id": "063dfe41-67e5-46f5-b100-fc9a716429ab",
   "metadata": {},
   "source": [
    "### &#9989;&nbsp; Question 5.2 (4 Points) \n",
    "\n",
    "As you can see dictionaries can be a great way to store data. Assume you live in a time where streaming services did not exist and you actually had hard copies of movies (DVD, VideoCassettes, etc..), music albums (Music cassette, CD, Vinyl, etc...), and books (ever heard of a library?). Now imagine you work for Blockbuster, or a record store, or a library and you have to make a catalog of their collection. \n",
    "\n",
    "**Write** a dictionary whose keys are (choose one):\n",
    "\n",
    "1. **Records Store Music:** by storing artist' name(s), albums, release year, genre(s), type of technology (Vinyl, CD, music casette), aisle number, shelf number\n",
    "2. **Blockbuster Movies:** by storing movie title, release year, director, cast, technology (DVD, Bluray, VC, IMAX, etc.), IMDB rating, genre(s), aisle number, shelf number\n",
    "3. **Library Books:** by storing book author, title, publisher, year, genre(s), type of cover (hardcover, paperback), aisle number, shelf number\n",
    "\n",
    "Now, store 5 to 10 of your favorite (directors, artists, authors) and for each store 3 or more titles (movies, albums, books). If you don't have favorites you can pick them from the internet.\n",
    "\n",
    "**Note** that each dictionary has the keys **aisle number** and **shelf number**. These indicate where the item is stored so that if a customer asks, you (as the clerk) can easily find the item for them. You can choose these however you want, _e.g._ Aisle 1, Shelf 2"
   ]
  },
  {
   "cell_type": "code",
   "execution_count": 1,
   "id": "1481e6e0-4bcb-4982-bf5a-b14a0f0b9a13",
   "metadata": {
    "tags": []
   },
   "outputs": [],
   "source": [
    "# Put any code you might need here\n",
    "\n",
    "\n",
    "pigeons ={'artist':'Pigeons Playing Ping Pong',\n",
    "          'albums': ['Presto','Pizazz','Psychology','Pleasure','Perspective'],\n",
    "          'year':[2020,2017,2014,2016,2022],\n",
    "          'type': 'CD',\n",
    "          'aisle': 5,\n",
    "          'shelf':3\n",
    "         }\n",
    "\n",
    "eagles = {'artist':'Eagles',\n",
    "          \"albums\": [\"Eagles\",\"One of These Nights\",\"Hotel California\",\"Hell Freezes Over\",\"The Long Run\",\"On the Border\",\"Desperado\"],\n",
    "          \"year\": [1972, 1980, 1975, 1976, 1994, 1979, 1974, 1973],\n",
    "          \"type\": 'vinyl',\n",
    "          \"aisle\": 1,\n",
    "          \"shelf\": 2\n",
    "         }\n",
    "thedrifters = {'artist':'The Drifters',\n",
    "               'albums': ['Under the Boardwalk', 'Fools Fall in Love', 'Love Games', \"Rockin and Driftin\", \"I'll Take You Where the Music's Playing\"],\n",
    "               \"year\": [1964, 2012, 1975,1958,1965],\n",
    "               \"type\": 'vinyl',\n",
    "               \"aisle\":2,\n",
    "               \"shelf\":3\n",
    "              }\n",
    "               \n",
    "mattmaher = {'artist':'Matt Maher',\n",
    "             'albums':['Alive Again','Saints and Sinners','Empty & Beautiful','Echoes','Alive & Breathing','The Love in Between', 'All the People Said Amen'],\n",
    "             \"year\": [2009,2015,2008,2017,2020,2011,2013],\n",
    "             \"type\": 'casette',\n",
    "             \"aisle\":3,\n",
    "             \"shelf\":1\n",
    "            }\n",
    "maroon5={'artist':'Maroon 5',\n",
    "         'albums':['Songs About Jane','Red Pill Blues',\"It Won't Be Soon Before Long\",'V'],\n",
    "         \"year\": [1964, 2012, 1975,1958,1965],\n",
    "         \"type\":'CD',\n",
    "         \"aisle\":4,\n",
    "         \"shelf\":2\n",
    "         }     \n",
    "listed = {\"listed\":[pigeons,eagles,thedrifters,mattmaher,maroon5]}\n"
   ]
  },
  {
   "cell_type": "code",
   "execution_count": 12,
   "id": "13712167-8e1e-4b7a-ad29-c5ffe1994d88",
   "metadata": {},
   "outputs": [
    {
     "data": {
      "text/plain": [
       "{'listed': [{'artist': 'Pigeons Playing Ping Pong',\n",
       "   'albums': ['Presto', 'Pizazz', 'Psychology', 'Pleasure', 'Perspective'],\n",
       "   'year': [2020, 2017, 2014, 2016, 2022],\n",
       "   'type': 'CD',\n",
       "   'aisle': 5,\n",
       "   'shelf': 3},\n",
       "  {'artist': 'Eagles',\n",
       "   'albums': ['Eagles',\n",
       "    'One of These Nights',\n",
       "    'Hotel California',\n",
       "    'Hell Freezes Over',\n",
       "    'The Long Run',\n",
       "    'On the Border',\n",
       "    'Desperado'],\n",
       "   'year': [1972, 1980, 1975, 1976, 1994, 1979, 1974, 1973],\n",
       "   'type': 'vinyl',\n",
       "   'aisle': 1,\n",
       "   'shelf': 2},\n",
       "  {'artist': 'The Drifters',\n",
       "   'albums': ['Under the Boardwalk',\n",
       "    'Fools Fall in Love',\n",
       "    'Love Games',\n",
       "    'Rockin and Driftin',\n",
       "    \"I'll Take You Where the Music's Playing\"],\n",
       "   'year': [1964, 2012, 1975, 1958, 1965],\n",
       "   'type': 'vinyl',\n",
       "   'aisle': 2,\n",
       "   'shelf': 3},\n",
       "  {'artist': 'Matt Maher',\n",
       "   'albums': ['Alive Again',\n",
       "    'Saints and Sinners',\n",
       "    'Empty & Beautiful',\n",
       "    'Echoes',\n",
       "    'Alive & Breathing',\n",
       "    'The Love in Between',\n",
       "    'All the People Said Amen'],\n",
       "   'year': [2009, 2015, 2008, 2017, 2020, 2011, 2013],\n",
       "   'type': 'casette',\n",
       "   'aisle': 3,\n",
       "   'shelf': 1},\n",
       "  {'artist': 'Maroon 5',\n",
       "   'albums': ['Songs About Jane',\n",
       "    'Red Pill Blues',\n",
       "    \"It Won't Be Soon Before Long\",\n",
       "    'V'],\n",
       "   'year': [1964, 2012, 1975, 1958, 1965],\n",
       "   'type': 'CD',\n",
       "   'aisle': 4,\n",
       "   'shelf': 2}]}"
      ]
     },
     "execution_count": 12,
     "metadata": {},
     "output_type": "execute_result"
    }
   ],
   "source": [
    "# Put your code here\n",
    "\n",
    "records_store_music = {\"Inventory\":listed}\n",
    "\n",
    "records_store_music[\"Inventory\"]\n"
   ]
  },
  {
   "cell_type": "markdown",
   "id": "91e5b4d9-6bb3-4922-9c2e-7607956a37b0",
   "metadata": {},
   "source": [
    "---\n",
    "<a id=\"part_6\"></a>\n",
    "\n",
    "## Part 6. Conditional statements and debugging (6 points): \n",
    "[Back to Top](#toc)\n",
    "\n",
    "In the code cell below there is an complete working code that does not throw an error, but it does have a bug. The code is supposed to assign a letter grade to each student based on this rubric\n",
    "\n",
    "        A if greater or equal than 90\n",
    "        B if greater or equal than 80 but less than 90\n",
    "        C if greater or equal than 70 but less than 80\n",
    "        D if greater or equal than 60 but less than 70\n",
    "        F if less than 60\n",
    "\n",
    "At the end the code stores the letter grade into the list `students_letter_grades`.\n",
    "However, it gives the wrong answer. Giulia should get a \"C\" not a \"D\"\n"
   ]
  },
  {
   "cell_type": "code",
   "execution_count": 13,
   "id": "bd589f8f-4f4a-48d8-bd0f-d31e9ecd68a5",
   "metadata": {},
   "outputs": [
    {
     "name": "stdout",
     "output_type": "stream",
     "text": [
      "['Giuseppe_F', 'Giulia_D', 'Marco_D', 'Isabella_D', 'Mario_D', 'Federica_D', 'Alessandro_D', 'Valentina_D', 'Davide_D', 'Eleonora_D', 'Antonio_D', 'Martina_D', 'Roberto_D', 'Francesca_D', 'Lorenzo_D']\n"
     ]
    }
   ],
   "source": [
    "students_names = ['Giuseppe', 'Giulia', 'Marco',\n",
    "                  'Isabella', 'Mario', 'Federica',\n",
    "                  'Alessandro', 'Valentina', 'Davide',\n",
    "                  'Eleonora', 'Antonio','Martina', \n",
    "                  'Roberto', 'Francesca', 'Lorenzo']\n",
    "\n",
    "students_grades = [50, 72, 74, \n",
    "                   67, 100, 96,\n",
    "                   97, 86, 70,\n",
    "                   74, 76, 93,\n",
    "                   96, 87, 82]\n",
    "\n",
    "students_letter_grades = [] \n",
    "\n",
    "for index in range(len(students_grades)):\n",
    "    \n",
    "    grade = students_grades[index] \n",
    "    \n",
    "    name = students_names[index]\n",
    "    \n",
    "    # PUT HERE YOUR CODE FOR CALCULATING THE LETTER GRADE\n",
    "    if grade >= 90:\n",
    "        letter_grade = \"A\"\n",
    "    \n",
    "    if grade >= 80:\n",
    "        letter_grade = \"B\"\n",
    "    \n",
    "    if grade >= 70:\n",
    "        letter_grade = \"C\"\n",
    "    \n",
    "    if grade >= 60:\n",
    "        letter_grade = \"D\"\n",
    "    \n",
    "    if grade < 60:\n",
    "        letter_grade = \"F\"\n",
    "    \n",
    "    students_letter_grades.append( name + \"_\" + letter_grade )\n",
    "print(students_letter_grades)"
   ]
  },
  {
   "cell_type": "markdown",
   "id": "00d45727-7e56-48aa-9860-10983c96162f",
   "metadata": {},
   "source": [
    "### &#9989;&nbsp; **Question 6.1 (6 points):** \n",
    "\n",
    "In the cell below, answer the following questions\n",
    "\n",
    "1. A plain english description of the error in the code and why you get the error. (2 points)\n",
    "2. How would you fix this bug ? (2 points) \n",
    "3. Create a new cell and write your solution in there. (2 points)"
   ]
  },
  {
   "cell_type": "code",
   "execution_count": 14,
   "id": "cae6ca6e-d74f-426e-a4d2-1d15306d4fab",
   "metadata": {
    "tags": []
   },
   "outputs": [
    {
     "name": "stdout",
     "output_type": "stream",
     "text": [
      "['Giuseppe_F', 'Giulia_C', 'Marco_C', 'Isabella_D', 'Mario_A', 'Federica_A', 'Alessandro_A', 'Valentina_B', 'Davide_C', 'Eleonora_C', 'Antonio_C', 'Martina_A', 'Roberto_A', 'Francesca_B', 'Lorenzo_B']\n"
     ]
    }
   ],
   "source": [
    "def grader(students_names,students_grades):\n",
    "    students_letter_grades = [] \n",
    "\n",
    "    for index in range(len(students_grades)):\n",
    "        grade = students_grades[index] \n",
    "        name = students_names[index]\n",
    "    \n",
    "        # PUT HERE YOUR CODE FOR CALCULATING THE LETTER GRADE\n",
    "        if grade >= 90:\n",
    "            letter_grade = \"A\"\n",
    "        elif grade >= 80:\n",
    "            letter_grade = \"B\"\n",
    "        elif grade >= 70:\n",
    "            letter_grade = \"C\"\n",
    "        elif grade >= 60:\n",
    "            letter_grade = \"D\"\n",
    "        elif grade < 60:\n",
    "            letter_grade = \"F\"\n",
    "        students_letter_grades.append( name + \"_\" + letter_grade )\n",
    "    return students_letter_grades"
   ]
  },
  {
   "cell_type": "markdown",
   "id": "e05f83e7-334d-4ae9-9b74-3a93793753a2",
   "metadata": {},
   "source": [
    "<font size=+3>&#9998;</font> *1) Because each conditional was written as if and was in series (the same indent), it ran the grades through each conditional statement and changed the letter to the last true value in the if commands (if >= 60 then D or <60 then F), but by using elif, if it does not satisfy one if, it continues to the next elif, and when it finds the greatest possible letter grade, it assigns it to the student and prints it.    2) I would fix this by replacing the 2nd thru last ifs with elifs,*"
   ]
  },
  {
   "cell_type": "markdown",
   "id": "281eb271",
   "metadata": {},
   "source": [
    "---\n",
    "## Wait! Before you submit your notebook, read the following important recommendations\n",
    "\n",
    "When your TA opens your notebook to grade the assignment, it will be really useful if your notebook is saved in a fully executed state so that they can see the output of all your code. Additionally, it may be necessary from time to time for the TA to actually run your notebook, but when they run the notebook, it is important that you are certain that all the code will actually run for them!\n",
    "\n",
    "You should get into the following habit: **before you save and submit your final notebook for your assignments, go to the \"Kernel\" tab at the top of the notebook and select \"Restart and Run all\".** This will restart your notebook and try to run the code cell-by-cell from the top to the bottom. Once it finished, review you notebook and make sure there weren't any errors that popped up. Sometimes, when working with notebooks, we accidentally change code in one cell that break our code in another cell. If your TA stumbles across code cells that don't work, **they will likely have to give you a zero for those portions of the notebook that don't work**. Testing your notebook one last time is a good way to make sure this doesn't happen.\n",
    "\n",
    "**Once you've tested your whole notebook again, make sure you save it one last time before you upload it to D2L.**"
   ]
  },
  {
   "cell_type": "markdown",
   "id": "883c1744",
   "metadata": {},
   "source": [
    "---\n",
    "\n",
    "### Congratulations, you're done! ###\n",
    "\n",
    "Submit this assignment by uploading it to the course Desire2Learn web page. Go to the \"Homework Assignments\" section, find the submission folder link for Homework #1, and upload it there."
   ]
  },
  {
   "cell_type": "markdown",
   "id": "6eb06430",
   "metadata": {},
   "source": [
    "Copyright &#169; 2023, [Department of Computational Mathematics, Science and Engineering](https://cmse.msu.edu/) at Michigan State University, All rights reserved."
   ]
  }
 ],
 "metadata": {
  "kernelspec": {
   "display_name": "Python 3 (ipykernel)",
   "language": "python",
   "name": "python3"
  },
  "language_info": {
   "codemirror_mode": {
    "name": "ipython",
    "version": 3
   },
   "file_extension": ".py",
   "mimetype": "text/x-python",
   "name": "python",
   "nbconvert_exporter": "python",
   "pygments_lexer": "ipython3",
   "version": "3.11.5"
  },
  "vscode": {
   "interpreter": {
    "hash": "57d964a2ef938b66daa93f67207194045a8aae98a88dc0c9d20f5f06155eead0"
   }
  },
  "widgets": {
   "application/vnd.jupyter.widget-state+json": {
    "state": {},
    "version_major": 2,
    "version_minor": 0
   }
  }
 },
 "nbformat": 4,
 "nbformat_minor": 5
}
