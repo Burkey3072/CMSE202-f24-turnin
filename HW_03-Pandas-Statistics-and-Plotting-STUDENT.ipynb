{
 "cells": [
  {
   "cell_type": "code",
   "execution_count": null,
   "metadata": {
    "id": "nSF7OG3dH-vc"
   },
   "outputs": [],
   "source": []
  },
  {
   "cell_type": "markdown",
   "metadata": {
    "id": "p9lCRJnyH7vf"
   },
   "source": [
    "# Homework 3: Working with data using Pandas and Basic Statistics\n",
    "\n",
    "### <p style=\"text-align: right;\"> &#9989; Joseph Burke\n"
   ]
  },
  {
   "cell_type": "markdown",
   "metadata": {
    "id": "dxTbiAPsH7vg"
   },
   "source": [
    "## Learning Goals\n",
    "\n",
    "### Content Goals\n",
    "- Working with Pandas to read/write data\n",
    "- Working with Pandas to clean and analyze datasets\n",
    "- Visualize data using Matplotlib.\n",
    "\n",
    "### Practice Goals\n",
    "- Using data visualizations to draw conclusions\n",
    "- Analyze real-world datasets to answer research questions\n",
    "- Use the internet as a resource to learn how to best use imported packages\n",
    "- Troubleshooting errors and debugging code\n",
    "___"
   ]
  },
  {
   "cell_type": "markdown",
   "metadata": {
    "id": "DTNQAGSIH7vh"
   },
   "source": [
    "## Assignment instructions\n",
    "\n",
    "Work through the following assignment, making sure to follow all the directions and answer all the questions.\n",
    "\n",
    "**This assignment is due at 11:59 pm on Friday, March 8.** It should be uploaded into the \"Homework Assignments\" submission folder for Homework #3.  Submission instructions can be found at the end of the notebook.\n",
    "\n",
    "___"
   ]
  },
  {
   "cell_type": "markdown",
   "metadata": {
    "id": "Z_hNnu9JH7vh"
   },
   "source": [
    "## Grading\n",
    "\n",
    "* Academic integrity statement (**2 points**)\n",
    "* Exploring Michigan policing data (**44 points**)\n",
    "    - 1.1 Loading and inspecting the data (11 points)\n",
    "    - 1.2 Cleaning and organizing the data (16 points)\n",
    "    - 1.3 Basic statistics (9 points)\n",
    "    - 1.4 Visualizing the trend in officer employment rates (8 points)\n",
    "\n",
    "* The perils of summary statistics (**36 points**)\n",
    "    - 2.1 Loading and inspecting the data (11 points)\n",
    "    - 2.2 Getting summary statistics (11 points)\n",
    "    - 2.3 Making scatter plots (14 points)\n",
    "\n",
    "**Total**: 82 points"
   ]
  },
  {
   "cell_type": "markdown",
   "metadata": {
    "execution": {
     "iopub.execute_input": "2024-02-21T02:46:14.904250Z",
     "iopub.status.busy": "2024-02-21T02:46:14.903931Z",
     "iopub.status.idle": "2024-02-21T02:46:14.907984Z",
     "shell.execute_reply": "2024-02-21T02:46:14.907350Z",
     "shell.execute_reply.started": "2024-02-21T02:46:14.904230Z"
    },
    "id": "l-5_zy94H7vh"
   },
   "source": [
    "---\n",
    "<a id=\"toc\"></a>\n",
    "\n",
    "## Table of Contents\n",
    "\n",
    "[Introduction](#intro)\n",
    "    \n",
    "[Part 0. Integrity statement](#part_0) (2 points)\n",
    "\n",
    "[Part 1. Exploring Michigan policing data](#part_1)  (44 points)\n",
    "\n",
    "[Part 2. Datasaurus, or the perils of summary statistics](#part_2) (34 points)"
   ]
  },
  {
   "cell_type": "markdown",
   "metadata": {
    "id": "w1kyPvSKH7vh"
   },
   "source": [
    "---\n",
    "<a id=\"intro\"></a>\n",
    "\n",
    "## Introduction and motivation\n",
    "\n",
    "[Back to Top](#toc)\n",
    "\n",
    "\n",
    "As you know, you are expected to complete a fully-ﬂedged data analysis or computational modeling project by the end of the semester. This is your opportunity to choose a topic that sounds interesting to you and dig into it. More details on the project will be provided on the class website after spring break. This homework is aimed at giving you some experience with part of your semester project, so read the entire notebook carefully because coding is only a small part of your project. The big part is designing it. Let's start!\n",
    "\n",
    "Most, if not all, data science project have a workflow similar to the one depicted in the image below\n",
    "\n",
    "![image.png](attachment:7298a6f9-fc43-4736-869c-e61bebe77abd.png)\n",
    "\n",
    "The image was taken from this [article](https://towardsdatascience.com/5-steps-of-a-data-science-project-lifecycle-26c50372b492). As you can see there are several steps in a data science project. Let's break them down.\n",
    "\n",
    "1. **Obtain (Data Collection)**: This is the foundational step where you're sourcing data relevant to your project. It involves identifying and gathering data from various sources which could be databases, online repositories, direct data entry, or data streams. It's critical to ensure that the data you collect is as accurate and comprehensive as possible because it sets the stage for the entire project.\n",
    "\n",
    "2. **Scrub (Data Cleaning)**: Once you have your dataset, the next step is to prepare it for analysis. This involves cleaning and preprocessing the data. You'll be dealing with inconsistencies, missing values, and possibly irrelevant information that needs to be filtered out. This step is about transforming raw data into a structured format that's ready for exploration and analysis.\n",
    "\n",
    "3. **Explore (Data Exploration and Visualization)**: At this stage, you delve into the dataset to uncover underlying structures, patterns, and insights. This is typically done through exploratory data analysis (EDA), where visualizations and statistical techniques are employed to understand the data's characteristics. It's an investigative process where you're asking questions of the data and seeking answers through visual and quantitative exploration.\n",
    "\n",
    "4. **Model (Data Modeling)**: Building on the insights from the exploration phase, you now develop predictive or descriptive models. This involves selecting algorithms that are appropriate for the data and the problem at hand, training these models on the data, and then validating their performance. The goal is to create a model that can generalize from your current dataset to unseen data to make predictions or to uncover more complex patterns.\n",
    "\n",
    "5. **Interpret (Result Interpretation)**: The final stage is about making sense of the model outcomes. It's about translating the statistical findings and model predictions into actionable insights. This often requires critical thinking to understand the implications of the results within the context of the problem domain. The interpretation must be clear and comprehensible to stakeholders who may not have a technical background.\n",
    "\n",
    "Throughout these steps, communication and iteration are key. You may find yourself revisiting earlier steps based on new findings or feedback, which is a natural part of the data science process. Each step builds upon the previous one, leading to informed decision-making based on data-driven evidence.\n",
    "\n",
    "**This homework is designed to give you practical experience in data cleaning and EDA, which are often the most time-consuming steps in a data science project**. It's not uncommon for data scientists to spend a significant portion of their time on these phases, ensuring data quality and uncovering initial insights that will guide further analysis. Cleaning data effectively requires a meticulous eye for detail and a robust understanding of the tools at your disposal, while EDA demands a blend of curiosity and statistical knowledge to ask the right questions and interpret the data correctly. Mastery of these stages is crucial, as they form the bedrock upon which reliable models are built and insightful conclusions are drawn.\n",
    "\n",
    "Before we move on, I haven't mentioned the interesting part of a data science project, that thing that drives you to embark on the data science journey; the question! After all every project is just a way to find the answer to a question that has been bugging us. While in this homework the questions are provided, for the final project you will have to formulate the question yourself. This is not an easy task! Sometimes you don't have a specific question and in these cases it might be useful to start exploring the web for available data. In the Pre-Class Assignment of Day 13 we provide some websites where you can find data, here are few more websites:\n",
    "\n",
    "[UCI Repository](https://archive.ics.uci.edu/datasets)\n",
    "\n",
    "[Fivethirtyeight](https://github.com/fivethirtyeight/data)\n",
    "\n",
    "[Data.gov - Federal](http://www.data.gov/)\n",
    "\n",
    "[Data.gov - State of Michigan](http://data.michigan.gov/)\n",
    "\n",
    "Note that some of the websites have fancy words like _machine learning_. Don't be worry! You are not required to do a machine learning project. Those types of projects are for CMSE 202. The only difference between a machine learning project and CMSE 201 project is the tools used in the project, but they both follow the same 5 steps above and require datasets.\n",
    "\n",
    "&#9989; **Task (0 points)** Your first task is to start thinking about your project and trying to formulate a question.\n",
    "\n",
    "<!-- This section was written with the help of chatGPT 4.0 -->"
   ]
  },
  {
   "cell_type": "markdown",
   "metadata": {
    "id": "yqU7kxOwH7vi"
   },
   "source": [
    "---\n",
    "<a id=\"part_0\"></a>\n",
    "\n",
    "## Part 0: Integrity statement  (2 Points)\n",
    "\n",
    "[Back to Top](#toc)\n",
    "\n",
    "\n",
    "### 0.1 Academic integrity statement\n",
    "\n",
    "In the markdown cell below, paste your personal academic integrity statement. By including this statement, you are confirming that you are submitting this as your own work and not that of someone else.\n"
   ]
  },
  {
   "cell_type": "markdown",
   "metadata": {
    "id": "OBYzsFSNH7vi"
   },
   "source": [
    "<font size=6 color=\"#009600\">&#9998;</font> *✎ I, _Joseph Burke_, commit to _ upholding all that is expected of a student of Michigan State University on the grounds of honesty and integrity in the classroom.  I'm greatly excited and thankful for my time at MSU and all the opportunities and clubs I'm exposed to and am apart of, and I hope to stay committed and helpful to those groups as much as possible.  I pledge to stay on top of my work and to source everything I use properly and ethically. I will also advocate for the ethical use of data and the distrubution of clear and honest information, and to educate as many people as I can about the effects of bias in data and algarithms. I will reflect the truth in all of my work and will not spread false information.  I will follow the MSU Policy throughout my entire time here, do and turn in  my own work, and grow from the effort I put into this course.   _*"
   ]
  },
  {
   "cell_type": "markdown",
   "metadata": {
    "id": "-ZuApVbAH7vi"
   },
   "source": [
    "---\n",
    "<a id=\"part_1\"></a>\n",
    "\n",
    "## Part 1: Exploring Michigan policing data (44 points total)\n",
    "\n",
    "[Back to Top](#toc)\n",
    "\n",
    "In your web search you land on this [article](https://www.themarshallproject.org/2014/11/24/10-not-entirely-crazy-theories-explaining-the-great-crime-decline) about the \"Great Crime Decline\". You are intrigued and start searching for more data and you land on the [FBI datasets website](https://cde.ucr.cjis.gov/LATEST/webapp/#/pages/explorer/crime/crime-trend). You notice that they have a very nice interface that makes plots of data the FBI collects. There are two main sets of data; **Crime Data** and **Law Enforcement Collections**. You click on **Crime Data** and notice that the plot **Trend of Violent Crime** after adjusting the year range, shows a decline in violent crime in the 90's. Then you notice the other sets of data **Law Enforcement Collections** which contains data on law enforcement employees. One of the theories mentioned in the article was that the increase in law enforcement could be an explanation for the decrease in crime and this makes you wonder:\n",
    "\n",
    "**Does the level of policing, measured as the number of law enforcement officer, correlate with the decrease in crime in INGHAM county?**\n",
    "\n",
    "\n",
    "### 1.1: Loading and inspecting the data (11 points)\n",
    "\n",
    "The instructors have downloaded the data and modified it a little for the purpose of this homework.\n",
    "\n",
    "**Using the provided dataset, `pe_MI_1960_2022.csv`, you're going to explore how policing changes across years and regions in Michigan.**\n",
    "\n",
    "&#9989; **Task 1.1.1 (3 points)** Import `pandas` module, and then read in the policing data file as a pandas dataframe using the first column as the index and display the first 10 rows."
   ]
  },
  {
   "cell_type": "code",
   "execution_count": 1,
   "metadata": {
    "colab": {
     "base_uri": "https://localhost:8080/"
    },
    "executionInfo": {
     "elapsed": 365,
     "status": "ok",
     "timestamp": 1709953440317,
     "user": {
      "displayName": "Maya Marina",
      "userId": "17392132087432818750"
     },
     "user_tz": 300
    },
    "id": "XUF6umGLH7vi",
    "outputId": "8af73a49-6187-4330-c3d6-8ceb7643ea4e",
    "tags": []
   },
   "outputs": [
    {
     "data": {
      "text/html": [
       "<div>\n",
       "<style scoped>\n",
       "    .dataframe tbody tr th:only-of-type {\n",
       "        vertical-align: middle;\n",
       "    }\n",
       "\n",
       "    .dataframe tbody tr th {\n",
       "        vertical-align: top;\n",
       "    }\n",
       "\n",
       "    .dataframe thead th {\n",
       "        text-align: right;\n",
       "    }\n",
       "</style>\n",
       "<table border=\"1\" class=\"dataframe\">\n",
       "  <thead>\n",
       "    <tr style=\"text-align: right;\">\n",
       "      <th></th>\n",
       "      <th>data_year</th>\n",
       "      <th>ori</th>\n",
       "      <th>pub_agency_name</th>\n",
       "      <th>pub_agency_unit</th>\n",
       "      <th>state_abbr</th>\n",
       "      <th>division_name</th>\n",
       "      <th>region_name</th>\n",
       "      <th>county_name</th>\n",
       "      <th>agency_type_name</th>\n",
       "      <th>population_group_desc</th>\n",
       "      <th>...</th>\n",
       "      <th>male_officer_ct</th>\n",
       "      <th>male_civilian_ct</th>\n",
       "      <th>male_total_ct</th>\n",
       "      <th>female_officer_ct</th>\n",
       "      <th>female_civilian_ct</th>\n",
       "      <th>female_total_ct</th>\n",
       "      <th>officer_ct</th>\n",
       "      <th>civilian_ct</th>\n",
       "      <th>total_pe_ct</th>\n",
       "      <th>pe_ct_per_1000</th>\n",
       "    </tr>\n",
       "  </thead>\n",
       "  <tbody>\n",
       "    <tr>\n",
       "      <th>4514</th>\n",
       "      <td>2021</td>\n",
       "      <td>MI5079200</td>\n",
       "      <td>Utica</td>\n",
       "      <td>NaN</td>\n",
       "      <td>MI</td>\n",
       "      <td>East North Central</td>\n",
       "      <td>Midwest</td>\n",
       "      <td>MACOMB</td>\n",
       "      <td>City</td>\n",
       "      <td>Cities from 2,500 thru 9,999</td>\n",
       "      <td>...</td>\n",
       "      <td>15</td>\n",
       "      <td>1</td>\n",
       "      <td>16</td>\n",
       "      <td>0</td>\n",
       "      <td>5</td>\n",
       "      <td>5</td>\n",
       "      <td>15</td>\n",
       "      <td>6</td>\n",
       "      <td>21</td>\n",
       "      <td>4.12</td>\n",
       "    </tr>\n",
       "    <tr>\n",
       "      <th>4515</th>\n",
       "      <td>2021</td>\n",
       "      <td>MI5080600</td>\n",
       "      <td>Warren</td>\n",
       "      <td>NaN</td>\n",
       "      <td>MI</td>\n",
       "      <td>East North Central</td>\n",
       "      <td>Midwest</td>\n",
       "      <td>MACOMB</td>\n",
       "      <td>City</td>\n",
       "      <td>Cities from 100,000 thru 249,999</td>\n",
       "      <td>...</td>\n",
       "      <td>197</td>\n",
       "      <td>10</td>\n",
       "      <td>207</td>\n",
       "      <td>12</td>\n",
       "      <td>29</td>\n",
       "      <td>41</td>\n",
       "      <td>209</td>\n",
       "      <td>39</td>\n",
       "      <td>248</td>\n",
       "      <td>1.87</td>\n",
       "    </tr>\n",
       "    <tr>\n",
       "      <th>4516</th>\n",
       "      <td>2021</td>\n",
       "      <td>MI5084900</td>\n",
       "      <td>Clinton Township</td>\n",
       "      <td>NaN</td>\n",
       "      <td>MI</td>\n",
       "      <td>East North Central</td>\n",
       "      <td>Midwest</td>\n",
       "      <td>MACOMB</td>\n",
       "      <td>City</td>\n",
       "      <td>Cities from 100,000 thru 249,999</td>\n",
       "      <td>...</td>\n",
       "      <td>87</td>\n",
       "      <td>2</td>\n",
       "      <td>89</td>\n",
       "      <td>5</td>\n",
       "      <td>6</td>\n",
       "      <td>11</td>\n",
       "      <td>92</td>\n",
       "      <td>8</td>\n",
       "      <td>100</td>\n",
       "      <td>1.00</td>\n",
       "    </tr>\n",
       "    <tr>\n",
       "      <th>4517</th>\n",
       "      <td>2021</td>\n",
       "      <td>MI5090200</td>\n",
       "      <td>Chesterfield Township</td>\n",
       "      <td>NaN</td>\n",
       "      <td>MI</td>\n",
       "      <td>East North Central</td>\n",
       "      <td>Midwest</td>\n",
       "      <td>MACOMB</td>\n",
       "      <td>City</td>\n",
       "      <td>Cities from 25,000 thru 49,999</td>\n",
       "      <td>...</td>\n",
       "      <td>43</td>\n",
       "      <td>1</td>\n",
       "      <td>44</td>\n",
       "      <td>5</td>\n",
       "      <td>13</td>\n",
       "      <td>18</td>\n",
       "      <td>48</td>\n",
       "      <td>14</td>\n",
       "      <td>62</td>\n",
       "      <td>1.32</td>\n",
       "    </tr>\n",
       "    <tr>\n",
       "      <th>4518</th>\n",
       "      <td>2021</td>\n",
       "      <td>MI5091200</td>\n",
       "      <td>Macomb Community College</td>\n",
       "      <td>NaN</td>\n",
       "      <td>MI</td>\n",
       "      <td>East North Central</td>\n",
       "      <td>Midwest</td>\n",
       "      <td>MACOMB</td>\n",
       "      <td>University or College</td>\n",
       "      <td>Cities under 2,500</td>\n",
       "      <td>...</td>\n",
       "      <td>23</td>\n",
       "      <td>2</td>\n",
       "      <td>25</td>\n",
       "      <td>3</td>\n",
       "      <td>2</td>\n",
       "      <td>5</td>\n",
       "      <td>26</td>\n",
       "      <td>4</td>\n",
       "      <td>30</td>\n",
       "      <td>NaN</td>\n",
       "    </tr>\n",
       "    <tr>\n",
       "      <th>4519</th>\n",
       "      <td>2021</td>\n",
       "      <td>MI5091800</td>\n",
       "      <td>Huron-Clinton Metropolitan Authority:</td>\n",
       "      <td>Stony Creek Metropark</td>\n",
       "      <td>MI</td>\n",
       "      <td>East North Central</td>\n",
       "      <td>Midwest</td>\n",
       "      <td>MACOMB</td>\n",
       "      <td>Other</td>\n",
       "      <td>Cities under 2,500</td>\n",
       "      <td>...</td>\n",
       "      <td>8</td>\n",
       "      <td>0</td>\n",
       "      <td>8</td>\n",
       "      <td>1</td>\n",
       "      <td>0</td>\n",
       "      <td>1</td>\n",
       "      <td>9</td>\n",
       "      <td>0</td>\n",
       "      <td>9</td>\n",
       "      <td>NaN</td>\n",
       "    </tr>\n",
       "    <tr>\n",
       "      <th>4520</th>\n",
       "      <td>2021</td>\n",
       "      <td>MI5115100</td>\n",
       "      <td>Manistee</td>\n",
       "      <td>NaN</td>\n",
       "      <td>MI</td>\n",
       "      <td>East North Central</td>\n",
       "      <td>Midwest</td>\n",
       "      <td>MANISTEE</td>\n",
       "      <td>County</td>\n",
       "      <td>Non-MSA counties from 10,000 thru 24,999</td>\n",
       "      <td>...</td>\n",
       "      <td>14</td>\n",
       "      <td>11</td>\n",
       "      <td>25</td>\n",
       "      <td>1</td>\n",
       "      <td>3</td>\n",
       "      <td>4</td>\n",
       "      <td>15</td>\n",
       "      <td>14</td>\n",
       "      <td>29</td>\n",
       "      <td>1.54</td>\n",
       "    </tr>\n",
       "    <tr>\n",
       "      <th>4521</th>\n",
       "      <td>2021</td>\n",
       "      <td>MI5155000</td>\n",
       "      <td>Manistee</td>\n",
       "      <td>NaN</td>\n",
       "      <td>MI</td>\n",
       "      <td>East North Central</td>\n",
       "      <td>Midwest</td>\n",
       "      <td>MANISTEE</td>\n",
       "      <td>City</td>\n",
       "      <td>Cities from 2,500 thru 9,999</td>\n",
       "      <td>...</td>\n",
       "      <td>11</td>\n",
       "      <td>0</td>\n",
       "      <td>11</td>\n",
       "      <td>1</td>\n",
       "      <td>0</td>\n",
       "      <td>1</td>\n",
       "      <td>12</td>\n",
       "      <td>0</td>\n",
       "      <td>12</td>\n",
       "      <td>1.95</td>\n",
       "    </tr>\n",
       "    <tr>\n",
       "      <th>4522</th>\n",
       "      <td>2021</td>\n",
       "      <td>MI5215200</td>\n",
       "      <td>Marquette</td>\n",
       "      <td>NaN</td>\n",
       "      <td>MI</td>\n",
       "      <td>East North Central</td>\n",
       "      <td>Midwest</td>\n",
       "      <td>MARQUETTE</td>\n",
       "      <td>County</td>\n",
       "      <td>Non-MSA counties from 10,000 thru 24,999</td>\n",
       "      <td>...</td>\n",
       "      <td>21</td>\n",
       "      <td>29</td>\n",
       "      <td>50</td>\n",
       "      <td>2</td>\n",
       "      <td>13</td>\n",
       "      <td>15</td>\n",
       "      <td>23</td>\n",
       "      <td>42</td>\n",
       "      <td>65</td>\n",
       "      <td>3.32</td>\n",
       "    </tr>\n",
       "    <tr>\n",
       "      <th>4523</th>\n",
       "      <td>2021</td>\n",
       "      <td>MI5231200</td>\n",
       "      <td>Chocolay Township</td>\n",
       "      <td>NaN</td>\n",
       "      <td>MI</td>\n",
       "      <td>East North Central</td>\n",
       "      <td>Midwest</td>\n",
       "      <td>MARQUETTE</td>\n",
       "      <td>City</td>\n",
       "      <td>Cities from 2,500 thru 9,999</td>\n",
       "      <td>...</td>\n",
       "      <td>5</td>\n",
       "      <td>0</td>\n",
       "      <td>5</td>\n",
       "      <td>0</td>\n",
       "      <td>1</td>\n",
       "      <td>1</td>\n",
       "      <td>5</td>\n",
       "      <td>1</td>\n",
       "      <td>6</td>\n",
       "      <td>1.02</td>\n",
       "    </tr>\n",
       "  </tbody>\n",
       "</table>\n",
       "<p>10 rows × 21 columns</p>\n",
       "</div>"
      ],
      "text/plain": [
       "      data_year        ori                        pub_agency_name  \\\n",
       "4514       2021  MI5079200                                  Utica   \n",
       "4515       2021  MI5080600                                 Warren   \n",
       "4516       2021  MI5084900                       Clinton Township   \n",
       "4517       2021  MI5090200                  Chesterfield Township   \n",
       "4518       2021  MI5091200               Macomb Community College   \n",
       "4519       2021  MI5091800  Huron-Clinton Metropolitan Authority:   \n",
       "4520       2021  MI5115100                               Manistee   \n",
       "4521       2021  MI5155000                               Manistee   \n",
       "4522       2021  MI5215200                              Marquette   \n",
       "4523       2021  MI5231200                      Chocolay Township   \n",
       "\n",
       "            pub_agency_unit state_abbr       division_name region_name  \\\n",
       "4514                    NaN         MI  East North Central     Midwest   \n",
       "4515                    NaN         MI  East North Central     Midwest   \n",
       "4516                    NaN         MI  East North Central     Midwest   \n",
       "4517                    NaN         MI  East North Central     Midwest   \n",
       "4518                    NaN         MI  East North Central     Midwest   \n",
       "4519  Stony Creek Metropark         MI  East North Central     Midwest   \n",
       "4520                    NaN         MI  East North Central     Midwest   \n",
       "4521                    NaN         MI  East North Central     Midwest   \n",
       "4522                    NaN         MI  East North Central     Midwest   \n",
       "4523                    NaN         MI  East North Central     Midwest   \n",
       "\n",
       "     county_name       agency_type_name  \\\n",
       "4514      MACOMB                   City   \n",
       "4515      MACOMB                   City   \n",
       "4516      MACOMB                   City   \n",
       "4517      MACOMB                   City   \n",
       "4518      MACOMB  University or College   \n",
       "4519      MACOMB                  Other   \n",
       "4520    MANISTEE                 County   \n",
       "4521    MANISTEE                   City   \n",
       "4522   MARQUETTE                 County   \n",
       "4523   MARQUETTE                   City   \n",
       "\n",
       "                         population_group_desc  ...  male_officer_ct  \\\n",
       "4514              Cities from 2,500 thru 9,999  ...               15   \n",
       "4515          Cities from 100,000 thru 249,999  ...              197   \n",
       "4516          Cities from 100,000 thru 249,999  ...               87   \n",
       "4517            Cities from 25,000 thru 49,999  ...               43   \n",
       "4518                        Cities under 2,500  ...               23   \n",
       "4519                        Cities under 2,500  ...                8   \n",
       "4520  Non-MSA counties from 10,000 thru 24,999  ...               14   \n",
       "4521              Cities from 2,500 thru 9,999  ...               11   \n",
       "4522  Non-MSA counties from 10,000 thru 24,999  ...               21   \n",
       "4523              Cities from 2,500 thru 9,999  ...                5   \n",
       "\n",
       "      male_civilian_ct  male_total_ct  female_officer_ct  female_civilian_ct  \\\n",
       "4514                 1             16                  0                   5   \n",
       "4515                10            207                 12                  29   \n",
       "4516                 2             89                  5                   6   \n",
       "4517                 1             44                  5                  13   \n",
       "4518                 2             25                  3                   2   \n",
       "4519                 0              8                  1                   0   \n",
       "4520                11             25                  1                   3   \n",
       "4521                 0             11                  1                   0   \n",
       "4522                29             50                  2                  13   \n",
       "4523                 0              5                  0                   1   \n",
       "\n",
       "      female_total_ct  officer_ct  civilian_ct  total_pe_ct  pe_ct_per_1000  \n",
       "4514                5          15            6           21            4.12  \n",
       "4515               41         209           39          248            1.87  \n",
       "4516               11          92            8          100            1.00  \n",
       "4517               18          48           14           62            1.32  \n",
       "4518                5          26            4           30             NaN  \n",
       "4519                1           9            0            9             NaN  \n",
       "4520                4          15           14           29            1.54  \n",
       "4521                1          12            0           12            1.95  \n",
       "4522               15          23           42           65            3.32  \n",
       "4523                1           5            1            6            1.02  \n",
       "\n",
       "[10 rows x 21 columns]"
      ]
     },
     "execution_count": 1,
     "metadata": {},
     "output_type": "execute_result"
    }
   ],
   "source": [
    "import pandas as pd\n",
    "\n",
    "police_df = pd.read_csv('pe_MI_1960_2022.csv', index_col=0)\n",
    "\n",
    "police_df.head(10)\n",
    "\n"
   ]
  },
  {
   "cell_type": "markdown",
   "metadata": {
    "id": "b5C0w4GEH7vj"
   },
   "source": [
    "&#9989; **Task 1.1.2 (3 point)** As you can see there is too much data to be displayed and you need to do some exploring. Although we haven't used it in class a very useful function of `pandas.DataFrame` is `.info()`. [Here](https://pandas.pydata.org/pandas-docs/stable/reference/api/pandas.DataFrame.info.html) is the documentation for it. To take a closer look at the dataframe, in the cell below, write some code to:\n",
    "- display the output of `.info()`\n",
    "- print the `unique` county names"
   ]
  },
  {
   "cell_type": "code",
   "execution_count": 2,
   "metadata": {
    "colab": {
     "base_uri": "https://localhost:8080/",
     "height": 1000
    },
    "executionInfo": {
     "elapsed": 565,
     "status": "error",
     "timestamp": 1709953487328,
     "user": {
      "displayName": "Maya Marina",
      "userId": "17392132087432818750"
     },
     "user_tz": 300
    },
    "id": "y2osLzhIH7vj",
    "outputId": "4480c123-aa29-46c0-ea80-bde1cbeedb91"
   },
   "outputs": [
    {
     "name": "stdout",
     "output_type": "stream",
     "text": [
      "<class 'pandas.core.frame.DataFrame'>\n",
      "Index: 31557 entries, 4514 to 712608\n",
      "Data columns (total 21 columns):\n",
      " #   Column                 Non-Null Count  Dtype  \n",
      "---  ------                 --------------  -----  \n",
      " 0   data_year              31557 non-null  int64  \n",
      " 1   ori                    31557 non-null  object \n",
      " 2   pub_agency_name        31557 non-null  object \n",
      " 3   pub_agency_unit        1808 non-null   object \n",
      " 4   state_abbr             31557 non-null  object \n",
      " 5   division_name          31557 non-null  object \n",
      " 6   region_name            31557 non-null  object \n",
      " 7   county_name            31557 non-null  object \n",
      " 8   agency_type_name       31557 non-null  object \n",
      " 9   population_group_desc  31557 non-null  object \n",
      " 10  population             31557 non-null  int64  \n",
      " 11  male_officer_ct        31557 non-null  int64  \n",
      " 12  male_civilian_ct       31557 non-null  int64  \n",
      " 13  male_total_ct          31557 non-null  int64  \n",
      " 14  female_officer_ct      31557 non-null  int64  \n",
      " 15  female_civilian_ct     31557 non-null  int64  \n",
      " 16  female_total_ct        31557 non-null  int64  \n",
      " 17  officer_ct             31557 non-null  int64  \n",
      " 18  civilian_ct            31557 non-null  int64  \n",
      " 19  total_pe_ct            31557 non-null  int64  \n",
      " 20  pe_ct_per_1000         28764 non-null  float64\n",
      "dtypes: float64(1), int64(11), object(9)\n",
      "memory usage: 5.3+ MB\n"
     ]
    }
   ],
   "source": [
    "import pandas as pd\n",
    "\n",
    "police_df.info()"
   ]
  },
  {
   "cell_type": "code",
   "execution_count": 3,
   "metadata": {
    "tags": []
   },
   "outputs": [
    {
     "name": "stdout",
     "output_type": "stream",
     "text": [
      "MACOMB\n",
      "MANISTEE\n",
      "MARQUETTE\n",
      "MASON\n",
      "MECOSTA\n",
      "MENOMINEE\n",
      "NOT SPECIFIED\n",
      "MIDLAND\n",
      "BAY, MIDLAND\n",
      "MONROE\n",
      "MONTCALM\n",
      "MONTMORENCY\n",
      "MUSKEGON\n",
      "NEWAYGO\n",
      "OAKLAND\n",
      "OCEANA\n",
      "NEWAYGO, OCEANA\n",
      "OGEMAW\n",
      "ONTONAGON\n",
      "OSCEOLA\n",
      "OSCODA\n",
      "OTSEGO\n",
      "OTTAWA\n",
      "ALLEGAN, OTTAWA\n",
      "PRESQUE ISLE\n",
      "ROSCOMMON\n",
      "SAGINAW\n",
      "ST CLAIR\n",
      "MACOMB, ST CLAIR\n",
      "ST JOSEPH\n",
      "SANILAC\n",
      "LAPEER, SANILAC\n",
      "SCHOOLCRAFT\n",
      "SHIAWASSEE\n",
      "TUSCOLA\n",
      "SAGINAW, TUSCOLA\n",
      "VAN BUREN\n",
      "ALLEGAN, VAN BUREN\n",
      "WASHTENAW\n",
      "MONROE, WASHTENAW\n",
      "WAYNE\n",
      "MACOMB, WAYNE\n",
      "OAKLAND, WAYNE\n",
      "WEXFORD\n",
      "MISSAUKEE\n",
      "ALCONA\n",
      "ALGER\n",
      "ALLEGAN\n",
      "ALPENA\n",
      "ANTRIM\n",
      "ARENAC\n",
      "BARAGA\n",
      "BARRY\n",
      "BAY\n",
      "BENZIE\n",
      "BERRIEN\n",
      "BRANCH\n",
      "BRANCH, CALHOUN\n",
      "CALHOUN\n",
      "CASS\n",
      "CHARLEVOIX\n",
      "CHEBOYGAN\n",
      "CHEBOYGAN, EMMET\n",
      "CHIPPEWA\n",
      "CLARE\n",
      "CLARE, ISABELLA\n",
      "CLINTON\n",
      "CLINTON, SHIAWASSEE\n",
      "CRAWFORD\n",
      "DELTA\n",
      "DICKINSON\n",
      "EATON\n",
      "EMMET\n",
      "GENESEE\n",
      "GENESEE, OAKLAND\n",
      "GLADWIN\n",
      "GOGEBIC\n",
      "GRAND TRAVERSE\n",
      "GRAND TRAVERSE, LEELANAU\n",
      "GRATIOT\n",
      "HILLSDALE\n",
      "HOUGHTON\n",
      "HURON\n",
      "UNMAPPED COUNTY\n",
      "INGHAM\n",
      "CLINTON, INGHAM\n",
      "EATON, INGHAM\n",
      "IONIA\n",
      "IOSCO\n",
      "IRON\n",
      "ISABELLA\n",
      "JACKSON\n",
      "KALAMAZOO\n",
      "KALKASKA\n",
      "KENT\n",
      "KEWEENAW\n",
      "LAKE\n",
      "LAPEER\n",
      "LEELANAU\n",
      "LENAWEE\n",
      "LIVINGSTON\n",
      "LUCE\n",
      "MACKINAC\n",
      "GENESEE, SHIAWASSEE\n",
      "CLINTON, EATON\n",
      "BERRIEN, CASS\n",
      "GENESEE, LIVINGSTON\n",
      "GENESEE, LAPEER\n"
     ]
    }
   ],
   "source": [
    "unique_county_names = police_df['county_name'].unique()\n",
    "for county_name in unique_county_names:\n",
    "    print(county_name)"
   ]
  },
  {
   "cell_type": "markdown",
   "metadata": {
    "id": "AArxMe3aH7vj"
   },
   "source": [
    "&#9989; **Task 1.1.3 (5 points)**\n",
    "\n",
    "Inspect the data displayed above and answer the following questions:\n",
    "\n",
    "- looking at the output of `.info()`, what does the line `pub_agency_unit        1808 non-null   object` mean? In particular, the number `1808` and `object`\n",
    "- what do `male_officer_ct` and `female_officer_ct` mean?\n",
    "- what do `total_pe_ct` mean?\n",
    "- how much memory does the dataset use?\n",
    "- notice anything strange in the unique values of `county_names`? How many unique values are there? Note that there are 83 counties in the state of Michigan.\n"
   ]
  },
  {
   "cell_type": "markdown",
   "metadata": {
    "id": "ELpWq5gzH7vj"
   },
   "source": [
    "<font size=1 color=\"#009600\">&#9998;</font> 1808 means the amount of non-null data vlaues in the pub agency category. Object means that the data is a string type. this represents the amount of female and male police officers. this is the total number of law enforcers in each unit this shows the amount of memory usage for the data there are fewer than exoected values, meaning that there are some discrepencies with the data such as mispellings."
   ]
  },
  {
   "cell_type": "markdown",
   "metadata": {
    "id": "JJ33rzdoH7vj"
   },
   "source": [
    "### 1.2: Cleaning and organizing the data (16 points)\n",
    "\n",
    "Next, you want clean the dataset a bit and simplify it so it only contains the columns that you are interested in."
   ]
  },
  {
   "cell_type": "markdown",
   "metadata": {
    "id": "4CJzU-1-H7vj"
   },
   "source": [
    "&#9989; **Task 1.2.1: (7 points)**\n",
    "There are some missing values in the data frame that you need to take care of. In the cell below, you will write some code using `drop` and/or `dropna` to:\n",
    "- first, remove column `pub_agency_unit` where the value is mostly missing\n",
    "- second, delete any rows that contains missing values, or NaN values\n",
    "\n",
    "Name your new cleaned data frame as `data_clean` and do the following sanity checks:\n",
    "- print the length of the original data (* length = number of rows)\n",
    "- print the length of the cleaned data\n",
    "- explain the difference between the two\n",
    "- what would happen if you were to remove the rows first and then the `pub_agency_unit` column? How would the lengths change?"
   ]
  },
  {
   "cell_type": "code",
   "execution_count": 4,
   "metadata": {
    "colab": {
     "base_uri": "https://localhost:8080/"
    },
    "executionInfo": {
     "elapsed": 253,
     "status": "ok",
     "timestamp": 1709954483193,
     "user": {
      "displayName": "Maya Marina",
      "userId": "17392132087432818750"
     },
     "user_tz": 300
    },
    "id": "XdMar9GFH7vj",
    "outputId": "a68262f9-4bcd-4625-b317-3136ea164a9f",
    "tags": []
   },
   "outputs": [
    {
     "name": "stdout",
     "output_type": "stream",
     "text": [
      "Length of the original data: 31557\n",
      "Length of the cleaned data: 28764\n",
      "Difference between the two: 2793\n"
     ]
    }
   ],
   "source": [
    "import pandas as pd\n",
    "\n",
    "\n",
    "police_df = pd.read_csv('pe_MI_1960_2022.csv', index_col=0)\n",
    "\n",
    "police_df.drop(columns=['pub_agency_unit'], inplace=True)\n",
    "\n",
    "data_clean = police_df.dropna()\n",
    "\n",
    "original_length = len(police_df)\n",
    "cleaned_length = len(data_clean)\n",
    "\n",
    "print(\"Length of the original data:\", original_length)\n",
    "print(\"Length of the cleaned data:\", cleaned_length)\n",
    "print(\"Difference between the two:\", original_length - cleaned_length)\n",
    "\n"
   ]
  },
  {
   "cell_type": "markdown",
   "metadata": {
    "id": "SzI3CQlXH7vk"
   },
   "source": [
    "<font size=6 color=\"#009600\">&#9998;</font> # the difference represents the amount of rows removed due to cleaing\n",
    "The difference in row length would be smaller if the rows were removed first because some rows may be missing data"
   ]
  },
  {
   "cell_type": "markdown",
   "metadata": {
    "id": "sMjJoCrIH7vk"
   },
   "source": [
    "&#9989; **Task 1.2.2 (3 points)**\n",
    "There are too many columns with irrelevant infomation. You want to write some code to create a reduced dataframe called `data_allcounty` to include only the following columns:\n",
    "- data_year\n",
    "- county_name\n",
    "- population\n",
    "- male_officer_ct\n",
    "- female_officer_ct\n"
   ]
  },
  {
   "cell_type": "code",
   "execution_count": 5,
   "metadata": {
    "colab": {
     "base_uri": "https://localhost:8080/",
     "height": 472
    },
    "executionInfo": {
     "elapsed": 155,
     "status": "error",
     "timestamp": 1709954735241,
     "user": {
      "displayName": "Maya Marina",
      "userId": "17392132087432818750"
     },
     "user_tz": 300
    },
    "id": "jRqD6dnBH7vk",
    "outputId": "1e5568c3-1851-4824-d642-a9b7669391ed"
   },
   "outputs": [
    {
     "data": {
      "text/html": [
       "<div>\n",
       "<style scoped>\n",
       "    .dataframe tbody tr th:only-of-type {\n",
       "        vertical-align: middle;\n",
       "    }\n",
       "\n",
       "    .dataframe tbody tr th {\n",
       "        vertical-align: top;\n",
       "    }\n",
       "\n",
       "    .dataframe thead th {\n",
       "        text-align: right;\n",
       "    }\n",
       "</style>\n",
       "<table border=\"1\" class=\"dataframe\">\n",
       "  <thead>\n",
       "    <tr style=\"text-align: right;\">\n",
       "      <th></th>\n",
       "      <th>data_year</th>\n",
       "      <th>county_name</th>\n",
       "      <th>population</th>\n",
       "      <th>male_officer_ct</th>\n",
       "      <th>female_officer_ct</th>\n",
       "    </tr>\n",
       "  </thead>\n",
       "  <tbody>\n",
       "    <tr>\n",
       "      <th>4514</th>\n",
       "      <td>2021</td>\n",
       "      <td>MACOMB</td>\n",
       "      <td>5094</td>\n",
       "      <td>15</td>\n",
       "      <td>0</td>\n",
       "    </tr>\n",
       "    <tr>\n",
       "      <th>4515</th>\n",
       "      <td>2021</td>\n",
       "      <td>MACOMB</td>\n",
       "      <td>132758</td>\n",
       "      <td>197</td>\n",
       "      <td>12</td>\n",
       "    </tr>\n",
       "    <tr>\n",
       "      <th>4516</th>\n",
       "      <td>2021</td>\n",
       "      <td>MACOMB</td>\n",
       "      <td>100094</td>\n",
       "      <td>87</td>\n",
       "      <td>5</td>\n",
       "    </tr>\n",
       "    <tr>\n",
       "      <th>4517</th>\n",
       "      <td>2021</td>\n",
       "      <td>MACOMB</td>\n",
       "      <td>46997</td>\n",
       "      <td>43</td>\n",
       "      <td>5</td>\n",
       "    </tr>\n",
       "    <tr>\n",
       "      <th>4520</th>\n",
       "      <td>2021</td>\n",
       "      <td>MANISTEE</td>\n",
       "      <td>18779</td>\n",
       "      <td>14</td>\n",
       "      <td>1</td>\n",
       "    </tr>\n",
       "  </tbody>\n",
       "</table>\n",
       "</div>"
      ],
      "text/plain": [
       "      data_year county_name  population  male_officer_ct  female_officer_ct\n",
       "4514       2021      MACOMB        5094               15                  0\n",
       "4515       2021      MACOMB      132758              197                 12\n",
       "4516       2021      MACOMB      100094               87                  5\n",
       "4517       2021      MACOMB       46997               43                  5\n",
       "4520       2021    MANISTEE       18779               14                  1"
      ]
     },
     "execution_count": 5,
     "metadata": {},
     "output_type": "execute_result"
    }
   ],
   "source": [
    "\n",
    "data_allcounty = data_clean[['data_year', 'county_name', 'population', 'male_officer_ct', 'female_officer_ct']]\n",
    "\n",
    "#data_allcounty.rename(columns={'County': 'county_name'}, inplace=True) # for renaming the column\n",
    "\n",
    "data_allcounty.head()\n"
   ]
  },
  {
   "cell_type": "markdown",
   "metadata": {
    "id": "yBeY0B6fH7vk"
   },
   "source": [
    "&#9989; **Task 1.2.3 (4 points)** You want to create an even smaller dataset that contains only total population and officer counts in the Ingham county for each year. Write some code to do the following:\n",
    "\n",
    "- create the Ingham dataset: use masking to extract all the rows with `\"INGHAM\"` as `county_name` from `data_allcounty` dataframe (ignore entries with two or more county affiliations) and store them in a new variable `data_ingham`\n",
    "- sum over different locations in the county for each year: use `groupby` method to group the dataframe by `data_year`, then calculate the sum `population`, `male_officer_ct`, `female_officer_ct` for each year. Assign the resulting dataframe to a new variable `data_ingham_byyear`. (This can be accomplished with one line of code. You will need to Google the documentation of the `groupby` method for `pandas`.)"
   ]
  },
  {
   "cell_type": "code",
   "execution_count": 6,
   "metadata": {
    "colab": {
     "base_uri": "https://localhost:8080/",
     "height": 305
    },
    "executionInfo": {
     "elapsed": 116,
     "status": "error",
     "timestamp": 1709954873403,
     "user": {
      "displayName": "Maya Marina",
      "userId": "17392132087432818750"
     },
     "user_tz": 300
    },
    "id": "z6Zt_xZXH7vk",
    "outputId": "dcd84e5c-4837-4f0a-d136-05a0a8603b37"
   },
   "outputs": [
    {
     "data": {
      "text/html": [
       "<div>\n",
       "<style scoped>\n",
       "    .dataframe tbody tr th:only-of-type {\n",
       "        vertical-align: middle;\n",
       "    }\n",
       "\n",
       "    .dataframe tbody tr th {\n",
       "        vertical-align: top;\n",
       "    }\n",
       "\n",
       "    .dataframe thead th {\n",
       "        text-align: right;\n",
       "    }\n",
       "</style>\n",
       "<table border=\"1\" class=\"dataframe\">\n",
       "  <thead>\n",
       "    <tr style=\"text-align: right;\">\n",
       "      <th></th>\n",
       "      <th>population</th>\n",
       "      <th>male_officer_ct</th>\n",
       "      <th>female_officer_ct</th>\n",
       "    </tr>\n",
       "    <tr>\n",
       "      <th>data_year</th>\n",
       "      <th></th>\n",
       "      <th></th>\n",
       "      <th></th>\n",
       "    </tr>\n",
       "  </thead>\n",
       "  <tbody>\n",
       "    <tr>\n",
       "      <th>1960</th>\n",
       "      <td>142527</td>\n",
       "      <td>178</td>\n",
       "      <td>0</td>\n",
       "    </tr>\n",
       "    <tr>\n",
       "      <th>1961</th>\n",
       "      <td>147778</td>\n",
       "      <td>192</td>\n",
       "      <td>0</td>\n",
       "    </tr>\n",
       "    <tr>\n",
       "      <th>1962</th>\n",
       "      <td>196288</td>\n",
       "      <td>223</td>\n",
       "      <td>0</td>\n",
       "    </tr>\n",
       "    <tr>\n",
       "      <th>1963</th>\n",
       "      <td>116486</td>\n",
       "      <td>179</td>\n",
       "      <td>0</td>\n",
       "    </tr>\n",
       "    <tr>\n",
       "      <th>1964</th>\n",
       "      <td>158839</td>\n",
       "      <td>221</td>\n",
       "      <td>0</td>\n",
       "    </tr>\n",
       "  </tbody>\n",
       "</table>\n",
       "</div>"
      ],
      "text/plain": [
       "           population  male_officer_ct  female_officer_ct\n",
       "data_year                                                \n",
       "1960           142527              178                  0\n",
       "1961           147778              192                  0\n",
       "1962           196288              223                  0\n",
       "1963           116486              179                  0\n",
       "1964           158839              221                  0"
      ]
     },
     "execution_count": 6,
     "metadata": {},
     "output_type": "execute_result"
    }
   ],
   "source": [
    "data_ingham = data_allcounty[data_allcounty['county_name'] == \"INGHAM\"]\n",
    "\n",
    "data_ingham_byyear = data_ingham.groupby('data_year').agg({'population': 'sum', 'male_officer_ct': 'sum', 'female_officer_ct': 'sum'})\n",
    "\n",
    "data_ingham_byyear.head()\n"
   ]
  },
  {
   "cell_type": "markdown",
   "metadata": {
    "id": "DsVQmaScH7vk"
   },
   "source": [
    "&#9989; **Question 1.2.4 (2 points)** In your own words describe what `groupby` does."
   ]
  },
  {
   "cell_type": "markdown",
   "metadata": {
    "id": "pNt5fVaNH7vk"
   },
   "source": [
    "<font size=6 color=\"#009600\">&#9998;</font> Split the data into groups based on criteria"
   ]
  },
  {
   "cell_type": "markdown",
   "metadata": {
    "id": "3-0jAiaxH7vk"
   },
   "source": [
    "### 1.3: Basic statistics (9 points)\n",
    "Now having a couple of smaller datasets organized, you are ready for some statistics!\n",
    "\n",
    "&#9989; **Task 1.3.1 (6 points)**\n",
    "In the cell below, write some code to obtain the summary statistics (like the count, min, max, and mean) for each column in `data_allcounty` and `data_ingham`, and answer the following questions:\n",
    "- On average, does the Ingham county have more officers per agency than that of the state? What statistics support your conclusion?\n",
    "- Does the Ingham county has the largest law enforcement agency (highest # officers) in the whole state? What statistics support your conclusion?"
   ]
  },
  {
   "cell_type": "code",
   "execution_count": 7,
   "metadata": {
    "colab": {
     "base_uri": "https://localhost:8080/",
     "height": 269
    },
    "executionInfo": {
     "elapsed": 143,
     "status": "error",
     "timestamp": 1709954978633,
     "user": {
      "displayName": "Maya Marina",
      "userId": "17392132087432818750"
     },
     "user_tz": 300
    },
    "id": "I4sokJ1gH7vk",
    "outputId": "f4ab5057-b6f2-4503-e755-a58a7e4f58ac"
   },
   "outputs": [
    {
     "data": {
      "text/html": [
       "<div>\n",
       "<style scoped>\n",
       "    .dataframe tbody tr th:only-of-type {\n",
       "        vertical-align: middle;\n",
       "    }\n",
       "\n",
       "    .dataframe tbody tr th {\n",
       "        vertical-align: top;\n",
       "    }\n",
       "\n",
       "    .dataframe thead th {\n",
       "        text-align: right;\n",
       "    }\n",
       "</style>\n",
       "<table border=\"1\" class=\"dataframe\">\n",
       "  <thead>\n",
       "    <tr style=\"text-align: right;\">\n",
       "      <th></th>\n",
       "      <th>data_year</th>\n",
       "      <th>population</th>\n",
       "      <th>male_officer_ct</th>\n",
       "      <th>female_officer_ct</th>\n",
       "    </tr>\n",
       "  </thead>\n",
       "  <tbody>\n",
       "    <tr>\n",
       "      <th>count</th>\n",
       "      <td>28764.000000</td>\n",
       "      <td>2.876400e+04</td>\n",
       "      <td>28764.000000</td>\n",
       "      <td>28764.000000</td>\n",
       "    </tr>\n",
       "    <tr>\n",
       "      <th>mean</th>\n",
       "      <td>1993.452406</td>\n",
       "      <td>1.934013e+04</td>\n",
       "      <td>29.327806</td>\n",
       "      <td>2.829892</td>\n",
       "    </tr>\n",
       "    <tr>\n",
       "      <th>std</th>\n",
       "      <td>16.153141</td>\n",
       "      <td>5.949663e+04</td>\n",
       "      <td>170.153363</td>\n",
       "      <td>31.247028</td>\n",
       "    </tr>\n",
       "    <tr>\n",
       "      <th>min</th>\n",
       "      <td>1960.000000</td>\n",
       "      <td>1.010000e+02</td>\n",
       "      <td>0.000000</td>\n",
       "      <td>0.000000</td>\n",
       "    </tr>\n",
       "    <tr>\n",
       "      <th>25%</th>\n",
       "      <td>1981.000000</td>\n",
       "      <td>2.355750e+03</td>\n",
       "      <td>4.000000</td>\n",
       "      <td>0.000000</td>\n",
       "    </tr>\n",
       "    <tr>\n",
       "      <th>50%</th>\n",
       "      <td>1994.000000</td>\n",
       "      <td>6.487000e+03</td>\n",
       "      <td>8.000000</td>\n",
       "      <td>0.000000</td>\n",
       "    </tr>\n",
       "    <tr>\n",
       "      <th>75%</th>\n",
       "      <td>2007.000000</td>\n",
       "      <td>1.883900e+04</td>\n",
       "      <td>22.000000</td>\n",
       "      <td>1.000000</td>\n",
       "    </tr>\n",
       "    <tr>\n",
       "      <th>max</th>\n",
       "      <td>2021.000000</td>\n",
       "      <td>1.670144e+06</td>\n",
       "      <td>5462.000000</td>\n",
       "      <td>1074.000000</td>\n",
       "    </tr>\n",
       "  </tbody>\n",
       "</table>\n",
       "</div>"
      ],
      "text/plain": [
       "          data_year    population  male_officer_ct  female_officer_ct\n",
       "count  28764.000000  2.876400e+04     28764.000000       28764.000000\n",
       "mean    1993.452406  1.934013e+04        29.327806           2.829892\n",
       "std       16.153141  5.949663e+04       170.153363          31.247028\n",
       "min     1960.000000  1.010000e+02         0.000000           0.000000\n",
       "25%     1981.000000  2.355750e+03         4.000000           0.000000\n",
       "50%     1994.000000  6.487000e+03         8.000000           0.000000\n",
       "75%     2007.000000  1.883900e+04        22.000000           1.000000\n",
       "max     2021.000000  1.670144e+06      5462.000000        1074.000000"
      ]
     },
     "execution_count": 7,
     "metadata": {},
     "output_type": "execute_result"
    }
   ],
   "source": [
    "data_allcounty.describe()"
   ]
  },
  {
   "cell_type": "code",
   "execution_count": 8,
   "metadata": {
    "tags": []
   },
   "outputs": [
    {
     "data": {
      "text/html": [
       "<div>\n",
       "<style scoped>\n",
       "    .dataframe tbody tr th:only-of-type {\n",
       "        vertical-align: middle;\n",
       "    }\n",
       "\n",
       "    .dataframe tbody tr th {\n",
       "        vertical-align: top;\n",
       "    }\n",
       "\n",
       "    .dataframe thead th {\n",
       "        text-align: right;\n",
       "    }\n",
       "</style>\n",
       "<table border=\"1\" class=\"dataframe\">\n",
       "  <thead>\n",
       "    <tr style=\"text-align: right;\">\n",
       "      <th></th>\n",
       "      <th>data_year</th>\n",
       "      <th>population</th>\n",
       "      <th>male_officer_ct</th>\n",
       "      <th>female_officer_ct</th>\n",
       "    </tr>\n",
       "  </thead>\n",
       "  <tbody>\n",
       "    <tr>\n",
       "      <th>count</th>\n",
       "      <td>411.000000</td>\n",
       "      <td>411.000000</td>\n",
       "      <td>411.000000</td>\n",
       "      <td>411.0000</td>\n",
       "    </tr>\n",
       "    <tr>\n",
       "      <th>mean</th>\n",
       "      <td>1992.888078</td>\n",
       "      <td>26529.345499</td>\n",
       "      <td>38.228710</td>\n",
       "      <td>3.3382</td>\n",
       "    </tr>\n",
       "    <tr>\n",
       "      <th>std</th>\n",
       "      <td>16.187684</td>\n",
       "      <td>34281.290260</td>\n",
       "      <td>59.072805</td>\n",
       "      <td>5.2596</td>\n",
       "    </tr>\n",
       "    <tr>\n",
       "      <th>min</th>\n",
       "      <td>1960.000000</td>\n",
       "      <td>1217.000000</td>\n",
       "      <td>1.000000</td>\n",
       "      <td>0.0000</td>\n",
       "    </tr>\n",
       "    <tr>\n",
       "      <th>25%</th>\n",
       "      <td>1980.000000</td>\n",
       "      <td>2960.500000</td>\n",
       "      <td>4.000000</td>\n",
       "      <td>0.0000</td>\n",
       "    </tr>\n",
       "    <tr>\n",
       "      <th>50%</th>\n",
       "      <td>1992.000000</td>\n",
       "      <td>8191.000000</td>\n",
       "      <td>12.000000</td>\n",
       "      <td>1.0000</td>\n",
       "    </tr>\n",
       "    <tr>\n",
       "      <th>75%</th>\n",
       "      <td>2007.000000</td>\n",
       "      <td>45559.500000</td>\n",
       "      <td>47.500000</td>\n",
       "      <td>5.0000</td>\n",
       "    </tr>\n",
       "    <tr>\n",
       "      <th>max</th>\n",
       "      <td>2021.000000</td>\n",
       "      <td>156884.000000</td>\n",
       "      <td>270.000000</td>\n",
       "      <td>26.0000</td>\n",
       "    </tr>\n",
       "  </tbody>\n",
       "</table>\n",
       "</div>"
      ],
      "text/plain": [
       "         data_year     population  male_officer_ct  female_officer_ct\n",
       "count   411.000000     411.000000       411.000000           411.0000\n",
       "mean   1992.888078   26529.345499        38.228710             3.3382\n",
       "std      16.187684   34281.290260        59.072805             5.2596\n",
       "min    1960.000000    1217.000000         1.000000             0.0000\n",
       "25%    1980.000000    2960.500000         4.000000             0.0000\n",
       "50%    1992.000000    8191.000000        12.000000             1.0000\n",
       "75%    2007.000000   45559.500000        47.500000             5.0000\n",
       "max    2021.000000  156884.000000       270.000000            26.0000"
      ]
     },
     "execution_count": 8,
     "metadata": {},
     "output_type": "execute_result"
    }
   ],
   "source": [
    "data_ingham.describe()"
   ]
  },
  {
   "cell_type": "markdown",
   "metadata": {
    "id": "1FcRM7rJH7vl"
   },
   "source": [
    "<font size=6 color=\"#009600\">&#9998;</font> yes, they have the most officers, and it does not have the largest agency"
   ]
  },
  {
   "cell_type": "markdown",
   "metadata": {
    "id": "F3Gyy2C4H7vl"
   },
   "source": [
    "&#9989; **Task 1.3.2 (3 points)**\n",
    "You found it a little misleading to just look at the officer counts without considering the population in the respective jurisdiction. Thus, you set out to calculate the employment _rate_ of officers per 1000 people in the Ingham county.\n",
    "\n",
    "In the cell below, write some code to create two new columns `male_rate` and `female_rate` in the dataframe `data_ingham_byyear` that contains the employment rates per 1000 people for male and female officers in each year."
   ]
  },
  {
   "cell_type": "code",
   "execution_count": 18,
   "metadata": {
    "colab": {
     "base_uri": "https://localhost:8080/",
     "height": 305
    },
    "executionInfo": {
     "elapsed": 123,
     "status": "error",
     "timestamp": 1709955199410,
     "user": {
      "displayName": "Maya Marina",
      "userId": "17392132087432818750"
     },
     "user_tz": 300
    },
    "id": "hNpz5YlFH7vl",
    "outputId": "ef80586c-1788-4b9b-ea08-566de8c6632b"
   },
   "outputs": [
    {
     "data": {
      "text/html": [
       "<div>\n",
       "<style scoped>\n",
       "    .dataframe tbody tr th:only-of-type {\n",
       "        vertical-align: middle;\n",
       "    }\n",
       "\n",
       "    .dataframe tbody tr th {\n",
       "        vertical-align: top;\n",
       "    }\n",
       "\n",
       "    .dataframe thead th {\n",
       "        text-align: right;\n",
       "    }\n",
       "</style>\n",
       "<table border=\"1\" class=\"dataframe\">\n",
       "  <thead>\n",
       "    <tr style=\"text-align: right;\">\n",
       "      <th></th>\n",
       "      <th>population</th>\n",
       "      <th>male_officer_ct</th>\n",
       "      <th>female_officer_ct</th>\n",
       "      <th>male_rate</th>\n",
       "      <th>female_rate</th>\n",
       "    </tr>\n",
       "    <tr>\n",
       "      <th>data_year</th>\n",
       "      <th></th>\n",
       "      <th></th>\n",
       "      <th></th>\n",
       "      <th></th>\n",
       "      <th></th>\n",
       "    </tr>\n",
       "  </thead>\n",
       "  <tbody>\n",
       "    <tr>\n",
       "      <th>1960</th>\n",
       "      <td>142527</td>\n",
       "      <td>178</td>\n",
       "      <td>0</td>\n",
       "      <td>1.248886</td>\n",
       "      <td>0.0</td>\n",
       "    </tr>\n",
       "    <tr>\n",
       "      <th>1961</th>\n",
       "      <td>147778</td>\n",
       "      <td>192</td>\n",
       "      <td>0</td>\n",
       "      <td>1.299246</td>\n",
       "      <td>0.0</td>\n",
       "    </tr>\n",
       "    <tr>\n",
       "      <th>1962</th>\n",
       "      <td>196288</td>\n",
       "      <td>223</td>\n",
       "      <td>0</td>\n",
       "      <td>1.136086</td>\n",
       "      <td>0.0</td>\n",
       "    </tr>\n",
       "    <tr>\n",
       "      <th>1963</th>\n",
       "      <td>116486</td>\n",
       "      <td>179</td>\n",
       "      <td>0</td>\n",
       "      <td>1.536665</td>\n",
       "      <td>0.0</td>\n",
       "    </tr>\n",
       "    <tr>\n",
       "      <th>1964</th>\n",
       "      <td>158839</td>\n",
       "      <td>221</td>\n",
       "      <td>0</td>\n",
       "      <td>1.391346</td>\n",
       "      <td>0.0</td>\n",
       "    </tr>\n",
       "  </tbody>\n",
       "</table>\n",
       "</div>"
      ],
      "text/plain": [
       "           population  male_officer_ct  female_officer_ct  male_rate  \\\n",
       "data_year                                                              \n",
       "1960           142527              178                  0   1.248886   \n",
       "1961           147778              192                  0   1.299246   \n",
       "1962           196288              223                  0   1.136086   \n",
       "1963           116486              179                  0   1.536665   \n",
       "1964           158839              221                  0   1.391346   \n",
       "\n",
       "           female_rate  \n",
       "data_year               \n",
       "1960               0.0  \n",
       "1961               0.0  \n",
       "1962               0.0  \n",
       "1963               0.0  \n",
       "1964               0.0  "
      ]
     },
     "execution_count": 18,
     "metadata": {},
     "output_type": "execute_result"
    }
   ],
   "source": [
    "\n",
    "data_ingham_byyear['male_rate'] = (data_ingham_byyear['male_officer_ct'] / data_ingham_byyear['population']) * 1000\n",
    "data_ingham_byyear['female_rate'] = (data_ingham_byyear['female_officer_ct'] / data_ingham_byyear['population']) * 1000\n",
    "\n",
    "data_ingham_byyear.head()\n"
   ]
  },
  {
   "cell_type": "markdown",
   "metadata": {
    "id": "nlql9NnPH7vl"
   },
   "source": [
    "### 1.4 Visualizing the trend in officer employment rates (8 points)\n",
    "Now it's time to look at how the employment rate of police officers in the Ingham county has changed over time. You will be using the `data_ingham_byyear` dataset you created.\n",
    "\n",
    "&#9989; **Task 1.4.1 (5 points)**\n",
    "In the cell below, write some code to plot male and female officer employment rates you just calculated in 1.3.2 as a function of year in the same figure. Don't forget to add axis labels and legends."
   ]
  },
  {
   "cell_type": "code",
   "execution_count": 10,
   "metadata": {
    "colab": {
     "base_uri": "https://localhost:8080/",
     "height": 305
    },
    "executionInfo": {
     "elapsed": 132,
     "status": "error",
     "timestamp": 1709955235498,
     "user": {
      "displayName": "Maya Marina",
      "userId": "17392132087432818750"
     },
     "user_tz": 300
    },
    "id": "v-hznp0fH7vl",
    "outputId": "9066afe8-9abb-4871-e7bb-5a40d74a508f"
   },
   "outputs": [
    {
     "data": {
      "image/png": "[encoded data removed]",
      "text/plain": [
       "<Figure size 1000x600 with 1 Axes>"
      ]
     },
     "metadata": {},
     "output_type": "display_data"
    }
   ],
   "source": [
    "import matplotlib.pyplot as plt\n",
    "\n",
    "plt.figure(figsize=(10, 6))\n",
    "plt.plot(data_ingham_byyear.index, data_ingham_byyear['male_rate'], label='Male Officer Rate')\n",
    "plt.plot(data_ingham_byyear.index, data_ingham_byyear['female_rate'], label='Female Officer Rate')\n",
    "plt.xlabel('Year')\n",
    "plt.ylabel('Employment Rate per 1000 People')\n",
    "plt.title('Male and Female Officer Employment Rates in Ingham County Over Time')\n",
    "plt.legend()\n",
    "plt.grid(True)\n",
    "plt.show()\n"
   ]
  },
  {
   "cell_type": "markdown",
   "metadata": {
    "id": "qkYutcUCH7vl"
   },
   "source": [
    "&#9989; **Task 1.4.2 (3 points)** We are finally ready to answer some questions.\n",
    "Observe the plot and answer the following questions:\n",
    "- If there is a great crime decline in the 90s in the Ingham county, do you think it's due to an increase in policing? Why?\n",
    "- Around which year did female officers start to be employed in Ingham county?"
   ]
  },
  {
   "cell_type": "markdown",
   "metadata": {
    "id": "cb-WNVB2H7vl"
   },
   "source": [
    "<font size=6 color=\"#009600\">&#9998;</font> It could be due to other reasons, such as changes to socioeconomic status, because the changes in these rates couldbe affected by a variety of things.\n",
    "This happened in the early 1990s."
   ]
  },
  {
   "cell_type": "markdown",
   "metadata": {
    "execution": {
     "iopub.execute_input": "2024-02-21T02:22:54.644654Z",
     "iopub.status.busy": "2024-02-21T02:22:54.644236Z",
     "iopub.status.idle": "2024-02-21T02:22:54.655247Z",
     "shell.execute_reply": "2024-02-21T02:22:54.654786Z",
     "shell.execute_reply.started": "2024-02-21T02:22:54.644626Z"
    },
    "id": "njTaa7qPH7vl"
   },
   "source": [
    "## &#128721; STOP\n",
    "\n",
    "Wait a minute! We still haven't answered the original question! Does crime and level of policing correlate in Ingham county? Well this homework is getting very long so I will leave the rest of the work to you. This work now involves **obtaining** a dataset with yearly crime statistics for Ingham county. Note that for your project if you want to show that two things are correlated you not only need to make plots but also to calculate the correlation coefficient!\n"
   ]
  },
  {
   "cell_type": "markdown",
   "metadata": {
    "id": "cCJ438ouH7vl"
   },
   "source": [
    "---\n",
    "<a id=\"part_2\"></a>\n",
    "\n",
    "## Part 2: Datasaurus, or the perils of summary statistics (34 total points)\n",
    "\n",
    "[Back to Top](#toc)\n",
    "\n",
    "In the 1970s, the statistician F. J. Anscombe published the article [\"Graphs in Statistical Analysis\"](https://www.jstor.org/stable/2682899), which demonstrated the importance of actually graphing your data, instead of just looking at the summary statistics: mean, median, inter-quartile ranges, etc.  \n",
    "\n",
    "To hammer this point home, he created \"Anscombe's quartet\", a group of four graphs that are completely different, yet have the same means, ranges, and lines of linear regression.\n",
    "\n",
    "<img src=\"https://upload.wikimedia.org/wikipedia/commons/3/30/Anscombe%27s_quartet_3_cropped.jpg\"\n",
    "     alt=\"Image of four very different graphs with the same summary statistics\"\n",
    "     align=\"center\"\n",
    "     height=\"100\"\n",
    "     width=\"600\" />\n",
    "     \n",
    "Image credit: https://en.wikipedia.org/wiki/Anscombe%27s_quartet"
   ]
  },
  {
   "cell_type": "markdown",
   "metadata": {
    "id": "z7bpnk90H7vm"
   },
   "source": [
    "More recently, a Twitter user named Albert Cairo developed a [different dataset](http://www.thefunctionalart.com/2016/08/download-datasaurus-never-trust-summary.html) to illuminate the same point.  Here you will examine this data, calculate its properties and finally make some plots!"
   ]
  },
  {
   "cell_type": "markdown",
   "metadata": {
    "id": "utTDHIE1H7vm"
   },
   "source": [
    "### 2.1: Loading and inspecting the data (11 points)\n",
    "\n",
    "&#9989; **Task 2.1.1: (2 points)** Read in data from `datasaurus_data.csv` file as a pandas dataframe called `data` and display the first 5 rows and the last 5 rows."
   ]
  },
  {
   "cell_type": "code",
   "execution_count": 20,
   "metadata": {
    "colab": {
     "base_uri": "https://localhost:8080/"
    },
    "executionInfo": {
     "elapsed": 105,
     "status": "ok",
     "timestamp": 1709955541187,
     "user": {
      "displayName": "Maya Marina",
      "userId": "17392132087432818750"
     },
     "user_tz": 300
    },
    "id": "qCb90HnqH7vm",
    "outputId": "92392cd2-364d-4a21-a28b-39510df48679"
   },
   "outputs": [
    {
     "data": {
      "text/html": [
       "<div>\n",
       "<style scoped>\n",
       "    .dataframe tbody tr th:only-of-type {\n",
       "        vertical-align: middle;\n",
       "    }\n",
       "\n",
       "    .dataframe tbody tr th {\n",
       "        vertical-align: top;\n",
       "    }\n",
       "\n",
       "    .dataframe thead th {\n",
       "        text-align: right;\n",
       "    }\n",
       "</style>\n",
       "<table border=\"1\" class=\"dataframe\">\n",
       "  <thead>\n",
       "    <tr style=\"text-align: right;\">\n",
       "      <th></th>\n",
       "      <th>dataset</th>\n",
       "      <th>x</th>\n",
       "      <th>y</th>\n",
       "    </tr>\n",
       "  </thead>\n",
       "  <tbody>\n",
       "    <tr>\n",
       "      <th>0</th>\n",
       "      <td>dino</td>\n",
       "      <td>55.3846</td>\n",
       "      <td>97.1795</td>\n",
       "    </tr>\n",
       "    <tr>\n",
       "      <th>1</th>\n",
       "      <td>dino</td>\n",
       "      <td>51.5385</td>\n",
       "      <td>96.0256</td>\n",
       "    </tr>\n",
       "    <tr>\n",
       "      <th>2</th>\n",
       "      <td>dino</td>\n",
       "      <td>46.1538</td>\n",
       "      <td>94.4872</td>\n",
       "    </tr>\n",
       "    <tr>\n",
       "      <th>3</th>\n",
       "      <td>dino</td>\n",
       "      <td>42.8205</td>\n",
       "      <td>91.4103</td>\n",
       "    </tr>\n",
       "    <tr>\n",
       "      <th>4</th>\n",
       "      <td>dino</td>\n",
       "      <td>40.7692</td>\n",
       "      <td>88.3333</td>\n",
       "    </tr>\n",
       "  </tbody>\n",
       "</table>\n",
       "</div>"
      ],
      "text/plain": [
       "  dataset        x        y\n",
       "0    dino  55.3846  97.1795\n",
       "1    dino  51.5385  96.0256\n",
       "2    dino  46.1538  94.4872\n",
       "3    dino  42.8205  91.4103\n",
       "4    dino  40.7692  88.3333"
      ]
     },
     "execution_count": 20,
     "metadata": {},
     "output_type": "execute_result"
    }
   ],
   "source": [
    "import pandas as pd\n",
    "\n",
    "data = pd.read_csv('datasaurus.csv')\n",
    "\n",
    "data.head()"
   ]
  },
  {
   "cell_type": "code",
   "execution_count": 19,
   "metadata": {
    "tags": []
   },
   "outputs": [
    {
     "data": {
      "text/html": [
       "<div>\n",
       "<style scoped>\n",
       "    .dataframe tbody tr th:only-of-type {\n",
       "        vertical-align: middle;\n",
       "    }\n",
       "\n",
       "    .dataframe tbody tr th {\n",
       "        vertical-align: top;\n",
       "    }\n",
       "\n",
       "    .dataframe thead th {\n",
       "        text-align: right;\n",
       "    }\n",
       "</style>\n",
       "<table border=\"1\" class=\"dataframe\">\n",
       "  <thead>\n",
       "    <tr style=\"text-align: right;\">\n",
       "      <th></th>\n",
       "      <th>dataset</th>\n",
       "      <th>x</th>\n",
       "      <th>y</th>\n",
       "    </tr>\n",
       "  </thead>\n",
       "  <tbody>\n",
       "    <tr>\n",
       "      <th>1841</th>\n",
       "      <td>wide_lines</td>\n",
       "      <td>33.674442</td>\n",
       "      <td>26.090490</td>\n",
       "    </tr>\n",
       "    <tr>\n",
       "      <th>1842</th>\n",
       "      <td>wide_lines</td>\n",
       "      <td>75.627255</td>\n",
       "      <td>37.128752</td>\n",
       "    </tr>\n",
       "    <tr>\n",
       "      <th>1843</th>\n",
       "      <td>wide_lines</td>\n",
       "      <td>40.610125</td>\n",
       "      <td>89.136240</td>\n",
       "    </tr>\n",
       "    <tr>\n",
       "      <th>1844</th>\n",
       "      <td>wide_lines</td>\n",
       "      <td>39.114366</td>\n",
       "      <td>96.481751</td>\n",
       "    </tr>\n",
       "    <tr>\n",
       "      <th>1845</th>\n",
       "      <td>wide_lines</td>\n",
       "      <td>34.583829</td>\n",
       "      <td>89.588902</td>\n",
       "    </tr>\n",
       "  </tbody>\n",
       "</table>\n",
       "</div>"
      ],
      "text/plain": [
       "         dataset          x          y\n",
       "1841  wide_lines  33.674442  26.090490\n",
       "1842  wide_lines  75.627255  37.128752\n",
       "1843  wide_lines  40.610125  89.136240\n",
       "1844  wide_lines  39.114366  96.481751\n",
       "1845  wide_lines  34.583829  89.588902"
      ]
     },
     "execution_count": 19,
     "metadata": {},
     "output_type": "execute_result"
    }
   ],
   "source": [
    "data.tail()"
   ]
  },
  {
   "cell_type": "markdown",
   "metadata": {
    "id": "Y6wZsB_FH7vm"
   },
   "source": [
    "&#9989; **Task 2.1.2: (3 points)** Make a list (called `datasets`) of all of the *unique* values in the `dataset` column.  Then print the list.\n",
    "\n",
    "**Hint: This can be done using a built-in function.**"
   ]
  },
  {
   "cell_type": "code",
   "execution_count": 21,
   "metadata": {
    "colab": {
     "base_uri": "https://localhost:8080/"
    },
    "executionInfo": {
     "elapsed": 131,
     "status": "ok",
     "timestamp": 1709955570409,
     "user": {
      "displayName": "Maya Marina",
      "userId": "17392132087432818750"
     },
     "user_tz": 300
    },
    "id": "P5j0ysWzH7vn",
    "outputId": "0244354d-8156-42bf-c819-d2b3720a31d7"
   },
   "outputs": [
    {
     "data": {
      "text/plain": [
       "array(['dino', 'away', 'h_lines', 'v_lines', 'x_shape', 'star',\n",
       "       'high_lines', 'dots', 'circle', 'bullseye', 'slant_up',\n",
       "       'slant_down', 'wide_lines'], dtype=object)"
      ]
     },
     "execution_count": 21,
     "metadata": {},
     "output_type": "execute_result"
    }
   ],
   "source": [
    "\n",
    "datasets = data['dataset'].unique()\n",
    "datasets\n"
   ]
  },
  {
   "cell_type": "markdown",
   "metadata": {
    "id": "YmSvCDNBH7vn"
   },
   "source": [
    "If the prior steps were done correctly, the following code will take the information in the dataframe and convert it to another format for easier access:"
   ]
  },
  {
   "cell_type": "code",
   "execution_count": 13,
   "metadata": {
    "executionInfo": {
     "elapsed": 178,
     "status": "ok",
     "timestamp": 1709955575358,
     "user": {
      "displayName": "Maya Marina",
      "userId": "17392132087432818750"
     },
     "user_tz": 300
    },
    "id": "7FOEkUZPH7vn"
   },
   "outputs": [],
   "source": [
    "data_dict = {}\n",
    "for dataset_name in datasets:\n",
    "    data_dict[dataset_name] = {}\n",
    "    data_dict[dataset_name]['x'] = data['x'][data['dataset'] == dataset_name].values\n",
    "    data_dict[dataset_name]['y'] = data['y'][data['dataset'] == dataset_name].values"
   ]
  },
  {
   "cell_type": "markdown",
   "metadata": {
    "id": "xV30QErsH7vn"
   },
   "source": [
    "&#9989; **Task 2.1.3: (4 points)** Describe what `data_dict` is, how it is structured, and how you can access the data that it contains."
   ]
  },
  {
   "cell_type": "markdown",
   "metadata": {
    "id": "f24ag7eDH7vn"
   },
   "source": [
    "<font size=6 color=\"#009600\">&#9998;</font> This represnts a dictionary where a key repsents a unique value from the data set. to access it you use the dataset's name as the key to identify it."
   ]
  },
  {
   "cell_type": "markdown",
   "metadata": {
    "id": "g1SwpFEMH7vn"
   },
   "source": [
    "&#9989; **Task: (2 points)** Print out all of the x-coordinates in the `'star'` dataset using the `data_dict` object."
   ]
  },
  {
   "cell_type": "code",
   "execution_count": 22,
   "metadata": {
    "colab": {
     "base_uri": "https://localhost:8080/"
    },
    "executionInfo": {
     "elapsed": 171,
     "status": "ok",
     "timestamp": 1709955776608,
     "user": {
      "displayName": "Maya Marina",
      "userId": "17392132087432818750"
     },
     "user_tz": 300
    },
    "id": "H8ZfTjaBH7vn",
    "outputId": "ed1041b4-fecd-4b44-f707-3640b04bc682"
   },
   "outputs": [
    {
     "data": {
      "text/plain": [
       "array([58.21360826, 58.19605369, 58.71823072, 57.27837287, 58.08202049,\n",
       "       57.48944777, 28.08874132, 28.08546821, 28.08727305, 27.57802522,\n",
       "       27.77991911, 28.58899981, 28.7391415 , 27.02460324, 28.8013367 ,\n",
       "       27.18646384, 29.2851466 , 39.4029453 , 28.81132844, 34.30395791,\n",
       "       29.60276098, 49.11615686, 39.61754583, 43.23308466, 64.89278794,\n",
       "       62.49014932, 68.98808443, 62.10561863, 32.46184674, 41.32720065,\n",
       "       44.00714993, 44.07406069, 44.00131524, 45.00630045, 44.44384061,\n",
       "       42.1787134 , 44.04456562, 41.64045402, 41.93833001, 44.05392751,\n",
       "       39.20671933, 28.70444923, 31.7086629 , 42.81171147, 43.30061489,\n",
       "       40.39863291, 40.43569158, 40.93654667, 39.66157367, 40.89925917,\n",
       "       41.96861683, 40.38340582, 56.53812645, 52.97069128, 54.62095259,\n",
       "       65.09904439, 63.05599091, 70.96013623, 69.89581924, 70.59589286,\n",
       "       69.64702143, 77.39298249, 64.40078719, 63.86895983, 56.59442132,\n",
       "       56.53133729, 59.65215837, 56.6365087 , 58.672288  , 58.22161273,\n",
       "       57.91466448, 55.31550906, 54.57572859, 54.41309365, 55.0745059 ,\n",
       "       29.43296052, 29.42268607, 29.00561416, 58.46183859, 57.99780474,\n",
       "       57.54947408, 59.52992846, 58.24939106, 58.02451401, 58.38212449,\n",
       "       62.56675904, 72.17582431, 79.47276157, 80.35770088, 78.75723614,\n",
       "       82.54023959, 86.43589719, 79.48868442, 81.53042032, 79.18678857,\n",
       "       77.89905795, 75.13071421, 76.05801375, 57.61467439, 56.17139753,\n",
       "       66.2878906 , 67.88171962, 64.0280813 , 77.49665175, 77.63465176,\n",
       "       77.86372643, 77.33815817, 76.18041653, 77.25265109, 77.41337528,\n",
       "       76.7318494 , 49.47110541, 42.47653994, 43.59511586, 50.33996967,\n",
       "       40.74898026, 38.38652558, 38.40401521, 38.76427889, 41.47014233,\n",
       "       47.15540481, 39.58256675, 41.74024382, 39.31187189, 41.67984769,\n",
       "       39.08746445, 41.48150286, 77.60608655, 75.98266152, 76.94575724,\n",
       "       77.54372007, 77.58473984, 76.82230426, 77.34857166, 77.57315269,\n",
       "       77.97261068, 41.52891976, 43.7225508 , 79.32607818, 56.66397408,\n",
       "       57.82178923, 58.2431719 ])"
      ]
     },
     "execution_count": 22,
     "metadata": {},
     "output_type": "execute_result"
    }
   ],
   "source": [
    "\n",
    "star_dataset = data_dict['star']\n",
    "star_dataset['x']\n",
    "\n"
   ]
  },
  {
   "cell_type": "markdown",
   "metadata": {
    "id": "W4dJLV4gH7vo"
   },
   "source": [
    "### 2.2: Getting summary statistics (11 points)\n",
    "\n",
    "Now let's compute the following statistics for each dataset:\n",
    "\n",
    "- mean of x coordinates\n",
    "- mean of y coordinates\n",
    "- standard deviation of x coordinates\n",
    "- standard deviation of y coordinates\n",
    "- correlation between x and y  (**Hint: check out `np.corrcoef`**)\n",
    "\n",
    "&#9989; **Task 2.2.1: (9 points)** Make a loop that prints this information for all datasets in the following format:\n",
    "\n",
    "```\n",
    "Dataset: dino       x_mean = 54.26 | x_std = 16.71 | y_mean = 47.83 | y_std = 26.84 | corr = -0.06\n",
    "Dataset: away       x_mean = 54.27 | x_std = 16.71 | y_mean = 47.83 | y_std = 26.84 | corr = -0.06\n",
    "...\n",
    "```"
   ]
  },
  {
   "cell_type": "code",
   "execution_count": 23,
   "metadata": {
    "colab": {
     "base_uri": "https://localhost:8080/"
    },
    "executionInfo": {
     "elapsed": 106,
     "status": "ok",
     "timestamp": 1709955813357,
     "user": {
      "displayName": "Maya Marina",
      "userId": "17392132087432818750"
     },
     "user_tz": 300
    },
    "id": "R6RS2yN2H7vo",
    "outputId": "9af0bd15-24ff-45b1-d762-86d6e1cf6ef7"
   },
   "outputs": [
    {
     "name": "stdout",
     "output_type": "stream",
     "text": [
      "Dataset: dino\n",
      "Mean of x coordinates: 54.26\n",
      "Mean of y coordinates: 47.83\n",
      "Standard deviation of x coordinates: 16.71\n",
      "Standard deviation of y coordinates: 26.84\n",
      "Correlation between x and y: -0.06\n",
      "\n",
      "Dataset: away\n",
      "Mean of x coordinates: 54.27\n",
      "Mean of y coordinates: 47.83\n",
      "Standard deviation of x coordinates: 16.71\n",
      "Standard deviation of y coordinates: 26.84\n",
      "Correlation between x and y: -0.06\n",
      "\n",
      "Dataset: h_lines\n",
      "Mean of x coordinates: 54.26\n",
      "Mean of y coordinates: 47.83\n",
      "Standard deviation of x coordinates: 16.71\n",
      "Standard deviation of y coordinates: 26.84\n",
      "Correlation between x and y: -0.06\n",
      "\n",
      "Dataset: v_lines\n",
      "Mean of x coordinates: 54.27\n",
      "Mean of y coordinates: 47.84\n",
      "Standard deviation of x coordinates: 16.71\n",
      "Standard deviation of y coordinates: 26.84\n",
      "Correlation between x and y: -0.07\n",
      "\n",
      "Dataset: x_shape\n",
      "Mean of x coordinates: 54.26\n",
      "Mean of y coordinates: 47.84\n",
      "Standard deviation of x coordinates: 16.71\n",
      "Standard deviation of y coordinates: 26.84\n",
      "Correlation between x and y: -0.07\n",
      "\n",
      "Dataset: star\n",
      "Mean of x coordinates: 54.27\n",
      "Mean of y coordinates: 47.84\n",
      "Standard deviation of x coordinates: 16.71\n",
      "Standard deviation of y coordinates: 26.84\n",
      "Correlation between x and y: -0.06\n",
      "\n",
      "Dataset: high_lines\n",
      "Mean of x coordinates: 54.27\n",
      "Mean of y coordinates: 47.84\n",
      "Standard deviation of x coordinates: 16.71\n",
      "Standard deviation of y coordinates: 26.84\n",
      "Correlation between x and y: -0.07\n",
      "\n",
      "Dataset: dots\n",
      "Mean of x coordinates: 54.26\n",
      "Mean of y coordinates: 47.84\n",
      "Standard deviation of x coordinates: 16.71\n",
      "Standard deviation of y coordinates: 26.84\n",
      "Correlation between x and y: -0.06\n",
      "\n",
      "Dataset: circle\n",
      "Mean of x coordinates: 54.27\n",
      "Mean of y coordinates: 47.84\n",
      "Standard deviation of x coordinates: 16.70\n",
      "Standard deviation of y coordinates: 26.84\n",
      "Correlation between x and y: -0.07\n",
      "\n",
      "Dataset: bullseye\n",
      "Mean of x coordinates: 54.27\n",
      "Mean of y coordinates: 47.83\n",
      "Standard deviation of x coordinates: 16.71\n",
      "Standard deviation of y coordinates: 26.84\n",
      "Correlation between x and y: -0.07\n",
      "\n",
      "Dataset: slant_up\n",
      "Mean of x coordinates: 54.27\n",
      "Mean of y coordinates: 47.83\n",
      "Standard deviation of x coordinates: 16.71\n",
      "Standard deviation of y coordinates: 26.84\n",
      "Correlation between x and y: -0.07\n",
      "\n",
      "Dataset: slant_down\n",
      "Mean of x coordinates: 54.27\n",
      "Mean of y coordinates: 47.84\n",
      "Standard deviation of x coordinates: 16.71\n",
      "Standard deviation of y coordinates: 26.84\n",
      "Correlation between x and y: -0.07\n",
      "\n",
      "Dataset: wide_lines\n",
      "Mean of x coordinates: 54.27\n",
      "Mean of y coordinates: 47.83\n",
      "Standard deviation of x coordinates: 16.71\n",
      "Standard deviation of y coordinates: 26.84\n",
      "Correlation between x and y: -0.07\n",
      "\n"
     ]
    }
   ],
   "source": [
    "import numpy as np\n",
    "\n",
    "for dataset_name, dataset_data in data_dict.items():\n",
    "\n",
    "    mean_x = dataset_data['x'].mean()\n",
    "    mean_y = dataset_data['y'].mean()\n",
    "    std_x = dataset_data['x'].std()\n",
    "    std_y = dataset_data['y'].std()\n",
    "    correlation = np.corrcoef(dataset_data['x'], dataset_data['y'])[0, 1]\n",
    "\n",
    "    print(f\"Dataset: {dataset_name}\")   #chat how to add labels and datasets into strings\n",
    "    print(f\"Mean of x coordinates: {mean_x:.2f}\")\n",
    "    print(f\"Mean of y coordinates: {mean_y:.2f}\")\n",
    "    print(f\"Standard deviation of x coordinates: {std_x:.2f}\")\n",
    "    print(f\"Standard deviation of y coordinates: {std_y:.2f}\")\n",
    "    print(f\"Correlation between x and y: {correlation:.2f}\")\n",
    "    print()\n"
   ]
  },
  {
   "cell_type": "markdown",
   "metadata": {
    "id": "MCZCjdYQH7vo"
   },
   "source": [
    "&#9989; **Task 2.2.2: (2 points)** What do you observe about these statistics?"
   ]
  },
  {
   "cell_type": "markdown",
   "metadata": {
    "id": "tp5g7E1XH7vo"
   },
   "source": [
    "<font size=6 color=\"#009600\">&#9998;</font> *datasets have similar central tendency , variability, and mean x and y. there is slight variations in standard deviations and correlations."
   ]
  },
  {
   "cell_type": "markdown",
   "metadata": {
    "id": "yR01r6qkH7vo"
   },
   "source": [
    "### 2.3: Making scatter plots (14 points)\n",
    "\n",
    "&#9989; **Task 2.3.1: (14 points)** Plot the x and y data of each dataset using the following guidelines for formatting:\n",
    "\n",
    "- Make a set of subplots with five rows and three columns\n",
    "- Use a `for` loop to make the plots. **Note:** this is not easy and you will have to think a little. A suggestion is try to make the first few plots without the loop and then look for those numbers that can easily be incremented via a loop. Make sure to divide your code into steps _e.g._ write a pseudocode.\n",
    "- Title each plot with the dataset name, and the correlation coefficient\n",
    "- Plot each set of points with a different color, using circles for each (no lines)\n",
    "- Label the axes\n",
    "- Be sure to size your figure so it is big enough and nothing looks cramped! _Hint:_ You know you have the right size when you can clearly see the dinosaur."
   ]
  },
  {
   "cell_type": "code",
   "execution_count": 16,
   "metadata": {
    "id": "elOeLlupH7vo",
    "tags": []
   },
   "outputs": [],
   "source": [
    "# this list of named colors could be useful!\n",
    "\n",
    "color_names = ['indigo','magenta','peachpuff','slateblue','lightseagreen','goldenrod','teal','midnightblue','mediumorchid','gainsboro','thistle','bisque','salmon'] #from plt colors :)"
   ]
  },
  {
   "cell_type": "code",
   "execution_count": 17,
   "metadata": {
    "colab": {
     "base_uri": "https://localhost:8080/",
     "height": 848
    },
    "executionInfo": {
     "elapsed": 3902,
     "status": "ok",
     "timestamp": 1709955981759,
     "user": {
      "displayName": "Maya Marina",
      "userId": "17392132087432818750"
     },
     "user_tz": 300
    },
    "id": "uDhh8ySMH7vo",
    "outputId": "754c1539-b3a6-44e5-e53a-44a5e327d137",
    "tags": []
   },
   "outputs": [
    {
     "data": {
      "image/png": "[encoded data removed]",
      "text/plain": [
       "<Figure size 1500x2000 with 15 Axes>"
      ]
     },
     "metadata": {},
     "output_type": "display_data"
    }
   ],
   "source": [
    "import matplotlib.pyplot as plt\n",
    "import numpy as np\n",
    "\n",
    "fig, axes = plt.subplots(5, 3, figsize=(15, 20))\n",
    "\n",
    "axes = axes.flatten()\n",
    "\n",
    "for i, (dataset_name, dataset_data) in enumerate(data_dict.items()):\n",
    "\n",
    "    axes[i].scatter(dataset_data['x'], dataset_data['y'], color=color_names[i], marker='o')\n",
    "\n",
    "    correlation = np.corrcoef(dataset_data['x'], dataset_data['y'])[0, 1]\n",
    "\n",
    "    axes[i].set_title(f\"{dataset_name}\\nCorrelation: {correlation:.2f}\")\n",
    "\n",
    "    axes[i]\n"
   ]
  },
  {
   "cell_type": "markdown",
   "metadata": {
    "id": "NWtKM5-3H7vo"
   },
   "source": [
    "---\n",
    "## Wait! Before you submit your notebook, read the following important recommendations\n",
    "\n",
    "When your TA opens your notebook to grade the assignment, it will be really useful if your notebook is saved in a fully executed state so that they can see the output of all your code. Additionally, it may be necessary from time to time for the TA to actually run your notebook, but when they run the notebook, it is important that you are certain that all the code will actually run for them!\n",
    "\n",
    "You should get into the following habit: **before you save and submit your final notebook for your assignments, go to the \"Kernel\" tab at the top of the notebook and select \"Restart and Run all\".** This will restart your notebook and try to run the code cell-by-cell from the top to the bottom. Once it finished, review you notebook and make sure there weren't any errors that popped up. Sometimes, when working with notebooks, we accidentally change code in one cell that break our code in another cell. If your TA stumbles across code cells that don't work, **they will likely have to give you a zero for those portions of the notebook that don't work**. Testing your notebook one last time is a good way to make sure this doesn't happen.\n",
    "\n",
    "**Once you've tested your whole notebook again, make sure you save it one last time before you upload it to D2L.**"
   ]
  },
  {
   "cell_type": "markdown",
   "metadata": {
    "id": "BVl97_wnH7vp"
   },
   "source": [
    "---\n",
    "\n",
    "### Congratulations, you're done! ###\n",
    "\n",
    "Submit this assignment by uploading it to the course Desire2Learn web page. Go to the \"Homework Assignments\" section, find the submission folder link for Homework #3, and upload it there."
   ]
  },
  {
   "cell_type": "markdown",
   "metadata": {
    "id": "ul3GOzC8H7vp"
   },
   "source": [
    "&#169; 2024 Copyright the Department of Computational Mathematics, Science and Engineering."
   ]
  }
 ],
 "metadata": {
  "colab": {
   "provenance": []
  },
  "kernelspec": {
   "display_name": "Python 3 (ipykernel)",
   "language": "python",
   "name": "python3"
  },
  "language_info": {
   "codemirror_mode": {
    "name": "ipython",
    "version": 3
   },
   "file_extension": ".py",
   "mimetype": "text/x-python",
   "name": "python",
   "nbconvert_exporter": "python",
   "pygments_lexer": "ipython3",
   "version": "3.11.5"
  }
 },
 "nbformat": 4,
 "nbformat_minor": 4
}
